{
 "cells": [
  {
   "cell_type": "code",
   "execution_count": 1,
   "metadata": {},
   "outputs": [],
   "source": [
    "import pandas as pd\n",
    "import numpy as np\n",
    "from tqdm import tqdm\n",
    "from scipy.sparse.linalg import eigsh\n",
    "#from pretrainedModel import pretrainedModel\n",
    "from tensorflow import keras\n",
    "from PIL import Image\n",
    "from sklearn.preprocessing import StandardScaler\n",
    "import torch\n",
    "from sklearn.decomposition import PCA\n",
    "from sklearn.neural_network import MLPClassifier\n",
    "from sklearn.neighbors import NearestNeighbors\n",
    "import matplotlib.pyplot as plt\n",
    "from scipy.sparse import csr_matrix\n",
    "import time\n",
    "import warnings\n",
    "from sklearn.cluster import KMeans\n",
    "import sys\n",
    "import os\n",
    "\n",
    "from copy import deepcopy"
   ]
  },
  {
   "cell_type": "code",
   "execution_count": 2,
   "metadata": {},
   "outputs": [],
   "source": [
    "import random\n",
    "import torch.nn as nn\n",
    "import numpy as np\n",
    "import torch\n",
    "import math\n",
    "import torch.optim as optim\n",
    "from torch.utils.data import DataLoader\n",
    "\n",
    "root = '../'"
   ]
  },
  {
   "cell_type": "code",
   "execution_count": 3,
   "metadata": {},
   "outputs": [],
   "source": [
    "device = torch.device(\"cuda\" if torch.cuda.is_available() else \"cpu\")"
   ]
  },
  {
   "cell_type": "code",
   "execution_count": 4,
   "metadata": {},
   "outputs": [],
   "source": [
    "def get_dataloader(X_train, y_train, one_hot=True, batchSize = 100):\n",
    "    y_train = torch.tensor(y_train, dtype=torch.long, device=device)\n",
    "\n",
    "    if one_hot:\n",
    "        y_train = torch.nn.functional.one_hot(y_train)\n",
    "\n",
    "    train_data = []\n",
    "    for i in range(len(X_train)):\n",
    "        train_data.append([X_train[i], y_train[i]])\n",
    "    dataloader = DataLoader(train_data, batch_size=batchSize, shuffle=True)\n",
    "\n",
    "\n",
    "    return dataloader"
   ]
  },
  {
   "cell_type": "code",
   "execution_count": 5,
   "metadata": {},
   "outputs": [],
   "source": [
    "class DTSHLoss(torch.nn.Module):\n",
    "    def __init__(self):\n",
    "        super(DTSHLoss, self).__init__()\n",
    "\n",
    "    def forward(self, u, y, LAMBDA=1, ALPHA=1):\n",
    "        #LAMBDA = 1\n",
    "        #ALPHA  = 1\n",
    "\n",
    "        inner_product = u @ u.t()   # Similarity Matrix\n",
    "        s = y @ y.t() > 0           # A matrix that show if the two idexes are the same or not\n",
    "        count = 0\n",
    "\n",
    "        loss1 = 0\n",
    "        for row in range(s.shape[0]):\n",
    "            # if has positive pairs and negative pairs\n",
    "            if s[row].sum() != 0 and (~s[row]).sum() != 0:\n",
    "                count += 1\n",
    "                theta_positive = inner_product[row][s[row] == 1]                \n",
    "                theta_negative = inner_product[row][s[row] == 0]\n",
    "\n",
    "                triple = (theta_positive.unsqueeze(1) - theta_negative.unsqueeze(0) - ALPHA ).clamp(min=-100,max=50)\n",
    "                loss1 += -(triple - torch.log(1 + torch.exp(triple))).mean()\n",
    "\n",
    "        if count != 0:\n",
    "            loss1 = loss1 / count\n",
    "        else:\n",
    "            loss1 = 0\n",
    "\n",
    "        loss2 = LAMBDA * (u - u.sign()).pow(2).mean()\n",
    "\n",
    "        return loss1 + loss2"
   ]
  },
  {
   "cell_type": "code",
   "execution_count": null,
   "metadata": {},
   "outputs": [],
   "source": [
    "def earlyStop(LossList, n = 10):\n",
    "    bestVal = min(LossList)\n",
    "\n",
    "    bestVal_i = LossList.index(bestVal)\n",
    "\n",
    "    if bestVal_i < len(LossList) - n: return True\n",
    "\n",
    "\n",
    "\n",
    "def HPO(HP, X_train, y_train, do_one_hot=True, earlyStop_num=20, timedStop=60):\n",
    "    time_start = time.time()\n",
    "\n",
    "    data = {}\n",
    "\n",
    "    LAMBDA= HP[\"lambda\"] \n",
    "    ALPHA=  HP[\"alpha\"]\n",
    "    lr=     HP[\"lr\"]\n",
    "    weight_decay= HP[\"wd\"]\n",
    "    bits = HP[\"bits\"]\n",
    "\n",
    "\n",
    "    model = nn.Sequential(  nn.Linear(4096,256),\n",
    "                            nn.ReLU(),\n",
    "                            nn.Linear(256, bits),\n",
    "                            )\n",
    "    model.to(device)\n",
    "\n",
    "    criterion = DTSHLoss()\n",
    "    optimizer = optim.RMSprop(model.parameters(), lr=lr , weight_decay=weight_decay)\n",
    "\n",
    "    dataloader = get_dataloader(X_train, y_train, one_hot=do_one_hot)\n",
    "    historical_lostList = []\n",
    "    for i in range(1500):\n",
    "        loss_list = []\n",
    "        for j,batch  in enumerate(dataloader):\n",
    "            X_batch = batch[0]\n",
    "            y_batch = batch[1]\n",
    "\n",
    "            optimizer.zero_grad()\n",
    "\n",
    "            u = model(X_batch)\n",
    "            loss = criterion(u, y_batch.float(), LAMBDA=LAMBDA, ALPHA=ALPHA)\n",
    "            loss.backward()\n",
    "            optimizer.step()\n",
    "\n",
    "            loss_list.append( float(loss) )\n",
    "        \n",
    "        \n",
    "        mean_loss = sum(loss_list) / len(loss_list)\n",
    "        if i % 10 == 1:\n",
    "            print(i, mean_loss)\n",
    "        historical_lostList.append(mean_loss)\n",
    "\n",
    "        if earlyStop(historical_lostList, n = earlyStop_num): \n",
    "            print(i, mean_loss)\n",
    "            print(\"Early Stop!!!\")\n",
    "            data[\"earlyStop\"] = True\n",
    "            break\n",
    "    \n",
    "        if time.time() - time_start > timedStop: \n",
    "            break\n",
    "\n",
    "\n",
    "    return model"
   ]
  },
  {
   "cell_type": "code",
   "execution_count": 9,
   "metadata": {},
   "outputs": [
    {
     "name": "stderr",
     "output_type": "stream",
     "text": [
      "C:\\Users\\thors\\AppData\\Local\\Temp\\ipykernel_26632\\4162365391.py:2: UserWarning: To copy construct from a tensor, it is recommended to use sourceTensor.clone().detach() or sourceTensor.clone().detach().requires_grad_(True), rather than torch.tensor(sourceTensor).\n",
      "  y_train = torch.tensor(y_train, dtype=torch.long, device=device)\n"
     ]
    },
    {
     "name": "stdout",
     "output_type": "stream",
     "text": [
      "1 0.9393754923343658\n"
     ]
    },
    {
     "ename": "KeyboardInterrupt",
     "evalue": "",
     "output_type": "error",
     "traceback": [
      "\u001b[1;31m---------------------------------------------------------------------------\u001b[0m",
      "\u001b[1;31mKeyboardInterrupt\u001b[0m                         Traceback (most recent call last)",
      "Cell \u001b[1;32mIn[9], line 27\u001b[0m\n\u001b[0;32m     24\u001b[0m X_train \u001b[38;5;241m=\u001b[39m torch\u001b[38;5;241m.\u001b[39mtensor( np\u001b[38;5;241m.\u001b[39mload( root \u001b[38;5;241m+\u001b[39m \u001b[38;5;124mr\u001b[39m\u001b[38;5;124m\"\u001b[39m\u001b[38;5;124mFeatures/HPO og Validering/CIFAR/X_hpo_Cifar.npy\u001b[39m\u001b[38;5;124m\"\u001b[39m ) )\n\u001b[0;32m     25\u001b[0m y_train \u001b[38;5;241m=\u001b[39m torch\u001b[38;5;241m.\u001b[39mtensor( np\u001b[38;5;241m.\u001b[39mload( root \u001b[38;5;241m+\u001b[39m \u001b[38;5;124mr\u001b[39m\u001b[38;5;124m\"\u001b[39m\u001b[38;5;124mFeatures/HPO og Validering/CIFAR/y_hpo_CIfar.npy\u001b[39m\u001b[38;5;124m\"\u001b[39m ) )\n\u001b[1;32m---> 27\u001b[0m model \u001b[38;5;241m=\u001b[39m \u001b[43mHPO\u001b[49m\u001b[43m(\u001b[49m\u001b[43mhp\u001b[49m\u001b[43m,\u001b[49m\u001b[43m \u001b[49m\u001b[43mX_train\u001b[49m\u001b[43m,\u001b[49m\u001b[43m \u001b[49m\u001b[43my_train\u001b[49m\u001b[43m,\u001b[49m\u001b[43m \u001b[49m\u001b[43mearlyStop_num\u001b[49m\u001b[38;5;241;43m=\u001b[39;49m\u001b[38;5;241;43m1\u001b[39;49m\u001b[43m,\u001b[49m\u001b[43m \u001b[49m\u001b[43mtimedStop\u001b[49m\u001b[38;5;241;43m=\u001b[39;49m\u001b[38;5;241;43m30\u001b[39;49m\u001b[43m)\u001b[49m \u001b[38;5;66;03m# ! SET EARLY STOP \"earlyStop_num\" TO 20 (hpo er lavet på 10, så det vil nok også gå hvis vi har travlt)\u001b[39;00m\n\u001b[0;32m     28\u001b[0m \u001b[38;5;66;03m# ! TIMED STO\u001b[39;00m\n",
      "Cell \u001b[1;32mIn[6], line 43\u001b[0m, in \u001b[0;36mHPO\u001b[1;34m(HP, X_train, y_train, do_one_hot, earlyStop_num, timedStop)\u001b[0m\n\u001b[0;32m     41\u001b[0m u \u001b[38;5;241m=\u001b[39m model(X_batch)\n\u001b[0;32m     42\u001b[0m loss \u001b[38;5;241m=\u001b[39m criterion(u, y_batch\u001b[38;5;241m.\u001b[39mfloat(), LAMBDA\u001b[38;5;241m=\u001b[39mLAMBDA, ALPHA\u001b[38;5;241m=\u001b[39mALPHA)\n\u001b[1;32m---> 43\u001b[0m \u001b[43mloss\u001b[49m\u001b[38;5;241;43m.\u001b[39;49m\u001b[43mbackward\u001b[49m\u001b[43m(\u001b[49m\u001b[43m)\u001b[49m\n\u001b[0;32m     44\u001b[0m optimizer\u001b[38;5;241m.\u001b[39mstep()\n\u001b[0;32m     46\u001b[0m loss_list\u001b[38;5;241m.\u001b[39mappend( \u001b[38;5;28mfloat\u001b[39m(loss) )\n",
      "File \u001b[1;32mc:\\Users\\thors\\AppData\\Local\\Programs\\Python\\Python311\\Lib\\site-packages\\torch\\_tensor.py:521\u001b[0m, in \u001b[0;36mTensor.backward\u001b[1;34m(self, gradient, retain_graph, create_graph, inputs)\u001b[0m\n\u001b[0;32m    511\u001b[0m \u001b[38;5;28;01mif\u001b[39;00m has_torch_function_unary(\u001b[38;5;28mself\u001b[39m):\n\u001b[0;32m    512\u001b[0m     \u001b[38;5;28;01mreturn\u001b[39;00m handle_torch_function(\n\u001b[0;32m    513\u001b[0m         Tensor\u001b[38;5;241m.\u001b[39mbackward,\n\u001b[0;32m    514\u001b[0m         (\u001b[38;5;28mself\u001b[39m,),\n\u001b[1;32m   (...)\u001b[0m\n\u001b[0;32m    519\u001b[0m         inputs\u001b[38;5;241m=\u001b[39minputs,\n\u001b[0;32m    520\u001b[0m     )\n\u001b[1;32m--> 521\u001b[0m \u001b[43mtorch\u001b[49m\u001b[38;5;241;43m.\u001b[39;49m\u001b[43mautograd\u001b[49m\u001b[38;5;241;43m.\u001b[39;49m\u001b[43mbackward\u001b[49m\u001b[43m(\u001b[49m\n\u001b[0;32m    522\u001b[0m \u001b[43m    \u001b[49m\u001b[38;5;28;43mself\u001b[39;49m\u001b[43m,\u001b[49m\u001b[43m \u001b[49m\u001b[43mgradient\u001b[49m\u001b[43m,\u001b[49m\u001b[43m \u001b[49m\u001b[43mretain_graph\u001b[49m\u001b[43m,\u001b[49m\u001b[43m \u001b[49m\u001b[43mcreate_graph\u001b[49m\u001b[43m,\u001b[49m\u001b[43m \u001b[49m\u001b[43minputs\u001b[49m\u001b[38;5;241;43m=\u001b[39;49m\u001b[43minputs\u001b[49m\n\u001b[0;32m    523\u001b[0m \u001b[43m\u001b[49m\u001b[43m)\u001b[49m\n",
      "File \u001b[1;32mc:\\Users\\thors\\AppData\\Local\\Programs\\Python\\Python311\\Lib\\site-packages\\torch\\autograd\\__init__.py:289\u001b[0m, in \u001b[0;36mbackward\u001b[1;34m(tensors, grad_tensors, retain_graph, create_graph, grad_variables, inputs)\u001b[0m\n\u001b[0;32m    284\u001b[0m     retain_graph \u001b[38;5;241m=\u001b[39m create_graph\n\u001b[0;32m    286\u001b[0m \u001b[38;5;66;03m# The reason we repeat the same comment below is that\u001b[39;00m\n\u001b[0;32m    287\u001b[0m \u001b[38;5;66;03m# some Python versions print out the first line of a multi-line function\u001b[39;00m\n\u001b[0;32m    288\u001b[0m \u001b[38;5;66;03m# calls in the traceback and some print out the last line\u001b[39;00m\n\u001b[1;32m--> 289\u001b[0m \u001b[43m_engine_run_backward\u001b[49m\u001b[43m(\u001b[49m\n\u001b[0;32m    290\u001b[0m \u001b[43m    \u001b[49m\u001b[43mtensors\u001b[49m\u001b[43m,\u001b[49m\n\u001b[0;32m    291\u001b[0m \u001b[43m    \u001b[49m\u001b[43mgrad_tensors_\u001b[49m\u001b[43m,\u001b[49m\n\u001b[0;32m    292\u001b[0m \u001b[43m    \u001b[49m\u001b[43mretain_graph\u001b[49m\u001b[43m,\u001b[49m\n\u001b[0;32m    293\u001b[0m \u001b[43m    \u001b[49m\u001b[43mcreate_graph\u001b[49m\u001b[43m,\u001b[49m\n\u001b[0;32m    294\u001b[0m \u001b[43m    \u001b[49m\u001b[43minputs\u001b[49m\u001b[43m,\u001b[49m\n\u001b[0;32m    295\u001b[0m \u001b[43m    \u001b[49m\u001b[43mallow_unreachable\u001b[49m\u001b[38;5;241;43m=\u001b[39;49m\u001b[38;5;28;43;01mTrue\u001b[39;49;00m\u001b[43m,\u001b[49m\n\u001b[0;32m    296\u001b[0m \u001b[43m    \u001b[49m\u001b[43maccumulate_grad\u001b[49m\u001b[38;5;241;43m=\u001b[39;49m\u001b[38;5;28;43;01mTrue\u001b[39;49;00m\u001b[43m,\u001b[49m\n\u001b[0;32m    297\u001b[0m \u001b[43m\u001b[49m\u001b[43m)\u001b[49m\n",
      "File \u001b[1;32mc:\\Users\\thors\\AppData\\Local\\Programs\\Python\\Python311\\Lib\\site-packages\\torch\\autograd\\graph.py:769\u001b[0m, in \u001b[0;36m_engine_run_backward\u001b[1;34m(t_outputs, *args, **kwargs)\u001b[0m\n\u001b[0;32m    767\u001b[0m     unregister_hooks \u001b[38;5;241m=\u001b[39m _register_logging_hooks_on_whole_graph(t_outputs)\n\u001b[0;32m    768\u001b[0m \u001b[38;5;28;01mtry\u001b[39;00m:\n\u001b[1;32m--> 769\u001b[0m     \u001b[38;5;28;01mreturn\u001b[39;00m \u001b[43mVariable\u001b[49m\u001b[38;5;241;43m.\u001b[39;49m\u001b[43m_execution_engine\u001b[49m\u001b[38;5;241;43m.\u001b[39;49m\u001b[43mrun_backward\u001b[49m\u001b[43m(\u001b[49m\u001b[43m  \u001b[49m\u001b[38;5;66;43;03m# Calls into the C++ engine to run the backward pass\u001b[39;49;00m\n\u001b[0;32m    770\u001b[0m \u001b[43m        \u001b[49m\u001b[43mt_outputs\u001b[49m\u001b[43m,\u001b[49m\u001b[43m \u001b[49m\u001b[38;5;241;43m*\u001b[39;49m\u001b[43margs\u001b[49m\u001b[43m,\u001b[49m\u001b[43m \u001b[49m\u001b[38;5;241;43m*\u001b[39;49m\u001b[38;5;241;43m*\u001b[39;49m\u001b[43mkwargs\u001b[49m\n\u001b[0;32m    771\u001b[0m \u001b[43m    \u001b[49m\u001b[43m)\u001b[49m  \u001b[38;5;66;03m# Calls into the C++ engine to run the backward pass\u001b[39;00m\n\u001b[0;32m    772\u001b[0m \u001b[38;5;28;01mfinally\u001b[39;00m:\n\u001b[0;32m    773\u001b[0m     \u001b[38;5;28;01mif\u001b[39;00m attach_logging_hooks:\n",
      "\u001b[1;31mKeyboardInterrupt\u001b[0m: "
     ]
    }
   ],
   "source": [
    "Nus = [\n",
    "    {\"lambda\": 0.5, \"alpha\": 3, \"lr\":0.00010, \"wd\": 0.00001, \"bits\"   : 24},\n",
    "    {\"lambda\": 0.5, \"alpha\": 3, \"lr\":0.00010, \"wd\": 0.00001, \"bits\"   : 48},\n",
    "    {\"lambda\": 0.5, \"alpha\": 3, \"lr\":0.00010, \"wd\": 0.00001, \"bits\"   : 32},\n",
    "    {\"lambda\": 0.5, \"alpha\": 5, \"lr\":0.00001, \"wd\": 0.00001, \"bits\"   : 12},\n",
    "       ]\n",
    "\n",
    "Cifar = [\n",
    "    {\"lambda\": 2.0, \"alpha\": 5, \"lr\":0.00001, \"wd\": 0.00001, \"bits\"   : 48},\n",
    "    {\"lambda\": 0.5, \"alpha\": 5, \"lr\":0.00010, \"wd\": 0.00010, \"bits\"   : 12},\n",
    "    {\"lambda\": 1.0, \"alpha\": 5, \"lr\":0.00010, \"wd\": 0.00010, \"bits\"   : 24},\n",
    "    {\"lambda\": 0.5, \"alpha\": 5, \"lr\":0.00010, \"wd\": 0.00010, \"bits\"   : 32},\n",
    "       ]\n",
    "\n",
    "ImgNet = [\n",
    "    {\"lambda\": 0.5, \"alpha\": 5, \"lr\":0.00010, \"wd\": 0.00001, \"bits\"   : 24},\n",
    "    {\"lambda\": 0.5, \"alpha\": 5, \"lr\":0.00010, \"wd\": 0.00010, \"bits\"   : 32},\n",
    "    {\"lambda\": 0.5, \"alpha\": 5, \"lr\":0.00001, \"wd\": 0.00010, \"bits\"   : 48},\n",
    "    {\"lambda\": 0.5, \"alpha\": 5, \"lr\":0.00001, \"wd\": 0.00001, \"bits\"   : 12},\n",
    "       ]\n",
    "\n",
    "hp = Nus[0]\n",
    "\n",
    "X_train = torch.tensor( np.load( root + r\"Features/HPO og Validering/CIFAR/X_hpo_Cifar.npy\" ) )\n",
    "y_train = torch.tensor( np.load( root + r\"Features/HPO og Validering/CIFAR/y_hpo_CIfar.npy\" ) )\n",
    "\n",
    "model = HPO(hp, X_train, y_train, earlyStop_num=1, timedStop=30) # ! SET EARLY STOP \"earlyStop_num\" TO 20 (hpo er lavet på 10, så det vil nok også gå hvis vi har travlt)\n",
    "# ! TIMED STOP ER IS SEKUNDER!!!!"
   ]
  },
  {
   "cell_type": "code",
   "execution_count": 8,
   "metadata": {},
   "outputs": [
    {
     "data": {
      "text/plain": [
       "tensor([ 0.6974, -0.1630, -1.0359, -0.6633,  0.2369, -0.2210,  0.8083,  0.1142,\n",
       "        -0.1639,  0.1518,  0.6569,  0.7596, -0.8730,  1.3591,  0.4493, -0.6184,\n",
       "        -0.4225,  0.2325, -0.6697,  0.9153,  0.1910,  0.6520, -0.6603,  0.8978],\n",
       "       grad_fn=<ViewBackward0>)"
      ]
     },
     "execution_count": 8,
     "metadata": {},
     "output_type": "execute_result"
    }
   ],
   "source": [
    "X_val = torch.tensor( np.load( root + r\"Features/HPO og Validering/CIFAR/X_val_Cifar.npy\" ) )\n",
    "\n",
    "model(X_val[22])"
   ]
  }
 ],
 "metadata": {
  "kernelspec": {
   "display_name": "Python 3",
   "language": "python",
   "name": "python3"
  },
  "language_info": {
   "codemirror_mode": {
    "name": "ipython",
    "version": 3
   },
   "file_extension": ".py",
   "mimetype": "text/x-python",
   "name": "python",
   "nbconvert_exporter": "python",
   "pygments_lexer": "ipython3",
   "version": "3.11.5"
  }
 },
 "nbformat": 4,
 "nbformat_minor": 2
}
