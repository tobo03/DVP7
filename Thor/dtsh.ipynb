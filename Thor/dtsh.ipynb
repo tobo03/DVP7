{
 "cells": [
  {
   "cell_type": "code",
   "execution_count": 1,
   "metadata": {},
   "outputs": [],
   "source": [
    "import pandas as pd\n",
    "import numpy as np\n",
    "from tqdm import tqdm\n",
    "from scipy.sparse.linalg import eigsh\n",
    "#from pretrainedModel import pretrainedModel\n",
    "from tensorflow import keras\n",
    "from PIL import Image\n",
    "from sklearn.preprocessing import StandardScaler\n",
    "import torch\n",
    "from sklearn.decomposition import PCA\n",
    "from sklearn.neural_network import MLPClassifier\n",
    "from sklearn.neighbors import NearestNeighbors\n",
    "import matplotlib.pyplot as plt\n",
    "from scipy.sparse import csr_matrix\n",
    "import time\n",
    "import warnings\n",
    "from sklearn.cluster import KMeans\n",
    "import sys\n",
    "import os\n",
    "\n",
    "from copy import deepcopy"
   ]
  },
  {
   "cell_type": "code",
   "execution_count": null,
   "metadata": {},
   "outputs": [],
   "source": [
    "import random\n",
    "import torch.nn as nn\n",
    "import numpy as np\n",
    "import torch\n",
    "import math\n",
    "import torch.optim as optim\n",
    "from torch.utils.data import DataLoader\n",
    "\n",
    "root = '../'"
   ]
  },
  {
   "cell_type": "code",
   "execution_count": 7,
   "metadata": {},
   "outputs": [],
   "source": [
    "def get_dataloader(X_train, y_train, one_hot=True, batchSize = 100):\n",
    "\n",
    "    if one_hot:\n",
    "        y_train = torch.tensor(y_train, dtype=torch.long)\n",
    "        y_train = torch.nn.functional.one_hot(y_train)\n",
    "\n",
    "    train_data = []\n",
    "    for i in range(len(X_train)):\n",
    "        train_data.append([X_train[i], y_train[i]])\n",
    "    dataloader = DataLoader(train_data, batch_size=batchSize, shuffle=True)\n",
    "\n",
    "\n",
    "    return dataloader"
   ]
  },
  {
   "cell_type": "code",
   "execution_count": 8,
   "metadata": {},
   "outputs": [],
   "source": [
    "class DTSHLoss(torch.nn.Module):\n",
    "    def __init__(self):\n",
    "        super(DTSHLoss, self).__init__()\n",
    "\n",
    "    def forward(self, u, y, LAMBDA=1, ALPHA=1):\n",
    "        #LAMBDA = 1\n",
    "        #ALPHA  = 1\n",
    "\n",
    "        inner_product = u @ u.t()   # Similarity Matrix\n",
    "        s = y @ y.t() > 0           # A matrix that show if the two idexes are the same or not\n",
    "        count = 0\n",
    "\n",
    "        loss1 = 0\n",
    "        for row in range(s.shape[0]):\n",
    "            # if has positive pairs and negative pairs\n",
    "            if s[row].sum() != 0 and (~s[row]).sum() != 0:\n",
    "                count += 1\n",
    "                theta_positive = inner_product[row][s[row] == 1]                \n",
    "                theta_negative = inner_product[row][s[row] == 0]\n",
    "\n",
    "                triple = (theta_positive.unsqueeze(1) - theta_negative.unsqueeze(0) - ALPHA ).clamp(min=-100,max=50)\n",
    "                loss1 += -(triple - torch.log(1 + torch.exp(triple))).mean()\n",
    "\n",
    "        if count != 0:\n",
    "            loss1 = loss1 / count\n",
    "        else:\n",
    "            loss1 = 0\n",
    "\n",
    "        loss2 = LAMBDA * (u - u.sign()).pow(2).mean()\n",
    "\n",
    "        return loss1 + loss2"
   ]
  },
  {
   "cell_type": "code",
   "execution_count": null,
   "metadata": {},
   "outputs": [],
   "source": [
    "def earlyStop(LossList, n = 10):\n",
    "    bestVal = min(LossList)\n",
    "\n",
    "    bestVal_i = LossList.index(bestVal)\n",
    "\n",
    "    if bestVal_i < len(LossList) - n: return True\n",
    "\n",
    "\n",
    "\n",
    "def HPO(HP, X_train, y_train, do_one_hot=True, earlyStop_num=20):\n",
    "    data = {}\n",
    "\n",
    "    LAMBDA= HP[\"lambda\"] \n",
    "    ALPHA=  HP[\"alpha\"]\n",
    "    lr=     HP[\"lr\"]\n",
    "    weight_decay= HP[\"wd\"]\n",
    "    bits = HP[\"bits\"]\n",
    "\n",
    "\n",
    "    model = nn.Sequential(  nn.Linear(4096,256),\n",
    "                            nn.ReLU(),\n",
    "                            nn.Linear(256, bits),\n",
    "                            )\n",
    "\n",
    "    criterion = DTSHLoss()\n",
    "    optimizer = optim.RMSprop(model.parameters(), lr=lr , weight_decay=weight_decay)\n",
    "\n",
    "    dataloader = get_dataloader(X_train, y_train, one_hot=do_one_hot)\n",
    "    historical_lostList = []\n",
    "    for i in range(1500):\n",
    "        loss_list = []\n",
    "        for j,batch  in enumerate(dataloader):\n",
    "            X_batch = batch[0]\n",
    "            y_batch = batch[1]\n",
    "\n",
    "            optimizer.zero_grad()\n",
    "\n",
    "            u = model(X_batch)\n",
    "            loss = criterion(u, y_batch.float(), LAMBDA=LAMBDA, ALPHA=ALPHA)\n",
    "            loss.backward()\n",
    "            optimizer.step()\n",
    "\n",
    "            loss_list.append( float(loss) )\n",
    "        \n",
    "        \n",
    "        mean_loss = sum(loss_list) / len(loss_list)\n",
    "        if i % 10 == 1:\n",
    "            print(i, mean_loss)\n",
    "        historical_lostList.append(mean_loss)\n",
    "\n",
    "        if earlyStop(historical_lostList, n = earlyStop_num): \n",
    "            print(i, mean_loss)\n",
    "            print(\"Early Stop!!!\")\n",
    "            data[\"earlyStop\"] = True\n",
    "            break\n",
    "    \n",
    "    return model"
   ]
  },
  {
   "cell_type": "code",
   "execution_count": 12,
   "metadata": {},
   "outputs": [],
   "source": [
    "HP = {\n",
    "    \"lambda\" : [0.5 , 1, 2],\n",
    "    \"alpha\"  : [1, 3, 5],\n",
    "    \"lr\"     : [1e-4 ,1e-5, 1e-6],\n",
    "    \"wd\"     : [1e-4 ,1e-5, 1e-6],\n",
    "    \"bits\"   : [12, 24, 32, 48]\n",
    "}\n",
    "\n"
   ]
  },
  {
   "cell_type": "code",
   "execution_count": null,
   "metadata": {},
   "outputs": [
    {
     "name": "stderr",
     "output_type": "stream",
     "text": [
      "C:\\Users\\thors\\AppData\\Local\\Temp\\ipykernel_13228\\1922388731.py:4: UserWarning: To copy construct from a tensor, it is recommended to use sourceTensor.clone().detach() or sourceTensor.clone().detach().requires_grad_(True), rather than torch.tensor(sourceTensor).\n",
      "  y_train = torch.tensor(y_train, dtype=torch.long)\n"
     ]
    },
    {
     "name": "stdout",
     "output_type": "stream",
     "text": [
      "1 0.6379853385686874\n",
      "11 0.4183912962675095\n",
      "21 0.331727696955204\n",
      "31 0.2666438376903534\n",
      "36 0.25177903831005094\n",
      "Early Stop!!!\n"
     ]
    }
   ],
   "source": [
    "hp = {\n",
    "    \"lambda\" : 1,\n",
    "    \"alpha\"  : 1,\n",
    "    \"lr\"     : 1e-4,\n",
    "    \"wd\"     : 1e-4,\n",
    "    \"bits\"   : 12}\n",
    "\n",
    "X_train = torch.tensor( np.load( root + r\"Features/HPO og Validering/CIFAR/X_hpo_Cifar.npy\" ) )\n",
    "y_train = torch.tensor( np.load( root + r\"Features/HPO og Validering/CIFAR/y_hpo_CIfar.npy\" ) )\n",
    "\n",
    "model = HPO(hp, X_train, y_train, earlyStop_num=1)"
   ]
  },
  {
   "cell_type": "code",
   "execution_count": null,
   "metadata": {},
   "outputs": [
    {
     "data": {
      "text/plain": [
       "tensor([-1.1546,  0.8139, -0.3805,  1.0220,  0.9887,  0.6681, -1.1132, -0.4109,\n",
       "        -0.6893, -1.1136, -1.0305, -0.6557], grad_fn=<ViewBackward0>)"
      ]
     },
     "execution_count": 16,
     "metadata": {},
     "output_type": "execute_result"
    }
   ],
   "source": [
    "X_val = torch.tensor( np.load( root + r\"Features/HPO og Validering/CIFAR/X_val_Cifar.npy\" ) )\n",
    "\n",
    "model(X_val[22])"
   ]
  }
 ],
 "metadata": {
  "kernelspec": {
   "display_name": "Python 3",
   "language": "python",
   "name": "python3"
  },
  "language_info": {
   "codemirror_mode": {
    "name": "ipython",
    "version": 3
   },
   "file_extension": ".py",
   "mimetype": "text/x-python",
   "name": "python",
   "nbconvert_exporter": "python",
   "pygments_lexer": "ipython3",
   "version": "3.12.1"
  }
 },
 "nbformat": 4,
 "nbformat_minor": 2
}
