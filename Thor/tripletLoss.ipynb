{
 "cells": [
  {
   "cell_type": "code",
   "execution_count": 1,
   "metadata": {},
   "outputs": [],
   "source": [
    "import pandas as pd\n",
    "import numpy as np\n",
    "from tqdm import tqdm\n",
    "from scipy.sparse.linalg import eigsh\n",
    "#from pretrainedModel import pretrainedModel\n",
    "from tensorflow import keras\n",
    "from PIL import Image\n",
    "from sklearn.preprocessing import StandardScaler\n",
    "import torch\n",
    "from sklearn.decomposition import PCA\n",
    "from sklearn.neural_network import MLPClassifier\n",
    "from sklearn.neighbors import NearestNeighbors\n",
    "import matplotlib.pyplot as plt\n",
    "from scipy.sparse import csr_matrix\n",
    "import time\n",
    "import warnings\n",
    "from sklearn.cluster import KMeans\n",
    "import sys\n",
    "import os\n",
    "\n",
    "from copy import deepcopy"
   ]
  },
  {
   "cell_type": "code",
   "execution_count": 2,
   "metadata": {},
   "outputs": [],
   "source": [
    "import random\n",
    "import torch.nn as nn\n",
    "import numpy as np\n",
    "import torch\n",
    "import math\n",
    "import torch.optim as optim\n",
    "from torch.utils.data import DataLoader\n",
    "\n",
    "root = '../'"
   ]
  },
  {
   "cell_type": "code",
   "execution_count": 3,
   "metadata": {},
   "outputs": [],
   "source": [
    "device = torch.device(\"cuda\" if torch.cuda.is_available() else \"cpu\")"
   ]
  },
  {
   "cell_type": "code",
   "execution_count": 4,
   "metadata": {},
   "outputs": [],
   "source": [
    "def get_dataloader(X_train, y_train, one_hot=True, batchSize = 100):\n",
    "    y_train = torch.tensor(y_train, dtype=torch.long, device=device)\n",
    "\n",
    "    if one_hot:\n",
    "        y_train = torch.nn.functional.one_hot(y_train)\n",
    "\n",
    "    train_data = []\n",
    "    for i in range(len(X_train)):\n",
    "        train_data.append([X_train[i], y_train[i]])\n",
    "    dataloader = DataLoader(train_data, batch_size=batchSize, shuffle=True)\n",
    "\n",
    "\n",
    "    return dataloader"
   ]
  },
  {
   "cell_type": "code",
   "execution_count": 5,
   "metadata": {},
   "outputs": [],
   "source": [
    "class TripletLoss(torch.nn.Module):\n",
    "    def __init__(self):\n",
    "        super(TripletLoss, self).__init__()\n",
    "\n",
    "    def forward(self, u, y, ALPHA=1):\n",
    "        #LAMBDA = 1\n",
    "        #ALPHA  = 1\n",
    "\n",
    "        inner_product = torch.cdist(u, u, p=2) \n",
    "        s = y @ y.t() > 0           # A matrix that show if the two idexes are the same or not\n",
    "\n",
    "        loss1 = torch.tensor(0.0, requires_grad=True) + 0\n",
    "        for row in range(s.shape[0]):\n",
    "            # if has positive pairs and negative pairs\n",
    "            if s[row].sum() != 0 and (~s[row]).sum() != 0:\n",
    "                \n",
    "                theta_negative = inner_product[row][s[row] == 0]\n",
    "                \n",
    "                theta_positive = inner_product[row][s[row] == 1]\n",
    "                theta_positive = theta_positive[theta_positive != 0] # remove the anchor\n",
    "\n",
    "                for p in theta_positive: \n",
    "                    n_i = torch.logical_and( (p < theta_negative), (theta_negative < p + ALPHA) )\n",
    "                    \n",
    "                    if sum(n_i) != 0:\n",
    "                        n = torch.min( theta_negative[n_i] )\n",
    "\n",
    "                        loss1 += (p - n + ALPHA).clamp(min=0)\n",
    "        \n",
    "\n",
    "        return loss1"
   ]
  },
  {
   "cell_type": "code",
   "execution_count": 6,
   "metadata": {},
   "outputs": [],
   "source": [
    "def earlyStop(LossList, n = 10):\n",
    "    bestVal = min(LossList)\n",
    "\n",
    "    bestVal_i = LossList.index(bestVal)\n",
    "\n",
    "    if bestVal_i < len(LossList) - n: return True\n",
    "\n",
    "\n",
    "\n",
    "def HPO(HP, X_train, y_train, do_one_hot=True, earlyStop_num=20):\n",
    "    data = {}\n",
    "\n",
    "    ALPHA=  HP[\"alpha\"]\n",
    "    lr=     HP[\"lr\"]\n",
    "    weight_decay= HP[\"wd\"]\n",
    "    bits = HP[\"bits\"]\n",
    "\n",
    "\n",
    "    model = nn.Sequential(  nn.Linear(4096,256),\n",
    "                            nn.ReLU(),\n",
    "                            nn.Linear(256, bits),\n",
    "                            nn.Sigmoid()\n",
    "                            )\n",
    "    model.to(device)\n",
    "\n",
    "    criterion = TripletLoss()\n",
    "    optimizer = optim.RMSprop(model.parameters(), lr=lr , weight_decay=weight_decay)\n",
    "\n",
    "    dataloader = get_dataloader(X_train, y_train, one_hot=do_one_hot, batchSize = 50)\n",
    "    historical_lostList = []\n",
    "    for i in range(1500):\n",
    "        loss_list = []\n",
    "        for j,batch  in enumerate(dataloader):\n",
    "            X_batch = batch[0]\n",
    "            y_batch = batch[1]\n",
    "\n",
    "            optimizer.zero_grad()\n",
    "\n",
    "            u = model(X_batch)\n",
    "            loss = criterion(u, y_batch.float(), ALPHA=ALPHA)\n",
    "            loss.backward()\n",
    "            optimizer.step()\n",
    "\n",
    "            loss_list.append( float(loss) )\n",
    "        \n",
    "        \n",
    "        mean_loss = sum(loss_list) / len(loss_list)\n",
    "        if (i % 10 == 1) or True:\n",
    "            print(i, mean_loss)\n",
    "        historical_lostList.append(mean_loss)\n",
    "\n",
    "        if earlyStop(historical_lostList, n = earlyStop_num): \n",
    "            print(i, mean_loss)\n",
    "            print(\"Early Stop!!!\")\n",
    "            data[\"earlyStop\"] = True\n",
    "            break\n",
    "    \n",
    "    return model"
   ]
  },
  {
   "cell_type": "code",
   "execution_count": 7,
   "metadata": {},
   "outputs": [
    {
     "name": "stderr",
     "output_type": "stream",
     "text": [
      "C:\\Users\\thors\\AppData\\Local\\Temp\\ipykernel_6200\\4162365391.py:2: UserWarning: To copy construct from a tensor, it is recommended to use sourceTensor.clone().detach() or sourceTensor.clone().detach().requires_grad_(True), rather than torch.tensor(sourceTensor).\n",
      "  y_train = torch.tensor(y_train, dtype=torch.long, device=device)\n"
     ]
    },
    {
     "name": "stdout",
     "output_type": "stream",
     "text": [
      "0 731.7476824951171\n",
      "1 701.4269555664063\n",
      "2 705.2783355712891\n",
      "2 705.2783355712891\n",
      "Early Stop!!!\n"
     ]
    }
   ],
   "source": [
    "Cifar = [\n",
    "    {\"alpha\": 3, \"lr\":0.0001, \"wd\": 0.000010, \"bits\" : 12},\n",
    "    {\"alpha\": 5, \"lr\":0.0001, \"wd\": 0.000100, \"bits\" : 48},\n",
    "    {\"alpha\": 3, \"lr\":0.0001, \"wd\": 0.000001, \"bits\" : 32},\n",
    "    {\"alpha\": 3, \"lr\":0.0001, \"wd\": 0.000100, \"bits\" : 24},\n",
    "       ]\n",
    "\n",
    "Nus = [\n",
    "    {\"alpha\": 5, \"lr\":0.0001, \"wd\": 0.00001, \"bits\" : 32},\n",
    "    {\"alpha\": 3, \"lr\":0.0001, \"wd\": 0.00001, \"bits\" : 12},\n",
    "    {\"alpha\": 3, \"lr\":0.0001, \"wd\": 0.00010, \"bits\" : 48},\n",
    "    {\"alpha\": 5, \"lr\":0.0001, \"wd\": 0.00001, \"bits\" : 24},\n",
    "       ]\n",
    "\n",
    "ImgNet = [\n",
    "    {\"alpha\": 5, \"lr\":0.00010, \"wd\": 0.00001, \"bits\" : 32},\n",
    "    {\"alpha\": 1, \"lr\":0.00001, \"wd\": 0.00010, \"bits\" : 48},\n",
    "    {\"alpha\": 5, \"lr\":0.00010, \"wd\": 0.00001, \"bits\" : 12},\n",
    "    {\"alpha\": 5, \"lr\":0.00010, \"wd\": 0.00001, \"bits\" : 24},\n",
    "       ]\n",
    "\n",
    "\n",
    "\n",
    "\n",
    "hpo_dic ={\n",
    "    12: {\"Cifar\":   {\"alpha\": 3, \"lr\":0.0001, \"wd\": 0.000010, \"bits\" : 12}, \n",
    "         \"Nus_Wide\":{\"alpha\": 3, \"lr\":0.0001, \"wd\": 0.00001, \"bits\" : 12}, \n",
    "         \"Imagenet\":{\"alpha\": 5, \"lr\":0.00010, \"wd\": 0.00001, \"bits\" : 12}},\n",
    "\n",
    "    24: {\"Cifar\":   {\"alpha\": 3, \"lr\":0.0001, \"wd\": 0.000100, \"bits\" : 24}, \n",
    "         \"Nus_Wide\":{\"alpha\": 5, \"lr\":0.0001, \"wd\": 0.00001, \"bits\" : 24}, \n",
    "         \"Imagenet\":{\"alpha\": 5, \"lr\":0.00010, \"wd\": 0.00001, \"bits\" : 24}},\n",
    "\n",
    "    32: {\"Cifar\":   {\"alpha\": 3, \"lr\":0.0001, \"wd\": 0.000001, \"bits\" : 32}, \n",
    "         \"Nus_Wide\":{\"alpha\": 5, \"lr\":0.0001, \"wd\": 0.00001, \"bits\" : 32}, \n",
    "         \"Imagenet\":{\"alpha\": 5, \"lr\":0.00010, \"wd\": 0.00001, \"bits\" : 32}},\n",
    "\n",
    "    48: {\"Cifar\":   {\"alpha\": 5, \"lr\":0.0001, \"wd\": 0.000100, \"bits\" : 48}, \n",
    "         \"Nus_Wide\":{\"alpha\": 3, \"lr\":0.0001, \"wd\": 0.00010, \"bits\" : 48}, \n",
    "         \"Imagenet\":{\"alpha\": 1, \"lr\":0.00001, \"wd\": 0.00010, \"bits\" : 48}},\n",
    "        }\n",
    "\n",
    "\n",
    "\n",
    "hp = hpo_dic[12][\"Cifar\"]\n",
    "\n",
    "X_train = torch.tensor( np.load( root + r\"Features/HPO og Validering/CIFAR/X_hpo_Cifar.npy\" ) )\n",
    "y_train = torch.tensor( np.load( root + r\"Features/HPO og Validering/CIFAR/y_hpo_CIfar.npy\" ) )\n",
    "\n",
    "model = HPO(hp, X_train, y_train, earlyStop_num=1) # ! SET EARLY STOP \"earlyStop_num\" TO 20 (hpo er lavet på 10, så det vil nok også gå hvis vi har travlt)"
   ]
  },
  {
   "cell_type": "code",
   "execution_count": 8,
   "metadata": {},
   "outputs": [
    {
     "data": {
      "text/plain": [
       "tensor([9.7070e-01, 1.3643e-01, 4.1810e-02, 8.3139e-01, 2.9377e-01, 6.1342e-04,\n",
       "        1.0688e-01, 9.1936e-01, 9.0135e-01, 2.7574e-01, 9.8846e-01, 9.8929e-01],\n",
       "       grad_fn=<SigmoidBackward0>)"
      ]
     },
     "execution_count": 8,
     "metadata": {},
     "output_type": "execute_result"
    }
   ],
   "source": [
    "X_val = torch.tensor( np.load( root + r\"Features/HPO og Validering/CIFAR/X_val_Cifar.npy\" ) )\n",
    "\n",
    "model(X_val[22])"
   ]
  }
 ],
 "metadata": {
  "kernelspec": {
   "display_name": "Python 3",
   "language": "python",
   "name": "python3"
  },
  "language_info": {
   "codemirror_mode": {
    "name": "ipython",
    "version": 3
   },
   "file_extension": ".py",
   "mimetype": "text/x-python",
   "name": "python",
   "nbconvert_exporter": "python",
   "pygments_lexer": "ipython3",
   "version": "3.12.1"
  }
 },
 "nbformat": 4,
 "nbformat_minor": 2
}
