{
 "cells": [
  {
   "cell_type": "code",
   "execution_count": 1,
   "metadata": {},
   "outputs": [],
   "source": [
    "import numpy as np"
   ]
  },
  {
   "cell_type": "code",
   "execution_count": 2,
   "metadata": {},
   "outputs": [],
   "source": [
    "from tensorflow import keras\n",
    "from PIL import Image\n",
    "from torchvision import models, transforms\n",
    "import torch.nn as nn\n",
    "import torch.optim as optim\n",
    "import torch\n",
    "import random\n",
    "from torchvision import models, transforms\n",
    "from scipy.spatial import distance_matrix\n",
    "from tqdm import tqdm\n",
    "import os\n",
    "\n",
    "import json\n",
    "import datetime\n",
    "\n",
    "import time"
   ]
  },
  {
   "cell_type": "code",
   "execution_count": 3,
   "metadata": {},
   "outputs": [],
   "source": [
    "import sys\n",
    "root = '../../'\n",
    "sys.path.append(root)\n",
    "from HelpfulFunctions.batchCreation import createBatch\n",
    "from HelpfulFunctions.metrics import meanAveragePrecision"
   ]
  },
  {
   "cell_type": "code",
   "execution_count": 4,
   "metadata": {},
   "outputs": [
    {
     "name": "stdout",
     "output_type": "stream",
     "text": [
      "cpu\n"
     ]
    }
   ],
   "source": [
    "device = torch.device(\"cuda\" if torch.cuda.is_available() else \"cpu\")\n",
    "device = \"cpu\"\n",
    "print(device)"
   ]
  },
  {
   "cell_type": "code",
   "execution_count": 5,
   "metadata": {},
   "outputs": [],
   "source": [
    "X_train = torch.tensor( np.load( root + \"Features/train_features_vgg16_cifar10.npy\" ) )\n",
    "y_train = np.load( root + \"Features/train_labels_vgg16_cifar10.npy\" )\n",
    "\n",
    "X_test = torch.tensor( np.load( root + \"Features/test_features_vgg16_cifar10.npy\" ) )\n",
    "y_test = np.load( root + \"Features/test_labels_vgg16_cifar10.npy\" )"
   ]
  },
  {
   "cell_type": "markdown",
   "metadata": {},
   "source": [
    "------"
   ]
  },
  {
   "cell_type": "code",
   "execution_count": 6,
   "metadata": {},
   "outputs": [],
   "source": [
    "def getAPN(a, pos, dMatrix, margin):\n",
    "    aP = [a]+pos\n",
    "    neg_i = [i for i in range(len(dMatrix)) if i not in aP ]\n",
    "\n",
    "    outPut = []\n",
    "\n",
    "    for p in  pos:\n",
    "        posDist = dMatrix[a][p]\n",
    "        \n",
    "        legal_i = [i for i in neg_i if (posDist < dMatrix[a][i]) and (dMatrix[a][i] <= posDist+margin)] # i = \"global\" index of the Hash\n",
    "        \n",
    "        legal_dist = [dMatrix[a][i] for i in legal_i]\n",
    "        \n",
    "        if legal_dist == []: continue\n",
    "        max_dist = min(legal_dist)\n",
    "\n",
    "        n = legal_i[ legal_dist.index(max_dist) ]\n",
    "        outPut.append( (a, p, n) )\n",
    "\n",
    "    return outPut"
   ]
  },
  {
   "cell_type": "code",
   "execution_count": 7,
   "metadata": {},
   "outputs": [],
   "source": [
    "def customBatch(X_train, y_train, pos_sample_bal, batchSize, pos_label):    \n",
    "    pos_i = [ i for i in range(len(X_train)) if y_train[i] == pos_label ]\n",
    "    neg_i = list(set( range(len(X_train)) ) - set(pos_i))\n",
    "\n",
    "    pos_sample_size = int(batchSize*pos_sample_bal)\n",
    "    neg_sample_size = batchSize - pos_sample_size\n",
    "\n",
    "    pos_i = random.sample( pos_i, pos_sample_size)\n",
    "    neg_i = random.sample( neg_i, neg_sample_size)\n",
    "\n",
    "    X_sample = torch.stack( [X_train[i] for i in pos_i+neg_i] )\n",
    "    y_sample = [y_train[i] for i in pos_i+neg_i]\n",
    "    return X_sample, y_sample"
   ]
  },
  {
   "cell_type": "code",
   "execution_count": 8,
   "metadata": {},
   "outputs": [],
   "source": [
    "def tripletLoss(bits, margin, batchSize, pos_sample_bal):\n",
    "    t_start = time.time()\n",
    "    movingAvg_window = 2000\n",
    "    noImprove_breakVal = 2000\n",
    "    \n",
    "    L = []\n",
    "    mean_loss = 0\n",
    "\n",
    "    model = nn.Sequential(  nn.Linear(4096,1024),\n",
    "                            nn.ReLU(),\n",
    "                            nn.Linear(1024, bits),\n",
    "                            nn.Sigmoid()\n",
    "                            )\n",
    "    \n",
    "    model = model.to(device)\n",
    "\n",
    "    optimizer = optim.Adam( model.parameters() )\n",
    "    criterion = nn.TripletMarginLoss(p=1, # Manhatten Distance\n",
    "                                    margin=margin\n",
    "                                    )\n",
    "\n",
    "    loss_list = []\n",
    "    lowest_loss = 10000\n",
    "    no_improves = 0\n",
    "\n",
    "    y_unique = list(set(y_train))\n",
    "    for i in tqdm( range(20000) ):\n",
    "        if batchSize != None:   xBatch, yBatch = customBatch( X_train, y_train, pos_sample_bal, batchSize, random.sample(y_unique,1)[0] )\n",
    "        else:                   xBatch, yBatch = createBatch(X_train, y_train, batchSize)\n",
    "\n",
    "        xBatch = xBatch.to(device)\n",
    "\n",
    "        results = model(xBatch)\n",
    "        results_np = results.cpu().detach().numpy()\n",
    "        dMatrix = distance_matrix(results_np, results_np, p=1)\n",
    "\n",
    "        APN_list = []\n",
    "\n",
    "        for label in set(yBatch):\n",
    "            pos_i_list = [j for j in range(len(yBatch)) if yBatch[j] == label]\n",
    "            for anchor_i in pos_i_list:\n",
    "                pos_i = [j for j in pos_i_list if j != anchor_i]\n",
    "                APN_list += getAPN(anchor_i, pos_i, dMatrix, margin)\n",
    "\n",
    "        if len(APN_list) > 0:\n",
    "            a_list = []\n",
    "            p_list = []\n",
    "            n_list = []\n",
    "\n",
    "            for apn in APN_list:\n",
    "                a_list.append(results[ apn[0] ])\n",
    "                p_list.append(results[ apn[1] ])\n",
    "                n_list.append(results[ apn[2] ])\n",
    "            \n",
    "            # === Improve Model ===\n",
    "            optimizer.zero_grad()\n",
    "            loss = criterion( torch.stack(a_list).to(device), \n",
    "                              torch.stack(p_list).to(device), \n",
    "                              torch.stack(n_list).to(device) )\n",
    "            loss.backward()\n",
    "            optimizer.step()\n",
    "\n",
    "            loss_list.append( float(loss) )\n",
    "            L.append( float(loss) )\n",
    "        \n",
    "        if (i > movingAvg_window):\n",
    "            while len(L) > movingAvg_window:\n",
    "                L = L[1:]\n",
    "\n",
    "            mean_loss = sum(L) / len(L)\n",
    "\n",
    "            if mean_loss < lowest_loss:\n",
    "                # print(f\"\\033[92m {'+'}\\033[00m\", float(loss))\n",
    "                lowest_loss = mean_loss\n",
    "                no_improves = 0\n",
    "            else:\n",
    "                # print(f\"\\033[91m {'-'}\\033[00m\", float(loss))\n",
    "                no_improves += 1\n",
    "            \n",
    "            if no_improves > noImprove_breakVal: break\n",
    "\n",
    "        if (i % 500) == 0: \n",
    "            #print(f\"Make Bacthes + get results: {t2-t1}\\n\", f\"Distance Matrix: {t3-t2}\\n\", f\"MAke APN List: {t4-t3}\\n\", f\"Back Propegate: {t5-t4}\")\n",
    "            \n",
    "            print(i, mean_loss , no_improves)\n",
    "            \n",
    "\n",
    "    hash_train = (model(X_train.to(device)).cpu().detach().numpy() > 0.5).astype(int)\n",
    "    hash_test = (model(X_test.to(device)).cpu().detach().numpy() > 0.5).astype(int)\n",
    "    map = meanAveragePrecision( hash_test , hash_train, y_test, y_train)\n",
    "\n",
    "    delta_t = time.time() - t_start\n",
    "\n",
    "    return model, loss_list, map, i, delta_t\n",
    "\n",
    "#bits = 32\n",
    "#margin = random.randint(0,5) # int(bits / 10)\n",
    "#batchSize = 100\n",
    "#pos_sample_bal = 0.50\n",
    "\n",
    "#model, loss_list, map, i = tripletLoss(bits, margin, batchSize, pos_sample_bal)"
   ]
  },
  {
   "cell_type": "code",
   "execution_count": 9,
   "metadata": {},
   "outputs": [],
   "source": [
    "def hpo():\n",
    "    bits = 32\n",
    "    margin          = random.uniform(0,5)\n",
    "    batchSize       = random.randint(20,120)\n",
    "    pos_sample_bal  = random.uniform(0.05, 0.5)\n",
    "\n",
    "    if margin == 0: margin = 1\n",
    "\n",
    "    hp = {\"bits\":bits,\"margin\":margin, \"batchSize\": batchSize, \"pos_sample_bal\":pos_sample_bal}\n",
    "    print(hp)\n",
    "\n",
    "    model, loss_list, map, i, delta_t = tripletLoss(bits, margin, batchSize, pos_sample_bal)\n",
    "\n",
    "    res = {}\n",
    "    res[\"hp\"] = hp\n",
    "    res[\"loss_list\"] = loss_list\n",
    "    res[\"map\"] = map\n",
    "    res[\"i\"] = i\n",
    "    res[\"delta_t\"] = delta_t\n",
    "\n",
    "\n",
    "    now = str(datetime.datetime.now())\n",
    "    now = now[:now.index(\".\")].replace(\" \", \"_\").replace(\":\", \"-\")\n",
    "\n",
    "    newpath = f\"{root}Results/HPO/TripletLoss/{os.environ['COMPUTERNAME']}\"\n",
    "    if not os.path.exists(newpath):\n",
    "        os.makedirs(newpath)\n",
    "\n",
    "    filePath = f\"{root}Results/HPO/TripletLoss/{os.environ['COMPUTERNAME']}/{now}.json\"\n",
    "\n",
    "    with open(filePath, \"w\") as fp:\n",
    "        json.dump(res , fp)"
   ]
  },
  {
   "cell_type": "code",
   "execution_count": 10,
   "metadata": {},
   "outputs": [
    {
     "name": "stdout",
     "output_type": "stream",
     "text": [
      "{'bits': 32, 'margin': 1.2986597551323598, 'batchSize': 34, 'pos_sample_bal': 0.4820865008961892}\n"
     ]
    },
    {
     "name": "stderr",
     "output_type": "stream",
     "text": [
      "  0%|          | 3/20000 [00:00<11:47, 28.27it/s]"
     ]
    },
    {
     "name": "stdout",
     "output_type": "stream",
     "text": [
      "0 0 0\n"
     ]
    },
    {
     "name": "stderr",
     "output_type": "stream",
     "text": [
      "  3%|▎         | 507/20000 [00:16<10:21, 31.38it/s]"
     ]
    },
    {
     "name": "stdout",
     "output_type": "stream",
     "text": [
      "500 0 0\n"
     ]
    },
    {
     "name": "stderr",
     "output_type": "stream",
     "text": [
      "  5%|▌         | 1007/20000 [00:32<10:03, 31.45it/s]"
     ]
    },
    {
     "name": "stdout",
     "output_type": "stream",
     "text": [
      "1000 0 0\n"
     ]
    },
    {
     "name": "stderr",
     "output_type": "stream",
     "text": [
      "  8%|▊         | 1507/20000 [00:48<09:51, 31.27it/s]"
     ]
    },
    {
     "name": "stdout",
     "output_type": "stream",
     "text": [
      "1500 0 0\n"
     ]
    },
    {
     "name": "stderr",
     "output_type": "stream",
     "text": [
      " 10%|█         | 2003/20000 [01:04<09:55, 30.21it/s]"
     ]
    },
    {
     "name": "stdout",
     "output_type": "stream",
     "text": [
      "2000 0 0\n"
     ]
    },
    {
     "name": "stderr",
     "output_type": "stream",
     "text": [
      " 13%|█▎        | 2506/20000 [01:20<09:20, 31.19it/s]"
     ]
    },
    {
     "name": "stdout",
     "output_type": "stream",
     "text": [
      "2500 1.2194434243887662 0\n"
     ]
    },
    {
     "name": "stderr",
     "output_type": "stream",
     "text": [
      " 15%|█▌        | 3004/20000 [01:36<09:00, 31.46it/s]"
     ]
    },
    {
     "name": "stdout",
     "output_type": "stream",
     "text": [
      "3000 1.193735620304942 0\n"
     ]
    },
    {
     "name": "stderr",
     "output_type": "stream",
     "text": [
      " 18%|█▊        | 3506/20000 [01:52<08:47, 31.25it/s]"
     ]
    },
    {
     "name": "stdout",
     "output_type": "stream",
     "text": [
      "3500 1.1789282300174235 0\n"
     ]
    },
    {
     "name": "stderr",
     "output_type": "stream",
     "text": [
      " 20%|██        | 4007/20000 [02:08<08:34, 31.07it/s]"
     ]
    },
    {
     "name": "stdout",
     "output_type": "stream",
     "text": [
      "4000 1.1735587587058545 0\n"
     ]
    },
    {
     "name": "stderr",
     "output_type": "stream",
     "text": [
      " 23%|██▎       | 4506/20000 [02:24<08:24, 30.72it/s]"
     ]
    },
    {
     "name": "stdout",
     "output_type": "stream",
     "text": [
      "4500 1.1794432884156705 283\n"
     ]
    },
    {
     "name": "stderr",
     "output_type": "stream",
     "text": [
      " 25%|██▌       | 5006/20000 [02:40<07:44, 32.28it/s]"
     ]
    },
    {
     "name": "stdout",
     "output_type": "stream",
     "text": [
      "5000 1.1800064705610276 783\n"
     ]
    },
    {
     "name": "stderr",
     "output_type": "stream",
     "text": [
      " 28%|██▊       | 5506/20000 [02:56<07:50, 30.83it/s]"
     ]
    },
    {
     "name": "stdout",
     "output_type": "stream",
     "text": [
      "5500 1.1676735567450522 40\n"
     ]
    },
    {
     "name": "stderr",
     "output_type": "stream",
     "text": [
      " 30%|███       | 6004/20000 [03:12<07:13, 32.26it/s]"
     ]
    },
    {
     "name": "stdout",
     "output_type": "stream",
     "text": [
      "6000 1.16099528414011 237\n"
     ]
    },
    {
     "name": "stderr",
     "output_type": "stream",
     "text": [
      " 33%|███▎      | 6505/20000 [03:28<07:15, 31.01it/s]"
     ]
    },
    {
     "name": "stdout",
     "output_type": "stream",
     "text": [
      "6500 1.1456386283785105 0\n"
     ]
    },
    {
     "name": "stderr",
     "output_type": "stream",
     "text": [
      " 35%|███▌      | 7005/20000 [03:44<06:43, 32.23it/s]"
     ]
    },
    {
     "name": "stdout",
     "output_type": "stream",
     "text": [
      "7000 1.1269530166685582 66\n"
     ]
    },
    {
     "name": "stderr",
     "output_type": "stream",
     "text": [
      " 38%|███▊      | 7505/20000 [04:00<06:41, 31.11it/s]"
     ]
    },
    {
     "name": "stdout",
     "output_type": "stream",
     "text": [
      "7500 1.1358912203907967 566\n"
     ]
    },
    {
     "name": "stderr",
     "output_type": "stream",
     "text": [
      " 40%|████      | 8005/20000 [04:15<06:18, 31.67it/s]"
     ]
    },
    {
     "name": "stdout",
     "output_type": "stream",
     "text": [
      "8000 1.114435644492507 51\n"
     ]
    },
    {
     "name": "stderr",
     "output_type": "stream",
     "text": [
      " 43%|████▎     | 8504/20000 [04:31<06:01, 31.76it/s]"
     ]
    },
    {
     "name": "stdout",
     "output_type": "stream",
     "text": [
      "8500 1.1172093024551868 551\n"
     ]
    },
    {
     "name": "stderr",
     "output_type": "stream",
     "text": [
      " 45%|████▌     | 9006/20000 [04:48<05:50, 31.41it/s]"
     ]
    },
    {
     "name": "stdout",
     "output_type": "stream",
     "text": [
      "9000 1.1050064563006163 0\n"
     ]
    },
    {
     "name": "stderr",
     "output_type": "stream",
     "text": [
      " 48%|████▊     | 9506/20000 [05:04<05:22, 32.55it/s]"
     ]
    },
    {
     "name": "stdout",
     "output_type": "stream",
     "text": [
      "9500 1.0830490877181291 165\n"
     ]
    },
    {
     "name": "stderr",
     "output_type": "stream",
     "text": [
      " 50%|█████     | 10006/20000 [05:19<05:20, 31.14it/s]"
     ]
    },
    {
     "name": "stdout",
     "output_type": "stream",
     "text": [
      "10000 1.1037763662338256 665\n"
     ]
    },
    {
     "name": "stderr",
     "output_type": "stream",
     "text": [
      " 53%|█████▎    | 10506/20000 [05:36<05:01, 31.52it/s]"
     ]
    },
    {
     "name": "stdout",
     "output_type": "stream",
     "text": [
      "10500 1.1016120964586735 1165\n"
     ]
    },
    {
     "name": "stderr",
     "output_type": "stream",
     "text": [
      " 55%|█████▌    | 11006/20000 [05:52<04:44, 31.64it/s]"
     ]
    },
    {
     "name": "stdout",
     "output_type": "stream",
     "text": [
      "11000 1.1138787551224232 1665\n"
     ]
    },
    {
     "name": "stderr",
     "output_type": "stream",
     "text": [
      " 57%|█████▋    | 11336/20000 [06:02<04:37, 31.25it/s]\n",
      "100%|██████████| 10000/10000 [01:14<00:00, 133.52it/s]\n"
     ]
    }
   ],
   "source": [
    "while True:\n",
    "    hpo()"
   ]
  }
 ],
 "metadata": {
  "kernelspec": {
   "display_name": "Python 3",
   "language": "python",
   "name": "python3"
  },
  "language_info": {
   "codemirror_mode": {
    "name": "ipython",
    "version": 3
   },
   "file_extension": ".py",
   "mimetype": "text/x-python",
   "name": "python",
   "nbconvert_exporter": "python",
   "pygments_lexer": "ipython3",
   "version": "3.12.6"
  }
 },
 "nbformat": 4,
 "nbformat_minor": 2
}
