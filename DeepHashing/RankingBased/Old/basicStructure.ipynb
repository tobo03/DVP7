{
 "cells": [
  {
   "cell_type": "code",
   "execution_count": 1,
   "metadata": {},
   "outputs": [],
   "source": [
    "from torchvision.datasets import CIFAR10\n",
    "import torchvision.transforms as transforms\n",
    "import torch\n",
    "\n",
    "transform = transforms.Compose([\n",
    "    transforms.Resize((224, 244)),\n",
    "    transforms.ToTensor(),\n",
    "    transforms.Normalize(mean=[0.485, 0.456, 0.406], std=[0.229, 0.224, 0.225]),\n",
    "    ])"
   ]
  },
  {
   "cell_type": "code",
   "execution_count": 2,
   "metadata": {},
   "outputs": [
    {
     "name": "stdout",
     "output_type": "stream",
     "text": [
      "Files already downloaded and verified\n"
     ]
    }
   ],
   "source": [
    "def getDataset(train=True, sample_size=10):\n",
    "    dataset = CIFAR10(root='./data',\n",
    "                  train=train, \n",
    "                  download=True,\n",
    "                  transform=transform)\n",
    "    \n",
    "    X = []\n",
    "    y = []\n",
    "\n",
    "    for i in range(sample_size):\n",
    "        X.append( dataset[i][0] )\n",
    "        y.append( dataset[i][1] )\n",
    "\n",
    "    X = torch.stack( X )\n",
    "\n",
    "    return X, y\n",
    "\n",
    "X_train, y_train = getDataset()"
   ]
  },
  {
   "cell_type": "code",
   "execution_count": 3,
   "metadata": {},
   "outputs": [
    {
     "name": "stderr",
     "output_type": "stream",
     "text": [
      "c:\\Users\\thors\\AppData\\Local\\Programs\\Python\\Python311\\Lib\\site-packages\\torchvision\\models\\_utils.py:208: UserWarning: The parameter 'pretrained' is deprecated since 0.13 and may be removed in the future, please use 'weights' instead.\n",
      "  warnings.warn(\n",
      "c:\\Users\\thors\\AppData\\Local\\Programs\\Python\\Python311\\Lib\\site-packages\\torchvision\\models\\_utils.py:223: UserWarning: Arguments other than a weight enum or `None` for 'weights' are deprecated since 0.13 and may be removed in the future. The current behavior is equivalent to passing `weights=VGG16_Weights.IMAGENET1K_V1`. You can also use `weights=VGG16_Weights.DEFAULT` to get the most up-to-date weights.\n",
      "  warnings.warn(msg)\n"
     ]
    }
   ],
   "source": [
    "from torchvision import models\n",
    "pretrained_model = models.vgg16(pretrained=True)\n",
    "pretrained_model.classifier = torch.nn.Identity()"
   ]
  },
  {
   "cell_type": "code",
   "execution_count": 4,
   "metadata": {},
   "outputs": [],
   "source": [
    "import torch.nn as nn\n",
    "\n",
    "test_model = nn.Sequential(  nn.Flatten(),\n",
    "                        nn.Linear(25088,256),\n",
    "                        nn.ReLU(),\n",
    "                        nn.Linear(256,32),\n",
    "                        nn.Sigmoid()\n",
    "                        )"
   ]
  },
  {
   "cell_type": "code",
   "execution_count": 5,
   "metadata": {},
   "outputs": [
    {
     "data": {
      "text/plain": [
       "tensor([[0.4790, 0.5301, 0.4144, 0.4998, 0.5071, 0.4807, 0.4380, 0.4529, 0.5564,\n",
       "         0.5591, 0.4816, 0.5277, 0.4824, 0.5679, 0.5103, 0.5013, 0.5218, 0.5179,\n",
       "         0.5264, 0.5098, 0.4718, 0.5187, 0.5016, 0.4644, 0.4639, 0.4676, 0.5347,\n",
       "         0.4977, 0.5129, 0.4891, 0.4524, 0.5527],\n",
       "        [0.5099, 0.4980, 0.4924, 0.5249, 0.5283, 0.5272, 0.4905, 0.4897, 0.5282,\n",
       "         0.5269, 0.5071, 0.5591, 0.4898, 0.5376, 0.5519, 0.4772, 0.5103, 0.4929,\n",
       "         0.5582, 0.4793, 0.5932, 0.5101, 0.5361, 0.5023, 0.4232, 0.5062, 0.5443,\n",
       "         0.4939, 0.4873, 0.4959, 0.4610, 0.5935],\n",
       "        [0.5093, 0.5439, 0.4657, 0.5397, 0.4616, 0.4907, 0.4720, 0.4765, 0.5139,\n",
       "         0.5268, 0.4875, 0.5052, 0.5289, 0.4513, 0.5256, 0.5038, 0.5332, 0.5217,\n",
       "         0.5567, 0.4951, 0.4899, 0.5290, 0.5194, 0.5202, 0.4847, 0.4845, 0.5325,\n",
       "         0.4664, 0.4901, 0.5251, 0.4685, 0.5238],\n",
       "        [0.4960, 0.5664, 0.4774, 0.5061, 0.4790, 0.5234, 0.4918, 0.5171, 0.4864,\n",
       "         0.5374, 0.5211, 0.5051, 0.4905, 0.4866, 0.5145, 0.5239, 0.5275, 0.5089,\n",
       "         0.5365, 0.5068, 0.4856, 0.5222, 0.5175, 0.4780, 0.4595, 0.4870, 0.5369,\n",
       "         0.4818, 0.4981, 0.5131, 0.5027, 0.4959],\n",
       "        [0.5303, 0.5454, 0.4752, 0.5775, 0.4981, 0.4729, 0.4663, 0.4663, 0.5532,\n",
       "         0.5109, 0.4857, 0.5988, 0.5963, 0.4876, 0.5617, 0.5251, 0.5348, 0.5118,\n",
       "         0.5183, 0.4959, 0.5126, 0.5995, 0.5100, 0.4953, 0.5003, 0.5096, 0.5701,\n",
       "         0.4269, 0.4759, 0.5008, 0.4852, 0.4808],\n",
       "        [0.4593, 0.6599, 0.4859, 0.5490, 0.4762, 0.4963, 0.4838, 0.4092, 0.5149,\n",
       "         0.4624, 0.5419, 0.5810, 0.4564, 0.5370, 0.5084, 0.5576, 0.5759, 0.5368,\n",
       "         0.5488, 0.5627, 0.5070, 0.4854, 0.5269, 0.4263, 0.4476, 0.4540, 0.5475,\n",
       "         0.4479, 0.4804, 0.4806, 0.4207, 0.5240],\n",
       "        [0.5297, 0.5520, 0.4799, 0.5401, 0.4863, 0.5341, 0.5227, 0.4938, 0.5199,\n",
       "         0.5255, 0.5211, 0.5026, 0.5358, 0.5096, 0.5695, 0.5233, 0.5352, 0.5647,\n",
       "         0.5026, 0.5163, 0.5041, 0.5198, 0.5570, 0.4723, 0.4648, 0.4762, 0.5400,\n",
       "         0.4864, 0.4714, 0.4749, 0.4377, 0.5161],\n",
       "        [0.5556, 0.5729, 0.5390, 0.5912, 0.4594, 0.5560, 0.4974, 0.4132, 0.4601,\n",
       "         0.5154, 0.5278, 0.5185, 0.4804, 0.4839, 0.4830, 0.5721, 0.5424, 0.4660,\n",
       "         0.5466, 0.4868, 0.4541, 0.5223, 0.6199, 0.4840, 0.5114, 0.5067, 0.5144,\n",
       "         0.4588, 0.4604, 0.5071, 0.5192, 0.4068],\n",
       "        [0.5299, 0.5420, 0.4452, 0.5151, 0.5098, 0.5063, 0.5052, 0.5257, 0.4759,\n",
       "         0.5251, 0.4762, 0.5465, 0.4861, 0.4458, 0.5544, 0.4468, 0.4851, 0.4706,\n",
       "         0.5123, 0.4886, 0.5332, 0.4855, 0.5081, 0.4840, 0.4401, 0.4616, 0.5303,\n",
       "         0.4428, 0.4917, 0.5700, 0.4659, 0.5300],\n",
       "        [0.4927, 0.5540, 0.4945, 0.5156, 0.4940, 0.4751, 0.4708, 0.4877, 0.5341,\n",
       "         0.5246, 0.5262, 0.5003, 0.4758, 0.5283, 0.5576, 0.4980, 0.5361, 0.5123,\n",
       "         0.5085, 0.4998, 0.4916, 0.4759, 0.5136, 0.4710, 0.4536, 0.4904, 0.5246,\n",
       "         0.4860, 0.4753, 0.4906, 0.4786, 0.5125]], grad_fn=<SigmoidBackward0>)"
      ]
     },
     "execution_count": 5,
     "metadata": {},
     "output_type": "execute_result"
    }
   ],
   "source": [
    "test_model(pretrained_model(X_train))"
   ]
  }
 ],
 "metadata": {
  "kernelspec": {
   "display_name": "Python 3",
   "language": "python",
   "name": "python3"
  },
  "language_info": {
   "codemirror_mode": {
    "name": "ipython",
    "version": 3
   },
   "file_extension": ".py",
   "mimetype": "text/x-python",
   "name": "python",
   "nbconvert_exporter": "python",
   "pygments_lexer": "ipython3",
   "version": "3.11.5"
  }
 },
 "nbformat": 4,
 "nbformat_minor": 2
}
