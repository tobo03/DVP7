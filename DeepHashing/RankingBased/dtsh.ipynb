{
 "cells": [
  {
   "cell_type": "code",
   "execution_count": 1,
   "metadata": {},
   "outputs": [],
   "source": [
    "import random\n",
    "import torch.nn as nn\n",
    "import numpy as np\n",
    "import torch\n",
    "import math\n",
    "\n",
    "root = '../../'\n",
    "bits = 16"
   ]
  },
  {
   "cell_type": "code",
   "execution_count": 2,
   "metadata": {},
   "outputs": [
    {
     "data": {
      "text/plain": [
       "[-1, -1, 1, -1, -1, -1, -1, -1, 1, 1, -1, 1, -1, -1, -1, 1]"
      ]
     },
     "execution_count": 2,
     "metadata": {},
     "output_type": "execute_result"
    }
   ],
   "source": [
    "def b():\n",
    "    return [random.sample( [1,-1] , 1 )[0] for i in range( bits )]\n",
    "\n",
    "b()"
   ]
  },
  {
   "cell_type": "code",
   "execution_count": null,
   "metadata": {},
   "outputs": [],
   "source": []
  },
  {
   "cell_type": "code",
   "execution_count": 3,
   "metadata": {},
   "outputs": [],
   "source": [
    "alpha = 3\n",
    "\n",
    "a = torch.stack( [torch.tensor(b()) for i in range(5)] )\n",
    "p = torch.stack( [torch.tensor(b()) for i in range(5)] )\n",
    "n = torch.stack( [torch.tensor(b()) for i in range(5)] )\n",
    "\n",
    "s = torch.nn.Sigmoid( )\n",
    "neg = torch.sum(a * p, (1)) * 0.5\n",
    "pos = torch.sum(a * n, (1)) * 0.5\n",
    "\n",
    "val = pos - neg - alpha\n",
    "\n",
    "seg1 = -torch.sum( -(val - torch.log(1 + math.e**val )) )"
   ]
  },
  {
   "cell_type": "code",
   "execution_count": 4,
   "metadata": {},
   "outputs": [
    {
     "data": {
      "text/plain": [
       "tensor([[ 1, -1,  1,  1, -1,  1, -1, -1,  1,  1, -1,  1, -1, -1,  1,  1],\n",
       "        [-1,  1, -1, -1,  1,  1,  1,  1, -1,  1,  1, -1, -1,  1, -1,  1],\n",
       "        [ 1,  1,  1, -1, -1,  1,  1, -1,  1, -1, -1,  1,  1,  1, -1, -1],\n",
       "        [ 1,  1,  1,  1,  1,  1,  1, -1, -1, -1, -1,  1,  1, -1,  1,  1],\n",
       "        [ 1,  1,  1, -1, -1, -1,  1, -1,  1,  1,  1, -1, -1,  1, -1, -1]])"
      ]
     },
     "execution_count": 4,
     "metadata": {},
     "output_type": "execute_result"
    }
   ],
   "source": [
    "torch.stack( [torch.tensor(b()) for i in range(5)] )"
   ]
  },
  {
   "cell_type": "code",
   "execution_count": 5,
   "metadata": {},
   "outputs": [],
   "source": [
    "model = nn.Sequential(  nn.Linear(4096,256),\n",
    "                        nn.ReLU(),\n",
    "                        nn.Linear(256, bits),\n",
    "                        )"
   ]
  },
  {
   "cell_type": "code",
   "execution_count": 6,
   "metadata": {},
   "outputs": [],
   "source": [
    "X_train = torch.tensor( np.load( root + \"Features/train_features_vgg16_cifar10.npy\" ) )\n",
    "y_train = np.load( root + \"Features/train_labels_vgg16_cifar10.npy\" )\n",
    "\n",
    "X_test = torch.tensor( np.load( root + \"Features/test_features_vgg16_cifar10.npy\" ) )\n",
    "y_test = np.load( root + \"Features/test_labels_vgg16_cifar10.npy\" )"
   ]
  },
  {
   "cell_type": "code",
   "execution_count": 7,
   "metadata": {},
   "outputs": [
    {
     "data": {
      "text/plain": [
       "tensor([[-1, -1, -1, -1,  1, -1, -1, -1, -1, -1, -1, -1,  1, -1, -1, -1],\n",
       "        [-1, -1,  1,  1, -1, -1, -1, -1, -1, -1,  1, -1, -1, -1,  1, -1],\n",
       "        [ 1,  1,  1, -1,  1, -1, -1, -1, -1, -1,  1, -1, -1,  1,  1, -1],\n",
       "        [ 1, -1,  1, -1,  1,  1,  1, -1, -1,  1,  1, -1, -1,  1,  1,  1],\n",
       "        [-1,  1, -1, -1, -1,  1, -1,  1, -1,  1, -1, -1,  1,  1, -1,  1]])"
      ]
     },
     "execution_count": 7,
     "metadata": {},
     "output_type": "execute_result"
    }
   ],
   "source": [
    "torch.stack( [torch.tensor(b()) for i in range(5)] )"
   ]
  },
  {
   "cell_type": "code",
   "execution_count": 8,
   "metadata": {},
   "outputs": [
    {
     "data": {
      "text/plain": [
       "45000"
      ]
     },
     "execution_count": 8,
     "metadata": {},
     "output_type": "execute_result"
    }
   ],
   "source": [
    "len(X_train)"
   ]
  },
  {
   "cell_type": "code",
   "execution_count": 9,
   "metadata": {},
   "outputs": [
    {
     "data": {
      "text/plain": [
       "tensor([[-1, -1, -1, -1, -1,  1, -1, -1, -1,  1, -1,  1,  1,  1,  1,  1],\n",
       "        [ 1,  1, -1,  1,  1,  1,  1,  1,  1,  1, -1, -1, -1, -1,  1, -1],\n",
       "        [-1,  1, -1,  1, -1, -1,  1, -1, -1,  1,  1, -1, -1, -1, -1, -1],\n",
       "        [-1,  1,  1, -1,  1, -1,  1, -1, -1, -1, -1, -1, -1, -1, -1, -1],\n",
       "        [-1,  1,  1, -1, -1, -1,  1,  1,  1,  1,  1, -1, -1,  1,  1, -1]])"
      ]
     },
     "execution_count": 9,
     "metadata": {},
     "output_type": "execute_result"
    }
   ],
   "source": [
    "torch.stack( [torch.tensor(b()) for i in range(5)] )"
   ]
  },
  {
   "cell_type": "code",
   "execution_count": 10,
   "metadata": {},
   "outputs": [],
   "source": [
    "#lambda_ = 4\n",
    "\n",
    "#u = model(X_train)\n",
    "#b = torch.sign( u )\n",
    "\n",
    "#seg2 = lambda_ * torch.sum( torch.sqrt( torch.sum( (b - u)**2, (1)) ) )\n",
    "\n",
    "#seg2"
   ]
  },
  {
   "cell_type": "markdown",
   "metadata": {},
   "source": [
    "------------"
   ]
  },
  {
   "cell_type": "code",
   "execution_count": 11,
   "metadata": {},
   "outputs": [
    {
     "data": {
      "text/plain": [
       "tensor([[ 1,  1, -1,  1,  1,  1, -1, -1, -1,  1,  1,  1, -1,  1,  1,  1],\n",
       "        [ 1, -1, -1, -1, -1, -1, -1,  1, -1,  1,  1,  1, -1, -1, -1, -1],\n",
       "        [ 1, -1,  1, -1,  1,  1,  1, -1, -1, -1, -1,  1,  1, -1, -1, -1],\n",
       "        [ 1,  1,  1,  1,  1,  1, -1,  1,  1,  1, -1,  1, -1,  1, -1,  1],\n",
       "        [ 1, -1, -1,  1,  1,  1,  1, -1,  1, -1, -1,  1, -1,  1,  1,  1]])"
      ]
     },
     "execution_count": 11,
     "metadata": {},
     "output_type": "execute_result"
    }
   ],
   "source": [
    "torch.stack( [torch.tensor(b()) for i in range(5)] )"
   ]
  },
  {
   "cell_type": "code",
   "execution_count": 13,
   "metadata": {},
   "outputs": [
    {
     "data": {
      "text/plain": [
       "tensor(547066.4375, grad_fn=<AddBackward0>)"
      ]
     },
     "execution_count": 13,
     "metadata": {},
     "output_type": "execute_result"
    }
   ],
   "source": [
    "def loss(a,p,n, u):\n",
    "\n",
    "    neg = torch.sum(a * p, (1)) * 0.5\n",
    "    pos = torch.sum(a * n, (1)) * 0.5\n",
    "\n",
    "    val = pos - neg - alpha\n",
    "\n",
    "    seg1 = -torch.sum( -(val - torch.log(1 + math.e**val )) )\n",
    "\n",
    "    lambda_ = 4\n",
    "\n",
    "    b = torch.sign( u )\n",
    "\n",
    "    seg2 = lambda_ * torch.sum( torch.sqrt( torch.sum( (b - u)**2, (1)) ) )\n",
    "\n",
    "    return seg1 + seg2\n",
    "\n",
    "\n",
    "a = torch.stack( [torch.tensor(b()) for i in range(5)] )\n",
    "p = torch.stack( [torch.tensor(b()) for i in range(5)] )\n",
    "n = torch.stack( [torch.tensor(b()) for i in range(5)] )\n",
    "\n",
    "u = model(X_train)\n",
    "\n",
    "loss(a, p, n, u)"
   ]
  },
  {
   "cell_type": "code",
   "execution_count": 58,
   "metadata": {},
   "outputs": [
    {
     "name": "stdout",
     "output_type": "stream",
     "text": [
      "tensor([29, 89, 15, 41, 75, 74, 88, 52, 58, 97, 39, 79, 49, 96, 57, 90,  9, 24,\n",
      "        53, 86])\n",
      "tensor([ 0,  3, 77, 72,  7,  2,  5, 30, 23, 44, 83, 40, 67, 78,  1,  6, 76, 42,\n",
      "        51, 31])\n",
      "tensor([33, 46, 47, 95, 21, 19, 14, 25, 18, 37, 60, 73, 17, 43, 27, 34, 55, 81,\n",
      "        93, 87])\n",
      "tensor([56, 11, 66, 94, 32, 85, 61, 64, 84, 71, 99, 45, 82, 38, 70, 16, 62, 10,\n",
      "        50, 92])\n",
      "tensor([12, 69, 20,  4, 22, 91, 68, 35, 28, 80, 65, 63, 54, 48, 98, 13, 36, 26,\n",
      "        59,  8])\n"
     ]
    }
   ],
   "source": [
    "from torch.utils.data import DataLoader\n",
    "\n",
    "dataloader = DataLoader(list(range(100)), batch_size=20, shuffle=True)\n",
    "\n",
    "for batch in dataloader:\n",
    "    print(batch)"
   ]
  },
  {
   "cell_type": "code",
   "execution_count": 78,
   "metadata": {},
   "outputs": [],
   "source": [
    "# == LOAD IN THE DATA ==\n",
    "X_train = torch.tensor( np.load( root + \"Features/train_features_vgg16_cifar10.npy\" ) )\n",
    "y_train = np.load( root + \"Features/train_labels_vgg16_cifar10.npy\" )\n",
    "\n",
    "# == MAKE DATA LOADER ==\n",
    "train_data = []\n",
    "for i in range(len(X_train)):\n",
    "   train_data.append([X_train[i], y_train[i]])\n",
    "dataloader = DataLoader(train_data, batch_size=100, shuffle=True)\n",
    "\n",
    "# == LOOP THROUGH THE BATCHES ==\n",
    "for batch in dataloader:\n",
    "    X_batch = batch[0]\n",
    "    y_batch = batch[1]\n",
    "\n",
    "    \n",
    "\n",
    "    break # ! REMOVE"
   ]
  },
  {
   "cell_type": "code",
   "execution_count": 79,
   "metadata": {},
   "outputs": [
    {
     "data": {
      "text/plain": [
       "tensor([5, 4, 3, 2, 6, 8, 7, 9, 6, 2, 2, 8, 1, 4, 6, 0, 0, 9, 7, 3, 9, 7, 4, 2,\n",
       "        9, 9, 3, 3, 5, 3, 3, 1, 5, 1, 0, 7, 6, 8, 4, 8, 2, 7, 0, 8, 6, 6, 4, 1,\n",
       "        3, 0, 1, 7, 9, 0, 3, 0, 6, 7, 2, 2, 5, 3, 2, 4, 7, 8, 5, 7, 5, 3, 8, 7,\n",
       "        0, 9, 5, 3, 7, 4, 3, 4, 6, 1, 0, 5, 0, 7, 8, 2, 8, 1, 9, 4, 5, 1, 9, 6,\n",
       "        1, 4, 5, 9])"
      ]
     },
     "execution_count": 79,
     "metadata": {},
     "output_type": "execute_result"
    }
   ],
   "source": [
    "y_batch"
   ]
  },
  {
   "cell_type": "code",
   "execution_count": 80,
   "metadata": {},
   "outputs": [
    {
     "data": {
      "text/plain": [
       "{tensor(0): {'n': [0,\n",
       "   1,\n",
       "   2,\n",
       "   3,\n",
       "   4,\n",
       "   5,\n",
       "   6,\n",
       "   7,\n",
       "   8,\n",
       "   9,\n",
       "   10,\n",
       "   11,\n",
       "   12,\n",
       "   13,\n",
       "   14,\n",
       "   17,\n",
       "   18,\n",
       "   19,\n",
       "   20,\n",
       "   21,\n",
       "   22,\n",
       "   23,\n",
       "   24,\n",
       "   25,\n",
       "   26,\n",
       "   27,\n",
       "   28,\n",
       "   29,\n",
       "   30,\n",
       "   31,\n",
       "   32,\n",
       "   33,\n",
       "   35,\n",
       "   36,\n",
       "   37,\n",
       "   38,\n",
       "   39,\n",
       "   40,\n",
       "   41,\n",
       "   43,\n",
       "   44,\n",
       "   45,\n",
       "   46,\n",
       "   47,\n",
       "   48,\n",
       "   50,\n",
       "   51,\n",
       "   52,\n",
       "   54,\n",
       "   56,\n",
       "   57,\n",
       "   58,\n",
       "   59,\n",
       "   60,\n",
       "   61,\n",
       "   62,\n",
       "   63,\n",
       "   64,\n",
       "   65,\n",
       "   66,\n",
       "   67,\n",
       "   68,\n",
       "   69,\n",
       "   70,\n",
       "   71,\n",
       "   73,\n",
       "   74,\n",
       "   75,\n",
       "   76,\n",
       "   77,\n",
       "   78,\n",
       "   79,\n",
       "   80,\n",
       "   81,\n",
       "   83,\n",
       "   85,\n",
       "   86,\n",
       "   87,\n",
       "   88,\n",
       "   89,\n",
       "   90,\n",
       "   91,\n",
       "   92,\n",
       "   93,\n",
       "   94,\n",
       "   95,\n",
       "   96,\n",
       "   97,\n",
       "   98,\n",
       "   99],\n",
       "  'p': [15, 16, 34, 42, 49, 53, 55, 72, 82, 84]}}"
      ]
     },
     "execution_count": 80,
     "metadata": {},
     "output_type": "execute_result"
    }
   ],
   "source": [
    "pn_dict = {}\n",
    "\n",
    "for label in y_batch.unique():\n",
    "    pn_dict[label] = {\"n\":[], \"p\":[]}\n",
    "    \n",
    "    \n",
    "    for i, val in enumerate(y_batch):\n",
    "        if (val == label):\n",
    "            pn_dict[label][\"p\"].append(i)\n",
    "        else:\n",
    "            pn_dict[label][\"n\"].append(i)\n",
    "    \n",
    "    break\n",
    "pn_dict"
   ]
  },
  {
   "cell_type": "code",
   "execution_count": 126,
   "metadata": {},
   "outputs": [
    {
     "data": {
      "text/plain": [
       "tensor(6444.4561)"
      ]
     },
     "execution_count": 126,
     "metadata": {},
     "output_type": "execute_result"
    }
   ],
   "source": [
    "N = torch.stack([ X_batch[i_n] for i_n in pn_dict[list(pn_dict)[0]][\"n\"] ])\n",
    "P = torch.stack([ X_batch[i_n] for i_n in pn_dict[list(pn_dict)[0]][\"p\"] ])\n",
    "\n",
    "torch.matmul(P, N.transpose(1, 0))[1][1]"
   ]
  },
  {
   "cell_type": "code",
   "execution_count": 123,
   "metadata": {},
   "outputs": [
    {
     "name": "stdout",
     "output_type": "stream",
     "text": [
      "torch.Size([90, 4096])\n",
      "torch.Size([10, 4096])\n"
     ]
    }
   ],
   "source": [
    "print(N.shape)\n",
    "print(P.shape)"
   ]
  },
  {
   "cell_type": "code",
   "execution_count": 116,
   "metadata": {},
   "outputs": [
    {
     "data": {
      "text/plain": [
       "torch.Size([4096, 10])"
      ]
     },
     "execution_count": 116,
     "metadata": {},
     "output_type": "execute_result"
    }
   ],
   "source": [
    "P.transpose(1, 0).shape"
   ]
  },
  {
   "cell_type": "code",
   "execution_count": 70,
   "metadata": {},
   "outputs": [
    {
     "name": "stdout",
     "output_type": "stream",
     "text": [
      "0 A\n",
      "1 B\n",
      "2 C\n"
     ]
    }
   ],
   "source": [
    "temp_L = [\"A\", \"B\", \"C\"]\n",
    "\n",
    "for i, element in enumerate(temp_L):\n",
    "    print(i, element)"
   ]
  },
  {
   "cell_type": "code",
   "execution_count": null,
   "metadata": {},
   "outputs": [
    {
     "data": {
      "text/plain": [
       "tensor([ 0.6582,  0.4635, -1.4231,  ..., -1.6680, -0.5448, -1.8827])"
      ]
     },
     "execution_count": 99,
     "metadata": {},
     "output_type": "execute_result"
    }
   ],
   "source": [
    "torch.stack([ X_batch[i_n] for i_n in pn_dict[list(pn_dict)[0]][\"n\"] ])"
   ]
  }
 ],
 "metadata": {
  "kernelspec": {
   "display_name": "Python 3",
   "language": "python",
   "name": "python3"
  },
  "language_info": {
   "codemirror_mode": {
    "name": "ipython",
    "version": 3
   },
   "file_extension": ".py",
   "mimetype": "text/x-python",
   "name": "python",
   "nbconvert_exporter": "python",
   "pygments_lexer": "ipython3",
   "version": "3.11.5"
  }
 },
 "nbformat": 4,
 "nbformat_minor": 2
}
