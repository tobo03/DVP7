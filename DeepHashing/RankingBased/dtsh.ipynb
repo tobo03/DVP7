{
 "cells": [
  {
   "cell_type": "code",
   "execution_count": 1,
   "metadata": {},
   "outputs": [],
   "source": [
    "import random\n",
    "import torch.nn as nn\n",
    "import numpy as np\n",
    "\n",
    "root = '../../'\n",
    "bits = 16"
   ]
  },
  {
   "cell_type": "code",
   "execution_count": 2,
   "metadata": {},
   "outputs": [
    {
     "data": {
      "text/plain": [
       "[-1, 1, 1, 1, -1, -1, 1, -1, -1, 1, -1, 1, -1, -1, -1, 1]"
      ]
     },
     "execution_count": 2,
     "metadata": {},
     "output_type": "execute_result"
    }
   ],
   "source": [
    "def b():\n",
    "    return [random.sample( [1,-1] , 1 )[0] for i in range( bits )]\n",
    "\n",
    "b()"
   ]
  },
  {
   "cell_type": "code",
   "execution_count": 3,
   "metadata": {},
   "outputs": [],
   "source": [
    "import torch\n",
    "import math"
   ]
  },
  {
   "cell_type": "code",
   "execution_count": 4,
   "metadata": {},
   "outputs": [],
   "source": [
    "alpha = 3\n",
    "\n",
    "a = torch.stack( [torch.tensor(b()) for i in range(5)] )\n",
    "p = torch.stack( [torch.tensor(b()) for i in range(5)] )\n",
    "n = torch.stack( [torch.tensor(b()) for i in range(5)] )\n",
    "\n",
    "s = torch.nn.Sigmoid( )\n",
    "neg = torch.sum(a * p, (1)) * 0.5\n",
    "pos = torch.sum(a * n, (1)) * 0.5\n",
    "\n",
    "val = pos - neg - alpha\n",
    "\n",
    "seg1 = torch.sum( -(val - torch.log(1 + math.e**val )) )"
   ]
  },
  {
   "cell_type": "code",
   "execution_count": 5,
   "metadata": {},
   "outputs": [
    {
     "data": {
      "text/plain": [
       "tensor(13.6034)"
      ]
     },
     "execution_count": 5,
     "metadata": {},
     "output_type": "execute_result"
    }
   ],
   "source": [
    "seg1"
   ]
  },
  {
   "cell_type": "code",
   "execution_count": null,
   "metadata": {},
   "outputs": [],
   "source": []
  },
  {
   "cell_type": "code",
   "execution_count": 7,
   "metadata": {},
   "outputs": [],
   "source": [
    "model = nn.Sequential(  nn.Linear(4096,256),\n",
    "                        nn.ReLU(),\n",
    "                        nn.Linear(256, bits),\n",
    "                        )"
   ]
  },
  {
   "cell_type": "code",
   "execution_count": 8,
   "metadata": {},
   "outputs": [],
   "source": [
    "X_train = torch.tensor( np.load( root + \"Features/train_features_vgg16_cifar10.npy\" ) )\n",
    "y_train = np.load( root + \"Features/train_labels_vgg16_cifar10.npy\" )\n",
    "\n",
    "X_test = torch.tensor( np.load( root + \"Features/test_features_vgg16_cifar10.npy\" ) )\n",
    "y_test = np.load( root + \"Features/test_labels_vgg16_cifar10.npy\" )"
   ]
  },
  {
   "cell_type": "code",
   "execution_count": 17,
   "metadata": {},
   "outputs": [
    {
     "data": {
      "text/plain": [
       "45000"
      ]
     },
     "execution_count": 17,
     "metadata": {},
     "output_type": "execute_result"
    }
   ],
   "source": [
    "len(X_train)"
   ]
  },
  {
   "cell_type": "code",
   "execution_count": 21,
   "metadata": {},
   "outputs": [
    {
     "data": {
      "text/plain": [
       "tensor(544276.5000, grad_fn=<MulBackward0>)"
      ]
     },
     "execution_count": 21,
     "metadata": {},
     "output_type": "execute_result"
    }
   ],
   "source": [
    "lambda_ = 4\n",
    "\n",
    "u = model(X_train)\n",
    "b = torch.sign( u )\n",
    "\n",
    "seg2 = lambda_ * torch.sum( torch.sqrt( torch.sum( (b - u)**2, (1)) ) )\n",
    "\n",
    "seg2"
   ]
  }
 ],
 "metadata": {
  "kernelspec": {
   "display_name": "Python 3",
   "language": "python",
   "name": "python3"
  },
  "language_info": {
   "codemirror_mode": {
    "name": "ipython",
    "version": 3
   },
   "file_extension": ".py",
   "mimetype": "text/x-python",
   "name": "python",
   "nbconvert_exporter": "python",
   "pygments_lexer": "ipython3",
   "version": "3.11.5"
  }
 },
 "nbformat": 4,
 "nbformat_minor": 2
}
