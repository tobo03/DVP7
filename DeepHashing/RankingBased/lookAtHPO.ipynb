{
 "cells": [
  {
   "cell_type": "code",
   "execution_count": null,
   "metadata": {},
   "outputs": [],
   "source": [
    "import pandas as pd\n",
    "import os\n",
    "import json\n"
   ]
  },
  {
   "cell_type": "code",
   "execution_count": null,
   "metadata": {},
   "outputs": [],
   "source": [
    "\n",
    "\n",
    "# Opening JSON file\n"
   ]
  },
  {
   "cell_type": "code",
   "execution_count": 12,
   "metadata": {},
   "outputs": [],
   "source": [
    "root = '../../'\n",
    "rel_path = r\"Results/HPO/TripletLoss\"\n",
    "\n",
    "data_list = []\n",
    "\n",
    "for folder in os.listdir(root+rel_path):\n",
    "    folderPath = root+rel_path+\"/\"+folder\n",
    "    \n",
    "\n",
    "    \n",
    "    for file in os.listdir(folderPath):\n",
    "        filePath = f\"{folderPath}/{file}\"\n",
    "        with open( filePath ) as json_file:\n",
    "            data = json.load(json_file)\n",
    "            data[\"filePath\"] = filePath\n",
    "\n",
    "            data_list.append( data )\n",
    "\n"
   ]
  },
  {
   "cell_type": "code",
   "execution_count": null,
   "metadata": {},
   "outputs": [],
   "source": [
    "data_list"
   ]
  }
 ],
 "metadata": {
  "kernelspec": {
   "display_name": "Python 3",
   "language": "python",
   "name": "python3"
  },
  "language_info": {
   "codemirror_mode": {
    "name": "ipython",
    "version": 3
   },
   "file_extension": ".py",
   "mimetype": "text/x-python",
   "name": "python",
   "nbconvert_exporter": "python",
   "pygments_lexer": "ipython3",
   "version": "3.11.5"
  }
 },
 "nbformat": 4,
 "nbformat_minor": 2
}
