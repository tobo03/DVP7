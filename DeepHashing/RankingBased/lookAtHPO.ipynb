{
 "cells": [
  {
   "cell_type": "code",
   "execution_count": 1,
   "metadata": {},
   "outputs": [],
   "source": [
    "import pandas as pd\n",
    "import os\n",
    "import json\n"
   ]
  },
  {
   "cell_type": "code",
   "execution_count": 2,
   "metadata": {},
   "outputs": [],
   "source": [
    "def read_folder(folder_path):\n",
    "    \"\"\"\n",
    "    Opens all folder inside \"folder_path\" and reads the contents of thoose folders.\n",
    "    \"\"\"\n",
    "\n",
    "    data_list = []\n",
    "\n",
    "    for folder in os.listdir(folder_path):\n",
    "        folderPath = folder_path+\"/\"+folder\n",
    "        \n",
    "        for file in os.listdir(folderPath):\n",
    "            filePath = f\"{folderPath}/{file}\"\n",
    "            with open( filePath ) as json_file:\n",
    "                data = json.load(json_file)\n",
    "                data[\"filePath\"] = filePath\n",
    "\n",
    "                data_list.append( data )\n",
    "    \n",
    "    return data_list\n"
   ]
  },
  {
   "cell_type": "code",
   "execution_count": 3,
   "metadata": {},
   "outputs": [],
   "source": [
    "def dict_to_df(_dict:dict) -> pd.DataFrame:\n",
    "    \"\"\"Converts a dictionary to a Dataframe\"\"\"\n",
    "    return pd.DataFrame( dict( zip(list( _dict ), [ [_dict[key]] for key in _dict]) ) )\n",
    "\n",
    "def split_col_D(df, col,  prefix=None, splitter=\"_\", drop_OG_col=True):\n",
    "    \"\"\"\n",
    "    Splits a dataframe column only contain Dict, into a new one, where each key, in the dict is it's own column.\n",
    "\n",
    "    Parameters\n",
    "    ----------\n",
    "    df: pd.DataFrame\n",
    "        The DataFrame that contains \"col\"\n",
    "    col: str\n",
    "        The name of the columns, that is going to be split\n",
    "    prefix: str or None, default None\n",
    "        The prefix for naming the new columns, if None use \"col\" as prefix\n",
    "    splitter: str, default \"_\"\n",
    "        The string between prefix and the dict-key when making names for the new columns.\n",
    "    drop_OG_col: bool. default True\n",
    "        Wheter or not to drop the original columnm, when returning the df\n",
    "    \n",
    "    Returns\n",
    "    -------\n",
    "    pd.DataFrame now with a column split into mutiple columns\n",
    "\n",
    "    Notes\n",
    "    -----\n",
    "    The result may contain NaN-values, in cases where not all the dict's contain the same keys.\n",
    "    \"\"\"\n",
    "\n",
    "    if prefix == None: prefix = col    \n",
    "\n",
    "    new_df = pd.concat( [dict_to_df(d) for d in df[col]] )\n",
    "\n",
    "    rename_dict = dict(zip( [ col for col in new_df.columns] , [ prefix+splitter+col for col in new_df.columns] ))\n",
    "\n",
    "    new_df = new_df.rename(columns=rename_dict)\n",
    "    new_df.index = df.index\n",
    "\n",
    "    target_col_I =  list(df.columns).index(col)\n",
    "    new_cols = list(df.columns)[:target_col_I] + list(new_df.columns) + list(df.columns)[target_col_I+drop_OG_col:]\n",
    "    new_cols\n",
    "\n",
    "    return pd.concat([df, new_df], axis=1)[new_cols]"
   ]
  },
  {
   "cell_type": "code",
   "execution_count": 11,
   "metadata": {},
   "outputs": [
    {
     "data": {
      "text/plain": [
       "9.256377903716343"
      ]
     },
     "execution_count": 11,
     "metadata": {},
     "output_type": "execute_result"
    }
   ],
   "source": [
    "root = \"../../\"\n",
    "cifar_df = pd.concat( [dict_to_df(i) for i in read_folder(root+r\"Results\\HPO\\TripletAgain\\Cifar\")] )\n",
    "cifar_df = split_col_D(cifar_df, \"task\")\n",
    "cifar_df = split_col_D(cifar_df, \"result\")\n",
    "\n",
    "best = []\n",
    "\n",
    "for bit in cifar_df[\"task_bits\"].unique():\n",
    "    bit_df = cifar_df[cifar_df[\"task_bits\"] == bit]\n",
    "    \n",
    "    best.append( bit_df[bit_df[\"result_map\"] == max(bit_df[\"result_map\"])] )\n",
    "\n",
    "pd.concat(best)\n",
    "(cifar_df.apply(lambda x: x[\"time\"] / len(x[\"result_loss\"]) , axis=1)).mean()"
   ]
  },
  {
   "cell_type": "code",
   "execution_count": 12,
   "metadata": {},
   "outputs": [
    {
     "data": {
      "text/plain": [
       "47.74878791064333"
      ]
     },
     "execution_count": 12,
     "metadata": {},
     "output_type": "execute_result"
    }
   ],
   "source": [
    "cifar_df = pd.concat( [dict_to_df(i) for i in read_folder(root+r\"Results\\HPO\\TripletAgain\\ImgNet\")] )\n",
    "cifar_df = split_col_D(cifar_df, \"task\")\n",
    "cifar_df = split_col_D(cifar_df, \"result\")\n",
    "\n",
    "best = []\n",
    "\n",
    "for bit in cifar_df[\"task_bits\"].unique():\n",
    "    bit_df = cifar_df[cifar_df[\"task_bits\"] == bit]\n",
    "    \n",
    "    best.append( bit_df[bit_df[\"result_map\"] == max(bit_df[\"result_map\"])] )\n",
    "\n",
    "pd.concat(best)\n",
    "(cifar_df.apply(lambda x: x[\"time\"] / len(x[\"result_loss\"]) , axis=1)).mean()"
   ]
  },
  {
   "cell_type": "code",
   "execution_count": 13,
   "metadata": {},
   "outputs": [
    {
     "data": {
      "text/plain": [
       "20.253066688576634"
      ]
     },
     "execution_count": 13,
     "metadata": {},
     "output_type": "execute_result"
    }
   ],
   "source": [
    "cifar_df = pd.concat( [dict_to_df(i) for i in read_folder(root+r\"Results\\HPO\\TripletAgain\\Nus\")] )\n",
    "cifar_df = split_col_D(cifar_df, \"task\")\n",
    "cifar_df = split_col_D(cifar_df, \"result\")\n",
    "\n",
    "best = []\n",
    "\n",
    "for bit in cifar_df[\"task_bits\"].unique():\n",
    "    bit_df = cifar_df[cifar_df[\"task_bits\"] == bit]\n",
    "    \n",
    "    best.append( bit_df[bit_df[\"result_map\"] == max(bit_df[\"result_map\"])] )\n",
    "\n",
    "pd.concat(best)\n",
    "(cifar_df.apply(lambda x: x[\"time\"] / len(x[\"result_loss\"]) , axis=1)).mean()"
   ]
  },
  {
   "cell_type": "code",
   "execution_count": 14,
   "metadata": {},
   "outputs": [
    {
     "data": {
      "text/plain": [
       "2.115133437626592"
      ]
     },
     "execution_count": 14,
     "metadata": {},
     "output_type": "execute_result"
    }
   ],
   "source": [
    "cifar_df = pd.concat( [dict_to_df(i) for i in read_folder(root+r\"Results\\HPO\\DTSH2\\Nus\")] )\n",
    "cifar_df = split_col_D(cifar_df, \"task\")\n",
    "cifar_df = split_col_D(cifar_df, \"result\")\n",
    "\n",
    "best = []\n",
    "\n",
    "for bit in cifar_df[\"task_bits\"].unique():\n",
    "    bit_df = cifar_df[cifar_df[\"task_bits\"] == bit]\n",
    "    \n",
    "    best.append( bit_df[bit_df[\"result_map\"] == max(bit_df[\"result_map\"])] )\n",
    "\n",
    "pd.concat(best)\n",
    "(cifar_df.apply(lambda x: x[\"time\"] / len(x[\"result_loss\"]) , axis=1)).mean()"
   ]
  },
  {
   "cell_type": "code",
   "execution_count": 15,
   "metadata": {},
   "outputs": [
    {
     "data": {
      "text/plain": [
       "40.963386398632835"
      ]
     },
     "execution_count": 15,
     "metadata": {},
     "output_type": "execute_result"
    }
   ],
   "source": [
    "cifar_df = pd.concat( [dict_to_df(i) for i in read_folder(root+r\"Results\\HPO\\DTSH2\\ImgNet\")] )\n",
    "cifar_df = split_col_D(cifar_df, \"task\")\n",
    "cifar_df = split_col_D(cifar_df, \"result\")\n",
    "\n",
    "best = []\n",
    "\n",
    "for bit in cifar_df[\"task_bits\"].unique():\n",
    "    bit_df = cifar_df[cifar_df[\"task_bits\"] == bit]\n",
    "    \n",
    "    best.append( bit_df[bit_df[\"result_map\"] == max(bit_df[\"result_map\"])] )\n",
    "\n",
    "pd.concat(best)\n",
    "(cifar_df.apply(lambda x: x[\"time\"] / len(x[\"result_loss\"]) , axis=1)).mean()"
   ]
  },
  {
   "cell_type": "code",
   "execution_count": 10,
   "metadata": {},
   "outputs": [
    {
     "data": {
      "text/plain": [
       "2.0375278177536487"
      ]
     },
     "execution_count": 10,
     "metadata": {},
     "output_type": "execute_result"
    }
   ],
   "source": [
    "cifar_df = pd.concat( [dict_to_df(i) for i in read_folder(root+r\"Results\\HPO\\DTSH2\\Cifar\")] )\n",
    "cifar_df = split_col_D(cifar_df, \"task\")\n",
    "cifar_df = split_col_D(cifar_df, \"result\")\n",
    "\n",
    "best = []\n",
    "\n",
    "for bit in cifar_df[\"task_bits\"].unique():\n",
    "    bit_df = cifar_df[cifar_df[\"task_bits\"] == bit]\n",
    "    \n",
    "    best.append( bit_df[bit_df[\"result_map\"] == max(bit_df[\"result_map\"])] )\n",
    "\n",
    "pd.concat(best)\n",
    "\n",
    "(cifar_df.apply(lambda x: x[\"time\"] / len(x[\"result_loss\"]) , axis=1)).mean()"
   ]
  }
 ],
 "metadata": {
  "kernelspec": {
   "display_name": "Python 3",
   "language": "python",
   "name": "python3"
  },
  "language_info": {
   "codemirror_mode": {
    "name": "ipython",
    "version": 3
   },
   "file_extension": ".py",
   "mimetype": "text/x-python",
   "name": "python",
   "nbconvert_exporter": "python",
   "pygments_lexer": "ipython3",
   "version": "3.11.5"
  }
 },
 "nbformat": 4,
 "nbformat_minor": 2
}
