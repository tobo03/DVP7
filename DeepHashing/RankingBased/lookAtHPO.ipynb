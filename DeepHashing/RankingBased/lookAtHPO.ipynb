{
 "cells": [
  {
   "cell_type": "code",
   "execution_count": 2,
   "metadata": {},
   "outputs": [],
   "source": [
    "import pandas as pd\n",
    "import os\n",
    "import json\n"
   ]
  },
  {
   "cell_type": "code",
   "execution_count": 3,
   "metadata": {},
   "outputs": [],
   "source": [
    "root = '../../'\n",
    "rel_path = r\"Results/HPO/DTSH\"\n",
    "\n",
    "data_list = []\n",
    "\n",
    "for folder in os.listdir(root+rel_path):\n",
    "    folderPath = root+rel_path+\"/\"+folder\n",
    "    \n",
    "\n",
    "    \n",
    "    for file in os.listdir(folderPath):\n",
    "        filePath = f\"{folderPath}/{file}\"\n",
    "        with open( filePath ) as json_file:\n",
    "            data = json.load(json_file)\n",
    "            data[\"filePath\"] = filePath\n",
    "\n",
    "            data_list.append( data )\n",
    "\n"
   ]
  },
  {
   "cell_type": "code",
   "execution_count": 12,
   "metadata": {},
   "outputs": [],
   "source": [
    "def dict_to_df(_dict:dict) -> pd.DataFrame:\n",
    "    \"\"\"Converts a dictionary to a Dataframe\"\"\"\n",
    "    return pd.DataFrame( dict( zip(list( _dict ), [ [_dict[key]] for key in _dict]) ) )\n",
    "\n",
    "def split_col_D(df, col,  prefix=None, splitter=\"_\", drop_OG_col=True):\n",
    "    \"\"\"\n",
    "    Splits a dataframe column only contain Dict, into a new one, where each key, in the dict is it's own column.\n",
    "\n",
    "    Parameters\n",
    "    ----------\n",
    "    df: pd.DataFrame\n",
    "        The DataFrame that contains \"col\"\n",
    "    col: str\n",
    "        The name of the columns, that is going to be split\n",
    "    prefix: str or None, default None\n",
    "        The prefix for naming the new columns, if None use \"col\" as prefix\n",
    "    splitter: str, default \"_\"\n",
    "        The string between prefix and the dict-key when making names for the new columns.\n",
    "    drop_OG_col: bool. default True\n",
    "        Wheter or not to drop the original columnm, when returning the df\n",
    "    \n",
    "    Returns\n",
    "    -------\n",
    "    pd.DataFrame now with a column split into mutiple columns\n",
    "\n",
    "    Notes\n",
    "    -----\n",
    "    The result may contain NaN-values, in cases where not all the dict's contain the same keys.\n",
    "    \"\"\"\n",
    "\n",
    "    if prefix == None: prefix = col    \n",
    "\n",
    "    new_df = pd.concat( [dict_to_df(d) for d in df[col]] )\n",
    "\n",
    "    rename_dict = dict(zip( [ col for col in new_df.columns] , [ prefix+splitter+col for col in new_df.columns] ))\n",
    "\n",
    "    new_df = new_df.rename(columns=rename_dict)\n",
    "    new_df.index = df.index\n",
    "\n",
    "    target_col_I =  list(df.columns).index(col)\n",
    "    new_cols = list(df.columns)[:target_col_I] + list(new_df.columns) + list(df.columns)[target_col_I+drop_OG_col:]\n",
    "    new_cols\n",
    "\n",
    "    return pd.concat([df, new_df], axis=1)[new_cols]"
   ]
  },
  {
   "cell_type": "code",
   "execution_count": 10,
   "metadata": {},
   "outputs": [
    {
     "data": {
      "text/html": [
       "<div>\n",
       "<style scoped>\n",
       "    .dataframe tbody tr th:only-of-type {\n",
       "        vertical-align: middle;\n",
       "    }\n",
       "\n",
       "    .dataframe tbody tr th {\n",
       "        vertical-align: top;\n",
       "    }\n",
       "\n",
       "    .dataframe thead th {\n",
       "        text-align: right;\n",
       "    }\n",
       "</style>\n",
       "<table border=\"1\" class=\"dataframe\">\n",
       "  <thead>\n",
       "    <tr style=\"text-align: right;\">\n",
       "      <th></th>\n",
       "      <th>hp</th>\n",
       "      <th>loss</th>\n",
       "      <th>map</th>\n",
       "      <th>filePath</th>\n",
       "    </tr>\n",
       "  </thead>\n",
       "  <tbody>\n",
       "    <tr>\n",
       "      <th>0</th>\n",
       "      <td>{'lambda': 0.5, 'alpha': 0.5, 'lr': 0.0001, 'w...</td>\n",
       "      <td>[1.143498134613037, 0.44609699308872225, 0.403...</td>\n",
       "      <td>0.807447</td>\n",
       "      <td>../../Results/HPO/DTSH/THOR-DESKTOP/2024-11-28...</td>\n",
       "    </tr>\n",
       "    <tr>\n",
       "      <th>0</th>\n",
       "      <td>{'lambda': 1, 'alpha': 0.5, 'lr': 0.0001, 'wd'...</td>\n",
       "      <td>[1.274519840478897, 0.5339284878969193, 0.4936...</td>\n",
       "      <td>0.806891</td>\n",
       "      <td>../../Results/HPO/DTSH/THOR-DESKTOP/2024-11-28...</td>\n",
       "    </tr>\n",
       "    <tr>\n",
       "      <th>0</th>\n",
       "      <td>{'lambda': 2, 'alpha': 0.5, 'lr': 0.0001, 'wd'...</td>\n",
       "      <td>[1.8669460022449493, 0.667700514793396, 0.6105...</td>\n",
       "      <td>0.588409</td>\n",
       "      <td>../../Results/HPO/DTSH/THOR-DESKTOP/2024-11-28...</td>\n",
       "    </tr>\n",
       "    <tr>\n",
       "      <th>0</th>\n",
       "      <td>{'lambda': 4, 'alpha': 0.5, 'lr': 0.0001, 'wd'...</td>\n",
       "      <td>[2.8783577358722687, 0.9207836842536926, 0.848...</td>\n",
       "      <td>0.437195</td>\n",
       "      <td>../../Results/HPO/DTSH/THOR-DESKTOP/2024-11-28...</td>\n",
       "    </tr>\n",
       "    <tr>\n",
       "      <th>0</th>\n",
       "      <td>{'lambda': 0.5, 'alpha': 1, 'lr': 0.0001, 'wd'...</td>\n",
       "      <td>[1.086733022928238, 0.5419295042753219, 0.4926...</td>\n",
       "      <td>0.828234</td>\n",
       "      <td>../../Results/HPO/DTSH/THOR-DESKTOP/2024-11-28...</td>\n",
       "    </tr>\n",
       "    <tr>\n",
       "      <th>...</th>\n",
       "      <td>...</td>\n",
       "      <td>...</td>\n",
       "      <td>...</td>\n",
       "      <td>...</td>\n",
       "    </tr>\n",
       "    <tr>\n",
       "      <th>0</th>\n",
       "      <td>{'lambda': 0.5, 'alpha': 4, 'lr': 0.0001, 'wd'...</td>\n",
       "      <td>[2.198623309135437, 1.2492003679275512, 1.1368...</td>\n",
       "      <td>0.828689</td>\n",
       "      <td>../../Results/HPO/DTSH/THOR-DESKTOP/2024-11-29...</td>\n",
       "    </tr>\n",
       "    <tr>\n",
       "      <th>0</th>\n",
       "      <td>{'lambda': 1, 'alpha': 4, 'lr': 0.0001, 'wd': ...</td>\n",
       "      <td>[2.4549607610702515, 1.3640967774391175, 1.258...</td>\n",
       "      <td>0.829186</td>\n",
       "      <td>../../Results/HPO/DTSH/THOR-DESKTOP/2024-11-29...</td>\n",
       "    </tr>\n",
       "    <tr>\n",
       "      <th>0</th>\n",
       "      <td>{'lambda': 2, 'alpha': 4, 'lr': 0.0001, 'wd': ...</td>\n",
       "      <td>[3.3384109783172606, 1.660709490776062, 1.5353...</td>\n",
       "      <td>0.826514</td>\n",
       "      <td>../../Results/HPO/DTSH/THOR-DESKTOP/2024-11-29...</td>\n",
       "    </tr>\n",
       "    <tr>\n",
       "      <th>0</th>\n",
       "      <td>{'lambda': 4, 'alpha': 4, 'lr': 0.0001, 'wd': ...</td>\n",
       "      <td>[4.563894736766815, 2.005747740268707, 1.85221...</td>\n",
       "      <td>0.598242</td>\n",
       "      <td>../../Results/HPO/DTSH/THOR-DESKTOP/2024-11-29...</td>\n",
       "    </tr>\n",
       "    <tr>\n",
       "      <th>0</th>\n",
       "      <td>{'lambda': 0.5, 'alpha': 0.5, 'lr': 1e-05, 'wd...</td>\n",
       "      <td>[0.6161236101388932, 0.4841586774587631, 0.447...</td>\n",
       "      <td>0.811454</td>\n",
       "      <td>../../Results/HPO/DTSH/THOR-DESKTOP/2024-11-29...</td>\n",
       "    </tr>\n",
       "  </tbody>\n",
       "</table>\n",
       "<p>113 rows × 4 columns</p>\n",
       "</div>"
      ],
      "text/plain": [
       "                                                   hp  \\\n",
       "0   {'lambda': 0.5, 'alpha': 0.5, 'lr': 0.0001, 'w...   \n",
       "0   {'lambda': 1, 'alpha': 0.5, 'lr': 0.0001, 'wd'...   \n",
       "0   {'lambda': 2, 'alpha': 0.5, 'lr': 0.0001, 'wd'...   \n",
       "0   {'lambda': 4, 'alpha': 0.5, 'lr': 0.0001, 'wd'...   \n",
       "0   {'lambda': 0.5, 'alpha': 1, 'lr': 0.0001, 'wd'...   \n",
       "..                                                ...   \n",
       "0   {'lambda': 0.5, 'alpha': 4, 'lr': 0.0001, 'wd'...   \n",
       "0   {'lambda': 1, 'alpha': 4, 'lr': 0.0001, 'wd': ...   \n",
       "0   {'lambda': 2, 'alpha': 4, 'lr': 0.0001, 'wd': ...   \n",
       "0   {'lambda': 4, 'alpha': 4, 'lr': 0.0001, 'wd': ...   \n",
       "0   {'lambda': 0.5, 'alpha': 0.5, 'lr': 1e-05, 'wd...   \n",
       "\n",
       "                                                 loss       map  \\\n",
       "0   [1.143498134613037, 0.44609699308872225, 0.403...  0.807447   \n",
       "0   [1.274519840478897, 0.5339284878969193, 0.4936...  0.806891   \n",
       "0   [1.8669460022449493, 0.667700514793396, 0.6105...  0.588409   \n",
       "0   [2.8783577358722687, 0.9207836842536926, 0.848...  0.437195   \n",
       "0   [1.086733022928238, 0.5419295042753219, 0.4926...  0.828234   \n",
       "..                                                ...       ...   \n",
       "0   [2.198623309135437, 1.2492003679275512, 1.1368...  0.828689   \n",
       "0   [2.4549607610702515, 1.3640967774391175, 1.258...  0.829186   \n",
       "0   [3.3384109783172606, 1.660709490776062, 1.5353...  0.826514   \n",
       "0   [4.563894736766815, 2.005747740268707, 1.85221...  0.598242   \n",
       "0   [0.6161236101388932, 0.4841586774587631, 0.447...  0.811454   \n",
       "\n",
       "                                             filePath  \n",
       "0   ../../Results/HPO/DTSH/THOR-DESKTOP/2024-11-28...  \n",
       "0   ../../Results/HPO/DTSH/THOR-DESKTOP/2024-11-28...  \n",
       "0   ../../Results/HPO/DTSH/THOR-DESKTOP/2024-11-28...  \n",
       "0   ../../Results/HPO/DTSH/THOR-DESKTOP/2024-11-28...  \n",
       "0   ../../Results/HPO/DTSH/THOR-DESKTOP/2024-11-28...  \n",
       "..                                                ...  \n",
       "0   ../../Results/HPO/DTSH/THOR-DESKTOP/2024-11-29...  \n",
       "0   ../../Results/HPO/DTSH/THOR-DESKTOP/2024-11-29...  \n",
       "0   ../../Results/HPO/DTSH/THOR-DESKTOP/2024-11-29...  \n",
       "0   ../../Results/HPO/DTSH/THOR-DESKTOP/2024-11-29...  \n",
       "0   ../../Results/HPO/DTSH/THOR-DESKTOP/2024-11-29...  \n",
       "\n",
       "[113 rows x 4 columns]"
      ]
     },
     "execution_count": 10,
     "metadata": {},
     "output_type": "execute_result"
    }
   ],
   "source": [
    "df = pd.concat([dict_to_df(d) for d in data_list])\n",
    "df"
   ]
  },
  {
   "cell_type": "code",
   "execution_count": 14,
   "metadata": {},
   "outputs": [
    {
     "data": {
      "text/html": [
       "<div>\n",
       "<style scoped>\n",
       "    .dataframe tbody tr th:only-of-type {\n",
       "        vertical-align: middle;\n",
       "    }\n",
       "\n",
       "    .dataframe tbody tr th {\n",
       "        vertical-align: top;\n",
       "    }\n",
       "\n",
       "    .dataframe thead th {\n",
       "        text-align: right;\n",
       "    }\n",
       "</style>\n",
       "<table border=\"1\" class=\"dataframe\">\n",
       "  <thead>\n",
       "    <tr style=\"text-align: right;\">\n",
       "      <th></th>\n",
       "      <th>hp_lambda</th>\n",
       "      <th>hp_alpha</th>\n",
       "      <th>hp_lr</th>\n",
       "      <th>hp_wd</th>\n",
       "      <th>hp_bits</th>\n",
       "      <th>loss</th>\n",
       "      <th>map</th>\n",
       "      <th>filePath</th>\n",
       "    </tr>\n",
       "  </thead>\n",
       "  <tbody>\n",
       "    <tr>\n",
       "      <th>0</th>\n",
       "      <td>0.5</td>\n",
       "      <td>0.5</td>\n",
       "      <td>0.00010</td>\n",
       "      <td>0.000100</td>\n",
       "      <td>12</td>\n",
       "      <td>[1.143498134613037, 0.44609699308872225, 0.403...</td>\n",
       "      <td>0.807447</td>\n",
       "      <td>../../Results/HPO/DTSH/THOR-DESKTOP/2024-11-28...</td>\n",
       "    </tr>\n",
       "    <tr>\n",
       "      <th>0</th>\n",
       "      <td>1.0</td>\n",
       "      <td>0.5</td>\n",
       "      <td>0.00010</td>\n",
       "      <td>0.000100</td>\n",
       "      <td>12</td>\n",
       "      <td>[1.274519840478897, 0.5339284878969193, 0.4936...</td>\n",
       "      <td>0.806891</td>\n",
       "      <td>../../Results/HPO/DTSH/THOR-DESKTOP/2024-11-28...</td>\n",
       "    </tr>\n",
       "    <tr>\n",
       "      <th>0</th>\n",
       "      <td>2.0</td>\n",
       "      <td>0.5</td>\n",
       "      <td>0.00010</td>\n",
       "      <td>0.000100</td>\n",
       "      <td>12</td>\n",
       "      <td>[1.8669460022449493, 0.667700514793396, 0.6105...</td>\n",
       "      <td>0.588409</td>\n",
       "      <td>../../Results/HPO/DTSH/THOR-DESKTOP/2024-11-28...</td>\n",
       "    </tr>\n",
       "    <tr>\n",
       "      <th>0</th>\n",
       "      <td>4.0</td>\n",
       "      <td>0.5</td>\n",
       "      <td>0.00010</td>\n",
       "      <td>0.000100</td>\n",
       "      <td>12</td>\n",
       "      <td>[2.8783577358722687, 0.9207836842536926, 0.848...</td>\n",
       "      <td>0.437195</td>\n",
       "      <td>../../Results/HPO/DTSH/THOR-DESKTOP/2024-11-28...</td>\n",
       "    </tr>\n",
       "    <tr>\n",
       "      <th>0</th>\n",
       "      <td>0.5</td>\n",
       "      <td>1.0</td>\n",
       "      <td>0.00010</td>\n",
       "      <td>0.000100</td>\n",
       "      <td>12</td>\n",
       "      <td>[1.086733022928238, 0.5419295042753219, 0.4926...</td>\n",
       "      <td>0.828234</td>\n",
       "      <td>../../Results/HPO/DTSH/THOR-DESKTOP/2024-11-28...</td>\n",
       "    </tr>\n",
       "    <tr>\n",
       "      <th>...</th>\n",
       "      <td>...</td>\n",
       "      <td>...</td>\n",
       "      <td>...</td>\n",
       "      <td>...</td>\n",
       "      <td>...</td>\n",
       "      <td>...</td>\n",
       "      <td>...</td>\n",
       "      <td>...</td>\n",
       "    </tr>\n",
       "    <tr>\n",
       "      <th>0</th>\n",
       "      <td>0.5</td>\n",
       "      <td>4.0</td>\n",
       "      <td>0.00010</td>\n",
       "      <td>0.000001</td>\n",
       "      <td>12</td>\n",
       "      <td>[2.198623309135437, 1.2492003679275512, 1.1368...</td>\n",
       "      <td>0.828689</td>\n",
       "      <td>../../Results/HPO/DTSH/THOR-DESKTOP/2024-11-29...</td>\n",
       "    </tr>\n",
       "    <tr>\n",
       "      <th>0</th>\n",
       "      <td>1.0</td>\n",
       "      <td>4.0</td>\n",
       "      <td>0.00010</td>\n",
       "      <td>0.000001</td>\n",
       "      <td>12</td>\n",
       "      <td>[2.4549607610702515, 1.3640967774391175, 1.258...</td>\n",
       "      <td>0.829186</td>\n",
       "      <td>../../Results/HPO/DTSH/THOR-DESKTOP/2024-11-29...</td>\n",
       "    </tr>\n",
       "    <tr>\n",
       "      <th>0</th>\n",
       "      <td>2.0</td>\n",
       "      <td>4.0</td>\n",
       "      <td>0.00010</td>\n",
       "      <td>0.000001</td>\n",
       "      <td>12</td>\n",
       "      <td>[3.3384109783172606, 1.660709490776062, 1.5353...</td>\n",
       "      <td>0.826514</td>\n",
       "      <td>../../Results/HPO/DTSH/THOR-DESKTOP/2024-11-29...</td>\n",
       "    </tr>\n",
       "    <tr>\n",
       "      <th>0</th>\n",
       "      <td>4.0</td>\n",
       "      <td>4.0</td>\n",
       "      <td>0.00010</td>\n",
       "      <td>0.000001</td>\n",
       "      <td>12</td>\n",
       "      <td>[4.563894736766815, 2.005747740268707, 1.85221...</td>\n",
       "      <td>0.598242</td>\n",
       "      <td>../../Results/HPO/DTSH/THOR-DESKTOP/2024-11-29...</td>\n",
       "    </tr>\n",
       "    <tr>\n",
       "      <th>0</th>\n",
       "      <td>0.5</td>\n",
       "      <td>0.5</td>\n",
       "      <td>0.00001</td>\n",
       "      <td>0.000001</td>\n",
       "      <td>12</td>\n",
       "      <td>[0.6161236101388932, 0.4841586774587631, 0.447...</td>\n",
       "      <td>0.811454</td>\n",
       "      <td>../../Results/HPO/DTSH/THOR-DESKTOP/2024-11-29...</td>\n",
       "    </tr>\n",
       "  </tbody>\n",
       "</table>\n",
       "<p>113 rows × 8 columns</p>\n",
       "</div>"
      ],
      "text/plain": [
       "    hp_lambda  hp_alpha    hp_lr     hp_wd  hp_bits  \\\n",
       "0         0.5       0.5  0.00010  0.000100       12   \n",
       "0         1.0       0.5  0.00010  0.000100       12   \n",
       "0         2.0       0.5  0.00010  0.000100       12   \n",
       "0         4.0       0.5  0.00010  0.000100       12   \n",
       "0         0.5       1.0  0.00010  0.000100       12   \n",
       "..        ...       ...      ...       ...      ...   \n",
       "0         0.5       4.0  0.00010  0.000001       12   \n",
       "0         1.0       4.0  0.00010  0.000001       12   \n",
       "0         2.0       4.0  0.00010  0.000001       12   \n",
       "0         4.0       4.0  0.00010  0.000001       12   \n",
       "0         0.5       0.5  0.00001  0.000001       12   \n",
       "\n",
       "                                                 loss       map  \\\n",
       "0   [1.143498134613037, 0.44609699308872225, 0.403...  0.807447   \n",
       "0   [1.274519840478897, 0.5339284878969193, 0.4936...  0.806891   \n",
       "0   [1.8669460022449493, 0.667700514793396, 0.6105...  0.588409   \n",
       "0   [2.8783577358722687, 0.9207836842536926, 0.848...  0.437195   \n",
       "0   [1.086733022928238, 0.5419295042753219, 0.4926...  0.828234   \n",
       "..                                                ...       ...   \n",
       "0   [2.198623309135437, 1.2492003679275512, 1.1368...  0.828689   \n",
       "0   [2.4549607610702515, 1.3640967774391175, 1.258...  0.829186   \n",
       "0   [3.3384109783172606, 1.660709490776062, 1.5353...  0.826514   \n",
       "0   [4.563894736766815, 2.005747740268707, 1.85221...  0.598242   \n",
       "0   [0.6161236101388932, 0.4841586774587631, 0.447...  0.811454   \n",
       "\n",
       "                                             filePath  \n",
       "0   ../../Results/HPO/DTSH/THOR-DESKTOP/2024-11-28...  \n",
       "0   ../../Results/HPO/DTSH/THOR-DESKTOP/2024-11-28...  \n",
       "0   ../../Results/HPO/DTSH/THOR-DESKTOP/2024-11-28...  \n",
       "0   ../../Results/HPO/DTSH/THOR-DESKTOP/2024-11-28...  \n",
       "0   ../../Results/HPO/DTSH/THOR-DESKTOP/2024-11-28...  \n",
       "..                                                ...  \n",
       "0   ../../Results/HPO/DTSH/THOR-DESKTOP/2024-11-29...  \n",
       "0   ../../Results/HPO/DTSH/THOR-DESKTOP/2024-11-29...  \n",
       "0   ../../Results/HPO/DTSH/THOR-DESKTOP/2024-11-29...  \n",
       "0   ../../Results/HPO/DTSH/THOR-DESKTOP/2024-11-29...  \n",
       "0   ../../Results/HPO/DTSH/THOR-DESKTOP/2024-11-29...  \n",
       "\n",
       "[113 rows x 8 columns]"
      ]
     },
     "execution_count": 14,
     "metadata": {},
     "output_type": "execute_result"
    }
   ],
   "source": [
    "df = split_col_D(df, \"hp\")\n",
    "df"
   ]
  },
  {
   "cell_type": "code",
   "execution_count": 16,
   "metadata": {},
   "outputs": [],
   "source": [
    "import seaborn as sns"
   ]
  },
  {
   "cell_type": "code",
   "execution_count": 18,
   "metadata": {},
   "outputs": [
    {
     "data": {
      "text/plain": [
       "<Axes: xlabel='hp_lambda', ylabel='map'>"
      ]
     },
     "execution_count": 18,
     "metadata": {},
     "output_type": "execute_result"
    },
    {
     "data": {
      "image/png": "[encoded data removed]",
      "text/plain": [
       "<Figure size 640x480 with 1 Axes>"
      ]
     },
     "metadata": {},
     "output_type": "display_data"
    }
   ],
   "source": [
    "sns.scatterplot(x=df[\"hp_lambda\"], y=df[\"map\"])"
   ]
  },
  {
   "cell_type": "code",
   "execution_count": 19,
   "metadata": {},
   "outputs": [
    {
     "data": {
      "text/plain": [
       "<Axes: xlabel='hp_alpha', ylabel='map'>"
      ]
     },
     "execution_count": 19,
     "metadata": {},
     "output_type": "execute_result"
    },
    {
     "data": {
      "image/png": "[encoded data removed]",
      "text/plain": [
       "<Figure size 640x480 with 1 Axes>"
      ]
     },
     "metadata": {},
     "output_type": "display_data"
    }
   ],
   "source": [
    "sns.scatterplot(x=df[\"hp_alpha\"], y=df[\"map\"])"
   ]
  },
  {
   "cell_type": "code",
   "execution_count": null,
   "metadata": {},
   "outputs": [
    {
     "data": {
      "text/plain": [
       "<Axes: xlabel='hp_wd', ylabel='map'>"
      ]
     },
     "execution_count": 21,
     "metadata": {},
     "output_type": "execute_result"
    },
    {
     "data": {
      "image/png": "[encoded data removed]",
      "text/plain": [
       "<Figure size 640x480 with 1 Axes>"
      ]
     },
     "metadata": {},
     "output_type": "display_data"
    }
   ],
   "source": [
    "sns.scatterplot(x=df[\"hp_lr\"], y=df[\"map\"])"
   ]
  },
  {
   "cell_type": "code",
   "execution_count": 22,
   "metadata": {},
   "outputs": [
    {
     "data": {
      "text/plain": [
       "<Axes: xlabel='hp_wd', ylabel='map'>"
      ]
     },
     "execution_count": 22,
     "metadata": {},
     "output_type": "execute_result"
    },
    {
     "data": {
      "image/png": "[encoded data removed]",
      "text/plain": [
       "<Figure size 640x480 with 1 Axes>"
      ]
     },
     "metadata": {},
     "output_type": "display_data"
    }
   ],
   "source": [
    "sns.scatterplot(x=df[\"hp_wd\"], y=df[\"map\"])"
   ]
  }
 ],
 "metadata": {
  "kernelspec": {
   "display_name": "Python 3",
   "language": "python",
   "name": "python3"
  },
  "language_info": {
   "codemirror_mode": {
    "name": "ipython",
    "version": 3
   },
   "file_extension": ".py",
   "mimetype": "text/x-python",
   "name": "python",
   "nbconvert_exporter": "python",
   "pygments_lexer": "ipython3",
   "version": "3.12.1"
  }
 },
 "nbformat": 4,
 "nbformat_minor": 2
}
