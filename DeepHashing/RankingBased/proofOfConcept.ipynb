{
 "cells": [
  {
   "cell_type": "code",
   "execution_count": 1,
   "metadata": {},
   "outputs": [],
   "source": [
    "from tensorflow import keras\n",
    "from PIL import Image\n",
    "from torchvision import models, transforms\n",
    "import torch.nn as nn\n",
    "import torch.optim as optim\n",
    "import torch\n",
    "import random\n",
    "from torchvision import models, transforms"
   ]
  },
  {
   "cell_type": "code",
   "execution_count": 2,
   "metadata": {},
   "outputs": [],
   "source": [
    "(x_train, y_train), (x_test, y_test) = keras.datasets.mnist.load_data()"
   ]
  },
  {
   "cell_type": "code",
   "execution_count": 3,
   "metadata": {},
   "outputs": [
    {
     "data": {
      "text/plain": [
       "{0: {'N': [2, 3], 'P': [1]},\n",
       " 1: {'N': [2, 3], 'P': [0]},\n",
       " 2: {'N': [0, 1], 'P': [3]},\n",
       " 3: {'N': [0, 1], 'P': [2]}}"
      ]
     },
     "execution_count": 3,
     "metadata": {},
     "output_type": "execute_result"
    }
   ],
   "source": [
    "def pre_triplet(labels):\n",
    "    data = {}\n",
    "    for i in range(len(labels)):\n",
    "        d = {}\n",
    "        d[\"N\"] = [j for j in range(len(labels)) if (i != j) and (labels[i] != labels[j])]\n",
    "        d[\"P\"] = [j for j in range(len(labels)) if (i != j) and (labels[i] == labels[j])]\n",
    "        \n",
    "        data[i] = d\n",
    "\n",
    "    return data\n",
    "\n",
    "pre_triplet( [\"A\", \"A\", \"B\", \"B\"] )"
   ]
  },
  {
   "cell_type": "code",
   "execution_count": 7,
   "metadata": {},
   "outputs": [
    {
     "data": {
      "text/plain": [
       "torch.Size([50, 1, 28, 28])"
      ]
     },
     "execution_count": 7,
     "metadata": {},
     "output_type": "execute_result"
    }
   ],
   "source": [
    "toTensor = transforms.ToTensor()\n",
    "\n",
    "sample_size = 50\n",
    "xSub = x_train[:sample_size]\n",
    "ySub = x_train[:sample_size]\n",
    "\n",
    "xTensor = toTensor(xSub)\n",
    "xTensor = xTensor.permute(1, 0, 2).reshape(len(xSub), 1, 28, 28) # shape: (28, sample_size, 28) -->  shape: (sample_size, 1, 28, 28)\n",
    "\n",
    "xTensor.shape"
   ]
  },
  {
   "cell_type": "code",
   "execution_count": 8,
   "metadata": {},
   "outputs": [
    {
     "ename": "ValueError",
     "evalue": "The truth value of an array with more than one element is ambiguous. Use a.any() or a.all()",
     "output_type": "error",
     "traceback": [
      "\u001b[1;31m---------------------------------------------------------------------------\u001b[0m",
      "\u001b[1;31mValueError\u001b[0m                                Traceback (most recent call last)",
      "Cell \u001b[1;32mIn[8], line 1\u001b[0m\n\u001b[1;32m----> 1\u001b[0m APN \u001b[38;5;241m=\u001b[39m \u001b[43mpre_triplet\u001b[49m\u001b[43m(\u001b[49m\u001b[43m \u001b[49m\u001b[43mySub\u001b[49m\u001b[43m \u001b[49m\u001b[43m)\u001b[49m\n\u001b[0;32m      2\u001b[0m APN_combos \u001b[38;5;241m=\u001b[39m [ [[(a,p,n) \u001b[38;5;28;01mfor\u001b[39;00m p \u001b[38;5;129;01min\u001b[39;00m APN[a][\u001b[38;5;124m\"\u001b[39m\u001b[38;5;124mP\u001b[39m\u001b[38;5;124m\"\u001b[39m] ] \u001b[38;5;28;01mfor\u001b[39;00m n \u001b[38;5;129;01min\u001b[39;00m APN[a][\u001b[38;5;124m\"\u001b[39m\u001b[38;5;124mN\u001b[39m\u001b[38;5;124m\"\u001b[39m]] \u001b[38;5;28;01mfor\u001b[39;00m a \u001b[38;5;129;01min\u001b[39;00m APN]\n\u001b[0;32m      4\u001b[0m APN_combos \u001b[38;5;241m=\u001b[39m [item \u001b[38;5;28;01mfor\u001b[39;00m row \u001b[38;5;129;01min\u001b[39;00m [item \u001b[38;5;28;01mfor\u001b[39;00m row \u001b[38;5;129;01min\u001b[39;00m APN_combos \u001b[38;5;28;01mfor\u001b[39;00m item \u001b[38;5;129;01min\u001b[39;00m row] \u001b[38;5;28;01mfor\u001b[39;00m item \u001b[38;5;129;01min\u001b[39;00m row] \u001b[38;5;66;03m# Flatten APN_combos\u001b[39;00m\n",
      "Cell \u001b[1;32mIn[3], line 5\u001b[0m, in \u001b[0;36mpre_triplet\u001b[1;34m(labels)\u001b[0m\n\u001b[0;32m      3\u001b[0m \u001b[38;5;28;01mfor\u001b[39;00m i \u001b[38;5;129;01min\u001b[39;00m \u001b[38;5;28mrange\u001b[39m(\u001b[38;5;28mlen\u001b[39m(labels)):\n\u001b[0;32m      4\u001b[0m     d \u001b[38;5;241m=\u001b[39m {}\n\u001b[1;32m----> 5\u001b[0m     d[\u001b[38;5;124m\"\u001b[39m\u001b[38;5;124mN\u001b[39m\u001b[38;5;124m\"\u001b[39m] \u001b[38;5;241m=\u001b[39m [j \u001b[38;5;28;01mfor\u001b[39;00m j \u001b[38;5;129;01min\u001b[39;00m \u001b[38;5;28mrange\u001b[39m(\u001b[38;5;28mlen\u001b[39m(labels)) \u001b[38;5;28;01mif\u001b[39;00m (i \u001b[38;5;241m!=\u001b[39m j) \u001b[38;5;129;01mand\u001b[39;00m (labels[i] \u001b[38;5;241m!=\u001b[39m labels[j])]\n\u001b[0;32m      6\u001b[0m     d[\u001b[38;5;124m\"\u001b[39m\u001b[38;5;124mP\u001b[39m\u001b[38;5;124m\"\u001b[39m] \u001b[38;5;241m=\u001b[39m [j \u001b[38;5;28;01mfor\u001b[39;00m j \u001b[38;5;129;01min\u001b[39;00m \u001b[38;5;28mrange\u001b[39m(\u001b[38;5;28mlen\u001b[39m(labels)) \u001b[38;5;28;01mif\u001b[39;00m (i \u001b[38;5;241m!=\u001b[39m j) \u001b[38;5;129;01mand\u001b[39;00m (labels[i] \u001b[38;5;241m==\u001b[39m labels[j])]\n\u001b[0;32m      8\u001b[0m     data[i] \u001b[38;5;241m=\u001b[39m d\n",
      "\u001b[1;31mValueError\u001b[0m: The truth value of an array with more than one element is ambiguous. Use a.any() or a.all()"
     ]
    }
   ],
   "source": [
    "APN = pre_triplet( ySub )\n",
    "APN_combos = [ [[(a,p,n) for p in APN[a][\"P\"] ] for n in APN[a][\"N\"]] for a in APN]\n",
    "\n",
    "APN_combos = [item for row in [item for row in APN_combos for item in row] for item in row] # Flatten APN_combos\n",
    "\n",
    "apnLen = len( APN_combos )\n",
    "apnLen"
   ]
  },
  {
   "cell_type": "code",
   "execution_count": 6,
   "metadata": {},
   "outputs": [
    {
     "data": {
      "text/plain": [
       "5"
      ]
     },
     "execution_count": 6,
     "metadata": {},
     "output_type": "execute_result"
    }
   ],
   "source": [
    "random.randint(0,5)"
   ]
  },
  {
   "cell_type": "code",
   "execution_count": 7,
   "metadata": {},
   "outputs": [
    {
     "ename": "TypeError",
     "evalue": "list indices must be integers or slices, not list",
     "output_type": "error",
     "traceback": [
      "\u001b[1;31m---------------------------------------------------------------------------\u001b[0m",
      "\u001b[1;31mTypeError\u001b[0m                                 Traceback (most recent call last)",
      "Cell \u001b[1;32mIn[7], line 25\u001b[0m\n\u001b[0;32m     21\u001b[0m n_list \u001b[38;5;241m=\u001b[39m []\n\u001b[0;32m     23\u001b[0m random\u001b[38;5;241m.\u001b[39mshuffle(APN_combos) \u001b[38;5;66;03m# Den her del er rigtig dyr når der er meget data\u001b[39;00m\n\u001b[1;32m---> 25\u001b[0m \u001b[38;5;28;01mfor\u001b[39;00m apn \u001b[38;5;129;01min\u001b[39;00m \u001b[43mAPN_combos\u001b[49m\u001b[43m[\u001b[49m\u001b[43mAPN_combos\u001b[49m\u001b[43m]\u001b[49m:\n\u001b[0;32m     26\u001b[0m     a_list\u001b[38;5;241m.\u001b[39mappend(results[ apn[\u001b[38;5;241m0\u001b[39m] ])\n\u001b[0;32m     27\u001b[0m     p_list\u001b[38;5;241m.\u001b[39mappend(results[ apn[\u001b[38;5;241m1\u001b[39m] ])\n",
      "\u001b[1;31mTypeError\u001b[0m: list indices must be integers or slices, not list"
     ]
    }
   ],
   "source": [
    "model = nn.Sequential(  nn.Flatten(),\n",
    "                        nn.Linear(28*28,512),\n",
    "                        nn.ReLU(),\n",
    "                        nn.Linear(512,256),\n",
    "                        nn.ReLU(),\n",
    "                        nn.Linear(256,32),\n",
    "                        nn.Sigmoid()\n",
    "                        )\n",
    "\n",
    "criterion = nn.TripletMarginLoss(p=1, # Manhatten Distance\n",
    "                                 margin=32\n",
    "                                 )\n",
    "optimizer = optim.SGD( model.parameters() )\n",
    "\n",
    "for i in range(3000):\n",
    "    results = model(xTensor)\n",
    "\n",
    "    # === make anchor, positive, negeative lists ===\n",
    "    a_list = []\n",
    "    p_list = []\n",
    "    n_list = []\n",
    "\n",
    "    random.shuffle(APN_combos) # Den her del er rigtig dyr når der er meget data\n",
    "\n",
    "    for apn in APN_combos[APN_combos]:\n",
    "        a_list.append(results[ apn[0] ])\n",
    "        p_list.append(results[ apn[1] ])\n",
    "        n_list.append(results[ apn[2] ])\n",
    "    \n",
    "    # === Improve Model ===\n",
    "    optimizer.zero_grad()\n",
    "\n",
    "    loss = criterion(torch.stack(a_list),\n",
    "                     torch.stack(p_list),\n",
    "                     torch.stack(n_list) )\n",
    "    \n",
    "    loss.backward()\n",
    "    optimizer.step()\n",
    "\n",
    "    print(i, loss)"
   ]
  },
  {
   "cell_type": "markdown",
   "metadata": {},
   "source": [
    "20 obs, 50/570 samples, 3k ittr  --> 11s\n",
    "\n",
    "20 obs, 250/570 samples, 3k ittr --> 30s\n",
    "\n",
    "20 obs, 570/570 samples, 3k ittr --> 57s"
   ]
  },
  {
   "cell_type": "markdown",
   "metadata": {},
   "source": [
    "# Viz"
   ]
  },
  {
   "cell_type": "code",
   "execution_count": 8,
   "metadata": {},
   "outputs": [],
   "source": [
    "import seaborn as sns\n",
    "import matplotlib.pyplot as plt\n",
    "from sklearn.cluster import KMeans\n",
    "import numpy as np\n",
    "import pandas as pd\n",
    "\n",
    "# Step 1: Perform K-Means Clustering\n",
    "def kmeans_clustering(hash_codes, n_clusters=10, n_init=10, random_state=42):\n",
    "    kmeans = KMeans(n_clusters=n_clusters, n_init=n_init, random_state=random_state)\n",
    "    clusters = kmeans.fit_predict(hash_codes)\n",
    "    return clusters\n",
    "\n",
    "# Step 2: Build the label-cluster matrix\n",
    "def build_label_cluster_matrix(clusters, true_labels, n_clusters=10):\n",
    "    # Initialize a matrix to count label-cluster relationships  \n",
    "    label_cluster_matrix = np.zeros((10, n_clusters), dtype=int)\n",
    "    \n",
    "    for label, cluster in zip(true_labels, clusters):\n",
    "        label_cluster_matrix[label][cluster] += 1\n",
    "    \n",
    "    return label_cluster_matrix\n",
    "\n",
    "# Step 3: Visualize the result as a heatmap\n",
    "def plot_heatmap(label_cluster_matrix):\n",
    "    plt.figure(figsize=(10, 6))\n",
    "    sns.heatmap(label_cluster_matrix, annot=True, fmt=\"d\", cmap=\"Blues\", cbar=True)\n",
    "    plt.title(\"Label Distribution Across Clusters\")\n",
    "    plt.xlabel(\"Clusters\")\n",
    "    plt.ylabel(\"True Labels\")\n",
    "    plt.show()\n",
    "\n",
    "\n",
    "def easyHeatmap(hashCodes, labels):\n",
    "    raw_clusters = kmeans_clustering(hashCodes, n_clusters=10)\n",
    "\n",
    "    raw_label_cluster_matrix = build_label_cluster_matrix(raw_clusters, labels)\n",
    "\n",
    "    plot_heatmap(raw_label_cluster_matrix)"
   ]
  },
  {
   "cell_type": "code",
   "execution_count": 9,
   "metadata": {},
   "outputs": [
    {
     "data": {
      "image/png": "[encoded data removed]",
      "text/plain": [
       "<Figure size 1000x600 with 2 Axes>"
      ]
     },
     "metadata": {},
     "output_type": "display_data"
    }
   ],
   "source": [
    "easyHeatmap(model(xTensor).detach().numpy(), ySub)"
   ]
  },
  {
   "cell_type": "code",
   "execution_count": 10,
   "metadata": {},
   "outputs": [
    {
     "data": {
      "text/plain": [
       "array([[0.48712036, 0.48391408, 0.4907963 , ..., 0.4924093 , 0.5145453 ,\n",
       "        0.49265188],\n",
       "       [0.4977965 , 0.48610568, 0.49739474, ..., 0.48164895, 0.5164954 ,\n",
       "        0.5003714 ],\n",
       "       [0.482746  , 0.48759806, 0.48242402, ..., 0.48835143, 0.5200263 ,\n",
       "        0.50774574],\n",
       "       ...,\n",
       "       [0.49296048, 0.48979688, 0.4859839 , ..., 0.48137212, 0.5206247 ,\n",
       "        0.5126109 ],\n",
       "       [0.4921873 , 0.48288584, 0.47526404, ..., 0.4860993 , 0.5187322 ,\n",
       "        0.5134585 ],\n",
       "       [0.49606898, 0.48178205, 0.48527706, ..., 0.48924407, 0.5164852 ,\n",
       "        0.51320827]], dtype=float32)"
      ]
     },
     "execution_count": 10,
     "metadata": {},
     "output_type": "execute_result"
    }
   ],
   "source": [
    "model(xTensor).detach().numpy()"
   ]
  },
  {
   "cell_type": "code",
   "execution_count": 12,
   "metadata": {},
   "outputs": [
    {
     "data": {
      "text/plain": [
       "1"
      ]
     },
     "execution_count": 12,
     "metadata": {},
     "output_type": "execute_result"
    }
   ],
   "source": [
    "True * True"
   ]
  }
 ],
 "metadata": {
  "kernelspec": {
   "display_name": "Python 3",
   "language": "python",
   "name": "python3"
  },
  "language_info": {
   "codemirror_mode": {
    "name": "ipython",
    "version": 3
   },
   "file_extension": ".py",
   "mimetype": "text/x-python",
   "name": "python",
   "nbconvert_exporter": "python",
   "pygments_lexer": "ipython3",
   "version": "3.12.0"
  }
 },
 "nbformat": 4,
 "nbformat_minor": 2
}
