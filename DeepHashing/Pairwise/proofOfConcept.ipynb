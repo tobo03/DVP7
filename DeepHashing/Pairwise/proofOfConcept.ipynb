{
 "cells": [
  {
   "cell_type": "code",
   "execution_count": 155,
   "metadata": {},
   "outputs": [],
   "source": [
    "from tensorflow import keras\n",
    "from PIL import Image\n",
    "from torchvision import models, transforms\n",
    "import torch.nn as nn\n",
    "import torch.optim as optim\n",
    "import torch\n",
    "import random\n",
    "from torchvision import models, transforms\n",
    "from numpy.linalg import norm\n",
    "import numpy as np\n",
    "import math"
   ]
  },
  {
   "cell_type": "markdown",
   "metadata": {},
   "source": [
    "# Load Data"
   ]
  },
  {
   "cell_type": "code",
   "execution_count": 156,
   "metadata": {},
   "outputs": [],
   "source": [
    "from torchvision.datasets import CIFAR10\n",
    "import torchvision.transforms as transforms\n",
    "import torch\n",
    "\n",
    "transform = transforms.Compose([\n",
    "    transforms.Resize((224, 244)),\n",
    "    transforms.ToTensor(),\n",
    "    transforms.Normalize(mean=[0.485, 0.456, 0.406], std=[0.229, 0.224, 0.225]), #Is transformed to be better with VGG16 model\n",
    "    ])"
   ]
  },
  {
   "cell_type": "code",
   "execution_count": 157,
   "metadata": {},
   "outputs": [
    {
     "name": "stdout",
     "output_type": "stream",
     "text": [
      "Files already downloaded and verified\n",
      "Files already downloaded and verified\n"
     ]
    }
   ],
   "source": [
    "def getDataset(train=True, sample_size=100):\n",
    "    dataset = CIFAR10(root='./data',\n",
    "                  train=train, \n",
    "                  download=True,\n",
    "                  transform=transform)\n",
    "    \n",
    "    X = []\n",
    "    y = []\n",
    "\n",
    "    for i in range(sample_size):\n",
    "        X.append( dataset[i][0] )\n",
    "        y.append( dataset[i][1] )\n",
    "\n",
    "    X = torch.stack( X )\n",
    "\n",
    "    return X, y\n",
    "\n",
    "X_train, y_train = getDataset() #Training data\n",
    "X_test, y_test = getDataset(train=False) #Test data"
   ]
  },
  {
   "cell_type": "markdown",
   "metadata": {},
   "source": [
    "# Create Minibatch"
   ]
  },
  {
   "cell_type": "code",
   "execution_count": 158,
   "metadata": {},
   "outputs": [],
   "source": [
    "batchSize = 32"
   ]
  },
  {
   "cell_type": "code",
   "execution_count": 159,
   "metadata": {},
   "outputs": [],
   "source": [
    "indices = np.random.choice(X_train.shape[0], batchSize, replace=False) # Not used as of now\n",
    "minibatch = X_train[indices]\n",
    "#minibatch"
   ]
  },
  {
   "cell_type": "markdown",
   "metadata": {},
   "source": [
    "# Load Model"
   ]
  },
  {
   "cell_type": "code",
   "execution_count": 160,
   "metadata": {},
   "outputs": [],
   "source": [
    "from torchvision import models\n",
    "pretrained_model = models.vgg16(pretrained=True)\n",
    "pretrained_model.classifier = torch.nn.Identity() # 25088 features output\n",
    "\n",
    "import torch.nn as nn\n",
    "\n",
    "test_model = nn.Sequential(  nn.Flatten(), #25088 -> 4000 features - 4000 is arbitrarily chosen to mimic the paper\n",
    "                        nn.Linear(25088,4000),\n",
    "                        nn.ReLU(),\n",
    "                        nn.Linear(4000,4000),\n",
    "                        nn.Sigmoid()\n",
    "                        )"
   ]
  },
  {
   "cell_type": "markdown",
   "metadata": {},
   "source": [
    "# Forward Propagate Through Model"
   ]
  },
  {
   "cell_type": "code",
   "execution_count": 161,
   "metadata": {},
   "outputs": [],
   "source": [
    "result = test_model(pretrained_model(X_train))"
   ]
  },
  {
   "cell_type": "code",
   "execution_count": 162,
   "metadata": {},
   "outputs": [],
   "source": [
    "result = result.cpu().detach().numpy() #(sample_size, 4000) shape"
   ]
  },
  {
   "cell_type": "code",
   "execution_count": 163,
   "metadata": {},
   "outputs": [
    {
     "data": {
      "text/plain": [
       "(32, 1)"
      ]
     },
     "execution_count": 163,
     "metadata": {},
     "output_type": "execute_result"
    }
   ],
   "source": [
    "# Parameters\n",
    "mean = 0\n",
    "std_dev = np.sqrt(0.01)  # Standard deviation is the square root of the variance\n",
    "\n",
    "# Create the matrix W and V with shape (4000, 32) and (32, 1) - SHOULD BE A FUNCTION WHERE 32 IS THE NUMBER OF BITS WE WANT\n",
    "W = np.random.normal(mean, std_dev, (4000, 32))\n",
    "V = np.random.normal(mean, std_dev, (32, 1)) \n",
    "\n",
    "W.shape\n",
    "V.shape"
   ]
  },
  {
   "cell_type": "code",
   "execution_count": 164,
   "metadata": {},
   "outputs": [],
   "source": [
    "U = []\n",
    "for i in range(len(result)):\n",
    "    dot = np.dot(W.T, result[i])\n",
    "    dot = dot.reshape(32, 1)\n",
    "    u = (dot + V)\n",
    "    U.append(u)\n",
    "U = np.array(U) # (100, 32, 1) Shape -> (sample_size, #bits, 1) Shape"
   ]
  },
  {
   "cell_type": "code",
   "execution_count": 165,
   "metadata": {},
   "outputs": [
    {
     "data": {
      "text/plain": [
       "array([[230.50406818, 232.88130093, 233.39866353, ..., 234.83099668,\n",
       "        237.60753017, 234.71841394],\n",
       "       [232.88130093, 237.79267316, 237.06318261, ..., 238.34650701,\n",
       "        241.28707649, 238.26974149],\n",
       "       [233.39866353, 237.06318261, 237.78906568, ..., 238.72830097,\n",
       "        241.44032997, 238.27245713],\n",
       "       ...,\n",
       "       [234.83099668, 238.34650701, 238.72830097, ..., 240.44086888,\n",
       "        242.96230963, 239.58884761],\n",
       "       [237.60753017, 241.28707649, 241.44032997, ..., 242.96230963,\n",
       "        246.50481053, 242.50929525],\n",
       "       [234.71841394, 238.26974149, 238.27245713, ..., 239.58884761,\n",
       "        242.50929525, 240.79442923]])"
      ]
     },
     "execution_count": 165,
     "metadata": {},
     "output_type": "execute_result"
    }
   ],
   "source": [
    "#Remove the 1 from (100, 32, 1)\n",
    "U_reshaped = U.reshape(100, 32)\n",
    "\n",
    "# Compute the dot product matrix -> Useful for finding Theta in loss function\n",
    "dot_product_matrix = np.matmul(U_reshaped, U_reshaped.T)\n",
    "dot_product_matrix #(100, 100) Shape -> (sample_size, sample_size) Shape\n",
    "\n",
    "#Calculate Theta\n",
    "Theta = 1/2 * dot_product_matrix"
   ]
  },
  {
   "cell_type": "markdown",
   "metadata": {},
   "source": [
    "# Finding S Based On Labels"
   ]
  },
  {
   "cell_type": "code",
   "execution_count": 36,
   "metadata": {},
   "outputs": [],
   "source": [
    "y_train = np.array(y_train)\n",
    "S = (y_train[:, None] == y_train).astype(int) # (sample_size, sample_size) Shape -> 1 if labels are the same, 0 if not"
   ]
  },
  {
   "cell_type": "markdown",
   "metadata": {},
   "source": [
    "# Finding binary codes B"
   ]
  },
  {
   "cell_type": "code",
   "execution_count": 168,
   "metadata": {},
   "outputs": [
    {
     "data": {
      "text/plain": [
       "(100, 32, 1)"
      ]
     },
     "execution_count": 168,
     "metadata": {},
     "output_type": "execute_result"
    }
   ],
   "source": [
    "#Find the Binary codes\n",
    "B = np.sign(U)\n",
    "B"
   ]
  },
  {
   "cell_type": "markdown",
   "metadata": {},
   "source": [
    "## CUSTOM LOSS IMPLEMENTATION"
   ]
  },
  {
   "cell_type": "code",
   "execution_count": null,
   "metadata": {},
   "outputs": [],
   "source": [
    "#Parameters\n",
    "eta = 0.25 #Learning Rate"
   ]
  },
  {
   "cell_type": "code",
   "execution_count": 7,
   "metadata": {},
   "outputs": [],
   "source": [
    "import torch.nn as nn\n",
    "\n",
    "class CustomLoss(nn.Module):\n",
    "    def __init__(self):\n",
    "        super(CustomLoss, self).__init__()\n",
    "\n",
    "    def forward(self):\n",
    "        loss = - sum(S * Theta - math.log(1 + math.e^Theta)) + eta * sum(norm(B - U)^2)    \n",
    "        return loss.mean()"
   ]
  }
 ],
 "metadata": {
  "kernelspec": {
   "display_name": "Python 3",
   "language": "python",
   "name": "python3"
  },
  "language_info": {
   "codemirror_mode": {
    "name": "ipython",
    "version": 3
   },
   "file_extension": ".py",
   "mimetype": "text/x-python",
   "name": "python",
   "nbconvert_exporter": "python",
   "pygments_lexer": "ipython3",
   "version": "3.12.6"
  }
 },
 "nbformat": 4,
 "nbformat_minor": 2
}
