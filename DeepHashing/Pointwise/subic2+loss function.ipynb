{
 "cells": [
  {
   "cell_type": "code",
   "execution_count": 167,
   "metadata": {},
   "outputs": [],
   "source": [
    "import torch\n",
    "import torch.nn as nn\n",
    "import torch.nn.functional as F\n",
    "import torch.optim as optim\n",
    "from torchvision.datasets import CIFAR10\n",
    "import torchvision.transforms as transforms\n",
    "from torch.utils.data import DataLoader, Subset, TensorDataset\n",
    "import random\n",
    "import numpy as np\n",
    "from typing import Tuple\n",
    "from tqdm import tqdm\n",
    "from scipy.spatial import distance_matrix\n",
    "import pandas as pd"
   ]
  },
  {
   "cell_type": "code",
   "execution_count": 168,
   "metadata": {},
   "outputs": [],
   "source": [
    "root = \"C:/Users/xiaoy/OneDrive/Desktop/P7/p7 project/DVP7/\"\n",
    "# load data\n",
    "X_train = torch.tensor( np.load(root + \"Features/train_features_vgg16_cifar10.npy\" ) )\n",
    "y_train = np.load(root + \"Features/train_labels_vgg16_cifar10.npy\" )\n",
    "\n",
    "X_test = torch.tensor( np.load(root + \"Features/test_features_vgg16_cifar10.npy\" ) )\n",
    "y_test = np.load(root + \"Features/test_labels_vgg16_cifar10.npy\")\n",
    "\n",
    "y_train_tensor = torch.tensor(y_train, dtype=torch.long)\n",
    "y_test_tensor = torch.tensor(y_test, dtype=torch.long)"
   ]
  },
  {
   "cell_type": "code",
   "execution_count": 169,
   "metadata": {},
   "outputs": [],
   "source": [
    "def meanAveragePrecision(test_hashes, training_hashes, test_labels, training_labels):\n",
    "    aps = []\n",
    "    num_queries = len(test_hashes)\n",
    "    for i in tqdm(range(num_queries)):\n",
    "        label = test_labels[i]\n",
    "        distances = (training_hashes != test_hashes[i]).sum(axis=1)  # Hamming distance\n",
    "        tp = (training_labels == label).long()  # True positive indicator\n",
    "        hash_df = pd.DataFrame({\"distances\": distances, \"tp\": tp.cpu().numpy()})\n",
    "        hash_df = hash_df.sort_values(by=\"distances\").reset_index(drop=True)\n",
    "        hash_df[\"tp_cumsum\"] = hash_df[\"tp\"].cumsum()\n",
    "        hash_df[\"precision\"] = hash_df[\"tp_cumsum\"] / (np.arange(len(hash_df)) + 1)\n",
    "        ap = hash_df[\"precision\"].where(hash_df[\"tp\"] == 1).mean() if hash_df[\"tp\"].sum() > 0 else 0\n",
    "        aps.append(ap)\n",
    "\n",
    "    return np.mean(aps)\n"
   ]
  },
  {
   "cell_type": "code",
   "execution_count": 215,
   "metadata": {},
   "outputs": [],
   "source": [
    "import torch\n",
    "import torch.nn as nn\n",
    "import torch.nn.functional as F\n",
    "\n",
    "class SUBIC_encoder(nn.Module): \n",
    "    def __init__(self, bits=48, num_classes=10, num_blocks=8, block_size=8):\n",
    "        super(SUBIC_encoder, self).__init__()\n",
    "       \n",
    "        assert bits % num_blocks == 0, \"Bits must be divisible by num_blocks\"\n",
    "\n",
    "        self.bits = bits \n",
    "        self.num_blocks = num_blocks\n",
    "        self.block_size = block_size\n",
    "\n",
    "        # Define the encoder structure\n",
    "        self.encoder = nn.Sequential(\n",
    "            nn.Linear(4096, 256), \n",
    "            nn.ReLU(),\n",
    "            nn.Linear(256, bits)\n",
    "        )  # Outputs binary feature vectors\n",
    "        \n",
    "        self.fc3 = nn.Linear(bits, num_classes)  # Logits for num_classes\n",
    "    \n",
    "    def block_softmax(self, x):\n",
    "        \n",
    "        batch_size = x.shape[0]\n",
    "        block_size = x.shape[1] // self.num_blocks\n",
    "        \n",
    "        # Ensure that x has the expected shape\n",
    "        assert x.shape[1] == self.bits, f\"Expected shape [batch_size, {self.bits}], got {x.shape}\"\n",
    "        \n",
    "        # Reshape and apply softmax\n",
    "        x = x.view(batch_size, self.num_blocks, block_size)\n",
    "        x = F.softmax(x, dim=-1) \n",
    "        return x.view(batch_size, -1) #-1 refers to the value that will match the original elements \n",
    "    \n",
    "    def block_one_hot(self, x):\n",
    "        batch_size = x.shape[0]\n",
    "\n",
    "        x = x.view(batch_size, self.num_blocks, self.block_size)\n",
    "        max_indices = x.argmax(dim=-1, keepdim=True)\n",
    "        \n",
    "        # Create one-hot encoding\n",
    "        one_hot = torch.zeros_like(x).scatter_(-1, max_indices, 1)\n",
    "\n",
    "        return one_hot.view(batch_size, self.bits)\n",
    "    \n",
    "    def forward(self, x, use_one_hot=False):\n",
    "        # Ensure x is a flat tensor before passing to encoder\n",
    "        batch_size = x.shape[0]\n",
    "        x = x.view(batch_size, -1)  # Flatten if necessary\n",
    "\n",
    "        z = self.encoder(x)\n",
    "\n",
    "        if use_one_hot:\n",
    "            binary_codes = self.block_one_hot(z)\n",
    "        else:\n",
    "            binary_codes = self.block_softmax(z)\n",
    "\n",
    "        class_probs = F.softmax(self.fc3(binary_codes), dim=-1) \n",
    "\n",
    "        return class_probs, binary_codes\n"
   ]
  },
  {
   "cell_type": "code",
   "execution_count": 225,
   "metadata": {},
   "outputs": [
    {
     "data": {
      "text/plain": [
       "tensor([[0.0980, 0.2045, 0.1069,  ..., 0.1427, 0.1689, 0.2128],\n",
       "        [0.0956, 0.2492, 0.2026,  ..., 0.1155, 0.1896, 0.1899],\n",
       "        [0.1116, 0.2078, 0.1420,  ..., 0.1291, 0.1221, 0.2132],\n",
       "        ...,\n",
       "        [0.0921, 0.1672, 0.0834,  ..., 0.1116, 0.1655, 0.2510],\n",
       "        [0.0969, 0.1438, 0.0821,  ..., 0.1126, 0.1187, 0.2859],\n",
       "        [0.1001, 0.1743, 0.1019,  ..., 0.1006, 0.1254, 0.2441]],\n",
       "       grad_fn=<ViewBackward0>)"
      ]
     },
     "execution_count": 225,
     "metadata": {},
     "output_type": "execute_result"
    }
   ],
   "source": [
    "binary_codes"
   ]
  },
  {
   "cell_type": "code",
   "execution_count": 217,
   "metadata": {},
   "outputs": [],
   "source": [
    "def compute_total_loss(class_probs, target, binary_codes, num_blocks, block_size, gamma=0.5, mu=0.5):\n",
    "    \"\"\"\n",
    "    Computes the total loss, which includes:\n",
    "    - Cross-entropy classification loss\n",
    "    - Mean entropy loss (encouraging one-hot encoding within each block)\n",
    "    - Batch entropy loss (encouraging uniform distribution across blocks)\n",
    "    \n",
    "    Parameters:\n",
    "    - class_probs: The class probabilities from the classification layer.\n",
    "    - target: The true labels.\n",
    "    - binary_codes: The binary codes generated by the encoder.\n",
    "    - num_blocks: The number of blocks in the binary codes.\n",
    "    - block_size: The size of each block in the binary codes.\n",
    "    - gamma: Weight for the mean entropy loss.\n",
    "    - mu: Weight for the batch entropy loss.\n",
    "    \n",
    "    \"\"\"\n",
    "\n",
    "    def cross_entropy(class_prob, target):\n",
    "        s = class_prob[torch.arange(len(target)), target]\n",
    "        return -torch.log2(s)/torch.log2(torch.FloatTensor([class_prob.shape[1]]))\n",
    "\n",
    "    classification_loss = cross_entropy(class_probs, target)\n",
    "\n",
    "    batch_size = binary_codes.shape[0]\n",
    "    binary_codes = binary_codes.view(batch_size, num_blocks, block_size) #used in structure encoding\n",
    "\n",
    "    def entropy(p):\n",
    "        entropy_result = -torch.sum(p * torch.log2(p + 1e-30), dim=-1)\n",
    "        return entropy_result\n",
    "\n",
    "    #Mean Entropy Loss (encourages each block to resemble a one-hot vector) using softmax binary code\n",
    "    mean_entropy_loss = entropy(binary_codes).mean(dim=1)\n",
    "\n",
    "    #Batch Entropy Loss (encourages uniform distribution across blocks)\n",
    "    average_support = binary_codes.mean(dim=0)  \n",
    "    batch_entropy_loss = entropy(average_support).mean(dim=0)\n",
    "\n",
    "    #Combine losses with weights gamma and mu\n",
    "    entropy_loss = (gamma * mean_entropy_loss - mu * batch_entropy_loss)/torch.log2(torch.FloatTensor([block_size]))\n",
    "    total_loss = (classification_loss + entropy_loss).mean()\n",
    "    \n",
    "    \n",
    "    return total_loss\n",
    "\n",
    "#logits, binary_codes = model(X_train, use_one_hot=False)\n",
    "#loss = compute_total_loss(logits, y_train_tensor, binary_codes, num_blocks=8, block_size=4, gamma=0.5, mu=0.05)"
   ]
  },
  {
   "cell_type": "code",
   "execution_count": 239,
   "metadata": {},
   "outputs": [],
   "source": [
    "model = SUBIC_encoder(bits = 48, num_classes = 10, num_blocks = 8, block_size = 6)\n",
    "optimizer = optim.Adam(model.parameters(), lr=0.001)\n",
    "class_probs, binary_codes = model.forward(X_train, use_one_hot=False)"
   ]
  },
  {
   "cell_type": "code",
   "execution_count": null,
   "metadata": {},
   "outputs": [],
   "source": []
  },
  {
   "cell_type": "code",
   "execution_count": null,
   "metadata": {},
   "outputs": [],
   "source": [
    "entropy_loss = (gamma * mean_entropy_loss - mu * batch_entropy_loss)/torch.log2(torch.FloatTensor([block_size]))"
   ]
  },
  {
   "cell_type": "code",
   "execution_count": null,
   "metadata": {},
   "outputs": [],
   "source": []
  },
  {
   "cell_type": "code",
   "execution_count": 240,
   "metadata": {},
   "outputs": [
    {
     "name": "stdout",
     "output_type": "stream",
     "text": [
      "tensor([1.2502e-04, 3.1845e-07, 5.0873e-02, 8.5722e-05, 2.8362e-04, 9.4863e-01,\n",
      "        4.7419e-03, 7.2259e-06, 2.6153e-02, 9.6746e-01, 5.7432e-04, 1.0613e-03,\n",
      "        2.6782e-03, 9.9721e-01, 1.8306e-06, 1.0693e-04, 1.2051e-06, 4.1100e-07,\n",
      "        4.3297e-05, 9.9886e-01, 1.0261e-04, 2.3200e-08, 3.4048e-09, 9.9351e-04,\n",
      "        4.6623e-05, 3.0452e-06, 9.6816e-01, 1.0828e-03, 6.6856e-07, 3.0703e-02,\n",
      "        2.7300e-04, 2.4654e-07, 8.3684e-01, 1.6287e-01, 2.1520e-06, 1.2030e-05,\n",
      "        2.3747e-02, 1.6056e-03, 1.4271e-03, 1.2888e-07, 1.1019e-06, 9.7322e-01,\n",
      "        1.0758e-05, 1.0098e-07, 7.4191e-08, 3.7767e-03, 9.9621e-01, 6.9524e-06],\n",
      "       grad_fn=<SelectBackward0>)\n",
      "Epoch [1/10], Loss: -0.0794\n",
      "tensor([8.1866e-08, 9.7812e-01, 4.1501e-09, 2.1877e-02, 3.1813e-06, 1.5997e-06,\n",
      "        2.6571e-07, 1.0000e+00, 1.5810e-08, 9.1155e-09, 9.5968e-12, 2.8679e-07,\n",
      "        5.5497e-09, 4.3964e-10, 1.0000e+00, 1.8760e-08, 4.1262e-06, 5.9109e-15,\n",
      "        1.3070e-09, 2.9150e-06, 2.9511e-10, 9.9999e-01, 3.8104e-07, 5.3838e-06,\n",
      "        4.8361e-04, 5.9207e-01, 4.5800e-05, 2.4510e-02, 3.8289e-01, 4.3047e-06,\n",
      "        2.8696e-09, 1.9694e-07, 7.7676e-04, 6.6811e-09, 3.8838e-09, 9.9922e-01,\n",
      "        2.0094e-10, 2.3562e-06, 7.1685e-07, 1.0000e+00, 2.5992e-10, 8.6251e-11,\n",
      "        9.5873e-01, 8.4901e-06, 4.1263e-02, 5.9496e-11, 7.7044e-08, 1.0513e-06],\n",
      "       grad_fn=<SelectBackward0>)\n",
      "Epoch [2/10], Loss: -0.2320\n",
      "tensor([1.0000e+00, 4.9055e-07, 5.1150e-10, 9.4307e-13, 4.9874e-08, 1.7896e-11,\n",
      "        5.0874e-14, 3.8648e-08, 1.5571e-12, 5.1109e-07, 1.5602e-18, 1.0000e+00,\n",
      "        2.6896e-03, 3.5057e-07, 9.9731e-01, 8.6023e-12, 7.8982e-12, 3.5739e-07,\n",
      "        1.8772e-11, 3.8304e-14, 5.2445e-17, 1.4802e-10, 1.0000e+00, 1.2244e-09,\n",
      "        3.0802e-17, 1.2185e-09, 2.1411e-13, 4.7548e-16, 1.0000e+00, 1.2530e-09,\n",
      "        3.6596e-13, 1.2954e-13, 1.8385e-04, 1.8823e-14, 9.9982e-01, 1.2256e-11,\n",
      "        5.9708e-12, 1.0543e-20, 1.1485e-10, 4.9770e-08, 7.3668e-09, 1.0000e+00,\n",
      "        9.9730e-01, 1.1193e-06, 2.6969e-03, 2.8932e-09, 1.3046e-14, 1.0192e-08],\n",
      "       grad_fn=<SelectBackward0>)\n",
      "Epoch [3/10], Loss: -0.2529\n",
      "tensor([2.9912e-09, 2.0035e-07, 4.0688e-03, 1.0170e-02, 1.9467e-03, 9.8381e-01,\n",
      "        8.7137e-01, 1.7108e-02, 1.5656e-06, 7.3223e-05, 1.1100e-01, 4.4806e-04,\n",
      "        8.8055e-01, 1.7719e-03, 1.7057e-04, 3.7315e-02, 7.5229e-02, 4.9684e-03,\n",
      "        1.8186e-02, 7.1064e-01, 6.2027e-04, 1.2182e-05, 1.1384e-08, 2.7054e-01,\n",
      "        4.3617e-04, 1.0328e-07, 1.9435e-04, 1.4954e-06, 2.1126e-04, 9.9916e-01,\n",
      "        4.7521e-07, 3.4924e-05, 5.4015e-03, 9.9433e-01, 2.3015e-04, 5.6776e-10,\n",
      "        9.6046e-01, 6.8403e-04, 3.8859e-02, 1.2627e-11, 2.1098e-07, 4.7148e-07,\n",
      "        3.2232e-09, 1.3492e-03, 1.0576e-04, 7.0903e-01, 7.9246e-02, 2.1027e-01],\n",
      "       grad_fn=<SelectBackward0>)\n",
      "Epoch [4/10], Loss: -0.2647\n"
     ]
    },
    {
     "ename": "KeyboardInterrupt",
     "evalue": "",
     "output_type": "error",
     "traceback": [
      "\u001b[1;31m---------------------------------------------------------------------------\u001b[0m",
      "\u001b[1;31mKeyboardInterrupt\u001b[0m                         Traceback (most recent call last)",
      "Cell \u001b[1;32mIn[240], line 22\u001b[0m\n\u001b[0;32m     20\u001b[0m loss \u001b[38;5;241m=\u001b[39m compute_total_loss(class_probs, labels, binary_codes, num_blocks\u001b[38;5;241m=\u001b[39m\u001b[38;5;241m8\u001b[39m, block_size\u001b[38;5;241m=\u001b[39m\u001b[38;5;241m6\u001b[39m, gamma\u001b[38;5;241m=\u001b[39m\u001b[38;5;241m0.05\u001b[39m, mu\u001b[38;5;241m=\u001b[39m\u001b[38;5;241m0.5\u001b[39m)\n\u001b[0;32m     21\u001b[0m optimizer\u001b[38;5;241m.\u001b[39mzero_grad()\n\u001b[1;32m---> 22\u001b[0m \u001b[43mloss\u001b[49m\u001b[38;5;241;43m.\u001b[39;49m\u001b[43mbackward\u001b[49m\u001b[43m(\u001b[49m\u001b[43m)\u001b[49m\n\u001b[0;32m     23\u001b[0m optimizer\u001b[38;5;241m.\u001b[39mstep()\n\u001b[0;32m     25\u001b[0m total_loss \u001b[38;5;241m+\u001b[39m\u001b[38;5;241m=\u001b[39m loss\u001b[38;5;241m.\u001b[39mitem()\n",
      "File \u001b[1;32mc:\\Users\\xiaoy\\OneDrive\\Desktop\\P7\\p7 project\\.venv\\lib\\site-packages\\torch\\_tensor.py:521\u001b[0m, in \u001b[0;36mTensor.backward\u001b[1;34m(self, gradient, retain_graph, create_graph, inputs)\u001b[0m\n\u001b[0;32m    511\u001b[0m \u001b[38;5;28;01mif\u001b[39;00m has_torch_function_unary(\u001b[38;5;28mself\u001b[39m):\n\u001b[0;32m    512\u001b[0m     \u001b[38;5;28;01mreturn\u001b[39;00m handle_torch_function(\n\u001b[0;32m    513\u001b[0m         Tensor\u001b[38;5;241m.\u001b[39mbackward,\n\u001b[0;32m    514\u001b[0m         (\u001b[38;5;28mself\u001b[39m,),\n\u001b[1;32m   (...)\u001b[0m\n\u001b[0;32m    519\u001b[0m         inputs\u001b[38;5;241m=\u001b[39minputs,\n\u001b[0;32m    520\u001b[0m     )\n\u001b[1;32m--> 521\u001b[0m \u001b[43mtorch\u001b[49m\u001b[38;5;241;43m.\u001b[39;49m\u001b[43mautograd\u001b[49m\u001b[38;5;241;43m.\u001b[39;49m\u001b[43mbackward\u001b[49m\u001b[43m(\u001b[49m\n\u001b[0;32m    522\u001b[0m \u001b[43m    \u001b[49m\u001b[38;5;28;43mself\u001b[39;49m\u001b[43m,\u001b[49m\u001b[43m \u001b[49m\u001b[43mgradient\u001b[49m\u001b[43m,\u001b[49m\u001b[43m \u001b[49m\u001b[43mretain_graph\u001b[49m\u001b[43m,\u001b[49m\u001b[43m \u001b[49m\u001b[43mcreate_graph\u001b[49m\u001b[43m,\u001b[49m\u001b[43m \u001b[49m\u001b[43minputs\u001b[49m\u001b[38;5;241;43m=\u001b[39;49m\u001b[43minputs\u001b[49m\n\u001b[0;32m    523\u001b[0m \u001b[43m\u001b[49m\u001b[43m)\u001b[49m\n",
      "File \u001b[1;32mc:\\Users\\xiaoy\\OneDrive\\Desktop\\P7\\p7 project\\.venv\\lib\\site-packages\\torch\\autograd\\__init__.py:289\u001b[0m, in \u001b[0;36mbackward\u001b[1;34m(tensors, grad_tensors, retain_graph, create_graph, grad_variables, inputs)\u001b[0m\n\u001b[0;32m    284\u001b[0m     retain_graph \u001b[38;5;241m=\u001b[39m create_graph\n\u001b[0;32m    286\u001b[0m \u001b[38;5;66;03m# The reason we repeat the same comment below is that\u001b[39;00m\n\u001b[0;32m    287\u001b[0m \u001b[38;5;66;03m# some Python versions print out the first line of a multi-line function\u001b[39;00m\n\u001b[0;32m    288\u001b[0m \u001b[38;5;66;03m# calls in the traceback and some print out the last line\u001b[39;00m\n\u001b[1;32m--> 289\u001b[0m \u001b[43m_engine_run_backward\u001b[49m\u001b[43m(\u001b[49m\n\u001b[0;32m    290\u001b[0m \u001b[43m    \u001b[49m\u001b[43mtensors\u001b[49m\u001b[43m,\u001b[49m\n\u001b[0;32m    291\u001b[0m \u001b[43m    \u001b[49m\u001b[43mgrad_tensors_\u001b[49m\u001b[43m,\u001b[49m\n\u001b[0;32m    292\u001b[0m \u001b[43m    \u001b[49m\u001b[43mretain_graph\u001b[49m\u001b[43m,\u001b[49m\n\u001b[0;32m    293\u001b[0m \u001b[43m    \u001b[49m\u001b[43mcreate_graph\u001b[49m\u001b[43m,\u001b[49m\n\u001b[0;32m    294\u001b[0m \u001b[43m    \u001b[49m\u001b[43minputs\u001b[49m\u001b[43m,\u001b[49m\n\u001b[0;32m    295\u001b[0m \u001b[43m    \u001b[49m\u001b[43mallow_unreachable\u001b[49m\u001b[38;5;241;43m=\u001b[39;49m\u001b[38;5;28;43;01mTrue\u001b[39;49;00m\u001b[43m,\u001b[49m\n\u001b[0;32m    296\u001b[0m \u001b[43m    \u001b[49m\u001b[43maccumulate_grad\u001b[49m\u001b[38;5;241;43m=\u001b[39;49m\u001b[38;5;28;43;01mTrue\u001b[39;49;00m\u001b[43m,\u001b[49m\n\u001b[0;32m    297\u001b[0m \u001b[43m\u001b[49m\u001b[43m)\u001b[49m\n",
      "File \u001b[1;32mc:\\Users\\xiaoy\\OneDrive\\Desktop\\P7\\p7 project\\.venv\\lib\\site-packages\\torch\\autograd\\graph.py:769\u001b[0m, in \u001b[0;36m_engine_run_backward\u001b[1;34m(t_outputs, *args, **kwargs)\u001b[0m\n\u001b[0;32m    767\u001b[0m     unregister_hooks \u001b[38;5;241m=\u001b[39m _register_logging_hooks_on_whole_graph(t_outputs)\n\u001b[0;32m    768\u001b[0m \u001b[38;5;28;01mtry\u001b[39;00m:\n\u001b[1;32m--> 769\u001b[0m     \u001b[38;5;28;01mreturn\u001b[39;00m Variable\u001b[38;5;241m.\u001b[39m_execution_engine\u001b[38;5;241m.\u001b[39mrun_backward(  \u001b[38;5;66;03m# Calls into the C++ engine to run the backward pass\u001b[39;00m\n\u001b[0;32m    770\u001b[0m         t_outputs, \u001b[38;5;241m*\u001b[39margs, \u001b[38;5;241m*\u001b[39m\u001b[38;5;241m*\u001b[39mkwargs\n\u001b[0;32m    771\u001b[0m     )  \u001b[38;5;66;03m# Calls into the C++ engine to run the backward pass\u001b[39;00m\n\u001b[0;32m    772\u001b[0m \u001b[38;5;28;01mfinally\u001b[39;00m:\n\u001b[0;32m    773\u001b[0m     \u001b[38;5;28;01mif\u001b[39;00m attach_logging_hooks:\n",
      "\u001b[1;31mKeyboardInterrupt\u001b[0m: "
     ]
    }
   ],
   "source": [
    "epochs = 10\n",
    "\n",
    "train_dataset = TensorDataset(X_train, y_train_tensor)\n",
    "train_loader = DataLoader(train_dataset, batch_size=64, shuffle=True)\n",
    "test_dataset = TensorDataset(X_test, y_test_tensor)\n",
    "test_loader = DataLoader(test_dataset, batch_size=64, shuffle=True)\n",
    "device = torch.device(\"cuda\" if torch.cuda.is_available() else \"cpu\")\n",
    "\n",
    "for epoch in range(epochs):\n",
    "    model.train()\n",
    "    total_loss = 0.0\n",
    "\n",
    "    for images, labels in train_loader:\n",
    "        \n",
    "        images, labels = images.to(device), labels.to(device)\n",
    "        class_probs, binary_codes = model.forward(images, use_one_hot=False)\n",
    "\n",
    "\n",
    "        # Compute loss and update model\n",
    "        loss = compute_total_loss(class_probs, labels, binary_codes, num_blocks=8, block_size=6, gamma=0.05, mu=0.5)\n",
    "        optimizer.zero_grad()\n",
    "        loss.backward()\n",
    "        optimizer.step()\n",
    "\n",
    "        total_loss += loss.item()\n",
    "    print(binary_codes[0])\n",
    "    print(f\"Epoch [{epoch+1}/{epochs}], Loss: {total_loss / len(train_loader):.4f}\")\n"
   ]
  },
  {
   "cell_type": "code",
   "execution_count": null,
   "metadata": {},
   "outputs": [
    {
     "data": {
      "text/plain": [
       "<torch.utils.data.dataloader.DataLoader at 0x268a0a13e20>"
      ]
     },
     "execution_count": 228,
     "metadata": {},
     "output_type": "execute_result"
    }
   ],
   "source": []
  },
  {
   "cell_type": "code",
   "execution_count": 261,
   "metadata": {},
   "outputs": [
    {
     "name": "stderr",
     "output_type": "stream",
     "text": [
      "100%|██████████| 64/64 [00:00<00:00, 240.21it/s]"
     ]
    },
    {
     "name": "stdout",
     "output_type": "stream",
     "text": [
      "MAP Score: 0.52585\n"
     ]
    },
    {
     "name": "stderr",
     "output_type": "stream",
     "text": [
      "\n"
     ]
    }
   ],
   "source": [
    "model.eval()\n",
    "all_query_codes, all_query_labels = [], []\n",
    "all_db_codes, all_db_labels = [], []\n",
    "\n",
    "with torch.no_grad():\n",
    "    for images, labels in test_loader:\n",
    "        images, labels = images.to(device), labels.to(device)\n",
    "\n",
    "        _, binary_codes = model(images, use_one_hot=True)\n",
    "\n",
    "        # Ensure binary_codes is a tensor\n",
    "        if not isinstance(binary_codes, torch.Tensor):\n",
    "            raise TypeError(\"Expected binary_codes to be a tensor.\")\n",
    "        \n",
    "        all_db_codes.append(binary_codes)\n",
    "        all_db_labels.append(labels)\n",
    "\n",
    "        if len(all_query_codes) == 0:  \n",
    "            all_query_codes.append(binary_codes.clone())  \n",
    "            all_query_labels.append(labels.clone())\n",
    "\n",
    "# Concatenate all tensors\n",
    "all_query_codes = torch.cat(all_query_codes, dim=0)\n",
    "all_query_labels = torch.cat(all_query_labels, dim=0)\n",
    "all_db_codes = torch.cat(all_db_codes, dim=0)\n",
    "all_db_labels = torch.cat(all_db_labels, dim=0)\n",
    "\n",
    "# Calculate MAP Score\n",
    "map_score = meanAveragePrecision(\n",
    "    all_query_codes,\n",
    "    all_db_codes,\n",
    "    all_query_labels,\n",
    "    all_db_labels\n",
    "    )\n",
    "\n",
    "print(f\"MAP Score: {map_score:.5f}\")"
   ]
  },
  {
   "cell_type": "code",
   "execution_count": 87,
   "metadata": {},
   "outputs": [],
   "source": [
    "def entropy(p):\n",
    "    entropy_result = torch.sum(p * torch.log2(p + 1e-30), dim=1)\n",
    "    return entropy_result\n",
    "\n",
    "batch_size = binary_codes.shape[0]\n",
    "binary_codes = binary_codes.view(batch_size, 8, 6)    \n",
    "\n",
    "#Mean Entropy Loss (encourages each block to resemble a one-hot vector) using softmax binary codes\n",
    "mean_entropy_loss = entropy(binary_codes).mean()"
   ]
  },
  {
   "cell_type": "code",
   "execution_count": 90,
   "metadata": {},
   "outputs": [
    {
     "data": {
      "text/plain": [
       "tensor(-3.3904, grad_fn=<MeanBackward0>)"
      ]
     },
     "execution_count": 90,
     "metadata": {},
     "output_type": "execute_result"
    }
   ],
   "source": [
    "test = entropy(binary_codes)[0]\n",
    "test.mean()"
   ]
  },
  {
   "cell_type": "code",
   "execution_count": 94,
   "metadata": {},
   "outputs": [
    {
     "data": {
      "text/plain": [
       "tensor(-3.3979, grad_fn=<MeanBackward0>)"
      ]
     },
     "execution_count": 94,
     "metadata": {},
     "output_type": "execute_result"
    }
   ],
   "source": [
    "entropy(binary_codes)[4].mean()"
   ]
  }
 ],
 "metadata": {
  "kernelspec": {
   "display_name": ".venv",
   "language": "python",
   "name": "python3"
  },
  "language_info": {
   "codemirror_mode": {
    "name": "ipython",
    "version": 3
   },
   "file_extension": ".py",
   "mimetype": "text/x-python",
   "name": "python",
   "nbconvert_exporter": "python",
   "pygments_lexer": "ipython3",
   "version": "3.9.0"
  }
 },
 "nbformat": 4,
 "nbformat_minor": 2
}
