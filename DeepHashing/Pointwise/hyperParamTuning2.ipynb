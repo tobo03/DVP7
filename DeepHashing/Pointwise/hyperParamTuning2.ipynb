{
 "cells": [
  {
   "cell_type": "code",
   "execution_count": 159,
   "metadata": {},
   "outputs": [],
   "source": [
    "import torch\n",
    "import torch.nn as nn\n",
    "import torch.nn.functional as F\n",
    "import torch.optim as optim\n",
    "from torchvision.datasets import CIFAR10\n",
    "import torchvision.transforms as transforms\n",
    "from torch.utils.data import DataLoader, Subset, TensorDataset\n",
    "import random\n",
    "import numpy as np\n",
    "from sklearn.decomposition import PCA\n",
    "from typing import Tuple\n",
    "from tqdm import tqdm\n",
    "from scipy.spatial import distance_matrix\n",
    "import pandas as pd"
   ]
  },
  {
   "cell_type": "code",
   "execution_count": 160,
   "metadata": {},
   "outputs": [
    {
     "name": "stderr",
     "output_type": "stream",
     "text": [
      "/var/folders/9k/3q09wnl130996d8g7j3bwgbr0000gn/T/ipykernel_98979/3317944195.py:9: UserWarning: To copy construct from a tensor, it is recommended to use sourceTensor.clone().detach() or sourceTensor.clone().detach().requires_grad_(True), rather than torch.tensor(sourceTensor).\n",
      "  X_hpo_tensor = torch.tensor(X_hpo, dtype=torch.long)\n",
      "/var/folders/9k/3q09wnl130996d8g7j3bwgbr0000gn/T/ipykernel_98979/3317944195.py:12: UserWarning: To copy construct from a tensor, it is recommended to use sourceTensor.clone().detach() or sourceTensor.clone().detach().requires_grad_(True), rather than torch.tensor(sourceTensor).\n",
      "  X_valid_tensor = torch.tensor(X_valid, dtype=torch.long)\n"
     ]
    }
   ],
   "source": [
    "root = \"/Users/kristiansjorslevnielsen/Documents/DVP7/Features/\"\n",
    "# load data\n",
    "X_hpo = torch.tensor(np.load(root + \"X_hpo_Img.npy\" ))                       \n",
    "y_hpo = np.load(root + \"y_hpo_Img.npy\" )\n",
    "\n",
    "X_valid = torch.tensor( np.load(root + \"X_val_Img.npy\" ) )\n",
    "y_valid = np.load(root + \"y_val_Img.npy\")\n",
    "\n",
    "X_hpo_tensor = torch.tensor(X_hpo, dtype=torch.long)\n",
    "y_hpo_tensor = torch.tensor(y_hpo, dtype=torch.long)\n",
    "\n",
    "X_valid_tensor = torch.tensor(X_valid, dtype=torch.long)\n",
    "y_valid_tensor = torch.tensor(y_valid, dtype=torch.long)\n",
    "\n",
    "hpo_dataset = TensorDataset(X_hpo_tensor, y_hpo_tensor)\n",
    "valid_dataset = TensorDataset(X_valid_tensor, y_valid_tensor)\n",
    "\n",
    "hpo_loader = DataLoader(hpo_dataset, batch_size=64, shuffle=True)\n",
    "valid_loader = DataLoader(valid_dataset, batch_size=64, shuffle=True)\n"
   ]
  },
  {
   "cell_type": "code",
   "execution_count": 161,
   "metadata": {},
   "outputs": [
    {
     "data": {
      "text/plain": [
       "array([   1,    2,    3,    4,    5,    6,    7,    8,    9,   10,   11,\n",
       "         12,   13,   14,   15,   16,   17,   18,   19,   20,   21,   22,\n",
       "         23,   24,   25,   26,   27,   28,   29,   30,   31,   32,   33,\n",
       "         34,   35,   36,   37,   38,   39,   40,   41,   42,   43,   44,\n",
       "         45,   46,   47,   48,   49,   50,   51,   52,   53,   54,   55,\n",
       "         56,   57,   58,   59,   60,   61,   62,   63,   64,   65,   66,\n",
       "         67,   68,   69,   70,   71,   72,   73,   74,   75,   76,   77,\n",
       "         78,   79,   80,   81,   82,   83,   84,   85,   86,   87,   88,\n",
       "         89,   90,   91,   92,   93,   94,   95,   96,   97,   98,   99,\n",
       "        100,  101,  102,  103,  104,  105,  106,  107,  108,  109,  110,\n",
       "        111,  112,  113,  114,  115,  116,  117,  118,  119,  120,  121,\n",
       "        122,  123,  124,  125,  126,  127,  128,  129,  130,  131,  132,\n",
       "        133,  134,  135,  136,  137,  138,  139,  140,  141,  142,  143,\n",
       "        144,  145,  146,  147,  148,  149,  150,  151,  152,  153,  154,\n",
       "        155,  156,  157,  158,  159,  160,  161,  162,  163,  164,  165,\n",
       "        166,  167,  168,  169,  170,  171,  172,  173,  174,  175,  176,\n",
       "        177,  178,  179,  180,  181,  182,  183,  184,  185,  186,  187,\n",
       "        188,  189,  190,  191,  192,  193,  194,  195,  196,  197,  198,\n",
       "        199,  200,  201,  202,  203,  204,  205,  206,  207,  208,  209,\n",
       "        210,  211,  212,  213,  214,  215,  216,  217,  218,  219,  220,\n",
       "        221,  222,  223,  224,  225,  226,  227,  228,  229,  230,  231,\n",
       "        232,  233,  234,  235,  236,  237,  238,  239,  240,  241,  242,\n",
       "        243,  244,  245,  246,  247,  248,  249,  250,  251,  252,  253,\n",
       "        254,  255,  256,  257,  258,  259,  260,  261,  262,  263,  264,\n",
       "        265,  266,  267,  268,  269,  270,  271,  272,  273,  274,  275,\n",
       "        276,  277,  278,  279,  280,  281,  282,  283,  284,  285,  286,\n",
       "        287,  288,  289,  290,  291,  292,  293,  294,  295,  296,  297,\n",
       "        298,  299,  300,  301,  302,  303,  304,  305,  306,  307,  308,\n",
       "        309,  310,  311,  312,  313,  314,  315,  316,  317,  318,  319,\n",
       "        320,  321,  322,  323,  324,  325,  326,  327,  328,  329,  330,\n",
       "        331,  332,  333,  334,  335,  336,  337,  338,  339,  340,  341,\n",
       "        342,  343,  344,  345,  346,  347,  348,  349,  350,  351,  352,\n",
       "        353,  354,  355,  356,  357,  358,  359,  360,  361,  362,  363,\n",
       "        364,  365,  366,  367,  368,  369,  370,  371,  372,  373,  374,\n",
       "        375,  376,  377,  378,  379,  380,  381,  382,  383,  384,  385,\n",
       "        386,  387,  388,  389,  390,  391,  392,  393,  394,  395,  396,\n",
       "        397,  398,  399,  400,  401,  402,  403,  404,  405,  406,  407,\n",
       "        408,  409,  410,  411,  412,  413,  414,  415,  416,  417,  418,\n",
       "        419,  420,  421,  422,  423,  424,  425,  426,  427,  428,  429,\n",
       "        430,  431,  432,  433,  434,  435,  436,  437,  438,  439,  440,\n",
       "        441,  442,  443,  444,  445,  446,  447,  448,  449,  450,  451,\n",
       "        452,  453,  454,  455,  456,  457,  458,  459,  460,  461,  462,\n",
       "        463,  464,  465,  466,  467,  468,  469,  470,  471,  472,  473,\n",
       "        474,  475,  476,  477,  478,  479,  480,  481,  482,  483,  484,\n",
       "        485,  486,  487,  488,  489,  490,  491,  492,  493,  494,  495,\n",
       "        496,  497,  498,  499,  500,  501,  502,  503,  504,  505,  506,\n",
       "        507,  508,  509,  510,  511,  512,  513,  514,  515,  516,  517,\n",
       "        518,  519,  520,  521,  522,  523,  524,  525,  526,  527,  528,\n",
       "        529,  530,  531,  532,  533,  534,  535,  536,  537,  538,  539,\n",
       "        540,  541,  542,  543,  544,  545,  546,  547,  548,  549,  550,\n",
       "        551,  552,  553,  554,  555,  556,  557,  558,  559,  560,  561,\n",
       "        562,  563,  564,  565,  566,  567,  568,  569,  570,  571,  572,\n",
       "        573,  574,  575,  576,  577,  578,  579,  580,  581,  582,  583,\n",
       "        584,  585,  586,  587,  588,  589,  590,  591,  592,  593,  594,\n",
       "        595,  596,  597,  598,  599,  600,  601,  602,  603,  604,  605,\n",
       "        606,  607,  608,  609,  610,  611,  612,  613,  614,  615,  616,\n",
       "        617,  618,  619,  620,  621,  622,  623,  624,  625,  626,  627,\n",
       "        628,  629,  630,  631,  632,  633,  634,  635,  636,  637,  638,\n",
       "        639,  640,  641,  642,  643,  644,  645,  646,  647,  648,  649,\n",
       "        650,  651,  652,  653,  654,  655,  656,  657,  658,  659,  660,\n",
       "        661,  662,  663,  664,  665,  666,  667,  668,  669,  670,  671,\n",
       "        672,  673,  674,  675,  676,  677,  678,  679,  680,  681,  682,\n",
       "        683,  684,  685,  686,  687,  688,  689,  690,  691,  692,  693,\n",
       "        694,  695,  696,  697,  698,  699,  700,  701,  702,  703,  704,\n",
       "        705,  706,  707,  708,  709,  710,  711,  712,  713,  714,  715,\n",
       "        716,  717,  718,  719,  720,  721,  722,  723,  724,  725,  726,\n",
       "        727,  728,  729,  730,  731,  732,  733,  734,  735,  736,  737,\n",
       "        738,  739,  740,  741,  742,  743,  744,  745,  746,  747,  748,\n",
       "        749,  750,  751,  752,  753,  754,  755,  756,  757,  758,  759,\n",
       "        760,  761,  762,  763,  764,  765,  766,  767,  768,  769,  770,\n",
       "        771,  772,  773,  774,  775,  776,  777,  778,  779,  780,  781,\n",
       "        782,  783,  784,  785,  786,  787,  788,  789,  790,  791,  792,\n",
       "        793,  794,  795,  796,  797,  798,  799,  800,  801,  802,  803,\n",
       "        804,  805,  806,  807,  808,  809,  810,  811,  812,  813,  814,\n",
       "        815,  816,  817,  818,  819,  820,  821,  822,  823,  824,  825,\n",
       "        826,  827,  828,  829,  830,  831,  832,  833,  834,  835,  836,\n",
       "        837,  838,  839,  840,  841,  842,  843,  844,  845,  846,  847,\n",
       "        848,  849,  850,  851,  852,  853,  854,  855,  856,  857,  858,\n",
       "        859,  860,  861,  862,  863,  864,  865,  866,  867,  868,  869,\n",
       "        870,  871,  872,  873,  874,  875,  876,  877,  878,  879,  880,\n",
       "        881,  882,  883,  884,  885,  886,  887,  888,  889,  890,  891,\n",
       "        892,  893,  894,  895,  896,  897,  898,  899,  900,  901,  902,\n",
       "        903,  904,  905,  906,  907,  908,  909,  910,  911,  912,  913,\n",
       "        914,  915,  916,  917,  918,  919,  920,  921,  922,  923,  924,\n",
       "        925,  926,  927,  928,  929,  930,  931,  932,  933,  934,  935,\n",
       "        936,  937,  938,  939,  940,  941,  942,  943,  944,  945,  946,\n",
       "        947,  948,  949,  950,  951,  952,  953,  954,  955,  956,  957,\n",
       "        958,  959,  960,  961,  962,  963,  964,  965,  966,  967,  968,\n",
       "        969,  970,  971,  972,  973,  974,  975,  976,  977,  978,  979,\n",
       "        980,  981,  982,  983,  984,  985,  986,  987,  988,  989,  990,\n",
       "        991,  992,  993,  994,  995,  996,  997,  998,  999, 1000],\n",
       "      dtype=uint16)"
      ]
     },
     "execution_count": 161,
     "metadata": {},
     "output_type": "execute_result"
    }
   ],
   "source": [
    "np.unique(y_valid)"
   ]
  },
  {
   "cell_type": "code",
   "execution_count": 162,
   "metadata": {},
   "outputs": [],
   "source": [
    "device = torch.device(\"cuda\" if torch.cuda.is_available() else \"cpu\")\n",
    "losses = []\n",
    "maps = []"
   ]
  },
  {
   "cell_type": "code",
   "execution_count": 163,
   "metadata": {},
   "outputs": [],
   "source": [
    "import torch\n",
    "import torch.nn as nn\n",
    "import torch.nn.functional as F\n",
    "\n",
    "class SUBIC_encoder(nn.Module): \n",
    "    def __init__(self, input_size=4096, bits=48, num_classes=10, num_blocks=8, block_size=6):\n",
    "        super(SUBIC_encoder, self).__init__()\n",
    "       \n",
    "        assert bits % num_blocks == 0, \"Bits must be divisible by num_blocks\"\n",
    "\n",
    "        self.input_size = input_size\n",
    "        self.bits = bits \n",
    "        self.num_blocks = num_blocks\n",
    "        self.block_size = block_size\n",
    "        \n",
    "        # Define the encoder structure\n",
    "        self.encoder = nn.Sequential(\n",
    "            nn.Linear(input_size, 256), \n",
    "            nn.ReLU(),\n",
    "            nn.Linear(256, bits)\n",
    "        )  # Outputs binary feature vectors\n",
    "        \n",
    "        self.fc3 = nn.Linear(bits, num_classes)  # Logits for num_classes\n",
    "    \n",
    "    def block_softmax(self, x):\n",
    "        \n",
    "        batch_size = x.shape[0]\n",
    "        block_size = x.shape[1] // self.num_blocks\n",
    "        \n",
    "        # Ensure that x has the expected shape\n",
    "        assert x.shape[1] == self.bits, f\"Expected shape [batch_size, {self.bits}], got {x.shape}\"\n",
    "        \n",
    "        # Reshape and apply softmax\n",
    "        x = x.view(batch_size, self.num_blocks, block_size)\n",
    "        x = F.softmax(x, dim=-1) \n",
    "        return x.view(batch_size, -1) #-1 refers to the value that will match the original elements \n",
    "    \n",
    "    def block_one_hot(self, x):\n",
    "        batch_size = x.shape[0]\n",
    "\n",
    "        x = x.view(batch_size, self.num_blocks, self.block_size)\n",
    "        max_indices = x.argmax(dim=-1, keepdim=True)\n",
    "        \n",
    "        # Create one-hot encoding\n",
    "        one_hot = torch.zeros_like(x).scatter_(-1, max_indices, 1)\n",
    "\n",
    "        return one_hot.view(batch_size, self.bits)\n",
    "    \n",
    "    def forward(self, x, use_one_hot=False):\n",
    "        # Ensure x is a flat tensor before passing to encoder\n",
    "        batch_size = x.shape[0]\n",
    "        x = x.view(batch_size, -1)  # Flatten if necessary\n",
    "\n",
    "        z = self.encoder(x)\n",
    "\n",
    "        if use_one_hot:\n",
    "            binary_codes = self.block_one_hot(z)\n",
    "        else:\n",
    "            binary_codes = self.block_softmax(z)\n",
    "\n",
    "        class_probs = F.softmax(self.fc3(binary_codes), dim=-1) \n",
    "\n",
    "        return class_probs, binary_codes\n"
   ]
  },
  {
   "cell_type": "code",
   "execution_count": 164,
   "metadata": {},
   "outputs": [],
   "source": [
    "from itertools import product # create cartesian products for all params\n",
    "\n",
    "bits_12_param_grid = {\n",
    "'bits':12,\n",
    "'num_blocks':\n",
    "[3, 4],\n",
    "'gamma':[0.2, 0.4, 0.6, 0.8],\n",
    "'mu':[0.2, 0.4, 0.6, 0.8],\n",
    "'learning_rate': [0.0001, 0.001, 0.005, 0.01]\n",
    "}\n",
    "\n",
    "bits_24_param_grid = {\n",
    "'bits': 24,\n",
    "'num_blocks':\n",
    "[3, 6, 12],\n",
    "'gamma':[0.2, 0.4, 0.6, 0.8],\n",
    "'mu':[0.2, 0.4, 0.6, 0.8],\n",
    "'learning_rate': [0.0001, 0.001, 0.005, 0.01]\n",
    "}\n",
    "\n",
    "bits_32_param_grid = {\n",
    "'bits':32,\n",
    "'num_blocks':\n",
    "[4, 8, 16],\n",
    "'gamma':[0.2, 0.4, 0.6, 0.8],\n",
    "'mu':[0.2, 0.4, 0.6, 0.8],\n",
    "'learning_rate': [0.0001, 0.001, 0.005, 0.01]\n",
    "}\n",
    "\n",
    "bits_48_param_grid = {\n",
    "'bits':48,\n",
    "'num_blocks':\n",
    "[6, 12, 24],\n",
    "'gamma':[0.2, 0.4, 0.6, 0.8],\n",
    "'mu':[0.2, 0.4, 0.6, 0.8],\n",
    "'learning_rate': [0.0001, 0.001, 0.005, 0.01]\n",
    "}\n",
    "\n",
    "def generate_combinations(param_grid):\n",
    "    keys = list(param_grid.keys())\n",
    "    values = [v if isinstance(v, list) else [v] for v in param_grid.values()] # make list of dicts, if value is a list then take value from the list if not then take that scalar value\n",
    "    gamma_idx = keys.index(\"gamma\")\n",
    "    mu_idx = keys.index(\"mu\")\n",
    "    gamma_mu_pairs = list(zip(values[gamma_idx], values[mu_idx]))\n",
    "    combined_values = values[:gamma_idx] + [gamma_mu_pairs] + values[mu_idx+1:]\n",
    "    combined_keys = keys[:gamma_idx] + [\"gamma_mu\"] + keys[mu_idx+1:]\n",
    "    comb = list(product(*combined_values))\n",
    "    param_combinations_dicts = [\n",
    "        {\n",
    "            **dict(zip(combined_keys, comb_item)),\n",
    "            'gamma': comb_item[combined_keys.index('gamma_mu')][0],\n",
    "            'mu': comb_item[combined_keys.index('gamma_mu')][1]\n",
    "        } for comb_item in comb\n",
    "    ]\n",
    "    for comb_dict in param_combinations_dicts:\n",
    "        del comb_dict['gamma_mu']\n",
    "    \n",
    "    return param_combinations_dicts"
   ]
  },
  {
   "cell_type": "code",
   "execution_count": 165,
   "metadata": {},
   "outputs": [],
   "source": [
    "def one_hot_encode(a, m = 0):\n",
    "    if isinstance(a, torch.Tensor):\n",
    "         a = a.cpu().numpy()\n",
    "    if m<a.max():\n",
    "        m = a.max()\n",
    "    b = np.zeros((a.size, m + 1))\n",
    "    b[np.arange(a.size), a] = 1\n",
    "    \n",
    "    return b\n",
    "def meanAveragePrecision(test_hashes, training_hashes, test_labels, training_labels, n_labels=0):\n",
    "    aps = []\n",
    "    if len(training_labels.shape) == 1:\n",
    "        training_labels = one_hot_encode(training_labels, n_labels)\n",
    "        test_labels = one_hot_encode(test_labels, n_labels)\n",
    "    for i, test_hash in enumerate(tqdm(test_hashes)):\n",
    "        label = test_labels[i]\n",
    "        distances = np.abs(training_hashes - test_hashes[i]).sum(axis=1)\n",
    "        tp = np.where((training_labels*label).sum(axis=1)>0, 1, 0)\n",
    "        hash_df = pd.DataFrame({\"distances\":distances, \"tp\":tp}).reset_index()\n",
    "        hash_df = hash_df.sort_values([\"distances\", \"index\"]).reset_index(drop=True)\n",
    "        hash_df = hash_df.drop([\"index\", \"distances\"], axis=1).reset_index()\n",
    "        hash_df = hash_df[hash_df[\"tp\"]==1]\n",
    "        hash_df[\"tp\"] = hash_df[\"tp\"].cumsum()\n",
    "        hash_df[\"index\"] = hash_df[\"index\"] +1 \n",
    "        precision = np.array(hash_df[\"tp\"]) / np.array(hash_df[\"index\"])\n",
    "        ap = precision.mean()\n",
    "        aps.append(ap)\n",
    "    \n",
    "    return np.array(aps).mean()"
   ]
  },
  {
   "cell_type": "code",
   "execution_count": 166,
   "metadata": {},
   "outputs": [],
   "source": [
    "def entropy(p):\n",
    "    entropy_result = -torch.sum(p * torch.log2(p + 1e-30), dim=-1)\n",
    "    return entropy_result\n",
    "\n",
    "def cross_entropy(class_prob, target):\n",
    "    if len(target.shape) >1:\n",
    "        s = (class_prob*target).mean(axis=1)\n",
    "    else:\n",
    "        s = class_prob[torch.arange(len(target)), target]\n",
    "    return -torch.log2(s)/torch.log2(torch.FloatTensor([class_prob.shape[1]]))\n",
    "\n",
    "def compute_total_loss(class_probs, target, binary_codes, num_blocks, block_size, gamma=0.5, mu=0.5):\n",
    "    \"\"\"\n",
    "    Computes the total loss, which includes:\n",
    "    - Cross-entropy classification loss\n",
    "    - Mean entropy loss (encouraging one-hot encoding within each block)\n",
    "    - Batch entropy loss (encouraging uniform distribution across blocks)\n",
    "    \n",
    "    Parameters:\n",
    "    - class_probs: The class probabilities from the classification layer.\n",
    "    - target: The true labels.\n",
    "    - binary_codes: The binary codes generated by the encoder.\n",
    "    - num_blocks: The number of blocks in the binary codes.\n",
    "    - block_size: The size of each block in the binary codes.\n",
    "    - gamma: Weight for the mean entropy loss.\n",
    "    - mu: Weight for the batch entropy loss.\n",
    "    \n",
    "    \"\"\"\n",
    "\n",
    "    classification_loss = cross_entropy(class_probs, target)\n",
    "\n",
    "    batch_size = binary_codes.shape[0]\n",
    "    binary_codes = binary_codes.view(batch_size, num_blocks, block_size) #used in structure encoding\n",
    "\n",
    "    #Mean Entropy Loss (encourages each block to resemble a one-hot vector) using softmax binary code\n",
    "    mean_entropy_loss = entropy(binary_codes).mean(dim=1)\n",
    "\n",
    "    #Batch Entropy Loss (encourages uniform distribution across blocks)\n",
    "    average_support = binary_codes.mean(dim=0)  \n",
    "    batch_entropy_loss = entropy(average_support).mean(dim=0)\n",
    "\n",
    "    #Combine losses with weights gamma and mu\n",
    "    entropy_loss = (gamma * mean_entropy_loss - mu * batch_entropy_loss)/torch.log2(torch.FloatTensor([block_size]))\n",
    "    total_loss = (classification_loss + entropy_loss).mean()\n",
    "    \n",
    "    \n",
    "    return total_loss\n",
    "\n",
    "#logits, binary_codes = model(X_train, use_one_hot=False)\n",
    "#loss = compute_total_loss(logits, y_train_tensor, binary_codes, num_blocks=8, block_size=4, gamma=0.5, mu=0.05)"
   ]
  },
  {
   "cell_type": "code",
   "execution_count": 167,
   "metadata": {},
   "outputs": [],
   "source": [
    "def loss_function(epochs, bits, num_blocks, block_size, gamma, mu, learning_rate):\n",
    "    # Initialize model\n",
    "    model = SUBIC_encoder(\n",
    "        bits=bits,\n",
    "        input_size=X_hpo.shape[1],\n",
    "        num_classes=1001,\n",
    "        num_blocks=num_blocks,\n",
    "        block_size=block_size\n",
    "    )\n",
    "    model.to(device)  # Move model to the specified device\n",
    "    \n",
    "    # Initialize optimizer\n",
    "    optimizer = optim.Adam(model.parameters(), lr=learning_rate)\n",
    "    \n",
    "    # Track losses\n",
    "    losses = []\n",
    "\n",
    "    for epoch in range(epochs):\n",
    "        model.train()  # Set model to training mode\n",
    "        total_loss = 0.0\n",
    "\n",
    "        for images, labels in hpo_loader:\n",
    "            images, labels = images.to(device), labels.to(device)\n",
    "            images, labels = images.to(torch.float), labels.to(torch.long)\n",
    "\n",
    "            # Forward pass\n",
    "            class_probs, binary_codes = model(images, use_one_hot=False)\n",
    "\n",
    "            # Compute loss\n",
    "            loss = compute_total_loss(\n",
    "                class_probs, labels, binary_codes, num_blocks, block_size, gamma, mu\n",
    "            )\n",
    "\n",
    "            # Backward pass and optimization\n",
    "            optimizer.zero_grad()\n",
    "            loss.backward()\n",
    "            optimizer.step()\n",
    "            # Accumulate loss\n",
    "            total_loss += loss.item()\n",
    "\n",
    "        # Compute average loss for the epoch\n",
    "        avg_loss = total_loss / len(hpo_loader)\n",
    "        losses.append(avg_loss)\n",
    "        #print(f\"Epoch {epoch + 1}/{epochs}, Loss: {avg_loss:.4f}\")\n",
    "\n",
    "    return model, losses\n",
    "\n",
    "def map_on_call(model):\n",
    "    \n",
    "    model.eval()\n",
    "    all_query_codes, all_query_labels = [], []\n",
    "    all_db_codes, all_db_labels = [], []\n",
    "\n",
    "    with torch.no_grad():\n",
    "        for images, labels in valid_loader:\n",
    "            images, labels = images.to(device), labels.to(device)\n",
    "            images, labels = images.to(torch.float), labels.to(torch.long)\n",
    "\n",
    "            _, binary_codes = model(images, use_one_hot=True)\n",
    "\n",
    "            # Ensure binary_codes is a tensor\n",
    "            if not isinstance(binary_codes, torch.Tensor):\n",
    "                raise TypeError(\"Expected binary_codes to be a tensor.\")\n",
    "            \n",
    "            all_db_codes.append(binary_codes)\n",
    "            all_db_labels.append(labels)\n",
    "            if len(all_query_codes) == 0:  \n",
    "                all_query_codes.append(binary_codes.clone())  \n",
    "                all_query_labels.append(labels.clone())\n",
    "\n",
    "    # Concatenate all tensors\n",
    "    all_query_codes = torch.cat(all_query_codes, dim=0)\n",
    "    all_query_labels = torch.cat(all_query_labels, dim=0)\n",
    "    all_db_codes = torch.cat(all_db_codes, dim=0)\n",
    "    all_db_labels = torch.cat(all_db_labels, dim=0)\n",
    "\n",
    "    # Calculate MAP Score\n",
    "    map_score = meanAveragePrecision(\n",
    "        all_query_codes,\n",
    "        all_db_codes,\n",
    "        all_query_labels,\n",
    "        all_db_labels,\n",
    "        n_labels=1000\n",
    "        )\n",
    "\n",
    "    return map_score \n",
    "        "
   ]
  },
  {
   "cell_type": "code",
   "execution_count": 168,
   "metadata": {},
   "outputs": [],
   "source": [
    "bits_12_param_dicts = generate_combinations(bits_12_param_grid) \n",
    "bits_24_param_dicts = generate_combinations(bits_24_param_grid) \n",
    "bits_32_param_dicts = generate_combinations(bits_32_param_grid) \n",
    "bits_48_param_dicts = generate_combinations(bits_48_param_grid) "
   ]
  },
  {
   "cell_type": "code",
   "execution_count": 169,
   "metadata": {},
   "outputs": [],
   "source": [
    "results = []\n",
    "epochs = 100\n",
    "map_results = {}\n",
    "\n",
    "# iterate over each combination, train the model and evaluate its performance \n",
    "# initailize model with current hyperparameters\n",
    "\n",
    "def hyper_tuning(param_grid, epochs, hpo_train, hpo_loader, device):\n",
    "    results = {}  # To store MAP scores for each hyperparameter set\n",
    "    best_map_score = 0  # Initialize with a very low value\n",
    "    best_params = None  # To store the best parameter set\n",
    "\n",
    "    for params in param_grid:\n",
    "        # Extract parameters from the current set\n",
    "        bits = params['bits']\n",
    "        num_blocks = params['num_blocks']\n",
    "        block_size = bits // num_blocks\n",
    "        gamma = params['gamma']\n",
    "        mu = params['mu']\n",
    "        learning_rate = params['learning_rate']\n",
    "\n",
    "        print(f\"Testing hyperparameters: {params}\")\n",
    "\n",
    "        # Initialize model with the current hyperparameters\n",
    "        model = SUBIC_encoder(bits=bits, input_size= hpo_train.shape[1], num_classes=1001, num_blocks=num_blocks, block_size=block_size)\n",
    "        model.to(device) \n",
    "\n",
    "        # Train the model with the current parameter set\n",
    "        trained_model, _ = loss_function(epochs, bits, num_blocks, block_size, gamma, mu, learning_rate)\n",
    "\n",
    "        # Evaluate the model using MAP score\n",
    "        map_score = map_on_call(trained_model)\n",
    "        print(f\"MAP score: {map_score:.4f}\")\n",
    "\n",
    "        # Store the MAP score for the current parameter set\n",
    "        results[tuple(params.items())] = map_score\n",
    "\n",
    "        if map_score > best_map_score:\n",
    "            best_map_score = map_score\n",
    "            best_params = params\n",
    "            \n",
    "    return best_params, best_map_score, results\n",
    "\n",
    "\n"
   ]
  },
  {
   "cell_type": "code",
   "execution_count": 170,
   "metadata": {},
   "outputs": [
    {
     "name": "stdout",
     "output_type": "stream",
     "text": [
      "Testing hyperparameters: {'bits': 12, 'num_blocks': 3, 'learning_rate': 0.0001, 'gamma': 0.2, 'mu': 0.2}\n"
     ]
    },
    {
     "name": "stderr",
     "output_type": "stream",
     "text": [
      "100%|██████████| 64/64 [00:00<00:00, 112.13it/s]\n"
     ]
    },
    {
     "name": "stdout",
     "output_type": "stream",
     "text": [
      "MAP score: 0.1697\n",
      "Testing hyperparameters: {'bits': 12, 'num_blocks': 3, 'learning_rate': 0.001, 'gamma': 0.2, 'mu': 0.2}\n"
     ]
    },
    {
     "name": "stderr",
     "output_type": "stream",
     "text": [
      "100%|██████████| 64/64 [00:00<00:00, 118.94it/s]\n"
     ]
    },
    {
     "name": "stdout",
     "output_type": "stream",
     "text": [
      "MAP score: 0.1760\n",
      "Testing hyperparameters: {'bits': 12, 'num_blocks': 3, 'learning_rate': 0.005, 'gamma': 0.2, 'mu': 0.2}\n"
     ]
    },
    {
     "name": "stderr",
     "output_type": "stream",
     "text": [
      "100%|██████████| 64/64 [00:00<00:00, 119.69it/s]\n"
     ]
    },
    {
     "name": "stdout",
     "output_type": "stream",
     "text": [
      "MAP score: 0.1069\n",
      "Testing hyperparameters: {'bits': 12, 'num_blocks': 3, 'learning_rate': 0.01, 'gamma': 0.2, 'mu': 0.2}\n"
     ]
    },
    {
     "name": "stderr",
     "output_type": "stream",
     "text": [
      "100%|██████████| 64/64 [00:00<00:00, 124.45it/s]\n"
     ]
    },
    {
     "name": "stdout",
     "output_type": "stream",
     "text": [
      "MAP score: 0.0174\n",
      "Testing hyperparameters: {'bits': 12, 'num_blocks': 3, 'learning_rate': 0.0001, 'gamma': 0.4, 'mu': 0.4}\n"
     ]
    },
    {
     "name": "stderr",
     "output_type": "stream",
     "text": [
      "100%|██████████| 64/64 [00:00<00:00, 120.46it/s]\n"
     ]
    },
    {
     "name": "stdout",
     "output_type": "stream",
     "text": [
      "MAP score: 0.1700\n",
      "Testing hyperparameters: {'bits': 12, 'num_blocks': 3, 'learning_rate': 0.001, 'gamma': 0.4, 'mu': 0.4}\n"
     ]
    },
    {
     "name": "stderr",
     "output_type": "stream",
     "text": [
      "100%|██████████| 64/64 [00:00<00:00, 121.68it/s]\n"
     ]
    },
    {
     "name": "stdout",
     "output_type": "stream",
     "text": [
      "MAP score: 0.1646\n",
      "Testing hyperparameters: {'bits': 12, 'num_blocks': 3, 'learning_rate': 0.005, 'gamma': 0.4, 'mu': 0.4}\n"
     ]
    },
    {
     "name": "stderr",
     "output_type": "stream",
     "text": [
      "100%|██████████| 64/64 [00:00<00:00, 124.43it/s]\n"
     ]
    },
    {
     "name": "stdout",
     "output_type": "stream",
     "text": [
      "MAP score: 0.1460\n",
      "Testing hyperparameters: {'bits': 12, 'num_blocks': 3, 'learning_rate': 0.01, 'gamma': 0.4, 'mu': 0.4}\n"
     ]
    },
    {
     "name": "stderr",
     "output_type": "stream",
     "text": [
      "100%|██████████| 64/64 [00:00<00:00, 122.58it/s]\n"
     ]
    },
    {
     "name": "stdout",
     "output_type": "stream",
     "text": [
      "MAP score: 0.0179\n",
      "Testing hyperparameters: {'bits': 12, 'num_blocks': 3, 'learning_rate': 0.0001, 'gamma': 0.6, 'mu': 0.6}\n"
     ]
    },
    {
     "name": "stderr",
     "output_type": "stream",
     "text": [
      "100%|██████████| 64/64 [00:00<00:00, 123.74it/s]\n"
     ]
    },
    {
     "name": "stdout",
     "output_type": "stream",
     "text": [
      "MAP score: 0.1718\n",
      "Testing hyperparameters: {'bits': 12, 'num_blocks': 3, 'learning_rate': 0.001, 'gamma': 0.6, 'mu': 0.6}\n"
     ]
    },
    {
     "name": "stderr",
     "output_type": "stream",
     "text": [
      "100%|██████████| 64/64 [00:00<00:00, 119.37it/s]\n"
     ]
    },
    {
     "name": "stdout",
     "output_type": "stream",
     "text": [
      "MAP score: 0.1701\n",
      "Testing hyperparameters: {'bits': 12, 'num_blocks': 3, 'learning_rate': 0.005, 'gamma': 0.6, 'mu': 0.6}\n"
     ]
    },
    {
     "name": "stderr",
     "output_type": "stream",
     "text": [
      "100%|██████████| 64/64 [00:00<00:00, 120.33it/s]\n"
     ]
    },
    {
     "name": "stdout",
     "output_type": "stream",
     "text": [
      "MAP score: 0.1038\n",
      "Testing hyperparameters: {'bits': 12, 'num_blocks': 3, 'learning_rate': 0.01, 'gamma': 0.6, 'mu': 0.6}\n"
     ]
    },
    {
     "name": "stderr",
     "output_type": "stream",
     "text": [
      "100%|██████████| 64/64 [00:00<00:00, 121.04it/s]\n"
     ]
    },
    {
     "name": "stdout",
     "output_type": "stream",
     "text": [
      "MAP score: 0.0560\n",
      "Testing hyperparameters: {'bits': 12, 'num_blocks': 3, 'learning_rate': 0.0001, 'gamma': 0.8, 'mu': 0.8}\n"
     ]
    },
    {
     "name": "stderr",
     "output_type": "stream",
     "text": [
      "100%|██████████| 64/64 [00:00<00:00, 121.25it/s]\n"
     ]
    },
    {
     "name": "stdout",
     "output_type": "stream",
     "text": [
      "MAP score: 0.1514\n",
      "Testing hyperparameters: {'bits': 12, 'num_blocks': 3, 'learning_rate': 0.001, 'gamma': 0.8, 'mu': 0.8}\n"
     ]
    },
    {
     "name": "stderr",
     "output_type": "stream",
     "text": [
      "100%|██████████| 64/64 [00:00<00:00, 120.05it/s]\n"
     ]
    },
    {
     "name": "stdout",
     "output_type": "stream",
     "text": [
      "MAP score: 0.1571\n",
      "Testing hyperparameters: {'bits': 12, 'num_blocks': 3, 'learning_rate': 0.005, 'gamma': 0.8, 'mu': 0.8}\n"
     ]
    },
    {
     "name": "stderr",
     "output_type": "stream",
     "text": [
      "100%|██████████| 64/64 [00:00<00:00, 118.11it/s]\n"
     ]
    },
    {
     "name": "stdout",
     "output_type": "stream",
     "text": [
      "MAP score: 0.1262\n",
      "Testing hyperparameters: {'bits': 12, 'num_blocks': 3, 'learning_rate': 0.01, 'gamma': 0.8, 'mu': 0.8}\n"
     ]
    },
    {
     "name": "stderr",
     "output_type": "stream",
     "text": [
      "100%|██████████| 64/64 [00:00<00:00, 125.04it/s]\n"
     ]
    },
    {
     "name": "stdout",
     "output_type": "stream",
     "text": [
      "MAP score: 0.0177\n",
      "Testing hyperparameters: {'bits': 12, 'num_blocks': 4, 'learning_rate': 0.0001, 'gamma': 0.2, 'mu': 0.2}\n"
     ]
    },
    {
     "name": "stderr",
     "output_type": "stream",
     "text": [
      "100%|██████████| 64/64 [00:00<00:00, 120.04it/s]\n"
     ]
    },
    {
     "name": "stdout",
     "output_type": "stream",
     "text": [
      "MAP score: 0.1774\n",
      "Testing hyperparameters: {'bits': 12, 'num_blocks': 4, 'learning_rate': 0.001, 'gamma': 0.2, 'mu': 0.2}\n"
     ]
    },
    {
     "name": "stderr",
     "output_type": "stream",
     "text": [
      "100%|██████████| 64/64 [00:00<00:00, 112.49it/s]\n"
     ]
    },
    {
     "name": "stdout",
     "output_type": "stream",
     "text": [
      "MAP score: 0.1743\n",
      "Testing hyperparameters: {'bits': 12, 'num_blocks': 4, 'learning_rate': 0.005, 'gamma': 0.2, 'mu': 0.2}\n"
     ]
    },
    {
     "name": "stderr",
     "output_type": "stream",
     "text": [
      "100%|██████████| 64/64 [00:00<00:00, 122.91it/s]\n"
     ]
    },
    {
     "name": "stdout",
     "output_type": "stream",
     "text": [
      "MAP score: 0.1210\n",
      "Testing hyperparameters: {'bits': 12, 'num_blocks': 4, 'learning_rate': 0.01, 'gamma': 0.2, 'mu': 0.2}\n"
     ]
    },
    {
     "name": "stderr",
     "output_type": "stream",
     "text": [
      "100%|██████████| 64/64 [00:00<00:00, 120.89it/s]\n"
     ]
    },
    {
     "name": "stdout",
     "output_type": "stream",
     "text": [
      "MAP score: 0.0169\n",
      "Testing hyperparameters: {'bits': 12, 'num_blocks': 4, 'learning_rate': 0.0001, 'gamma': 0.4, 'mu': 0.4}\n"
     ]
    },
    {
     "name": "stderr",
     "output_type": "stream",
     "text": [
      "100%|██████████| 64/64 [00:00<00:00, 121.51it/s]\n"
     ]
    },
    {
     "name": "stdout",
     "output_type": "stream",
     "text": [
      "MAP score: 0.1699\n",
      "Testing hyperparameters: {'bits': 12, 'num_blocks': 4, 'learning_rate': 0.001, 'gamma': 0.4, 'mu': 0.4}\n"
     ]
    },
    {
     "name": "stderr",
     "output_type": "stream",
     "text": [
      "100%|██████████| 64/64 [00:00<00:00, 121.23it/s]\n"
     ]
    },
    {
     "name": "stdout",
     "output_type": "stream",
     "text": [
      "MAP score: 0.1846\n",
      "Testing hyperparameters: {'bits': 12, 'num_blocks': 4, 'learning_rate': 0.005, 'gamma': 0.4, 'mu': 0.4}\n"
     ]
    },
    {
     "name": "stderr",
     "output_type": "stream",
     "text": [
      "100%|██████████| 64/64 [00:00<00:00, 121.38it/s]\n"
     ]
    },
    {
     "name": "stdout",
     "output_type": "stream",
     "text": [
      "MAP score: 0.1001\n",
      "Testing hyperparameters: {'bits': 12, 'num_blocks': 4, 'learning_rate': 0.01, 'gamma': 0.4, 'mu': 0.4}\n"
     ]
    },
    {
     "name": "stderr",
     "output_type": "stream",
     "text": [
      "100%|██████████| 64/64 [00:00<00:00, 118.95it/s]\n"
     ]
    },
    {
     "name": "stdout",
     "output_type": "stream",
     "text": [
      "MAP score: 0.0218\n",
      "Testing hyperparameters: {'bits': 12, 'num_blocks': 4, 'learning_rate': 0.0001, 'gamma': 0.6, 'mu': 0.6}\n"
     ]
    },
    {
     "name": "stderr",
     "output_type": "stream",
     "text": [
      "100%|██████████| 64/64 [00:00<00:00, 120.14it/s]\n"
     ]
    },
    {
     "name": "stdout",
     "output_type": "stream",
     "text": [
      "MAP score: 0.1768\n",
      "Testing hyperparameters: {'bits': 12, 'num_blocks': 4, 'learning_rate': 0.001, 'gamma': 0.6, 'mu': 0.6}\n"
     ]
    },
    {
     "name": "stderr",
     "output_type": "stream",
     "text": [
      "100%|██████████| 64/64 [00:00<00:00, 120.99it/s]\n"
     ]
    },
    {
     "name": "stdout",
     "output_type": "stream",
     "text": [
      "MAP score: 0.1476\n",
      "Testing hyperparameters: {'bits': 12, 'num_blocks': 4, 'learning_rate': 0.005, 'gamma': 0.6, 'mu': 0.6}\n"
     ]
    },
    {
     "name": "stderr",
     "output_type": "stream",
     "text": [
      "100%|██████████| 64/64 [00:00<00:00, 122.05it/s]\n"
     ]
    },
    {
     "name": "stdout",
     "output_type": "stream",
     "text": [
      "MAP score: 0.1143\n",
      "Testing hyperparameters: {'bits': 12, 'num_blocks': 4, 'learning_rate': 0.01, 'gamma': 0.6, 'mu': 0.6}\n"
     ]
    },
    {
     "name": "stderr",
     "output_type": "stream",
     "text": [
      "100%|██████████| 64/64 [00:00<00:00, 122.98it/s]\n"
     ]
    },
    {
     "name": "stdout",
     "output_type": "stream",
     "text": [
      "MAP score: 0.0751\n",
      "Testing hyperparameters: {'bits': 12, 'num_blocks': 4, 'learning_rate': 0.0001, 'gamma': 0.8, 'mu': 0.8}\n"
     ]
    },
    {
     "name": "stderr",
     "output_type": "stream",
     "text": [
      "100%|██████████| 64/64 [00:00<00:00, 123.26it/s]\n"
     ]
    },
    {
     "name": "stdout",
     "output_type": "stream",
     "text": [
      "MAP score: 0.1545\n",
      "Testing hyperparameters: {'bits': 12, 'num_blocks': 4, 'learning_rate': 0.001, 'gamma': 0.8, 'mu': 0.8}\n"
     ]
    },
    {
     "name": "stderr",
     "output_type": "stream",
     "text": [
      "100%|██████████| 64/64 [00:00<00:00, 122.24it/s]\n"
     ]
    },
    {
     "name": "stdout",
     "output_type": "stream",
     "text": [
      "MAP score: 0.1660\n",
      "Testing hyperparameters: {'bits': 12, 'num_blocks': 4, 'learning_rate': 0.005, 'gamma': 0.8, 'mu': 0.8}\n"
     ]
    },
    {
     "name": "stderr",
     "output_type": "stream",
     "text": [
      "100%|██████████| 64/64 [00:00<00:00, 121.37it/s]\n"
     ]
    },
    {
     "name": "stdout",
     "output_type": "stream",
     "text": [
      "MAP score: 0.0912\n",
      "Testing hyperparameters: {'bits': 12, 'num_blocks': 4, 'learning_rate': 0.01, 'gamma': 0.8, 'mu': 0.8}\n"
     ]
    },
    {
     "name": "stderr",
     "output_type": "stream",
     "text": [
      "100%|██████████| 64/64 [00:00<00:00, 120.47it/s]"
     ]
    },
    {
     "name": "stdout",
     "output_type": "stream",
     "text": [
      "MAP score: 0.0343\n"
     ]
    },
    {
     "name": "stderr",
     "output_type": "stream",
     "text": [
      "\n"
     ]
    },
    {
     "data": {
      "text/plain": [
       "({'bits': 12,\n",
       "  'num_blocks': 4,\n",
       "  'learning_rate': 0.001,\n",
       "  'gamma': 0.4,\n",
       "  'mu': 0.4},\n",
       " 0.18459626269569707,\n",
       " {(('bits', 12),\n",
       "   ('num_blocks', 3),\n",
       "   ('learning_rate', 0.0001),\n",
       "   ('gamma', 0.2),\n",
       "   ('mu', 0.2)): 0.16971055206745572,\n",
       "  (('bits', 12),\n",
       "   ('num_blocks', 3),\n",
       "   ('learning_rate', 0.001),\n",
       "   ('gamma', 0.2),\n",
       "   ('mu', 0.2)): 0.17602711189750814,\n",
       "  (('bits', 12),\n",
       "   ('num_blocks', 3),\n",
       "   ('learning_rate', 0.005),\n",
       "   ('gamma', 0.2),\n",
       "   ('mu', 0.2)): 0.10692819174898456,\n",
       "  (('bits', 12),\n",
       "   ('num_blocks', 3),\n",
       "   ('learning_rate', 0.01),\n",
       "   ('gamma', 0.2),\n",
       "   ('mu', 0.2)): 0.017427405539185578,\n",
       "  (('bits', 12),\n",
       "   ('num_blocks', 3),\n",
       "   ('learning_rate', 0.0001),\n",
       "   ('gamma', 0.4),\n",
       "   ('mu', 0.4)): 0.16995734769269732,\n",
       "  (('bits', 12),\n",
       "   ('num_blocks', 3),\n",
       "   ('learning_rate', 0.001),\n",
       "   ('gamma', 0.4),\n",
       "   ('mu', 0.4)): 0.1645966604538863,\n",
       "  (('bits', 12),\n",
       "   ('num_blocks', 3),\n",
       "   ('learning_rate', 0.005),\n",
       "   ('gamma', 0.4),\n",
       "   ('mu', 0.4)): 0.1459933404604717,\n",
       "  (('bits', 12),\n",
       "   ('num_blocks', 3),\n",
       "   ('learning_rate', 0.01),\n",
       "   ('gamma', 0.4),\n",
       "   ('mu', 0.4)): 0.017949151971535505,\n",
       "  (('bits', 12),\n",
       "   ('num_blocks', 3),\n",
       "   ('learning_rate', 0.0001),\n",
       "   ('gamma', 0.6),\n",
       "   ('mu', 0.6)): 0.17177661265462024,\n",
       "  (('bits', 12),\n",
       "   ('num_blocks', 3),\n",
       "   ('learning_rate', 0.001),\n",
       "   ('gamma', 0.6),\n",
       "   ('mu', 0.6)): 0.17011522540547122,\n",
       "  (('bits', 12),\n",
       "   ('num_blocks', 3),\n",
       "   ('learning_rate', 0.005),\n",
       "   ('gamma', 0.6),\n",
       "   ('mu', 0.6)): 0.10383914491782098,\n",
       "  (('bits', 12),\n",
       "   ('num_blocks', 3),\n",
       "   ('learning_rate', 0.01),\n",
       "   ('gamma', 0.6),\n",
       "   ('mu', 0.6)): 0.05602462421763588,\n",
       "  (('bits', 12),\n",
       "   ('num_blocks', 3),\n",
       "   ('learning_rate', 0.0001),\n",
       "   ('gamma', 0.8),\n",
       "   ('mu', 0.8)): 0.1514383235861299,\n",
       "  (('bits', 12),\n",
       "   ('num_blocks', 3),\n",
       "   ('learning_rate', 0.001),\n",
       "   ('gamma', 0.8),\n",
       "   ('mu', 0.8)): 0.15707925627330635,\n",
       "  (('bits', 12),\n",
       "   ('num_blocks', 3),\n",
       "   ('learning_rate', 0.005),\n",
       "   ('gamma', 0.8),\n",
       "   ('mu', 0.8)): 0.12624142712707784,\n",
       "  (('bits', 12),\n",
       "   ('num_blocks', 3),\n",
       "   ('learning_rate', 0.01),\n",
       "   ('gamma', 0.8),\n",
       "   ('mu', 0.8)): 0.017667901273254176,\n",
       "  (('bits', 12),\n",
       "   ('num_blocks', 4),\n",
       "   ('learning_rate', 0.0001),\n",
       "   ('gamma', 0.2),\n",
       "   ('mu', 0.2)): 0.1774279085382625,\n",
       "  (('bits', 12),\n",
       "   ('num_blocks', 4),\n",
       "   ('learning_rate', 0.001),\n",
       "   ('gamma', 0.2),\n",
       "   ('mu', 0.2)): 0.174255024637528,\n",
       "  (('bits', 12),\n",
       "   ('num_blocks', 4),\n",
       "   ('learning_rate', 0.005),\n",
       "   ('gamma', 0.2),\n",
       "   ('mu', 0.2)): 0.12104193764525308,\n",
       "  (('bits', 12),\n",
       "   ('num_blocks', 4),\n",
       "   ('learning_rate', 0.01),\n",
       "   ('gamma', 0.2),\n",
       "   ('mu', 0.2)): 0.016900011427456084,\n",
       "  (('bits', 12),\n",
       "   ('num_blocks', 4),\n",
       "   ('learning_rate', 0.0001),\n",
       "   ('gamma', 0.4),\n",
       "   ('mu', 0.4)): 0.1699038859748171,\n",
       "  (('bits', 12),\n",
       "   ('num_blocks', 4),\n",
       "   ('learning_rate', 0.001),\n",
       "   ('gamma', 0.4),\n",
       "   ('mu', 0.4)): 0.18459626269569707,\n",
       "  (('bits', 12),\n",
       "   ('num_blocks', 4),\n",
       "   ('learning_rate', 0.005),\n",
       "   ('gamma', 0.4),\n",
       "   ('mu', 0.4)): 0.10011362062560311,\n",
       "  (('bits', 12),\n",
       "   ('num_blocks', 4),\n",
       "   ('learning_rate', 0.01),\n",
       "   ('gamma', 0.4),\n",
       "   ('mu', 0.4)): 0.021752285959368553,\n",
       "  (('bits', 12),\n",
       "   ('num_blocks', 4),\n",
       "   ('learning_rate', 0.0001),\n",
       "   ('gamma', 0.6),\n",
       "   ('mu', 0.6)): 0.17675597554583472,\n",
       "  (('bits', 12),\n",
       "   ('num_blocks', 4),\n",
       "   ('learning_rate', 0.001),\n",
       "   ('gamma', 0.6),\n",
       "   ('mu', 0.6)): 0.1475574472414673,\n",
       "  (('bits', 12),\n",
       "   ('num_blocks', 4),\n",
       "   ('learning_rate', 0.005),\n",
       "   ('gamma', 0.6),\n",
       "   ('mu', 0.6)): 0.1142567642472884,\n",
       "  (('bits', 12),\n",
       "   ('num_blocks', 4),\n",
       "   ('learning_rate', 0.01),\n",
       "   ('gamma', 0.6),\n",
       "   ('mu', 0.6)): 0.07514782715040595,\n",
       "  (('bits', 12),\n",
       "   ('num_blocks', 4),\n",
       "   ('learning_rate', 0.0001),\n",
       "   ('gamma', 0.8),\n",
       "   ('mu', 0.8)): 0.15449712143134642,\n",
       "  (('bits', 12),\n",
       "   ('num_blocks', 4),\n",
       "   ('learning_rate', 0.001),\n",
       "   ('gamma', 0.8),\n",
       "   ('mu', 0.8)): 0.16601121835357135,\n",
       "  (('bits', 12),\n",
       "   ('num_blocks', 4),\n",
       "   ('learning_rate', 0.005),\n",
       "   ('gamma', 0.8),\n",
       "   ('mu', 0.8)): 0.09124741212177027,\n",
       "  (('bits', 12),\n",
       "   ('num_blocks', 4),\n",
       "   ('learning_rate', 0.01),\n",
       "   ('gamma', 0.8),\n",
       "   ('mu', 0.8)): 0.03428465493264017})"
      ]
     },
     "execution_count": 170,
     "metadata": {},
     "output_type": "execute_result"
    }
   ],
   "source": [
    "hyper_tuning(param_grid=bits_12_param_dicts, epochs=100, hpo_train=X_hpo, hpo_loader=hpo_loader, device=device)"
   ]
  },
  {
   "cell_type": "code",
   "execution_count": 171,
   "metadata": {},
   "outputs": [
    {
     "name": "stdout",
     "output_type": "stream",
     "text": [
      "Testing hyperparameters: {'bits': 24, 'num_blocks': 3, 'learning_rate': 0.0001, 'gamma': 0.2, 'mu': 0.2}\n"
     ]
    },
    {
     "name": "stderr",
     "output_type": "stream",
     "text": [
      "100%|██████████| 64/64 [00:00<00:00, 125.53it/s]\n"
     ]
    },
    {
     "name": "stdout",
     "output_type": "stream",
     "text": [
      "MAP score: 0.2192\n",
      "Testing hyperparameters: {'bits': 24, 'num_blocks': 3, 'learning_rate': 0.001, 'gamma': 0.2, 'mu': 0.2}\n"
     ]
    },
    {
     "name": "stderr",
     "output_type": "stream",
     "text": [
      "100%|██████████| 64/64 [00:00<00:00, 119.47it/s]\n"
     ]
    },
    {
     "name": "stdout",
     "output_type": "stream",
     "text": [
      "MAP score: 0.2315\n",
      "Testing hyperparameters: {'bits': 24, 'num_blocks': 3, 'learning_rate': 0.005, 'gamma': 0.2, 'mu': 0.2}\n"
     ]
    },
    {
     "name": "stderr",
     "output_type": "stream",
     "text": [
      "100%|██████████| 64/64 [00:00<00:00, 118.89it/s]\n"
     ]
    },
    {
     "name": "stdout",
     "output_type": "stream",
     "text": [
      "MAP score: 0.1508\n",
      "Testing hyperparameters: {'bits': 24, 'num_blocks': 3, 'learning_rate': 0.01, 'gamma': 0.2, 'mu': 0.2}\n"
     ]
    },
    {
     "name": "stderr",
     "output_type": "stream",
     "text": [
      "100%|██████████| 64/64 [00:00<00:00, 127.50it/s]\n"
     ]
    },
    {
     "name": "stdout",
     "output_type": "stream",
     "text": [
      "MAP score: 0.0173\n",
      "Testing hyperparameters: {'bits': 24, 'num_blocks': 3, 'learning_rate': 0.0001, 'gamma': 0.4, 'mu': 0.4}\n"
     ]
    },
    {
     "name": "stderr",
     "output_type": "stream",
     "text": [
      "100%|██████████| 64/64 [00:00<00:00, 120.61it/s]\n"
     ]
    },
    {
     "name": "stdout",
     "output_type": "stream",
     "text": [
      "MAP score: 0.2236\n",
      "Testing hyperparameters: {'bits': 24, 'num_blocks': 3, 'learning_rate': 0.001, 'gamma': 0.4, 'mu': 0.4}\n"
     ]
    },
    {
     "name": "stderr",
     "output_type": "stream",
     "text": [
      "100%|██████████| 64/64 [00:00<00:00, 119.19it/s]\n"
     ]
    },
    {
     "name": "stdout",
     "output_type": "stream",
     "text": [
      "MAP score: 0.2346\n",
      "Testing hyperparameters: {'bits': 24, 'num_blocks': 3, 'learning_rate': 0.005, 'gamma': 0.4, 'mu': 0.4}\n"
     ]
    },
    {
     "name": "stderr",
     "output_type": "stream",
     "text": [
      "100%|██████████| 64/64 [00:00<00:00, 119.33it/s]\n"
     ]
    },
    {
     "name": "stdout",
     "output_type": "stream",
     "text": [
      "MAP score: 0.1293\n",
      "Testing hyperparameters: {'bits': 24, 'num_blocks': 3, 'learning_rate': 0.01, 'gamma': 0.4, 'mu': 0.4}\n"
     ]
    },
    {
     "name": "stderr",
     "output_type": "stream",
     "text": [
      "100%|██████████| 64/64 [00:00<00:00, 113.11it/s]\n"
     ]
    },
    {
     "name": "stdout",
     "output_type": "stream",
     "text": [
      "MAP score: 0.0441\n",
      "Testing hyperparameters: {'bits': 24, 'num_blocks': 3, 'learning_rate': 0.0001, 'gamma': 0.6, 'mu': 0.6}\n"
     ]
    },
    {
     "name": "stderr",
     "output_type": "stream",
     "text": [
      "100%|██████████| 64/64 [00:00<00:00, 117.80it/s]\n"
     ]
    },
    {
     "name": "stdout",
     "output_type": "stream",
     "text": [
      "MAP score: 0.2320\n",
      "Testing hyperparameters: {'bits': 24, 'num_blocks': 3, 'learning_rate': 0.001, 'gamma': 0.6, 'mu': 0.6}\n"
     ]
    },
    {
     "name": "stderr",
     "output_type": "stream",
     "text": [
      "100%|██████████| 64/64 [00:00<00:00, 116.92it/s]\n"
     ]
    },
    {
     "name": "stdout",
     "output_type": "stream",
     "text": [
      "MAP score: 0.2400\n",
      "Testing hyperparameters: {'bits': 24, 'num_blocks': 3, 'learning_rate': 0.005, 'gamma': 0.6, 'mu': 0.6}\n"
     ]
    },
    {
     "name": "stderr",
     "output_type": "stream",
     "text": [
      "100%|██████████| 64/64 [00:00<00:00, 116.04it/s]\n"
     ]
    },
    {
     "name": "stdout",
     "output_type": "stream",
     "text": [
      "MAP score: 0.1370\n",
      "Testing hyperparameters: {'bits': 24, 'num_blocks': 3, 'learning_rate': 0.01, 'gamma': 0.6, 'mu': 0.6}\n"
     ]
    },
    {
     "name": "stderr",
     "output_type": "stream",
     "text": [
      "100%|██████████| 64/64 [00:00<00:00, 116.20it/s]\n"
     ]
    },
    {
     "name": "stdout",
     "output_type": "stream",
     "text": [
      "MAP score: 0.0168\n",
      "Testing hyperparameters: {'bits': 24, 'num_blocks': 3, 'learning_rate': 0.0001, 'gamma': 0.8, 'mu': 0.8}\n"
     ]
    },
    {
     "name": "stderr",
     "output_type": "stream",
     "text": [
      "100%|██████████| 64/64 [00:00<00:00, 116.23it/s]\n"
     ]
    },
    {
     "name": "stdout",
     "output_type": "stream",
     "text": [
      "MAP score: 0.2091\n",
      "Testing hyperparameters: {'bits': 24, 'num_blocks': 3, 'learning_rate': 0.001, 'gamma': 0.8, 'mu': 0.8}\n"
     ]
    },
    {
     "name": "stderr",
     "output_type": "stream",
     "text": [
      "100%|██████████| 64/64 [00:00<00:00, 114.60it/s]\n"
     ]
    },
    {
     "name": "stdout",
     "output_type": "stream",
     "text": [
      "MAP score: 0.2123\n",
      "Testing hyperparameters: {'bits': 24, 'num_blocks': 3, 'learning_rate': 0.005, 'gamma': 0.8, 'mu': 0.8}\n"
     ]
    },
    {
     "name": "stderr",
     "output_type": "stream",
     "text": [
      "100%|██████████| 64/64 [00:00<00:00, 115.64it/s]\n"
     ]
    },
    {
     "name": "stdout",
     "output_type": "stream",
     "text": [
      "MAP score: 0.1660\n",
      "Testing hyperparameters: {'bits': 24, 'num_blocks': 3, 'learning_rate': 0.01, 'gamma': 0.8, 'mu': 0.8}\n"
     ]
    },
    {
     "name": "stderr",
     "output_type": "stream",
     "text": [
      "100%|██████████| 64/64 [00:00<00:00, 113.84it/s]\n"
     ]
    },
    {
     "name": "stdout",
     "output_type": "stream",
     "text": [
      "MAP score: 0.0676\n",
      "Testing hyperparameters: {'bits': 24, 'num_blocks': 6, 'learning_rate': 0.0001, 'gamma': 0.2, 'mu': 0.2}\n"
     ]
    },
    {
     "name": "stderr",
     "output_type": "stream",
     "text": [
      "100%|██████████| 64/64 [00:00<00:00, 116.93it/s]\n"
     ]
    },
    {
     "name": "stdout",
     "output_type": "stream",
     "text": [
      "MAP score: 0.2729\n",
      "Testing hyperparameters: {'bits': 24, 'num_blocks': 6, 'learning_rate': 0.001, 'gamma': 0.2, 'mu': 0.2}\n"
     ]
    },
    {
     "name": "stderr",
     "output_type": "stream",
     "text": [
      "100%|██████████| 64/64 [00:00<00:00, 118.15it/s]\n"
     ]
    },
    {
     "name": "stdout",
     "output_type": "stream",
     "text": [
      "MAP score: 0.3048\n",
      "Testing hyperparameters: {'bits': 24, 'num_blocks': 6, 'learning_rate': 0.005, 'gamma': 0.2, 'mu': 0.2}\n"
     ]
    },
    {
     "name": "stderr",
     "output_type": "stream",
     "text": [
      "100%|██████████| 64/64 [00:00<00:00, 110.64it/s]\n"
     ]
    },
    {
     "name": "stdout",
     "output_type": "stream",
     "text": [
      "MAP score: 0.1754\n",
      "Testing hyperparameters: {'bits': 24, 'num_blocks': 6, 'learning_rate': 0.01, 'gamma': 0.2, 'mu': 0.2}\n"
     ]
    },
    {
     "name": "stderr",
     "output_type": "stream",
     "text": [
      "100%|██████████| 64/64 [00:00<00:00, 122.20it/s]\n"
     ]
    },
    {
     "name": "stdout",
     "output_type": "stream",
     "text": [
      "MAP score: 0.0267\n",
      "Testing hyperparameters: {'bits': 24, 'num_blocks': 6, 'learning_rate': 0.0001, 'gamma': 0.4, 'mu': 0.4}\n"
     ]
    },
    {
     "name": "stderr",
     "output_type": "stream",
     "text": [
      "100%|██████████| 64/64 [00:00<00:00, 117.65it/s]\n"
     ]
    },
    {
     "name": "stdout",
     "output_type": "stream",
     "text": [
      "MAP score: 0.2519\n",
      "Testing hyperparameters: {'bits': 24, 'num_blocks': 6, 'learning_rate': 0.001, 'gamma': 0.4, 'mu': 0.4}\n"
     ]
    },
    {
     "name": "stderr",
     "output_type": "stream",
     "text": [
      "100%|██████████| 64/64 [00:00<00:00, 118.91it/s]\n"
     ]
    },
    {
     "name": "stdout",
     "output_type": "stream",
     "text": [
      "MAP score: 0.2369\n",
      "Testing hyperparameters: {'bits': 24, 'num_blocks': 6, 'learning_rate': 0.005, 'gamma': 0.4, 'mu': 0.4}\n"
     ]
    },
    {
     "name": "stderr",
     "output_type": "stream",
     "text": [
      "100%|██████████| 64/64 [00:00<00:00, 121.75it/s]\n"
     ]
    },
    {
     "name": "stdout",
     "output_type": "stream",
     "text": [
      "MAP score: 0.1841\n",
      "Testing hyperparameters: {'bits': 24, 'num_blocks': 6, 'learning_rate': 0.01, 'gamma': 0.4, 'mu': 0.4}\n"
     ]
    },
    {
     "name": "stderr",
     "output_type": "stream",
     "text": [
      "100%|██████████| 64/64 [00:00<00:00, 121.34it/s]\n"
     ]
    },
    {
     "name": "stdout",
     "output_type": "stream",
     "text": [
      "MAP score: 0.0167\n",
      "Testing hyperparameters: {'bits': 24, 'num_blocks': 6, 'learning_rate': 0.0001, 'gamma': 0.6, 'mu': 0.6}\n"
     ]
    },
    {
     "name": "stderr",
     "output_type": "stream",
     "text": [
      "100%|██████████| 64/64 [00:00<00:00, 116.67it/s]\n"
     ]
    },
    {
     "name": "stdout",
     "output_type": "stream",
     "text": [
      "MAP score: 0.2432\n",
      "Testing hyperparameters: {'bits': 24, 'num_blocks': 6, 'learning_rate': 0.001, 'gamma': 0.6, 'mu': 0.6}\n"
     ]
    },
    {
     "name": "stderr",
     "output_type": "stream",
     "text": [
      "100%|██████████| 64/64 [00:00<00:00, 118.13it/s]\n"
     ]
    },
    {
     "name": "stdout",
     "output_type": "stream",
     "text": [
      "MAP score: 0.2677\n",
      "Testing hyperparameters: {'bits': 24, 'num_blocks': 6, 'learning_rate': 0.005, 'gamma': 0.6, 'mu': 0.6}\n"
     ]
    },
    {
     "name": "stderr",
     "output_type": "stream",
     "text": [
      "100%|██████████| 64/64 [00:00<00:00, 109.21it/s]\n"
     ]
    },
    {
     "name": "stdout",
     "output_type": "stream",
     "text": [
      "MAP score: 0.1993\n",
      "Testing hyperparameters: {'bits': 24, 'num_blocks': 6, 'learning_rate': 0.01, 'gamma': 0.6, 'mu': 0.6}\n"
     ]
    },
    {
     "name": "stderr",
     "output_type": "stream",
     "text": [
      "100%|██████████| 64/64 [00:00<00:00, 117.78it/s]\n"
     ]
    },
    {
     "name": "stdout",
     "output_type": "stream",
     "text": [
      "MAP score: 0.0500\n",
      "Testing hyperparameters: {'bits': 24, 'num_blocks': 6, 'learning_rate': 0.0001, 'gamma': 0.8, 'mu': 0.8}\n"
     ]
    },
    {
     "name": "stderr",
     "output_type": "stream",
     "text": [
      "100%|██████████| 64/64 [00:00<00:00, 118.55it/s]\n"
     ]
    },
    {
     "name": "stdout",
     "output_type": "stream",
     "text": [
      "MAP score: 0.2336\n",
      "Testing hyperparameters: {'bits': 24, 'num_blocks': 6, 'learning_rate': 0.001, 'gamma': 0.8, 'mu': 0.8}\n"
     ]
    },
    {
     "name": "stderr",
     "output_type": "stream",
     "text": [
      "100%|██████████| 64/64 [00:00<00:00, 118.30it/s]\n"
     ]
    },
    {
     "name": "stdout",
     "output_type": "stream",
     "text": [
      "MAP score: 0.2469\n",
      "Testing hyperparameters: {'bits': 24, 'num_blocks': 6, 'learning_rate': 0.005, 'gamma': 0.8, 'mu': 0.8}\n"
     ]
    },
    {
     "name": "stderr",
     "output_type": "stream",
     "text": [
      "100%|██████████| 64/64 [00:00<00:00, 119.50it/s]\n"
     ]
    },
    {
     "name": "stdout",
     "output_type": "stream",
     "text": [
      "MAP score: 0.1627\n",
      "Testing hyperparameters: {'bits': 24, 'num_blocks': 6, 'learning_rate': 0.01, 'gamma': 0.8, 'mu': 0.8}\n"
     ]
    },
    {
     "name": "stderr",
     "output_type": "stream",
     "text": [
      "100%|██████████| 64/64 [00:00<00:00, 118.88it/s]\n"
     ]
    },
    {
     "name": "stdout",
     "output_type": "stream",
     "text": [
      "MAP score: 0.0379\n",
      "Testing hyperparameters: {'bits': 24, 'num_blocks': 12, 'learning_rate': 0.0001, 'gamma': 0.2, 'mu': 0.2}\n"
     ]
    },
    {
     "name": "stderr",
     "output_type": "stream",
     "text": [
      "100%|██████████| 64/64 [00:00<00:00, 118.29it/s]\n"
     ]
    },
    {
     "name": "stdout",
     "output_type": "stream",
     "text": [
      "MAP score: 0.2659\n",
      "Testing hyperparameters: {'bits': 24, 'num_blocks': 12, 'learning_rate': 0.001, 'gamma': 0.2, 'mu': 0.2}\n"
     ]
    },
    {
     "name": "stderr",
     "output_type": "stream",
     "text": [
      "100%|██████████| 64/64 [00:00<00:00, 113.52it/s]\n"
     ]
    },
    {
     "name": "stdout",
     "output_type": "stream",
     "text": [
      "MAP score: 0.2459\n",
      "Testing hyperparameters: {'bits': 24, 'num_blocks': 12, 'learning_rate': 0.005, 'gamma': 0.2, 'mu': 0.2}\n"
     ]
    },
    {
     "name": "stderr",
     "output_type": "stream",
     "text": [
      "100%|██████████| 64/64 [00:00<00:00, 118.38it/s]\n"
     ]
    },
    {
     "name": "stdout",
     "output_type": "stream",
     "text": [
      "MAP score: 0.1804\n",
      "Testing hyperparameters: {'bits': 24, 'num_blocks': 12, 'learning_rate': 0.01, 'gamma': 0.2, 'mu': 0.2}\n"
     ]
    },
    {
     "name": "stderr",
     "output_type": "stream",
     "text": [
      "100%|██████████| 64/64 [00:00<00:00, 116.19it/s]\n"
     ]
    },
    {
     "name": "stdout",
     "output_type": "stream",
     "text": [
      "MAP score: 0.0168\n",
      "Testing hyperparameters: {'bits': 24, 'num_blocks': 12, 'learning_rate': 0.0001, 'gamma': 0.4, 'mu': 0.4}\n"
     ]
    },
    {
     "name": "stderr",
     "output_type": "stream",
     "text": [
      "100%|██████████| 64/64 [00:00<00:00, 119.12it/s]\n"
     ]
    },
    {
     "name": "stdout",
     "output_type": "stream",
     "text": [
      "MAP score: 0.2532\n",
      "Testing hyperparameters: {'bits': 24, 'num_blocks': 12, 'learning_rate': 0.001, 'gamma': 0.4, 'mu': 0.4}\n"
     ]
    },
    {
     "name": "stderr",
     "output_type": "stream",
     "text": [
      "100%|██████████| 64/64 [00:00<00:00, 117.74it/s]\n"
     ]
    },
    {
     "name": "stdout",
     "output_type": "stream",
     "text": [
      "MAP score: 0.2521\n",
      "Testing hyperparameters: {'bits': 24, 'num_blocks': 12, 'learning_rate': 0.005, 'gamma': 0.4, 'mu': 0.4}\n"
     ]
    },
    {
     "name": "stderr",
     "output_type": "stream",
     "text": [
      "100%|██████████| 64/64 [00:00<00:00, 120.58it/s]\n"
     ]
    },
    {
     "name": "stdout",
     "output_type": "stream",
     "text": [
      "MAP score: 0.2081\n",
      "Testing hyperparameters: {'bits': 24, 'num_blocks': 12, 'learning_rate': 0.01, 'gamma': 0.4, 'mu': 0.4}\n"
     ]
    },
    {
     "name": "stderr",
     "output_type": "stream",
     "text": [
      "100%|██████████| 64/64 [00:00<00:00, 121.58it/s]\n"
     ]
    },
    {
     "name": "stdout",
     "output_type": "stream",
     "text": [
      "MAP score: 0.0267\n",
      "Testing hyperparameters: {'bits': 24, 'num_blocks': 12, 'learning_rate': 0.0001, 'gamma': 0.6, 'mu': 0.6}\n"
     ]
    },
    {
     "name": "stderr",
     "output_type": "stream",
     "text": [
      "100%|██████████| 64/64 [00:00<00:00, 118.95it/s]\n"
     ]
    },
    {
     "name": "stdout",
     "output_type": "stream",
     "text": [
      "MAP score: 0.2514\n",
      "Testing hyperparameters: {'bits': 24, 'num_blocks': 12, 'learning_rate': 0.001, 'gamma': 0.6, 'mu': 0.6}\n"
     ]
    },
    {
     "name": "stderr",
     "output_type": "stream",
     "text": [
      "100%|██████████| 64/64 [00:00<00:00, 112.17it/s]\n"
     ]
    },
    {
     "name": "stdout",
     "output_type": "stream",
     "text": [
      "MAP score: 0.2355\n",
      "Testing hyperparameters: {'bits': 24, 'num_blocks': 12, 'learning_rate': 0.005, 'gamma': 0.6, 'mu': 0.6}\n"
     ]
    },
    {
     "name": "stderr",
     "output_type": "stream",
     "text": [
      "100%|██████████| 64/64 [00:00<00:00, 121.36it/s]\n"
     ]
    },
    {
     "name": "stdout",
     "output_type": "stream",
     "text": [
      "MAP score: 0.2074\n",
      "Testing hyperparameters: {'bits': 24, 'num_blocks': 12, 'learning_rate': 0.01, 'gamma': 0.6, 'mu': 0.6}\n"
     ]
    },
    {
     "name": "stderr",
     "output_type": "stream",
     "text": [
      "100%|██████████| 64/64 [00:00<00:00, 119.82it/s]\n"
     ]
    },
    {
     "name": "stdout",
     "output_type": "stream",
     "text": [
      "MAP score: 0.0506\n",
      "Testing hyperparameters: {'bits': 24, 'num_blocks': 12, 'learning_rate': 0.0001, 'gamma': 0.8, 'mu': 0.8}\n"
     ]
    },
    {
     "name": "stderr",
     "output_type": "stream",
     "text": [
      "100%|██████████| 64/64 [00:00<00:00, 121.82it/s]\n"
     ]
    },
    {
     "name": "stdout",
     "output_type": "stream",
     "text": [
      "MAP score: 0.2358\n",
      "Testing hyperparameters: {'bits': 24, 'num_blocks': 12, 'learning_rate': 0.001, 'gamma': 0.8, 'mu': 0.8}\n"
     ]
    },
    {
     "name": "stderr",
     "output_type": "stream",
     "text": [
      "100%|██████████| 64/64 [00:00<00:00, 116.89it/s]\n"
     ]
    },
    {
     "name": "stdout",
     "output_type": "stream",
     "text": [
      "MAP score: 0.2488\n",
      "Testing hyperparameters: {'bits': 24, 'num_blocks': 12, 'learning_rate': 0.005, 'gamma': 0.8, 'mu': 0.8}\n"
     ]
    },
    {
     "name": "stderr",
     "output_type": "stream",
     "text": [
      "100%|██████████| 64/64 [00:00<00:00, 115.21it/s]\n"
     ]
    },
    {
     "name": "stdout",
     "output_type": "stream",
     "text": [
      "MAP score: 0.1860\n",
      "Testing hyperparameters: {'bits': 24, 'num_blocks': 12, 'learning_rate': 0.01, 'gamma': 0.8, 'mu': 0.8}\n"
     ]
    },
    {
     "name": "stderr",
     "output_type": "stream",
     "text": [
      "100%|██████████| 64/64 [00:00<00:00, 110.93it/s]"
     ]
    },
    {
     "name": "stdout",
     "output_type": "stream",
     "text": [
      "MAP score: 0.0283\n"
     ]
    },
    {
     "name": "stderr",
     "output_type": "stream",
     "text": [
      "\n"
     ]
    },
    {
     "data": {
      "text/plain": [
       "({'bits': 24,\n",
       "  'num_blocks': 6,\n",
       "  'learning_rate': 0.001,\n",
       "  'gamma': 0.2,\n",
       "  'mu': 0.2},\n",
       " 0.30478309700506656,\n",
       " {(('bits', 24),\n",
       "   ('num_blocks', 3),\n",
       "   ('learning_rate', 0.0001),\n",
       "   ('gamma', 0.2),\n",
       "   ('mu', 0.2)): 0.21917243086577246,\n",
       "  (('bits', 24),\n",
       "   ('num_blocks', 3),\n",
       "   ('learning_rate', 0.001),\n",
       "   ('gamma', 0.2),\n",
       "   ('mu', 0.2)): 0.23147300693103615,\n",
       "  (('bits', 24),\n",
       "   ('num_blocks', 3),\n",
       "   ('learning_rate', 0.005),\n",
       "   ('gamma', 0.2),\n",
       "   ('mu', 0.2)): 0.15083377478705057,\n",
       "  (('bits', 24),\n",
       "   ('num_blocks', 3),\n",
       "   ('learning_rate', 0.01),\n",
       "   ('gamma', 0.2),\n",
       "   ('mu', 0.2)): 0.01728212538647435,\n",
       "  (('bits', 24),\n",
       "   ('num_blocks', 3),\n",
       "   ('learning_rate', 0.0001),\n",
       "   ('gamma', 0.4),\n",
       "   ('mu', 0.4)): 0.22363319225146094,\n",
       "  (('bits', 24),\n",
       "   ('num_blocks', 3),\n",
       "   ('learning_rate', 0.001),\n",
       "   ('gamma', 0.4),\n",
       "   ('mu', 0.4)): 0.23455978240490766,\n",
       "  (('bits', 24),\n",
       "   ('num_blocks', 3),\n",
       "   ('learning_rate', 0.005),\n",
       "   ('gamma', 0.4),\n",
       "   ('mu', 0.4)): 0.1292612413664621,\n",
       "  (('bits', 24),\n",
       "   ('num_blocks', 3),\n",
       "   ('learning_rate', 0.01),\n",
       "   ('gamma', 0.4),\n",
       "   ('mu', 0.4)): 0.0441192161931995,\n",
       "  (('bits', 24),\n",
       "   ('num_blocks', 3),\n",
       "   ('learning_rate', 0.0001),\n",
       "   ('gamma', 0.6),\n",
       "   ('mu', 0.6)): 0.23195449963649822,\n",
       "  (('bits', 24),\n",
       "   ('num_blocks', 3),\n",
       "   ('learning_rate', 0.001),\n",
       "   ('gamma', 0.6),\n",
       "   ('mu', 0.6)): 0.24004719320070256,\n",
       "  (('bits', 24),\n",
       "   ('num_blocks', 3),\n",
       "   ('learning_rate', 0.005),\n",
       "   ('gamma', 0.6),\n",
       "   ('mu', 0.6)): 0.1369893840707067,\n",
       "  (('bits', 24),\n",
       "   ('num_blocks', 3),\n",
       "   ('learning_rate', 0.01),\n",
       "   ('gamma', 0.6),\n",
       "   ('mu', 0.6)): 0.01680787759385832,\n",
       "  (('bits', 24),\n",
       "   ('num_blocks', 3),\n",
       "   ('learning_rate', 0.0001),\n",
       "   ('gamma', 0.8),\n",
       "   ('mu', 0.8)): 0.20905764158855256,\n",
       "  (('bits', 24),\n",
       "   ('num_blocks', 3),\n",
       "   ('learning_rate', 0.001),\n",
       "   ('gamma', 0.8),\n",
       "   ('mu', 0.8)): 0.21231946634230003,\n",
       "  (('bits', 24),\n",
       "   ('num_blocks', 3),\n",
       "   ('learning_rate', 0.005),\n",
       "   ('gamma', 0.8),\n",
       "   ('mu', 0.8)): 0.1659975477830733,\n",
       "  (('bits', 24),\n",
       "   ('num_blocks', 3),\n",
       "   ('learning_rate', 0.01),\n",
       "   ('gamma', 0.8),\n",
       "   ('mu', 0.8)): 0.06764247519713226,\n",
       "  (('bits', 24),\n",
       "   ('num_blocks', 6),\n",
       "   ('learning_rate', 0.0001),\n",
       "   ('gamma', 0.2),\n",
       "   ('mu', 0.2)): 0.27292540748161054,\n",
       "  (('bits', 24),\n",
       "   ('num_blocks', 6),\n",
       "   ('learning_rate', 0.001),\n",
       "   ('gamma', 0.2),\n",
       "   ('mu', 0.2)): 0.30478309700506656,\n",
       "  (('bits', 24),\n",
       "   ('num_blocks', 6),\n",
       "   ('learning_rate', 0.005),\n",
       "   ('gamma', 0.2),\n",
       "   ('mu', 0.2)): 0.17542413593474876,\n",
       "  (('bits', 24),\n",
       "   ('num_blocks', 6),\n",
       "   ('learning_rate', 0.01),\n",
       "   ('gamma', 0.2),\n",
       "   ('mu', 0.2)): 0.02673281561666413,\n",
       "  (('bits', 24),\n",
       "   ('num_blocks', 6),\n",
       "   ('learning_rate', 0.0001),\n",
       "   ('gamma', 0.4),\n",
       "   ('mu', 0.4)): 0.25192628642295445,\n",
       "  (('bits', 24),\n",
       "   ('num_blocks', 6),\n",
       "   ('learning_rate', 0.001),\n",
       "   ('gamma', 0.4),\n",
       "   ('mu', 0.4)): 0.23686395972780422,\n",
       "  (('bits', 24),\n",
       "   ('num_blocks', 6),\n",
       "   ('learning_rate', 0.005),\n",
       "   ('gamma', 0.4),\n",
       "   ('mu', 0.4)): 0.18411227205293373,\n",
       "  (('bits', 24),\n",
       "   ('num_blocks', 6),\n",
       "   ('learning_rate', 0.01),\n",
       "   ('gamma', 0.4),\n",
       "   ('mu', 0.4)): 0.016655181898489507,\n",
       "  (('bits', 24),\n",
       "   ('num_blocks', 6),\n",
       "   ('learning_rate', 0.0001),\n",
       "   ('gamma', 0.6),\n",
       "   ('mu', 0.6)): 0.24322301747268263,\n",
       "  (('bits', 24),\n",
       "   ('num_blocks', 6),\n",
       "   ('learning_rate', 0.001),\n",
       "   ('gamma', 0.6),\n",
       "   ('mu', 0.6)): 0.2676876443061963,\n",
       "  (('bits', 24),\n",
       "   ('num_blocks', 6),\n",
       "   ('learning_rate', 0.005),\n",
       "   ('gamma', 0.6),\n",
       "   ('mu', 0.6)): 0.1993221638587366,\n",
       "  (('bits', 24),\n",
       "   ('num_blocks', 6),\n",
       "   ('learning_rate', 0.01),\n",
       "   ('gamma', 0.6),\n",
       "   ('mu', 0.6)): 0.049965310665759294,\n",
       "  (('bits', 24),\n",
       "   ('num_blocks', 6),\n",
       "   ('learning_rate', 0.0001),\n",
       "   ('gamma', 0.8),\n",
       "   ('mu', 0.8)): 0.23361224156230018,\n",
       "  (('bits', 24),\n",
       "   ('num_blocks', 6),\n",
       "   ('learning_rate', 0.001),\n",
       "   ('gamma', 0.8),\n",
       "   ('mu', 0.8)): 0.24690510851533864,\n",
       "  (('bits', 24),\n",
       "   ('num_blocks', 6),\n",
       "   ('learning_rate', 0.005),\n",
       "   ('gamma', 0.8),\n",
       "   ('mu', 0.8)): 0.1627055772455286,\n",
       "  (('bits', 24),\n",
       "   ('num_blocks', 6),\n",
       "   ('learning_rate', 0.01),\n",
       "   ('gamma', 0.8),\n",
       "   ('mu', 0.8)): 0.037858354650340986,\n",
       "  (('bits', 24),\n",
       "   ('num_blocks', 12),\n",
       "   ('learning_rate', 0.0001),\n",
       "   ('gamma', 0.2),\n",
       "   ('mu', 0.2)): 0.26590251222799377,\n",
       "  (('bits', 24),\n",
       "   ('num_blocks', 12),\n",
       "   ('learning_rate', 0.001),\n",
       "   ('gamma', 0.2),\n",
       "   ('mu', 0.2)): 0.2459056262126571,\n",
       "  (('bits', 24),\n",
       "   ('num_blocks', 12),\n",
       "   ('learning_rate', 0.005),\n",
       "   ('gamma', 0.2),\n",
       "   ('mu', 0.2)): 0.18039985021043348,\n",
       "  (('bits', 24),\n",
       "   ('num_blocks', 12),\n",
       "   ('learning_rate', 0.01),\n",
       "   ('gamma', 0.2),\n",
       "   ('mu', 0.2)): 0.016776263296604553,\n",
       "  (('bits', 24),\n",
       "   ('num_blocks', 12),\n",
       "   ('learning_rate', 0.0001),\n",
       "   ('gamma', 0.4),\n",
       "   ('mu', 0.4)): 0.2531687463245937,\n",
       "  (('bits', 24),\n",
       "   ('num_blocks', 12),\n",
       "   ('learning_rate', 0.001),\n",
       "   ('gamma', 0.4),\n",
       "   ('mu', 0.4)): 0.25205321742425224,\n",
       "  (('bits', 24),\n",
       "   ('num_blocks', 12),\n",
       "   ('learning_rate', 0.005),\n",
       "   ('gamma', 0.4),\n",
       "   ('mu', 0.4)): 0.20814615761053185,\n",
       "  (('bits', 24),\n",
       "   ('num_blocks', 12),\n",
       "   ('learning_rate', 0.01),\n",
       "   ('gamma', 0.4),\n",
       "   ('mu', 0.4)): 0.02672275211033851,\n",
       "  (('bits', 24),\n",
       "   ('num_blocks', 12),\n",
       "   ('learning_rate', 0.0001),\n",
       "   ('gamma', 0.6),\n",
       "   ('mu', 0.6)): 0.2513975378967134,\n",
       "  (('bits', 24),\n",
       "   ('num_blocks', 12),\n",
       "   ('learning_rate', 0.001),\n",
       "   ('gamma', 0.6),\n",
       "   ('mu', 0.6)): 0.2354728900042775,\n",
       "  (('bits', 24),\n",
       "   ('num_blocks', 12),\n",
       "   ('learning_rate', 0.005),\n",
       "   ('gamma', 0.6),\n",
       "   ('mu', 0.6)): 0.20743792278757767,\n",
       "  (('bits', 24),\n",
       "   ('num_blocks', 12),\n",
       "   ('learning_rate', 0.01),\n",
       "   ('gamma', 0.6),\n",
       "   ('mu', 0.6)): 0.0506287554507404,\n",
       "  (('bits', 24),\n",
       "   ('num_blocks', 12),\n",
       "   ('learning_rate', 0.0001),\n",
       "   ('gamma', 0.8),\n",
       "   ('mu', 0.8)): 0.23581215299473282,\n",
       "  (('bits', 24),\n",
       "   ('num_blocks', 12),\n",
       "   ('learning_rate', 0.001),\n",
       "   ('gamma', 0.8),\n",
       "   ('mu', 0.8)): 0.2487600985265978,\n",
       "  (('bits', 24),\n",
       "   ('num_blocks', 12),\n",
       "   ('learning_rate', 0.005),\n",
       "   ('gamma', 0.8),\n",
       "   ('mu', 0.8)): 0.18599089691228926,\n",
       "  (('bits', 24),\n",
       "   ('num_blocks', 12),\n",
       "   ('learning_rate', 0.01),\n",
       "   ('gamma', 0.8),\n",
       "   ('mu', 0.8)): 0.02827500631828039})"
      ]
     },
     "execution_count": 171,
     "metadata": {},
     "output_type": "execute_result"
    }
   ],
   "source": [
    "hyper_tuning(param_grid=bits_24_param_dicts, epochs=100, hpo_train=X_hpo, hpo_loader=hpo_loader, device=device)"
   ]
  },
  {
   "cell_type": "code",
   "execution_count": 172,
   "metadata": {},
   "outputs": [
    {
     "name": "stdout",
     "output_type": "stream",
     "text": [
      "Testing hyperparameters: {'bits': 32, 'num_blocks': 4, 'learning_rate': 0.0001, 'gamma': 0.2, 'mu': 0.2}\n"
     ]
    },
    {
     "name": "stderr",
     "output_type": "stream",
     "text": [
      "100%|██████████| 64/64 [00:00<00:00, 113.67it/s]\n"
     ]
    },
    {
     "name": "stdout",
     "output_type": "stream",
     "text": [
      "MAP score: 0.2636\n",
      "Testing hyperparameters: {'bits': 32, 'num_blocks': 4, 'learning_rate': 0.001, 'gamma': 0.2, 'mu': 0.2}\n"
     ]
    },
    {
     "name": "stderr",
     "output_type": "stream",
     "text": [
      "100%|██████████| 64/64 [00:00<00:00, 112.01it/s]\n"
     ]
    },
    {
     "name": "stdout",
     "output_type": "stream",
     "text": [
      "MAP score: 0.2730\n",
      "Testing hyperparameters: {'bits': 32, 'num_blocks': 4, 'learning_rate': 0.005, 'gamma': 0.2, 'mu': 0.2}\n"
     ]
    },
    {
     "name": "stderr",
     "output_type": "stream",
     "text": [
      "100%|██████████| 64/64 [00:00<00:00, 115.21it/s]\n"
     ]
    },
    {
     "name": "stdout",
     "output_type": "stream",
     "text": [
      "MAP score: 0.1783\n",
      "Testing hyperparameters: {'bits': 32, 'num_blocks': 4, 'learning_rate': 0.01, 'gamma': 0.2, 'mu': 0.2}\n"
     ]
    },
    {
     "name": "stderr",
     "output_type": "stream",
     "text": [
      "100%|██████████| 64/64 [00:00<00:00, 119.46it/s]\n"
     ]
    },
    {
     "name": "stdout",
     "output_type": "stream",
     "text": [
      "MAP score: 0.0180\n",
      "Testing hyperparameters: {'bits': 32, 'num_blocks': 4, 'learning_rate': 0.0001, 'gamma': 0.4, 'mu': 0.4}\n"
     ]
    },
    {
     "name": "stderr",
     "output_type": "stream",
     "text": [
      "100%|██████████| 64/64 [00:00<00:00, 117.66it/s]\n"
     ]
    },
    {
     "name": "stdout",
     "output_type": "stream",
     "text": [
      "MAP score: 0.2451\n",
      "Testing hyperparameters: {'bits': 32, 'num_blocks': 4, 'learning_rate': 0.001, 'gamma': 0.4, 'mu': 0.4}\n"
     ]
    },
    {
     "name": "stderr",
     "output_type": "stream",
     "text": [
      "100%|██████████| 64/64 [00:00<00:00, 116.94it/s]\n"
     ]
    },
    {
     "name": "stdout",
     "output_type": "stream",
     "text": [
      "MAP score: 0.2562\n",
      "Testing hyperparameters: {'bits': 32, 'num_blocks': 4, 'learning_rate': 0.005, 'gamma': 0.4, 'mu': 0.4}\n"
     ]
    },
    {
     "name": "stderr",
     "output_type": "stream",
     "text": [
      "100%|██████████| 64/64 [00:00<00:00, 120.32it/s]\n"
     ]
    },
    {
     "name": "stdout",
     "output_type": "stream",
     "text": [
      "MAP score: 0.1746\n",
      "Testing hyperparameters: {'bits': 32, 'num_blocks': 4, 'learning_rate': 0.01, 'gamma': 0.4, 'mu': 0.4}\n"
     ]
    },
    {
     "name": "stderr",
     "output_type": "stream",
     "text": [
      "100%|██████████| 64/64 [00:00<00:00, 119.03it/s]\n"
     ]
    },
    {
     "name": "stdout",
     "output_type": "stream",
     "text": [
      "MAP score: 0.0169\n",
      "Testing hyperparameters: {'bits': 32, 'num_blocks': 4, 'learning_rate': 0.0001, 'gamma': 0.6, 'mu': 0.6}\n"
     ]
    },
    {
     "name": "stderr",
     "output_type": "stream",
     "text": [
      "100%|██████████| 64/64 [00:00<00:00, 116.44it/s]\n"
     ]
    },
    {
     "name": "stdout",
     "output_type": "stream",
     "text": [
      "MAP score: 0.2561\n",
      "Testing hyperparameters: {'bits': 32, 'num_blocks': 4, 'learning_rate': 0.001, 'gamma': 0.6, 'mu': 0.6}\n"
     ]
    },
    {
     "name": "stderr",
     "output_type": "stream",
     "text": [
      "100%|██████████| 64/64 [00:00<00:00, 121.33it/s]\n"
     ]
    },
    {
     "name": "stdout",
     "output_type": "stream",
     "text": [
      "MAP score: 0.2408\n",
      "Testing hyperparameters: {'bits': 32, 'num_blocks': 4, 'learning_rate': 0.005, 'gamma': 0.6, 'mu': 0.6}\n"
     ]
    },
    {
     "name": "stderr",
     "output_type": "stream",
     "text": [
      "100%|██████████| 64/64 [00:00<00:00, 122.17it/s]\n"
     ]
    },
    {
     "name": "stdout",
     "output_type": "stream",
     "text": [
      "MAP score: 0.2083\n",
      "Testing hyperparameters: {'bits': 32, 'num_blocks': 4, 'learning_rate': 0.01, 'gamma': 0.6, 'mu': 0.6}\n"
     ]
    },
    {
     "name": "stderr",
     "output_type": "stream",
     "text": [
      "100%|██████████| 64/64 [00:00<00:00, 120.83it/s]\n"
     ]
    },
    {
     "name": "stdout",
     "output_type": "stream",
     "text": [
      "MAP score: 0.0167\n",
      "Testing hyperparameters: {'bits': 32, 'num_blocks': 4, 'learning_rate': 0.0001, 'gamma': 0.8, 'mu': 0.8}\n"
     ]
    },
    {
     "name": "stderr",
     "output_type": "stream",
     "text": [
      "100%|██████████| 64/64 [00:00<00:00, 118.54it/s]\n"
     ]
    },
    {
     "name": "stdout",
     "output_type": "stream",
     "text": [
      "MAP score: 0.2214\n",
      "Testing hyperparameters: {'bits': 32, 'num_blocks': 4, 'learning_rate': 0.001, 'gamma': 0.8, 'mu': 0.8}\n"
     ]
    },
    {
     "name": "stderr",
     "output_type": "stream",
     "text": [
      "100%|██████████| 64/64 [00:00<00:00, 116.45it/s]\n"
     ]
    },
    {
     "name": "stdout",
     "output_type": "stream",
     "text": [
      "MAP score: 0.2333\n",
      "Testing hyperparameters: {'bits': 32, 'num_blocks': 4, 'learning_rate': 0.005, 'gamma': 0.8, 'mu': 0.8}\n"
     ]
    },
    {
     "name": "stderr",
     "output_type": "stream",
     "text": [
      "100%|██████████| 64/64 [00:00<00:00, 121.80it/s]\n"
     ]
    },
    {
     "name": "stdout",
     "output_type": "stream",
     "text": [
      "MAP score: 0.1932\n",
      "Testing hyperparameters: {'bits': 32, 'num_blocks': 4, 'learning_rate': 0.01, 'gamma': 0.8, 'mu': 0.8}\n"
     ]
    },
    {
     "name": "stderr",
     "output_type": "stream",
     "text": [
      "100%|██████████| 64/64 [00:00<00:00, 120.14it/s]\n"
     ]
    },
    {
     "name": "stdout",
     "output_type": "stream",
     "text": [
      "MAP score: 0.0165\n",
      "Testing hyperparameters: {'bits': 32, 'num_blocks': 8, 'learning_rate': 0.0001, 'gamma': 0.2, 'mu': 0.2}\n"
     ]
    },
    {
     "name": "stderr",
     "output_type": "stream",
     "text": [
      "100%|██████████| 64/64 [00:00<00:00, 120.86it/s]\n"
     ]
    },
    {
     "name": "stdout",
     "output_type": "stream",
     "text": [
      "MAP score: 0.2843\n",
      "Testing hyperparameters: {'bits': 32, 'num_blocks': 8, 'learning_rate': 0.001, 'gamma': 0.2, 'mu': 0.2}\n"
     ]
    },
    {
     "name": "stderr",
     "output_type": "stream",
     "text": [
      "100%|██████████| 64/64 [00:00<00:00, 119.87it/s]\n"
     ]
    },
    {
     "name": "stdout",
     "output_type": "stream",
     "text": [
      "MAP score: 0.2677\n",
      "Testing hyperparameters: {'bits': 32, 'num_blocks': 8, 'learning_rate': 0.005, 'gamma': 0.2, 'mu': 0.2}\n"
     ]
    },
    {
     "name": "stderr",
     "output_type": "stream",
     "text": [
      "100%|██████████| 64/64 [00:00<00:00, 118.87it/s]\n"
     ]
    },
    {
     "name": "stdout",
     "output_type": "stream",
     "text": [
      "MAP score: 0.2150\n",
      "Testing hyperparameters: {'bits': 32, 'num_blocks': 8, 'learning_rate': 0.01, 'gamma': 0.2, 'mu': 0.2}\n"
     ]
    },
    {
     "name": "stderr",
     "output_type": "stream",
     "text": [
      "100%|██████████| 64/64 [00:00<00:00, 116.39it/s]\n"
     ]
    },
    {
     "name": "stdout",
     "output_type": "stream",
     "text": [
      "MAP score: 0.0181\n",
      "Testing hyperparameters: {'bits': 32, 'num_blocks': 8, 'learning_rate': 0.0001, 'gamma': 0.4, 'mu': 0.4}\n"
     ]
    },
    {
     "name": "stderr",
     "output_type": "stream",
     "text": [
      "100%|██████████| 64/64 [00:00<00:00, 118.90it/s]\n"
     ]
    },
    {
     "name": "stdout",
     "output_type": "stream",
     "text": [
      "MAP score: 0.2660\n",
      "Testing hyperparameters: {'bits': 32, 'num_blocks': 8, 'learning_rate': 0.001, 'gamma': 0.4, 'mu': 0.4}\n"
     ]
    },
    {
     "name": "stderr",
     "output_type": "stream",
     "text": [
      "100%|██████████| 64/64 [00:00<00:00, 118.01it/s]\n"
     ]
    },
    {
     "name": "stdout",
     "output_type": "stream",
     "text": [
      "MAP score: 0.3070\n",
      "Testing hyperparameters: {'bits': 32, 'num_blocks': 8, 'learning_rate': 0.005, 'gamma': 0.4, 'mu': 0.4}\n"
     ]
    },
    {
     "name": "stderr",
     "output_type": "stream",
     "text": [
      "100%|██████████| 64/64 [00:00<00:00, 118.52it/s]\n"
     ]
    },
    {
     "name": "stdout",
     "output_type": "stream",
     "text": [
      "MAP score: 0.2057\n",
      "Testing hyperparameters: {'bits': 32, 'num_blocks': 8, 'learning_rate': 0.01, 'gamma': 0.4, 'mu': 0.4}\n"
     ]
    },
    {
     "name": "stderr",
     "output_type": "stream",
     "text": [
      "100%|██████████| 64/64 [00:00<00:00, 122.02it/s]\n"
     ]
    },
    {
     "name": "stdout",
     "output_type": "stream",
     "text": [
      "MAP score: 0.0167\n",
      "Testing hyperparameters: {'bits': 32, 'num_blocks': 8, 'learning_rate': 0.0001, 'gamma': 0.6, 'mu': 0.6}\n"
     ]
    },
    {
     "name": "stderr",
     "output_type": "stream",
     "text": [
      "100%|██████████| 64/64 [00:00<00:00, 116.09it/s]\n"
     ]
    },
    {
     "name": "stdout",
     "output_type": "stream",
     "text": [
      "MAP score: 0.2554\n",
      "Testing hyperparameters: {'bits': 32, 'num_blocks': 8, 'learning_rate': 0.001, 'gamma': 0.6, 'mu': 0.6}\n"
     ]
    },
    {
     "name": "stderr",
     "output_type": "stream",
     "text": [
      "100%|██████████| 64/64 [00:00<00:00, 122.05it/s]\n"
     ]
    },
    {
     "name": "stdout",
     "output_type": "stream",
     "text": [
      "MAP score: 0.2793\n",
      "Testing hyperparameters: {'bits': 32, 'num_blocks': 8, 'learning_rate': 0.005, 'gamma': 0.6, 'mu': 0.6}\n"
     ]
    },
    {
     "name": "stderr",
     "output_type": "stream",
     "text": [
      "100%|██████████| 64/64 [00:00<00:00, 109.72it/s]\n"
     ]
    },
    {
     "name": "stdout",
     "output_type": "stream",
     "text": [
      "MAP score: 0.2230\n",
      "Testing hyperparameters: {'bits': 32, 'num_blocks': 8, 'learning_rate': 0.01, 'gamma': 0.6, 'mu': 0.6}\n"
     ]
    },
    {
     "name": "stderr",
     "output_type": "stream",
     "text": [
      "100%|██████████| 64/64 [00:00<00:00, 122.69it/s]\n"
     ]
    },
    {
     "name": "stdout",
     "output_type": "stream",
     "text": [
      "MAP score: 0.0415\n",
      "Testing hyperparameters: {'bits': 32, 'num_blocks': 8, 'learning_rate': 0.0001, 'gamma': 0.8, 'mu': 0.8}\n"
     ]
    },
    {
     "name": "stderr",
     "output_type": "stream",
     "text": [
      "100%|██████████| 64/64 [00:00<00:00, 118.50it/s]\n"
     ]
    },
    {
     "name": "stdout",
     "output_type": "stream",
     "text": [
      "MAP score: 0.2434\n",
      "Testing hyperparameters: {'bits': 32, 'num_blocks': 8, 'learning_rate': 0.001, 'gamma': 0.8, 'mu': 0.8}\n"
     ]
    },
    {
     "name": "stderr",
     "output_type": "stream",
     "text": [
      "100%|██████████| 64/64 [00:00<00:00, 119.93it/s]\n"
     ]
    },
    {
     "name": "stdout",
     "output_type": "stream",
     "text": [
      "MAP score: 0.2578\n",
      "Testing hyperparameters: {'bits': 32, 'num_blocks': 8, 'learning_rate': 0.005, 'gamma': 0.8, 'mu': 0.8}\n"
     ]
    },
    {
     "name": "stderr",
     "output_type": "stream",
     "text": [
      "100%|██████████| 64/64 [00:00<00:00, 124.23it/s]\n"
     ]
    },
    {
     "name": "stdout",
     "output_type": "stream",
     "text": [
      "MAP score: 0.2123\n",
      "Testing hyperparameters: {'bits': 32, 'num_blocks': 8, 'learning_rate': 0.01, 'gamma': 0.8, 'mu': 0.8}\n"
     ]
    },
    {
     "name": "stderr",
     "output_type": "stream",
     "text": [
      "100%|██████████| 64/64 [00:00<00:00, 120.50it/s]\n"
     ]
    },
    {
     "name": "stdout",
     "output_type": "stream",
     "text": [
      "MAP score: 0.0177\n",
      "Testing hyperparameters: {'bits': 32, 'num_blocks': 16, 'learning_rate': 0.0001, 'gamma': 0.2, 'mu': 0.2}\n"
     ]
    },
    {
     "name": "stderr",
     "output_type": "stream",
     "text": [
      "100%|██████████| 64/64 [00:00<00:00, 120.64it/s]\n"
     ]
    },
    {
     "name": "stdout",
     "output_type": "stream",
     "text": [
      "MAP score: 0.2756\n",
      "Testing hyperparameters: {'bits': 32, 'num_blocks': 16, 'learning_rate': 0.001, 'gamma': 0.2, 'mu': 0.2}\n"
     ]
    },
    {
     "name": "stderr",
     "output_type": "stream",
     "text": [
      "100%|██████████| 64/64 [00:00<00:00, 122.99it/s]\n"
     ]
    },
    {
     "name": "stdout",
     "output_type": "stream",
     "text": [
      "MAP score: 0.2798\n",
      "Testing hyperparameters: {'bits': 32, 'num_blocks': 16, 'learning_rate': 0.005, 'gamma': 0.2, 'mu': 0.2}\n"
     ]
    },
    {
     "name": "stderr",
     "output_type": "stream",
     "text": [
      "100%|██████████| 64/64 [00:00<00:00, 120.65it/s]\n"
     ]
    },
    {
     "name": "stdout",
     "output_type": "stream",
     "text": [
      "MAP score: 0.2113\n",
      "Testing hyperparameters: {'bits': 32, 'num_blocks': 16, 'learning_rate': 0.01, 'gamma': 0.2, 'mu': 0.2}\n"
     ]
    },
    {
     "name": "stderr",
     "output_type": "stream",
     "text": [
      "100%|██████████| 64/64 [00:00<00:00, 125.61it/s]\n"
     ]
    },
    {
     "name": "stdout",
     "output_type": "stream",
     "text": [
      "MAP score: 0.0168\n",
      "Testing hyperparameters: {'bits': 32, 'num_blocks': 16, 'learning_rate': 0.0001, 'gamma': 0.4, 'mu': 0.4}\n"
     ]
    },
    {
     "name": "stderr",
     "output_type": "stream",
     "text": [
      "100%|██████████| 64/64 [00:00<00:00, 120.38it/s]\n"
     ]
    },
    {
     "name": "stdout",
     "output_type": "stream",
     "text": [
      "MAP score: 0.2713\n",
      "Testing hyperparameters: {'bits': 32, 'num_blocks': 16, 'learning_rate': 0.001, 'gamma': 0.4, 'mu': 0.4}\n"
     ]
    },
    {
     "name": "stderr",
     "output_type": "stream",
     "text": [
      "100%|██████████| 64/64 [00:00<00:00, 111.18it/s]\n"
     ]
    },
    {
     "name": "stdout",
     "output_type": "stream",
     "text": [
      "MAP score: 0.2622\n",
      "Testing hyperparameters: {'bits': 32, 'num_blocks': 16, 'learning_rate': 0.005, 'gamma': 0.4, 'mu': 0.4}\n"
     ]
    },
    {
     "name": "stderr",
     "output_type": "stream",
     "text": [
      "100%|██████████| 64/64 [00:00<00:00, 121.67it/s]\n"
     ]
    },
    {
     "name": "stdout",
     "output_type": "stream",
     "text": [
      "MAP score: 0.2204\n",
      "Testing hyperparameters: {'bits': 32, 'num_blocks': 16, 'learning_rate': 0.01, 'gamma': 0.4, 'mu': 0.4}\n"
     ]
    },
    {
     "name": "stderr",
     "output_type": "stream",
     "text": [
      "100%|██████████| 64/64 [00:00<00:00, 121.66it/s]\n"
     ]
    },
    {
     "name": "stdout",
     "output_type": "stream",
     "text": [
      "MAP score: 0.0464\n",
      "Testing hyperparameters: {'bits': 32, 'num_blocks': 16, 'learning_rate': 0.0001, 'gamma': 0.6, 'mu': 0.6}\n"
     ]
    },
    {
     "name": "stderr",
     "output_type": "stream",
     "text": [
      "100%|██████████| 64/64 [00:00<00:00, 105.77it/s]\n"
     ]
    },
    {
     "name": "stdout",
     "output_type": "stream",
     "text": [
      "MAP score: 0.2568\n",
      "Testing hyperparameters: {'bits': 32, 'num_blocks': 16, 'learning_rate': 0.001, 'gamma': 0.6, 'mu': 0.6}\n"
     ]
    },
    {
     "name": "stderr",
     "output_type": "stream",
     "text": [
      "100%|██████████| 64/64 [00:00<00:00, 119.35it/s]\n"
     ]
    },
    {
     "name": "stdout",
     "output_type": "stream",
     "text": [
      "MAP score: 0.2794\n",
      "Testing hyperparameters: {'bits': 32, 'num_blocks': 16, 'learning_rate': 0.005, 'gamma': 0.6, 'mu': 0.6}\n"
     ]
    },
    {
     "name": "stderr",
     "output_type": "stream",
     "text": [
      "100%|██████████| 64/64 [00:00<00:00, 118.96it/s]\n"
     ]
    },
    {
     "name": "stdout",
     "output_type": "stream",
     "text": [
      "MAP score: 0.1928\n",
      "Testing hyperparameters: {'bits': 32, 'num_blocks': 16, 'learning_rate': 0.01, 'gamma': 0.6, 'mu': 0.6}\n"
     ]
    },
    {
     "name": "stderr",
     "output_type": "stream",
     "text": [
      "100%|██████████| 64/64 [00:00<00:00, 118.40it/s]\n"
     ]
    },
    {
     "name": "stdout",
     "output_type": "stream",
     "text": [
      "MAP score: 0.0170\n",
      "Testing hyperparameters: {'bits': 32, 'num_blocks': 16, 'learning_rate': 0.0001, 'gamma': 0.8, 'mu': 0.8}\n"
     ]
    },
    {
     "name": "stderr",
     "output_type": "stream",
     "text": [
      "100%|██████████| 64/64 [00:00<00:00, 118.46it/s]\n"
     ]
    },
    {
     "name": "stdout",
     "output_type": "stream",
     "text": [
      "MAP score: 0.2497\n",
      "Testing hyperparameters: {'bits': 32, 'num_blocks': 16, 'learning_rate': 0.001, 'gamma': 0.8, 'mu': 0.8}\n"
     ]
    },
    {
     "name": "stderr",
     "output_type": "stream",
     "text": [
      "100%|██████████| 64/64 [00:00<00:00, 121.80it/s]\n"
     ]
    },
    {
     "name": "stdout",
     "output_type": "stream",
     "text": [
      "MAP score: 0.2603\n",
      "Testing hyperparameters: {'bits': 32, 'num_blocks': 16, 'learning_rate': 0.005, 'gamma': 0.8, 'mu': 0.8}\n"
     ]
    },
    {
     "name": "stderr",
     "output_type": "stream",
     "text": [
      "100%|██████████| 64/64 [00:00<00:00, 120.63it/s]\n"
     ]
    },
    {
     "name": "stdout",
     "output_type": "stream",
     "text": [
      "MAP score: 0.2163\n",
      "Testing hyperparameters: {'bits': 32, 'num_blocks': 16, 'learning_rate': 0.01, 'gamma': 0.8, 'mu': 0.8}\n"
     ]
    },
    {
     "name": "stderr",
     "output_type": "stream",
     "text": [
      "100%|██████████| 64/64 [00:00<00:00, 121.71it/s]"
     ]
    },
    {
     "name": "stdout",
     "output_type": "stream",
     "text": [
      "MAP score: 0.1703\n"
     ]
    },
    {
     "name": "stderr",
     "output_type": "stream",
     "text": [
      "\n"
     ]
    },
    {
     "data": {
      "text/plain": [
       "({'bits': 32,\n",
       "  'num_blocks': 8,\n",
       "  'learning_rate': 0.001,\n",
       "  'gamma': 0.4,\n",
       "  'mu': 0.4},\n",
       " 0.3069988445021767,\n",
       " {(('bits', 32),\n",
       "   ('num_blocks', 4),\n",
       "   ('learning_rate', 0.0001),\n",
       "   ('gamma', 0.2),\n",
       "   ('mu', 0.2)): 0.2635838576328709,\n",
       "  (('bits', 32),\n",
       "   ('num_blocks', 4),\n",
       "   ('learning_rate', 0.001),\n",
       "   ('gamma', 0.2),\n",
       "   ('mu', 0.2)): 0.2730196758822694,\n",
       "  (('bits', 32),\n",
       "   ('num_blocks', 4),\n",
       "   ('learning_rate', 0.005),\n",
       "   ('gamma', 0.2),\n",
       "   ('mu', 0.2)): 0.17827219107759446,\n",
       "  (('bits', 32),\n",
       "   ('num_blocks', 4),\n",
       "   ('learning_rate', 0.01),\n",
       "   ('gamma', 0.2),\n",
       "   ('mu', 0.2)): 0.0179533992397006,\n",
       "  (('bits', 32),\n",
       "   ('num_blocks', 4),\n",
       "   ('learning_rate', 0.0001),\n",
       "   ('gamma', 0.4),\n",
       "   ('mu', 0.4)): 0.24511459049371892,\n",
       "  (('bits', 32),\n",
       "   ('num_blocks', 4),\n",
       "   ('learning_rate', 0.001),\n",
       "   ('gamma', 0.4),\n",
       "   ('mu', 0.4)): 0.256180671659857,\n",
       "  (('bits', 32),\n",
       "   ('num_blocks', 4),\n",
       "   ('learning_rate', 0.005),\n",
       "   ('gamma', 0.4),\n",
       "   ('mu', 0.4)): 0.17457291140268835,\n",
       "  (('bits', 32),\n",
       "   ('num_blocks', 4),\n",
       "   ('learning_rate', 0.01),\n",
       "   ('gamma', 0.4),\n",
       "   ('mu', 0.4)): 0.01690336706518576,\n",
       "  (('bits', 32),\n",
       "   ('num_blocks', 4),\n",
       "   ('learning_rate', 0.0001),\n",
       "   ('gamma', 0.6),\n",
       "   ('mu', 0.6)): 0.256124141772739,\n",
       "  (('bits', 32),\n",
       "   ('num_blocks', 4),\n",
       "   ('learning_rate', 0.001),\n",
       "   ('gamma', 0.6),\n",
       "   ('mu', 0.6)): 0.2408022073869406,\n",
       "  (('bits', 32),\n",
       "   ('num_blocks', 4),\n",
       "   ('learning_rate', 0.005),\n",
       "   ('gamma', 0.6),\n",
       "   ('mu', 0.6)): 0.2082653953162071,\n",
       "  (('bits', 32),\n",
       "   ('num_blocks', 4),\n",
       "   ('learning_rate', 0.01),\n",
       "   ('gamma', 0.6),\n",
       "   ('mu', 0.6)): 0.016669188297227192,\n",
       "  (('bits', 32),\n",
       "   ('num_blocks', 4),\n",
       "   ('learning_rate', 0.0001),\n",
       "   ('gamma', 0.8),\n",
       "   ('mu', 0.8)): 0.22140212208507937,\n",
       "  (('bits', 32),\n",
       "   ('num_blocks', 4),\n",
       "   ('learning_rate', 0.001),\n",
       "   ('gamma', 0.8),\n",
       "   ('mu', 0.8)): 0.2333462632355192,\n",
       "  (('bits', 32),\n",
       "   ('num_blocks', 4),\n",
       "   ('learning_rate', 0.005),\n",
       "   ('gamma', 0.8),\n",
       "   ('mu', 0.8)): 0.19317782732958738,\n",
       "  (('bits', 32),\n",
       "   ('num_blocks', 4),\n",
       "   ('learning_rate', 0.01),\n",
       "   ('gamma', 0.8),\n",
       "   ('mu', 0.8)): 0.01653498104676622,\n",
       "  (('bits', 32),\n",
       "   ('num_blocks', 8),\n",
       "   ('learning_rate', 0.0001),\n",
       "   ('gamma', 0.2),\n",
       "   ('mu', 0.2)): 0.2843361728069827,\n",
       "  (('bits', 32),\n",
       "   ('num_blocks', 8),\n",
       "   ('learning_rate', 0.001),\n",
       "   ('gamma', 0.2),\n",
       "   ('mu', 0.2)): 0.26772486997597666,\n",
       "  (('bits', 32),\n",
       "   ('num_blocks', 8),\n",
       "   ('learning_rate', 0.005),\n",
       "   ('gamma', 0.2),\n",
       "   ('mu', 0.2)): 0.2149885877244641,\n",
       "  (('bits', 32),\n",
       "   ('num_blocks', 8),\n",
       "   ('learning_rate', 0.01),\n",
       "   ('gamma', 0.2),\n",
       "   ('mu', 0.2)): 0.01805069373878104,\n",
       "  (('bits', 32),\n",
       "   ('num_blocks', 8),\n",
       "   ('learning_rate', 0.0001),\n",
       "   ('gamma', 0.4),\n",
       "   ('mu', 0.4)): 0.265970973813221,\n",
       "  (('bits', 32),\n",
       "   ('num_blocks', 8),\n",
       "   ('learning_rate', 0.001),\n",
       "   ('gamma', 0.4),\n",
       "   ('mu', 0.4)): 0.3069988445021767,\n",
       "  (('bits', 32),\n",
       "   ('num_blocks', 8),\n",
       "   ('learning_rate', 0.005),\n",
       "   ('gamma', 0.4),\n",
       "   ('mu', 0.4)): 0.2056676826983458,\n",
       "  (('bits', 32),\n",
       "   ('num_blocks', 8),\n",
       "   ('learning_rate', 0.01),\n",
       "   ('gamma', 0.4),\n",
       "   ('mu', 0.4)): 0.01667315651400046,\n",
       "  (('bits', 32),\n",
       "   ('num_blocks', 8),\n",
       "   ('learning_rate', 0.0001),\n",
       "   ('gamma', 0.6),\n",
       "   ('mu', 0.6)): 0.25541072742508647,\n",
       "  (('bits', 32),\n",
       "   ('num_blocks', 8),\n",
       "   ('learning_rate', 0.001),\n",
       "   ('gamma', 0.6),\n",
       "   ('mu', 0.6)): 0.2792795470430228,\n",
       "  (('bits', 32),\n",
       "   ('num_blocks', 8),\n",
       "   ('learning_rate', 0.005),\n",
       "   ('gamma', 0.6),\n",
       "   ('mu', 0.6)): 0.2229646129886328,\n",
       "  (('bits', 32),\n",
       "   ('num_blocks', 8),\n",
       "   ('learning_rate', 0.01),\n",
       "   ('gamma', 0.6),\n",
       "   ('mu', 0.6)): 0.04147563171183924,\n",
       "  (('bits', 32),\n",
       "   ('num_blocks', 8),\n",
       "   ('learning_rate', 0.0001),\n",
       "   ('gamma', 0.8),\n",
       "   ('mu', 0.8)): 0.24335291204426174,\n",
       "  (('bits', 32),\n",
       "   ('num_blocks', 8),\n",
       "   ('learning_rate', 0.001),\n",
       "   ('gamma', 0.8),\n",
       "   ('mu', 0.8)): 0.25782335715478677,\n",
       "  (('bits', 32),\n",
       "   ('num_blocks', 8),\n",
       "   ('learning_rate', 0.005),\n",
       "   ('gamma', 0.8),\n",
       "   ('mu', 0.8)): 0.2123239120200608,\n",
       "  (('bits', 32),\n",
       "   ('num_blocks', 8),\n",
       "   ('learning_rate', 0.01),\n",
       "   ('gamma', 0.8),\n",
       "   ('mu', 0.8)): 0.017652389652366093,\n",
       "  (('bits', 32),\n",
       "   ('num_blocks', 16),\n",
       "   ('learning_rate', 0.0001),\n",
       "   ('gamma', 0.2),\n",
       "   ('mu', 0.2)): 0.27564506589841653,\n",
       "  (('bits', 32),\n",
       "   ('num_blocks', 16),\n",
       "   ('learning_rate', 0.001),\n",
       "   ('gamma', 0.2),\n",
       "   ('mu', 0.2)): 0.27976003511908176,\n",
       "  (('bits', 32),\n",
       "   ('num_blocks', 16),\n",
       "   ('learning_rate', 0.005),\n",
       "   ('gamma', 0.2),\n",
       "   ('mu', 0.2)): 0.21127586382168778,\n",
       "  (('bits', 32),\n",
       "   ('num_blocks', 16),\n",
       "   ('learning_rate', 0.01),\n",
       "   ('gamma', 0.2),\n",
       "   ('mu', 0.2)): 0.016821616712082245,\n",
       "  (('bits', 32),\n",
       "   ('num_blocks', 16),\n",
       "   ('learning_rate', 0.0001),\n",
       "   ('gamma', 0.4),\n",
       "   ('mu', 0.4)): 0.2713115836164209,\n",
       "  (('bits', 32),\n",
       "   ('num_blocks', 16),\n",
       "   ('learning_rate', 0.001),\n",
       "   ('gamma', 0.4),\n",
       "   ('mu', 0.4)): 0.2622338173461103,\n",
       "  (('bits', 32),\n",
       "   ('num_blocks', 16),\n",
       "   ('learning_rate', 0.005),\n",
       "   ('gamma', 0.4),\n",
       "   ('mu', 0.4)): 0.22038107539991048,\n",
       "  (('bits', 32),\n",
       "   ('num_blocks', 16),\n",
       "   ('learning_rate', 0.01),\n",
       "   ('gamma', 0.4),\n",
       "   ('mu', 0.4)): 0.046376287129081914,\n",
       "  (('bits', 32),\n",
       "   ('num_blocks', 16),\n",
       "   ('learning_rate', 0.0001),\n",
       "   ('gamma', 0.6),\n",
       "   ('mu', 0.6)): 0.2567500401486832,\n",
       "  (('bits', 32),\n",
       "   ('num_blocks', 16),\n",
       "   ('learning_rate', 0.001),\n",
       "   ('gamma', 0.6),\n",
       "   ('mu', 0.6)): 0.27935296311667446,\n",
       "  (('bits', 32),\n",
       "   ('num_blocks', 16),\n",
       "   ('learning_rate', 0.005),\n",
       "   ('gamma', 0.6),\n",
       "   ('mu', 0.6)): 0.19275927007821758,\n",
       "  (('bits', 32),\n",
       "   ('num_blocks', 16),\n",
       "   ('learning_rate', 0.01),\n",
       "   ('gamma', 0.6),\n",
       "   ('mu', 0.6)): 0.017010164749250545,\n",
       "  (('bits', 32),\n",
       "   ('num_blocks', 16),\n",
       "   ('learning_rate', 0.0001),\n",
       "   ('gamma', 0.8),\n",
       "   ('mu', 0.8)): 0.24968009462924715,\n",
       "  (('bits', 32),\n",
       "   ('num_blocks', 16),\n",
       "   ('learning_rate', 0.001),\n",
       "   ('gamma', 0.8),\n",
       "   ('mu', 0.8)): 0.2603467219177453,\n",
       "  (('bits', 32),\n",
       "   ('num_blocks', 16),\n",
       "   ('learning_rate', 0.005),\n",
       "   ('gamma', 0.8),\n",
       "   ('mu', 0.8)): 0.2163168479814983,\n",
       "  (('bits', 32),\n",
       "   ('num_blocks', 16),\n",
       "   ('learning_rate', 0.01),\n",
       "   ('gamma', 0.8),\n",
       "   ('mu', 0.8)): 0.17032235126018463})"
      ]
     },
     "execution_count": 172,
     "metadata": {},
     "output_type": "execute_result"
    }
   ],
   "source": [
    "hyper_tuning(param_grid=bits_32_param_dicts, epochs=100, hpo_train=X_hpo, hpo_loader=hpo_loader, device=device)"
   ]
  },
  {
   "cell_type": "code",
   "execution_count": 173,
   "metadata": {},
   "outputs": [
    {
     "name": "stdout",
     "output_type": "stream",
     "text": [
      "Testing hyperparameters: {'bits': 48, 'num_blocks': 6, 'learning_rate': 0.0001, 'gamma': 0.2, 'mu': 0.2}\n"
     ]
    },
    {
     "name": "stderr",
     "output_type": "stream",
     "text": [
      "100%|██████████| 64/64 [00:00<00:00, 123.69it/s]\n"
     ]
    },
    {
     "name": "stdout",
     "output_type": "stream",
     "text": [
      "MAP score: 0.3057\n",
      "Testing hyperparameters: {'bits': 48, 'num_blocks': 6, 'learning_rate': 0.001, 'gamma': 0.2, 'mu': 0.2}\n"
     ]
    },
    {
     "name": "stderr",
     "output_type": "stream",
     "text": [
      "100%|██████████| 64/64 [00:00<00:00, 119.86it/s]\n"
     ]
    },
    {
     "name": "stdout",
     "output_type": "stream",
     "text": [
      "MAP score: 0.2884\n",
      "Testing hyperparameters: {'bits': 48, 'num_blocks': 6, 'learning_rate': 0.005, 'gamma': 0.2, 'mu': 0.2}\n"
     ]
    },
    {
     "name": "stderr",
     "output_type": "stream",
     "text": [
      "100%|██████████| 64/64 [00:00<00:00, 125.41it/s]\n"
     ]
    },
    {
     "name": "stdout",
     "output_type": "stream",
     "text": [
      "MAP score: 0.1876\n",
      "Testing hyperparameters: {'bits': 48, 'num_blocks': 6, 'learning_rate': 0.01, 'gamma': 0.2, 'mu': 0.2}\n"
     ]
    },
    {
     "name": "stderr",
     "output_type": "stream",
     "text": [
      "100%|██████████| 64/64 [00:00<00:00, 126.14it/s]\n"
     ]
    },
    {
     "name": "stdout",
     "output_type": "stream",
     "text": [
      "MAP score: 0.0182\n",
      "Testing hyperparameters: {'bits': 48, 'num_blocks': 6, 'learning_rate': 0.0001, 'gamma': 0.4, 'mu': 0.4}\n"
     ]
    },
    {
     "name": "stderr",
     "output_type": "stream",
     "text": [
      "100%|██████████| 64/64 [00:00<00:00, 124.00it/s]\n"
     ]
    },
    {
     "name": "stdout",
     "output_type": "stream",
     "text": [
      "MAP score: 0.2648\n",
      "Testing hyperparameters: {'bits': 48, 'num_blocks': 6, 'learning_rate': 0.001, 'gamma': 0.4, 'mu': 0.4}\n"
     ]
    },
    {
     "name": "stderr",
     "output_type": "stream",
     "text": [
      "100%|██████████| 64/64 [00:00<00:00, 122.42it/s]\n"
     ]
    },
    {
     "name": "stdout",
     "output_type": "stream",
     "text": [
      "MAP score: 0.3097\n",
      "Testing hyperparameters: {'bits': 48, 'num_blocks': 6, 'learning_rate': 0.005, 'gamma': 0.4, 'mu': 0.4}\n"
     ]
    },
    {
     "name": "stderr",
     "output_type": "stream",
     "text": [
      "100%|██████████| 64/64 [00:00<00:00, 122.41it/s]\n"
     ]
    },
    {
     "name": "stdout",
     "output_type": "stream",
     "text": [
      "MAP score: 0.1864\n",
      "Testing hyperparameters: {'bits': 48, 'num_blocks': 6, 'learning_rate': 0.01, 'gamma': 0.4, 'mu': 0.4}\n"
     ]
    },
    {
     "name": "stderr",
     "output_type": "stream",
     "text": [
      "100%|██████████| 64/64 [00:00<00:00, 122.88it/s]\n"
     ]
    },
    {
     "name": "stdout",
     "output_type": "stream",
     "text": [
      "MAP score: 0.0169\n",
      "Testing hyperparameters: {'bits': 48, 'num_blocks': 6, 'learning_rate': 0.0001, 'gamma': 0.6, 'mu': 0.6}\n"
     ]
    },
    {
     "name": "stderr",
     "output_type": "stream",
     "text": [
      "100%|██████████| 64/64 [00:00<00:00, 118.87it/s]\n"
     ]
    },
    {
     "name": "stdout",
     "output_type": "stream",
     "text": [
      "MAP score: 0.2606\n",
      "Testing hyperparameters: {'bits': 48, 'num_blocks': 6, 'learning_rate': 0.001, 'gamma': 0.6, 'mu': 0.6}\n"
     ]
    },
    {
     "name": "stderr",
     "output_type": "stream",
     "text": [
      "100%|██████████| 64/64 [00:00<00:00, 119.16it/s]\n"
     ]
    },
    {
     "name": "stdout",
     "output_type": "stream",
     "text": [
      "MAP score: 0.2901\n",
      "Testing hyperparameters: {'bits': 48, 'num_blocks': 6, 'learning_rate': 0.005, 'gamma': 0.6, 'mu': 0.6}\n"
     ]
    },
    {
     "name": "stderr",
     "output_type": "stream",
     "text": [
      "100%|██████████| 64/64 [00:00<00:00, 112.03it/s]\n"
     ]
    },
    {
     "name": "stdout",
     "output_type": "stream",
     "text": [
      "MAP score: 0.2110\n",
      "Testing hyperparameters: {'bits': 48, 'num_blocks': 6, 'learning_rate': 0.01, 'gamma': 0.6, 'mu': 0.6}\n"
     ]
    },
    {
     "name": "stderr",
     "output_type": "stream",
     "text": [
      "100%|██████████| 64/64 [00:00<00:00, 120.67it/s]\n"
     ]
    },
    {
     "name": "stdout",
     "output_type": "stream",
     "text": [
      "MAP score: 0.0174\n",
      "Testing hyperparameters: {'bits': 48, 'num_blocks': 6, 'learning_rate': 0.0001, 'gamma': 0.8, 'mu': 0.8}\n"
     ]
    },
    {
     "name": "stderr",
     "output_type": "stream",
     "text": [
      "100%|██████████| 64/64 [00:00<00:00, 122.25it/s]\n"
     ]
    },
    {
     "name": "stdout",
     "output_type": "stream",
     "text": [
      "MAP score: 0.2475\n",
      "Testing hyperparameters: {'bits': 48, 'num_blocks': 6, 'learning_rate': 0.001, 'gamma': 0.8, 'mu': 0.8}\n"
     ]
    },
    {
     "name": "stderr",
     "output_type": "stream",
     "text": [
      "100%|██████████| 64/64 [00:00<00:00, 117.74it/s]\n"
     ]
    },
    {
     "name": "stdout",
     "output_type": "stream",
     "text": [
      "MAP score: 0.2624\n",
      "Testing hyperparameters: {'bits': 48, 'num_blocks': 6, 'learning_rate': 0.005, 'gamma': 0.8, 'mu': 0.8}\n"
     ]
    },
    {
     "name": "stderr",
     "output_type": "stream",
     "text": [
      "100%|██████████| 64/64 [00:00<00:00, 119.52it/s]\n"
     ]
    },
    {
     "name": "stdout",
     "output_type": "stream",
     "text": [
      "MAP score: 0.2487\n",
      "Testing hyperparameters: {'bits': 48, 'num_blocks': 6, 'learning_rate': 0.01, 'gamma': 0.8, 'mu': 0.8}\n"
     ]
    },
    {
     "name": "stderr",
     "output_type": "stream",
     "text": [
      "100%|██████████| 64/64 [00:00<00:00, 123.78it/s]\n"
     ]
    },
    {
     "name": "stdout",
     "output_type": "stream",
     "text": [
      "MAP score: 0.0211\n",
      "Testing hyperparameters: {'bits': 48, 'num_blocks': 12, 'learning_rate': 0.0001, 'gamma': 0.2, 'mu': 0.2}\n"
     ]
    },
    {
     "name": "stderr",
     "output_type": "stream",
     "text": [
      "100%|██████████| 64/64 [00:00<00:00, 121.76it/s]\n"
     ]
    },
    {
     "name": "stdout",
     "output_type": "stream",
     "text": [
      "MAP score: 0.3156\n",
      "Testing hyperparameters: {'bits': 48, 'num_blocks': 12, 'learning_rate': 0.001, 'gamma': 0.2, 'mu': 0.2}\n"
     ]
    },
    {
     "name": "stderr",
     "output_type": "stream",
     "text": [
      "100%|██████████| 64/64 [00:00<00:00, 117.06it/s]\n"
     ]
    },
    {
     "name": "stdout",
     "output_type": "stream",
     "text": [
      "MAP score: 0.3088\n",
      "Testing hyperparameters: {'bits': 48, 'num_blocks': 12, 'learning_rate': 0.005, 'gamma': 0.2, 'mu': 0.2}\n"
     ]
    },
    {
     "name": "stderr",
     "output_type": "stream",
     "text": [
      "100%|██████████| 64/64 [00:00<00:00, 119.40it/s]\n"
     ]
    },
    {
     "name": "stdout",
     "output_type": "stream",
     "text": [
      "MAP score: 0.2095\n",
      "Testing hyperparameters: {'bits': 48, 'num_blocks': 12, 'learning_rate': 0.01, 'gamma': 0.2, 'mu': 0.2}\n"
     ]
    },
    {
     "name": "stderr",
     "output_type": "stream",
     "text": [
      "100%|██████████| 64/64 [00:00<00:00, 121.86it/s]\n"
     ]
    },
    {
     "name": "stdout",
     "output_type": "stream",
     "text": [
      "MAP score: 0.0174\n",
      "Testing hyperparameters: {'bits': 48, 'num_blocks': 12, 'learning_rate': 0.0001, 'gamma': 0.4, 'mu': 0.4}\n"
     ]
    },
    {
     "name": "stderr",
     "output_type": "stream",
     "text": [
      "100%|██████████| 64/64 [00:00<00:00, 121.87it/s]\n"
     ]
    },
    {
     "name": "stdout",
     "output_type": "stream",
     "text": [
      "MAP score: 0.2865\n",
      "Testing hyperparameters: {'bits': 48, 'num_blocks': 12, 'learning_rate': 0.001, 'gamma': 0.4, 'mu': 0.4}\n"
     ]
    },
    {
     "name": "stderr",
     "output_type": "stream",
     "text": [
      "100%|██████████| 64/64 [00:00<00:00, 120.28it/s]\n"
     ]
    },
    {
     "name": "stdout",
     "output_type": "stream",
     "text": [
      "MAP score: 0.3006\n",
      "Testing hyperparameters: {'bits': 48, 'num_blocks': 12, 'learning_rate': 0.005, 'gamma': 0.4, 'mu': 0.4}\n"
     ]
    },
    {
     "name": "stderr",
     "output_type": "stream",
     "text": [
      "100%|██████████| 64/64 [00:00<00:00, 120.54it/s]\n"
     ]
    },
    {
     "name": "stdout",
     "output_type": "stream",
     "text": [
      "MAP score: 0.2300\n",
      "Testing hyperparameters: {'bits': 48, 'num_blocks': 12, 'learning_rate': 0.01, 'gamma': 0.4, 'mu': 0.4}\n"
     ]
    },
    {
     "name": "stderr",
     "output_type": "stream",
     "text": [
      "100%|██████████| 64/64 [00:00<00:00, 120.57it/s]\n"
     ]
    },
    {
     "name": "stdout",
     "output_type": "stream",
     "text": [
      "MAP score: 0.0172\n",
      "Testing hyperparameters: {'bits': 48, 'num_blocks': 12, 'learning_rate': 0.0001, 'gamma': 0.6, 'mu': 0.6}\n"
     ]
    },
    {
     "name": "stderr",
     "output_type": "stream",
     "text": [
      "100%|██████████| 64/64 [00:00<00:00, 119.15it/s]\n"
     ]
    },
    {
     "name": "stdout",
     "output_type": "stream",
     "text": [
      "MAP score: 0.2732\n",
      "Testing hyperparameters: {'bits': 48, 'num_blocks': 12, 'learning_rate': 0.001, 'gamma': 0.6, 'mu': 0.6}\n"
     ]
    },
    {
     "name": "stderr",
     "output_type": "stream",
     "text": [
      "100%|██████████| 64/64 [00:00<00:00, 115.42it/s]\n"
     ]
    },
    {
     "name": "stdout",
     "output_type": "stream",
     "text": [
      "MAP score: 0.3210\n",
      "Testing hyperparameters: {'bits': 48, 'num_blocks': 12, 'learning_rate': 0.005, 'gamma': 0.6, 'mu': 0.6}\n"
     ]
    },
    {
     "name": "stderr",
     "output_type": "stream",
     "text": [
      "100%|██████████| 64/64 [00:00<00:00, 121.95it/s]\n"
     ]
    },
    {
     "name": "stdout",
     "output_type": "stream",
     "text": [
      "MAP score: 0.2267\n",
      "Testing hyperparameters: {'bits': 48, 'num_blocks': 12, 'learning_rate': 0.01, 'gamma': 0.6, 'mu': 0.6}\n"
     ]
    },
    {
     "name": "stderr",
     "output_type": "stream",
     "text": [
      "100%|██████████| 64/64 [00:00<00:00, 123.22it/s]\n"
     ]
    },
    {
     "name": "stdout",
     "output_type": "stream",
     "text": [
      "MAP score: 0.0222\n",
      "Testing hyperparameters: {'bits': 48, 'num_blocks': 12, 'learning_rate': 0.0001, 'gamma': 0.8, 'mu': 0.8}\n"
     ]
    },
    {
     "name": "stderr",
     "output_type": "stream",
     "text": [
      "100%|██████████| 64/64 [00:00<00:00, 114.93it/s]\n"
     ]
    },
    {
     "name": "stdout",
     "output_type": "stream",
     "text": [
      "MAP score: 0.2771\n",
      "Testing hyperparameters: {'bits': 48, 'num_blocks': 12, 'learning_rate': 0.001, 'gamma': 0.8, 'mu': 0.8}\n"
     ]
    },
    {
     "name": "stderr",
     "output_type": "stream",
     "text": [
      "100%|██████████| 64/64 [00:00<00:00, 118.93it/s]\n"
     ]
    },
    {
     "name": "stdout",
     "output_type": "stream",
     "text": [
      "MAP score: 0.2744\n",
      "Testing hyperparameters: {'bits': 48, 'num_blocks': 12, 'learning_rate': 0.005, 'gamma': 0.8, 'mu': 0.8}\n"
     ]
    },
    {
     "name": "stderr",
     "output_type": "stream",
     "text": [
      "100%|██████████| 64/64 [00:00<00:00, 110.44it/s]\n"
     ]
    },
    {
     "name": "stdout",
     "output_type": "stream",
     "text": [
      "MAP score: 0.2364\n",
      "Testing hyperparameters: {'bits': 48, 'num_blocks': 12, 'learning_rate': 0.01, 'gamma': 0.8, 'mu': 0.8}\n"
     ]
    },
    {
     "name": "stderr",
     "output_type": "stream",
     "text": [
      "100%|██████████| 64/64 [00:00<00:00, 118.31it/s]\n"
     ]
    },
    {
     "name": "stdout",
     "output_type": "stream",
     "text": [
      "MAP score: 0.0807\n",
      "Testing hyperparameters: {'bits': 48, 'num_blocks': 24, 'learning_rate': 0.0001, 'gamma': 0.2, 'mu': 0.2}\n"
     ]
    },
    {
     "name": "stderr",
     "output_type": "stream",
     "text": [
      "100%|██████████| 64/64 [00:00<00:00, 119.23it/s]\n"
     ]
    },
    {
     "name": "stdout",
     "output_type": "stream",
     "text": [
      "MAP score: 0.3098\n",
      "Testing hyperparameters: {'bits': 48, 'num_blocks': 24, 'learning_rate': 0.001, 'gamma': 0.2, 'mu': 0.2}\n"
     ]
    },
    {
     "name": "stderr",
     "output_type": "stream",
     "text": [
      "100%|██████████| 64/64 [00:00<00:00, 116.42it/s]\n"
     ]
    },
    {
     "name": "stdout",
     "output_type": "stream",
     "text": [
      "MAP score: 0.3080\n",
      "Testing hyperparameters: {'bits': 48, 'num_blocks': 24, 'learning_rate': 0.005, 'gamma': 0.2, 'mu': 0.2}\n"
     ]
    },
    {
     "name": "stderr",
     "output_type": "stream",
     "text": [
      "100%|██████████| 64/64 [00:00<00:00, 118.73it/s]\n"
     ]
    },
    {
     "name": "stdout",
     "output_type": "stream",
     "text": [
      "MAP score: 0.2462\n",
      "Testing hyperparameters: {'bits': 48, 'num_blocks': 24, 'learning_rate': 0.01, 'gamma': 0.2, 'mu': 0.2}\n"
     ]
    },
    {
     "name": "stderr",
     "output_type": "stream",
     "text": [
      "100%|██████████| 64/64 [00:00<00:00, 117.40it/s]\n"
     ]
    },
    {
     "name": "stdout",
     "output_type": "stream",
     "text": [
      "MAP score: 0.0175\n",
      "Testing hyperparameters: {'bits': 48, 'num_blocks': 24, 'learning_rate': 0.0001, 'gamma': 0.4, 'mu': 0.4}\n"
     ]
    },
    {
     "name": "stderr",
     "output_type": "stream",
     "text": [
      "100%|██████████| 64/64 [00:00<00:00, 119.58it/s]\n"
     ]
    },
    {
     "name": "stdout",
     "output_type": "stream",
     "text": [
      "MAP score: 0.2905\n",
      "Testing hyperparameters: {'bits': 48, 'num_blocks': 24, 'learning_rate': 0.001, 'gamma': 0.4, 'mu': 0.4}\n"
     ]
    },
    {
     "name": "stderr",
     "output_type": "stream",
     "text": [
      "100%|██████████| 64/64 [00:00<00:00, 118.08it/s]\n"
     ]
    },
    {
     "name": "stdout",
     "output_type": "stream",
     "text": [
      "MAP score: 0.3312\n",
      "Testing hyperparameters: {'bits': 48, 'num_blocks': 24, 'learning_rate': 0.005, 'gamma': 0.4, 'mu': 0.4}\n"
     ]
    },
    {
     "name": "stderr",
     "output_type": "stream",
     "text": [
      "100%|██████████| 64/64 [00:00<00:00, 116.30it/s]\n"
     ]
    },
    {
     "name": "stdout",
     "output_type": "stream",
     "text": [
      "MAP score: 0.2434\n",
      "Testing hyperparameters: {'bits': 48, 'num_blocks': 24, 'learning_rate': 0.01, 'gamma': 0.4, 'mu': 0.4}\n"
     ]
    },
    {
     "name": "stderr",
     "output_type": "stream",
     "text": [
      "100%|██████████| 64/64 [00:00<00:00, 120.41it/s]\n"
     ]
    },
    {
     "name": "stdout",
     "output_type": "stream",
     "text": [
      "MAP score: 0.1393\n",
      "Testing hyperparameters: {'bits': 48, 'num_blocks': 24, 'learning_rate': 0.0001, 'gamma': 0.6, 'mu': 0.6}\n"
     ]
    },
    {
     "name": "stderr",
     "output_type": "stream",
     "text": [
      "100%|██████████| 64/64 [00:00<00:00, 122.79it/s]\n"
     ]
    },
    {
     "name": "stdout",
     "output_type": "stream",
     "text": [
      "MAP score: 0.2684\n",
      "Testing hyperparameters: {'bits': 48, 'num_blocks': 24, 'learning_rate': 0.001, 'gamma': 0.6, 'mu': 0.6}\n"
     ]
    },
    {
     "name": "stderr",
     "output_type": "stream",
     "text": [
      "100%|██████████| 64/64 [00:00<00:00, 121.07it/s]\n"
     ]
    },
    {
     "name": "stdout",
     "output_type": "stream",
     "text": [
      "MAP score: 0.2857\n",
      "Testing hyperparameters: {'bits': 48, 'num_blocks': 24, 'learning_rate': 0.005, 'gamma': 0.6, 'mu': 0.6}\n"
     ]
    },
    {
     "name": "stderr",
     "output_type": "stream",
     "text": [
      "100%|██████████| 64/64 [00:00<00:00, 116.91it/s]\n"
     ]
    },
    {
     "name": "stdout",
     "output_type": "stream",
     "text": [
      "MAP score: 0.2554\n",
      "Testing hyperparameters: {'bits': 48, 'num_blocks': 24, 'learning_rate': 0.01, 'gamma': 0.6, 'mu': 0.6}\n"
     ]
    },
    {
     "name": "stderr",
     "output_type": "stream",
     "text": [
      "100%|██████████| 64/64 [00:00<00:00, 117.67it/s]\n"
     ]
    },
    {
     "name": "stdout",
     "output_type": "stream",
     "text": [
      "MAP score: 0.0166\n",
      "Testing hyperparameters: {'bits': 48, 'num_blocks': 24, 'learning_rate': 0.0001, 'gamma': 0.8, 'mu': 0.8}\n"
     ]
    },
    {
     "name": "stderr",
     "output_type": "stream",
     "text": [
      "100%|██████████| 64/64 [00:00<00:00, 117.85it/s]\n"
     ]
    },
    {
     "name": "stdout",
     "output_type": "stream",
     "text": [
      "MAP score: 0.2876\n",
      "Testing hyperparameters: {'bits': 48, 'num_blocks': 24, 'learning_rate': 0.001, 'gamma': 0.8, 'mu': 0.8}\n"
     ]
    },
    {
     "name": "stderr",
     "output_type": "stream",
     "text": [
      "100%|██████████| 64/64 [00:00<00:00, 119.47it/s]\n"
     ]
    },
    {
     "name": "stdout",
     "output_type": "stream",
     "text": [
      "MAP score: 0.3356\n",
      "Testing hyperparameters: {'bits': 48, 'num_blocks': 24, 'learning_rate': 0.005, 'gamma': 0.8, 'mu': 0.8}\n"
     ]
    },
    {
     "name": "stderr",
     "output_type": "stream",
     "text": [
      "100%|██████████| 64/64 [00:00<00:00, 119.73it/s]\n"
     ]
    },
    {
     "name": "stdout",
     "output_type": "stream",
     "text": [
      "MAP score: 0.2294\n",
      "Testing hyperparameters: {'bits': 48, 'num_blocks': 24, 'learning_rate': 0.01, 'gamma': 0.8, 'mu': 0.8}\n"
     ]
    },
    {
     "name": "stderr",
     "output_type": "stream",
     "text": [
      "100%|██████████| 64/64 [00:00<00:00, 119.34it/s]"
     ]
    },
    {
     "name": "stdout",
     "output_type": "stream",
     "text": [
      "MAP score: 0.1068\n"
     ]
    },
    {
     "name": "stderr",
     "output_type": "stream",
     "text": [
      "\n"
     ]
    },
    {
     "data": {
      "text/plain": [
       "({'bits': 48,\n",
       "  'num_blocks': 24,\n",
       "  'learning_rate': 0.001,\n",
       "  'gamma': 0.8,\n",
       "  'mu': 0.8},\n",
       " 0.3356484951088116,\n",
       " {(('bits', 48),\n",
       "   ('num_blocks', 6),\n",
       "   ('learning_rate', 0.0001),\n",
       "   ('gamma', 0.2),\n",
       "   ('mu', 0.2)): 0.3056907009005908,\n",
       "  (('bits', 48),\n",
       "   ('num_blocks', 6),\n",
       "   ('learning_rate', 0.001),\n",
       "   ('gamma', 0.2),\n",
       "   ('mu', 0.2)): 0.28839512361534514,\n",
       "  (('bits', 48),\n",
       "   ('num_blocks', 6),\n",
       "   ('learning_rate', 0.005),\n",
       "   ('gamma', 0.2),\n",
       "   ('mu', 0.2)): 0.18755171010381183,\n",
       "  (('bits', 48),\n",
       "   ('num_blocks', 6),\n",
       "   ('learning_rate', 0.01),\n",
       "   ('gamma', 0.2),\n",
       "   ('mu', 0.2)): 0.0181567658411289,\n",
       "  (('bits', 48),\n",
       "   ('num_blocks', 6),\n",
       "   ('learning_rate', 0.0001),\n",
       "   ('gamma', 0.4),\n",
       "   ('mu', 0.4)): 0.2648228662866433,\n",
       "  (('bits', 48),\n",
       "   ('num_blocks', 6),\n",
       "   ('learning_rate', 0.001),\n",
       "   ('gamma', 0.4),\n",
       "   ('mu', 0.4)): 0.3096556062888196,\n",
       "  (('bits', 48),\n",
       "   ('num_blocks', 6),\n",
       "   ('learning_rate', 0.005),\n",
       "   ('gamma', 0.4),\n",
       "   ('mu', 0.4)): 0.18640424951834092,\n",
       "  (('bits', 48),\n",
       "   ('num_blocks', 6),\n",
       "   ('learning_rate', 0.01),\n",
       "   ('gamma', 0.4),\n",
       "   ('mu', 0.4)): 0.016916120089108262,\n",
       "  (('bits', 48),\n",
       "   ('num_blocks', 6),\n",
       "   ('learning_rate', 0.0001),\n",
       "   ('gamma', 0.6),\n",
       "   ('mu', 0.6)): 0.26058749345958965,\n",
       "  (('bits', 48),\n",
       "   ('num_blocks', 6),\n",
       "   ('learning_rate', 0.001),\n",
       "   ('gamma', 0.6),\n",
       "   ('mu', 0.6)): 0.29006037948857544,\n",
       "  (('bits', 48),\n",
       "   ('num_blocks', 6),\n",
       "   ('learning_rate', 0.005),\n",
       "   ('gamma', 0.6),\n",
       "   ('mu', 0.6)): 0.21098510537233223,\n",
       "  (('bits', 48),\n",
       "   ('num_blocks', 6),\n",
       "   ('learning_rate', 0.01),\n",
       "   ('gamma', 0.6),\n",
       "   ('mu', 0.6)): 0.01736430962383801,\n",
       "  (('bits', 48),\n",
       "   ('num_blocks', 6),\n",
       "   ('learning_rate', 0.0001),\n",
       "   ('gamma', 0.8),\n",
       "   ('mu', 0.8)): 0.24749205816980968,\n",
       "  (('bits', 48),\n",
       "   ('num_blocks', 6),\n",
       "   ('learning_rate', 0.001),\n",
       "   ('gamma', 0.8),\n",
       "   ('mu', 0.8)): 0.2623982110606493,\n",
       "  (('bits', 48),\n",
       "   ('num_blocks', 6),\n",
       "   ('learning_rate', 0.005),\n",
       "   ('gamma', 0.8),\n",
       "   ('mu', 0.8)): 0.24867753577663013,\n",
       "  (('bits', 48),\n",
       "   ('num_blocks', 6),\n",
       "   ('learning_rate', 0.01),\n",
       "   ('gamma', 0.8),\n",
       "   ('mu', 0.8)): 0.021093087597195255,\n",
       "  (('bits', 48),\n",
       "   ('num_blocks', 12),\n",
       "   ('learning_rate', 0.0001),\n",
       "   ('gamma', 0.2),\n",
       "   ('mu', 0.2)): 0.3156087440285335,\n",
       "  (('bits', 48),\n",
       "   ('num_blocks', 12),\n",
       "   ('learning_rate', 0.001),\n",
       "   ('gamma', 0.2),\n",
       "   ('mu', 0.2)): 0.3088209693152143,\n",
       "  (('bits', 48),\n",
       "   ('num_blocks', 12),\n",
       "   ('learning_rate', 0.005),\n",
       "   ('gamma', 0.2),\n",
       "   ('mu', 0.2)): 0.2095138924574872,\n",
       "  (('bits', 48),\n",
       "   ('num_blocks', 12),\n",
       "   ('learning_rate', 0.01),\n",
       "   ('gamma', 0.2),\n",
       "   ('mu', 0.2)): 0.017419968933406166,\n",
       "  (('bits', 48),\n",
       "   ('num_blocks', 12),\n",
       "   ('learning_rate', 0.0001),\n",
       "   ('gamma', 0.4),\n",
       "   ('mu', 0.4)): 0.2864966943011883,\n",
       "  (('bits', 48),\n",
       "   ('num_blocks', 12),\n",
       "   ('learning_rate', 0.001),\n",
       "   ('gamma', 0.4),\n",
       "   ('mu', 0.4)): 0.30056746752807173,\n",
       "  (('bits', 48),\n",
       "   ('num_blocks', 12),\n",
       "   ('learning_rate', 0.005),\n",
       "   ('gamma', 0.4),\n",
       "   ('mu', 0.4)): 0.23000076484791632,\n",
       "  (('bits', 48),\n",
       "   ('num_blocks', 12),\n",
       "   ('learning_rate', 0.01),\n",
       "   ('gamma', 0.4),\n",
       "   ('mu', 0.4)): 0.01719025832194239,\n",
       "  (('bits', 48),\n",
       "   ('num_blocks', 12),\n",
       "   ('learning_rate', 0.0001),\n",
       "   ('gamma', 0.6),\n",
       "   ('mu', 0.6)): 0.27317984437610043,\n",
       "  (('bits', 48),\n",
       "   ('num_blocks', 12),\n",
       "   ('learning_rate', 0.001),\n",
       "   ('gamma', 0.6),\n",
       "   ('mu', 0.6)): 0.3209956822472604,\n",
       "  (('bits', 48),\n",
       "   ('num_blocks', 12),\n",
       "   ('learning_rate', 0.005),\n",
       "   ('gamma', 0.6),\n",
       "   ('mu', 0.6)): 0.22673245462557678,\n",
       "  (('bits', 48),\n",
       "   ('num_blocks', 12),\n",
       "   ('learning_rate', 0.01),\n",
       "   ('gamma', 0.6),\n",
       "   ('mu', 0.6)): 0.022160132064620502,\n",
       "  (('bits', 48),\n",
       "   ('num_blocks', 12),\n",
       "   ('learning_rate', 0.0001),\n",
       "   ('gamma', 0.8),\n",
       "   ('mu', 0.8)): 0.27712158141468557,\n",
       "  (('bits', 48),\n",
       "   ('num_blocks', 12),\n",
       "   ('learning_rate', 0.001),\n",
       "   ('gamma', 0.8),\n",
       "   ('mu', 0.8)): 0.27435540772680156,\n",
       "  (('bits', 48),\n",
       "   ('num_blocks', 12),\n",
       "   ('learning_rate', 0.005),\n",
       "   ('gamma', 0.8),\n",
       "   ('mu', 0.8)): 0.2364031396075993,\n",
       "  (('bits', 48),\n",
       "   ('num_blocks', 12),\n",
       "   ('learning_rate', 0.01),\n",
       "   ('gamma', 0.8),\n",
       "   ('mu', 0.8)): 0.08070346376603696,\n",
       "  (('bits', 48),\n",
       "   ('num_blocks', 24),\n",
       "   ('learning_rate', 0.0001),\n",
       "   ('gamma', 0.2),\n",
       "   ('mu', 0.2)): 0.30976337394991305,\n",
       "  (('bits', 48),\n",
       "   ('num_blocks', 24),\n",
       "   ('learning_rate', 0.001),\n",
       "   ('gamma', 0.2),\n",
       "   ('mu', 0.2)): 0.3080496693105331,\n",
       "  (('bits', 48),\n",
       "   ('num_blocks', 24),\n",
       "   ('learning_rate', 0.005),\n",
       "   ('gamma', 0.2),\n",
       "   ('mu', 0.2)): 0.2461631795691407,\n",
       "  (('bits', 48),\n",
       "   ('num_blocks', 24),\n",
       "   ('learning_rate', 0.01),\n",
       "   ('gamma', 0.2),\n",
       "   ('mu', 0.2)): 0.017540349958732774,\n",
       "  (('bits', 48),\n",
       "   ('num_blocks', 24),\n",
       "   ('learning_rate', 0.0001),\n",
       "   ('gamma', 0.4),\n",
       "   ('mu', 0.4)): 0.29049647291684466,\n",
       "  (('bits', 48),\n",
       "   ('num_blocks', 24),\n",
       "   ('learning_rate', 0.001),\n",
       "   ('gamma', 0.4),\n",
       "   ('mu', 0.4)): 0.3311706127451834,\n",
       "  (('bits', 48),\n",
       "   ('num_blocks', 24),\n",
       "   ('learning_rate', 0.005),\n",
       "   ('gamma', 0.4),\n",
       "   ('mu', 0.4)): 0.24340083261264872,\n",
       "  (('bits', 48),\n",
       "   ('num_blocks', 24),\n",
       "   ('learning_rate', 0.01),\n",
       "   ('gamma', 0.4),\n",
       "   ('mu', 0.4)): 0.13933166768039826,\n",
       "  (('bits', 48),\n",
       "   ('num_blocks', 24),\n",
       "   ('learning_rate', 0.0001),\n",
       "   ('gamma', 0.6),\n",
       "   ('mu', 0.6)): 0.268357038256128,\n",
       "  (('bits', 48),\n",
       "   ('num_blocks', 24),\n",
       "   ('learning_rate', 0.001),\n",
       "   ('gamma', 0.6),\n",
       "   ('mu', 0.6)): 0.2856998448917698,\n",
       "  (('bits', 48),\n",
       "   ('num_blocks', 24),\n",
       "   ('learning_rate', 0.005),\n",
       "   ('gamma', 0.6),\n",
       "   ('mu', 0.6)): 0.25536529176719086,\n",
       "  (('bits', 48),\n",
       "   ('num_blocks', 24),\n",
       "   ('learning_rate', 0.01),\n",
       "   ('gamma', 0.6),\n",
       "   ('mu', 0.6)): 0.016591173260906686,\n",
       "  (('bits', 48),\n",
       "   ('num_blocks', 24),\n",
       "   ('learning_rate', 0.0001),\n",
       "   ('gamma', 0.8),\n",
       "   ('mu', 0.8)): 0.2875839773063902,\n",
       "  (('bits', 48),\n",
       "   ('num_blocks', 24),\n",
       "   ('learning_rate', 0.001),\n",
       "   ('gamma', 0.8),\n",
       "   ('mu', 0.8)): 0.3356484951088116,\n",
       "  (('bits', 48),\n",
       "   ('num_blocks', 24),\n",
       "   ('learning_rate', 0.005),\n",
       "   ('gamma', 0.8),\n",
       "   ('mu', 0.8)): 0.2293989438952912,\n",
       "  (('bits', 48),\n",
       "   ('num_blocks', 24),\n",
       "   ('learning_rate', 0.01),\n",
       "   ('gamma', 0.8),\n",
       "   ('mu', 0.8)): 0.10683437849926515})"
      ]
     },
     "execution_count": 173,
     "metadata": {},
     "output_type": "execute_result"
    }
   ],
   "source": [
    "hyper_tuning(param_grid=bits_48_param_dicts, epochs=100, hpo_train=X_hpo, hpo_loader=hpo_loader, device=device)"
   ]
  }
 ],
 "metadata": {
  "kernelspec": {
   "display_name": "Python 3.12.3 64-bit",
   "language": "python",
   "name": "python3"
  },
  "language_info": {
   "codemirror_mode": {
    "name": "ipython",
    "version": 3
   },
   "file_extension": ".py",
   "mimetype": "text/x-python",
   "name": "python",
   "nbconvert_exporter": "python",
   "pygments_lexer": "ipython3",
   "version": "3.12.3"
  },
  "vscode": {
   "interpreter": {
    "hash": "aee8b7b246df8f9039afb4144a1f6fd8d2ca17a180786b69acc140d282b71a49"
   }
  }
 },
 "nbformat": 4,
 "nbformat_minor": 2
}
