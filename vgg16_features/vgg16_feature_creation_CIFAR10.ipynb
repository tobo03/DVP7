{
 "cells": [
  {
   "cell_type": "code",
   "execution_count": null,
   "metadata": {},
   "outputs": [],
   "source": []
  },
  {
   "cell_type": "code",
   "execution_count": 1,
   "metadata": {},
   "outputs": [
    {
     "name": "stdout",
     "output_type": "stream",
     "text": [
      "Using device: cuda\n",
      "Files already downloaded and verified\n",
      "Files already downloaded and verified\n"
     ]
    },
    {
     "name": "stderr",
     "output_type": "stream",
     "text": [
      "c:\\Users\\Test\\AppData\\Local\\Programs\\Python\\Python312\\Lib\\site-packages\\torchvision\\models\\_utils.py:208: UserWarning: The parameter 'pretrained' is deprecated since 0.13 and may be removed in the future, please use 'weights' instead.\n",
      "  warnings.warn(\n",
      "c:\\Users\\Test\\AppData\\Local\\Programs\\Python\\Python312\\Lib\\site-packages\\torchvision\\models\\_utils.py:223: UserWarning: Arguments other than a weight enum or `None` for 'weights' are deprecated since 0.13 and may be removed in the future. The current behavior is equivalent to passing `weights=VGG16_Weights.IMAGENET1K_V1`. You can also use `weights=VGG16_Weights.DEFAULT` to get the most up-to-date weights.\n",
      "  warnings.warn(msg)\n"
     ]
    },
    {
     "name": "stdout",
     "output_type": "stream",
     "text": [
      "Training features shape: torch.Size([50000, 4096])\n",
      "Test features shape: torch.Size([10000, 4096])\n"
     ]
    }
   ],
   "source": [
    "import torch\n",
    "import torch.nn as nn\n",
    "import torchvision.transforms as transforms\n",
    "import torchvision.datasets as datasets\n",
    "from torchvision import models\n",
    "import torch.utils.data as data\n",
    "import numpy as np\n",
    "\n",
    "# Check if CUDA is available and set device accordingly\n",
    "device = torch.device(\"cuda\" if torch.cuda.is_available() else \"cpu\")\n",
    "print(f\"Using device: {device}\")\n",
    "\n",
    "# Step 1: Load and Preprocess CIFAR-10 dataset\n",
    "transform = transforms.Compose([\n",
    "    transforms.Resize(224),  # Resize to 224x224 to match VGG-16 input\n",
    "    transforms.ToTensor(),   # Convert to tensor\n",
    "    transforms.Normalize(mean=[0.485, 0.456, 0.406], std=[0.229, 0.224, 0.225])  # Normalize using ImageNet values\n",
    "])\n",
    "\n",
    "# Load the CIFAR-10 dataset (train and test set)\n",
    "train_dataset = datasets.CIFAR10(root='./data', train=True, download=True, transform=transform)\n",
    "test_dataset = datasets.CIFAR10(root='./data', train=False, download=True, transform=transform)\n",
    "\n",
    "train_loader = data.DataLoader(train_dataset, batch_size=64, shuffle=True, num_workers=4)\n",
    "test_loader = data.DataLoader(test_dataset, batch_size=64, shuffle=False, num_workers=4)\n",
    "\n",
    "# Step 2: Load the Pre-trained VGG-16 Model (trained on ImageNet)\n",
    "vgg16 = models.vgg16(pretrained=True)\n",
    "\n",
    "# Step 3: Modify VGG-16 for Feature Extraction\n",
    "# Remove the fully connected layers (fc layers) and keep only the convolutional layers\n",
    "# This will output the feature maps from the last conv layer\n",
    "vgg16.classifier = vgg16.classifier[:4]  # Remove the classifier part (fully connected layers)\n",
    "\n",
    "# Move the model to GPU\n",
    "vgg16.to(device)\n",
    "\n",
    "# Set the model to evaluation mode\n",
    "vgg16.eval()\n",
    "\n",
    "# Function to extract features\n",
    "def extract_features(dataloader, model, device):\n",
    "    features = []\n",
    "    labels = []\n",
    "\n",
    "    with torch.no_grad():  # Disable gradient computation for inference\n",
    "        for inputs, targets in dataloader:\n",
    "            inputs = inputs.to(device)\n",
    "\n",
    "            # Forward pass through the VGG-16 model\n",
    "            outputs = model(inputs)\n",
    "\n",
    "            # Flatten the output from conv layers to (batch_size, feature_dim)\n",
    "            outputs = outputs.view(outputs.size(0), -1)\n",
    "\n",
    "            features.append(outputs.cpu())  # Move to CPU and store\n",
    "            labels.append(targets)\n",
    "\n",
    "    # Concatenate all features and labels\n",
    "    features = torch.cat(features)\n",
    "    labels = torch.cat(labels)\n",
    "\n",
    "    return features, labels\n",
    "\n",
    "# Step 4: Extract features for the training set and test set\n",
    "train_features, train_labels = extract_features(train_loader, vgg16, device)\n",
    "test_features, test_labels = extract_features(test_loader, vgg16, device)\n",
    "\n",
    "# Check the shape of the extracted features\n",
    "print(f\"Training features shape: {train_features.shape}\")\n",
    "print(f\"Test features shape: {test_features.shape}\")"
   ]
  },
  {
   "cell_type": "code",
   "execution_count": 11,
   "metadata": {},
   "outputs": [
    {
     "data": {
      "text/plain": [
       "(tensor([[[-1.1075, -1.1075, -1.1075,  ...,  0.4166,  0.4166,  0.4166],\n",
       "          [-1.1075, -1.1075, -1.1075,  ...,  0.4166,  0.4166,  0.4166],\n",
       "          [-1.1075, -1.1075, -1.1075,  ...,  0.4166,  0.4166,  0.4166],\n",
       "          ...,\n",
       "          [ 0.9132,  0.9132,  0.9132,  ..., -0.0116, -0.0116, -0.0116],\n",
       "          [ 0.9132,  0.9132,  0.9132,  ..., -0.0116, -0.0116, -0.0116],\n",
       "          [ 0.9132,  0.9132,  0.9132,  ..., -0.0116, -0.0116, -0.0116]],\n",
       " \n",
       "         [[-0.9503, -0.9503, -0.9503,  ...,  0.1352,  0.1352,  0.1352],\n",
       "          [-0.9503, -0.9503, -0.9503,  ...,  0.1352,  0.1352,  0.1352],\n",
       "          [-0.9503, -0.9503, -0.9503,  ...,  0.1352,  0.1352,  0.1352],\n",
       "          ...,\n",
       "          [ 0.4853,  0.4853,  0.4853,  ..., -0.4251, -0.4251, -0.4251],\n",
       "          [ 0.4853,  0.4853,  0.4853,  ..., -0.4251, -0.4251, -0.4251],\n",
       "          [ 0.4853,  0.4853,  0.4853,  ..., -0.4251, -0.4251, -0.4251]],\n",
       " \n",
       "         [[-0.7064, -0.7064, -0.7064,  ..., -0.0092, -0.0092, -0.0092],\n",
       "          [-0.7064, -0.7064, -0.7064,  ..., -0.0092, -0.0092, -0.0092],\n",
       "          [-0.7064, -0.7064, -0.7064,  ..., -0.0092, -0.0092, -0.0092],\n",
       "          ...,\n",
       "          [ 0.2173,  0.2173,  0.2173,  ..., -0.5495, -0.5495, -0.5495],\n",
       "          [ 0.2173,  0.2173,  0.2173,  ..., -0.5495, -0.5495, -0.5495],\n",
       "          [ 0.2173,  0.2173,  0.2173,  ..., -0.5495, -0.5495, -0.5495]]]),\n",
       " 6)"
      ]
     },
     "execution_count": 11,
     "metadata": {},
     "output_type": "execute_result"
    }
   ],
   "source": [
    "train_dataset[0]"
   ]
  },
  {
   "cell_type": "code",
   "execution_count": 8,
   "metadata": {},
   "outputs": [],
   "source": [
    "train_features = train_features.cpu().detach().numpy()\n",
    "test_features = test_features.cpu().detach().numpy()\n",
    "train_labels = train_labels.cpu().detach().numpy()\n",
    "test_labels = test_labels.cpu().detach().numpy()"
   ]
  },
  {
   "cell_type": "markdown",
   "metadata": {},
   "source": [
    "## VALIDATION SET"
   ]
  },
  {
   "cell_type": "code",
   "execution_count": null,
   "metadata": {},
   "outputs": [],
   "source": [
    "val_features = train_features[-5000:,:]\n",
    "train_features = train_features[:-5000,:]\n",
    "val_labels = train_labels[-5000:]\n",
    "train_labels = train_labels[:-5000]"
   ]
  },
  {
   "cell_type": "code",
   "execution_count": 9,
   "metadata": {},
   "outputs": [],
   "source": [
    "torch.cuda.empty_cache()"
   ]
  },
  {
   "cell_type": "code",
   "execution_count": 8,
   "metadata": {},
   "outputs": [],
   "source": [
    "#np.save(r'C:\\Users\\Test\\Desktop\\p7\\Spectral\\features\\train_features_vgg16_cifar10.npy', train_features)\n",
    "#np.save(r'C:\\Users\\Test\\Desktop\\p7\\Spectral\\features\\test_features_vgg16_cifar10.npy', test_features)\n",
    "#np.save(r'C:\\Users\\Test\\Desktop\\p7\\Spectral\\features\\train_labels_vgg16_cifar10.npy', train_labels)\n",
    "#np.save(r'C:\\Users\\Test\\Desktop\\p7\\Spectral\\features\\test_labels_vgg16_cifar10.npy', test_labels)"
   ]
  }
 ],
 "metadata": {
  "kernelspec": {
   "display_name": "Python 3",
   "language": "python",
   "name": "python3"
  },
  "language_info": {
   "codemirror_mode": {
    "name": "ipython",
    "version": 3
   },
   "file_extension": ".py",
   "mimetype": "text/x-python",
   "name": "python",
   "nbconvert_exporter": "python",
   "pygments_lexer": "ipython3",
   "version": "3.12.6"
  }
 },
 "nbformat": 4,
 "nbformat_minor": 2
}
