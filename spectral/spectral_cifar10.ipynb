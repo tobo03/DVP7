{
 "cells": [
  {
   "cell_type": "code",
   "execution_count": 276,
   "metadata": {},
   "outputs": [],
   "source": [
    "from torchvision.datasets import CIFAR10\n",
    "import torchvision.transforms as transforms\n",
    "import torch\n",
    "import pandas as pd\n",
    "import numpy as np\n",
    "from tqdm import tqdm\n",
    "from scipy.sparse.linalg import eigsh\n",
    "from tensorflow import keras\n",
    "from PIL import Image\n",
    "from sklearn.preprocessing import StandardScaler\n",
    "from sklearn.decomposition import PCA\n",
    "from sklearn.neural_network import MLPClassifier\n",
    "from sklearn.neighbors import NearestNeighbors\n",
    "from torchvision import models\n",
    "from scipy.sparse import csr_matrix\n",
    "from sklearn.cluster import KMeans\n",
    "import matplotlib.pyplot as plt\n",
    "pd.options.mode.chained_assignment = None\n"
   ]
  },
  {
   "cell_type": "markdown",
   "metadata": {},
   "source": [
    "# Features"
   ]
  },
  {
   "cell_type": "code",
   "execution_count": 277,
   "metadata": {},
   "outputs": [],
   "source": [
    "import sys\n",
    "root = '../'\n",
    "sys.path.append(root)"
   ]
  },
  {
   "cell_type": "code",
   "execution_count": 278,
   "metadata": {},
   "outputs": [],
   "source": [
    "X_train = np.load( \"/Users/kristiansjorslevnielsen/Documents/DVP7/Features/X_hpo_Cifar.npy\" ) # Shape = (40000, 4096)\n",
    "y_train = np.load(\"/Users/kristiansjorslevnielsen/Documents/DVP7/Features/y_hpo_Cifar.npy\" ) # Shape = (40000,)\n",
    "#X_val = np.load(\"/Users/kristiansjorslevnielsen/Documents/DVP7/Features/cifar10/val_features_vgg16_cifar10.npy\" ) # Shape = (40000, 4096)\n",
    "#y_val = np.load(\"/Users/kristiansjorslevnielsen/Documents/DVP7/Features/cifar10/val_labels_vgg16_cifar10.npy\" ) # Shape = (40000,)\n",
    "X_test = np.load(\"/Users/kristiansjorslevnielsen/Documents/DVP7/Features/X_val_Cifar.npy\" ) # Shape = (10000, 4096)\n",
    "y_test = np.load(\"/Users/kristiansjorslevnielsen/Documents/DVP7/Features/y_val_Cifar.npy\" ) # Shape = (10000,)"
   ]
  },
  {
   "cell_type": "code",
   "execution_count": 279,
   "metadata": {},
   "outputs": [
    {
     "data": {
      "text/plain": [
       "(500,)"
      ]
     },
     "execution_count": 279,
     "metadata": {},
     "output_type": "execute_result"
    }
   ],
   "source": [
    "y_test.shape"
   ]
  },
  {
   "cell_type": "code",
   "execution_count": 280,
   "metadata": {},
   "outputs": [
    {
     "data": {
      "text/plain": [
       "(array([0, 1, 2, 3, 4, 5, 6, 7, 8, 9]),\n",
       " array([50, 50, 50, 50, 50, 50, 50, 50, 50, 50]))"
      ]
     },
     "execution_count": 280,
     "metadata": {},
     "output_type": "execute_result"
    }
   ],
   "source": [
    "np.unique(y_test, return_counts=True)"
   ]
  },
  {
   "cell_type": "code",
   "execution_count": 281,
   "metadata": {},
   "outputs": [],
   "source": [
    "#X_val = X_train[-5000:,:]\n",
    "#X_train = X_train[:-5000,:]\n",
    "#y_val = y_train[-5000:]\n",
    "#y_train = y_train[:-5000]"
   ]
  },
  {
   "cell_type": "code",
   "execution_count": 282,
   "metadata": {},
   "outputs": [],
   "source": [
    "#np.save(r'C:\\Users\\Test\\Desktop\\p7\\Spectral\\features\\train_features_vgg16_cifar10.npy', X_train)\n",
    "#np.save(r'C:\\Users\\Test\\Desktop\\p7\\Spectral\\features\\val_features_vgg16_cifar10.npy', X_val)\n",
    "#np.save(r'C:\\Users\\Test\\Desktop\\p7\\Spectral\\features\\train_labels_vgg16_cifar10.npy', y_train)\n",
    "#np.save(r'C:\\Users\\Test\\Desktop\\p7\\Spectral\\features\\val_labels_vgg16_cifar10.npy', y_val)"
   ]
  },
  {
   "cell_type": "markdown",
   "metadata": {},
   "source": [
    "# PCA"
   ]
  },
  {
   "cell_type": "code",
   "execution_count": 283,
   "metadata": {},
   "outputs": [],
   "source": [
    "scaler = StandardScaler()\n",
    "X_train = scaler.fit_transform(X_train)  # Standardize the data\n",
    "X_test = scaler.transform(X_test)"
   ]
  },
  {
   "cell_type": "code",
   "execution_count": 284,
   "metadata": {},
   "outputs": [],
   "source": [
    "pca = PCA(n_components=100)  # Set the number of components to keep\n",
    "training_features = pca.fit_transform(X_train)  # Fit PCA on the standardized data and transform\n",
    "test_features = pca.transform(X_test)"
   ]
  },
  {
   "cell_type": "markdown",
   "metadata": {},
   "source": [
    "# Spectral"
   ]
  },
  {
   "cell_type": "code",
   "execution_count": 285,
   "metadata": {},
   "outputs": [],
   "source": [
    "def calculate_top_k_distances(anchors, data_points, k=20):\n",
    "    # Convert anchors and data_points to numpy arrays for easy computation\n",
    "    anchors = np.array(anchors)\n",
    "    data_points = np.array(data_points)\n",
    "    top_k_distances = np.zeros((data_points.shape[0], k))\n",
    "    top_k_indices = np.zeros((data_points.shape[0], k), dtype=int)\n",
    "\n",
    "    for i, data_point in enumerate(data_points):\n",
    "        # Compute Euclidean distances between this data point and all anchors\n",
    "        distances = np.sqrt(np.sum((anchors - data_point) ** 2, axis=1))\n",
    "\n",
    "        k_smallest_indices = np.argpartition(distances, k)[:k]\n",
    "        k_smallest_distances = distances[k_smallest_indices]\n",
    "        sorted_indices = np.argsort(k_smallest_distances)\n",
    "        top_k_distances[i] = k_smallest_distances[sorted_indices]\n",
    "        top_k_indices[i] = k_smallest_indices[sorted_indices]\n",
    "\n",
    "    return top_k_distances, top_k_indices\n"
   ]
  },
  {
   "cell_type": "code",
   "execution_count": 286,
   "metadata": {},
   "outputs": [],
   "source": [
    "def anchor_adjecency(data, n_anchors, s, t):\n",
    "    # Step 1: Anchor selection using k-means\n",
    "    kmeans = KMeans(n_clusters=n_anchors, random_state=42)\n",
    "    kmeans.fit(data)\n",
    "    anchors = kmeans.cluster_centers_  # Get the anchor points\n",
    "\n",
    "    Z = np.zeros([data.shape[0], n_anchors])\n",
    "    dist,indices = calculate_top_k_distances(anchors, data, k=s)\n",
    "\n",
    "    for i in tqdm(range(data.shape[0])):\n",
    "        for j, index in enumerate(indices[i]):\n",
    "            top = np.exp(-dist[i][j]/t)\n",
    "            bottom = 0\n",
    "            for k in range(indices.shape[1]):\n",
    "                bottom += np.exp(-dist[i][k]/t)\n",
    "            Z[i,index] = top/bottom\n",
    "\n",
    "    L = (1/np.sqrt(Z.sum(axis=0)))*np.identity(Z.shape[1])\n",
    "\n",
    "    M = L @ Z.T @ Z @ L\n",
    "\n",
    "    return M, Z, L"
   ]
  },
  {
   "cell_type": "code",
   "execution_count": 287,
   "metadata": {},
   "outputs": [
    {
     "name": "stderr",
     "output_type": "stream",
     "text": [
      "100%|██████████| 5000/5000 [00:00<00:00, 29591.95it/s]\n"
     ]
    }
   ],
   "source": [
    "M, Z, L = anchor_adjecency(training_features, n_anchors= 50, s=5, t=1)\n"
   ]
  },
  {
   "cell_type": "code",
   "execution_count": 288,
   "metadata": {},
   "outputs": [],
   "source": [
    "bits = 33\n",
    "eigenvalues, eigenvectors = eigsh(M, k=bits,which=\"LM\") # overvej max_iter, tolerance?"
   ]
  },
  {
   "cell_type": "code",
   "execution_count": 289,
   "metadata": {},
   "outputs": [],
   "source": [
    "eigenvalues = eigenvalues[:-1]\n",
    "eigenvectors = eigenvectors[:,:-1]"
   ]
  },
  {
   "cell_type": "code",
   "execution_count": 290,
   "metadata": {},
   "outputs": [],
   "source": [
    "S = np.flip(1/np.sqrt(eigenvalues))*np.identity(eigenvalues.shape[0])\n",
    "V = eigenvectors"
   ]
  },
  {
   "cell_type": "code",
   "execution_count": 291,
   "metadata": {},
   "outputs": [],
   "source": [
    "Y = np.sqrt(training_features.shape[0]) * Z @ L @ V @ S"
   ]
  },
  {
   "cell_type": "code",
   "execution_count": 292,
   "metadata": {},
   "outputs": [],
   "source": [
    "threshold1 = 0\n",
    "eigenvectors_bin = np.where(Y > threshold1, 1, 0)"
   ]
  },
  {
   "cell_type": "code",
   "execution_count": 293,
   "metadata": {},
   "outputs": [
    {
     "data": {
      "text/plain": [
       "(5000, 32)"
      ]
     },
     "execution_count": 293,
     "metadata": {},
     "output_type": "execute_result"
    }
   ],
   "source": [
    "eigenvectors_bin.shape"
   ]
  },
  {
   "cell_type": "code",
   "execution_count": 294,
   "metadata": {},
   "outputs": [
    {
     "data": {
      "text/plain": [
       "(array([[0, 0, 0, ..., 0, 1, 0],\n",
       "        [0, 0, 0, ..., 1, 1, 0],\n",
       "        [0, 0, 0, ..., 1, 0, 1],\n",
       "        ...,\n",
       "        [1, 1, 1, ..., 1, 1, 0],\n",
       "        [1, 1, 1, ..., 0, 1, 1],\n",
       "        [1, 1, 1, ..., 1, 1, 1]]),\n",
       " array([1, 1, 3, ..., 1, 2, 1]))"
      ]
     },
     "execution_count": 294,
     "metadata": {},
     "output_type": "execute_result"
    }
   ],
   "source": [
    "np.unique(eigenvectors_bin, return_counts=True, axis=0)"
   ]
  },
  {
   "cell_type": "markdown",
   "metadata": {},
   "source": [
    "# Classifier"
   ]
  },
  {
   "cell_type": "code",
   "execution_count": 295,
   "metadata": {},
   "outputs": [],
   "source": [
    "clf = MLPClassifier(hidden_layer_sizes=(100), max_iter = 1000).fit(training_features, eigenvectors_bin)\n",
    "test_hashes = clf.predict(test_features)"
   ]
  },
  {
   "cell_type": "code",
   "execution_count": 296,
   "metadata": {},
   "outputs": [],
   "source": [
    "def mean_average_precision(test_hashes, training_hashes, test_labels, training_labels):\n",
    "    aps = []\n",
    "    for i, test_hash in enumerate(tqdm(test_hashes)):\n",
    "        label = test_labels[i]\n",
    "        distances = np.abs(training_hashes - test_hashes[i]).sum(axis=1)\n",
    "        tp = np.where(training_labels==label, 1, 0)\n",
    "        hash_df = pd.DataFrame({\"distances\":distances, \"tp\":tp}).reset_index()\n",
    "        hash_df = hash_df.sort_values([\"distances\", \"index\"]).reset_index(drop=True)\n",
    "        hash_df = hash_df.drop([\"index\", \"distances\"], axis=1).reset_index()\n",
    "        hash_df = hash_df[hash_df[\"tp\"]==1]\n",
    "        hash_df[\"tp\"] = hash_df[\"tp\"].cumsum()\n",
    "        hash_df[\"index\"] = hash_df[\"index\"] +1 \n",
    "        precision = np.array(hash_df[\"tp\"]) / np.array(hash_df[\"index\"])\n",
    "        ap = precision.mean()\n",
    "        aps.append(ap)\n",
    "    \n",
    "    return np.array(aps).mean()"
   ]
  },
  {
   "cell_type": "code",
   "execution_count": 297,
   "metadata": {},
   "outputs": [],
   "source": [
    "def p_at_k(test_hashes, training_hashes, test_labels, training_labels, compare_n, ks):\n",
    "    k_dic = {k:[] for k in ks}\n",
    "    training_hashes = training_hashes[:compare_n,:]\n",
    "    training_labels = training_labels[:compare_n]\n",
    "    for i, test_hash in enumerate(tqdm(test_hashes)):\n",
    "        label = test_labels[i]\n",
    "        distances = np.abs(training_hashes - test_hashes[i]).sum(axis=1)\n",
    "        tp = np.where(training_labels==label, 1, 0)\n",
    "        hash_df = pd.DataFrame({\"distances\":distances, \"tp\":tp}).reset_index()\n",
    "        hash_df = hash_df.sort_values([\"distances\", \"index\"]).reset_index(drop=True)\n",
    "        for k in ks:\n",
    "            df_temp = hash_df[:k]\n",
    "            patk = df_temp[\"tp\"].sum()/k\n",
    "            k_dic[k].append(patk)\n",
    "    return tuple([np.array(k_dic[k]).mean() for k in ks])"
   ]
  },
  {
   "cell_type": "code",
   "execution_count": 298,
   "metadata": {},
   "outputs": [],
   "source": [
    "def average_pr_curve(precision_list, recall_list, num_points=100):\n",
    "    recall_levels = np.linspace(0, 1, num_points)\n",
    "    interpolated_precisions = []\n",
    "    for precision, recall in zip(precision_list, recall_list):\n",
    "        sorted_indices = np.argsort(recall)\n",
    "        recall_sorted = recall[sorted_indices]\n",
    "        precision_sorted = precision[sorted_indices]\n",
    "        interpolated_precision = np.interp(recall_levels, recall_sorted, precision_sorted, left=0, right=0)\n",
    "        interpolated_precisions.append(interpolated_precision)\n",
    "    avg_precision = np.mean(interpolated_precisions, axis=0)\n",
    "    return recall_levels, avg_precision\n",
    "\n",
    "def interpolated_pr_curve(test_hashes, training_hashes, test_labels, training_labels):\n",
    "    precision_list = []\n",
    "    recall_list = []\n",
    "    for i, test_hash in enumerate(tqdm(test_hashes)):\n",
    "        label = test_labels[i]\n",
    "        distances = np.abs(training_hashes - test_hashes[i]).sum(axis=1)\n",
    "        tp = np.where(training_labels==label, 1, 0)\n",
    "        hash_df = pd.DataFrame({\"distances\":distances, \"tp\":tp}).reset_index()\n",
    "        hash_df = hash_df.sort_values([\"distances\", \"index\"]).reset_index(drop=True)\n",
    "        hash_df = hash_df.drop([\"index\", \"distances\"], axis=1).reset_index()\n",
    "        hash_df[\"tp\"] = hash_df[\"tp\"].cumsum()\n",
    "        hash_df[\"index\"] = hash_df[\"index\"] +1 \n",
    "        precision = np.array(hash_df[\"tp\"]) / np.array(hash_df[\"index\"])\n",
    "        recall = np.array(hash_df[\"tp\"]) / np.array(hash_df[\"tp\"].max())\n",
    "        precision_list.append(precision)\n",
    "        recall_list.append(recall)\n",
    "\n",
    "    recall_levels, avg_precision = average_pr_curve(precision_list, recall_list)\n",
    "    \n",
    "    return recall_levels, avg_precision"
   ]
  },
  {
   "cell_type": "code",
   "execution_count": 299,
   "metadata": {},
   "outputs": [
    {
     "data": {
      "text/plain": [
       "(500, 32)"
      ]
     },
     "execution_count": 299,
     "metadata": {},
     "output_type": "execute_result"
    }
   ],
   "source": [
    "test_hashes.shape"
   ]
  },
  {
   "cell_type": "code",
   "execution_count": 300,
   "metadata": {},
   "outputs": [
    {
     "name": "stderr",
     "output_type": "stream",
     "text": [
      "100%|██████████| 500/500 [00:00<00:00, 519.65it/s]\n"
     ]
    }
   ],
   "source": [
    "recall, precision = interpolated_pr_curve(test_hashes, eigenvectors_bin, y_test, y_train)"
   ]
  },
  {
   "cell_type": "code",
   "execution_count": 301,
   "metadata": {},
   "outputs": [],
   "source": [
    "def one_hot_encode(a):\n",
    "    b = np.zeros((a.size, a.max() + 1))\n",
    "    b[np.arange(a.size), a] = 1\n",
    "    return b\n",
    "\n",
    "def p_at_dist(test_hashes, training_hashes, test_labels, training_labels, dists):\n",
    "    k_dic = {k:[] for k in dists}\n",
    "    if len(training_labels.shape) == 1:\n",
    "        training_labels = one_hot_encode(training_labels)\n",
    "        test_labels = one_hot_encode(test_labels)\n",
    "    for i, test_hash in tqdm(enumerate(test_hashes)):\n",
    "        label = test_labels[i]\n",
    "        distances = np.abs(training_hashes - test_hashes[i]).sum(axis=1)\n",
    "        tp = np.where((training_labels*label).sum(axis=1)>0, 1, 0)\n",
    "        hash_df = pd.DataFrame({\"distances\":distances, \"tp\":tp}).reset_index()\n",
    "        hash_df = hash_df.sort_values([\"distances\", \"index\"]).reset_index(drop=True)\n",
    "        for k in dists:\n",
    "            df_temp = hash_df[hash_df[\"distances\"]<=k]\n",
    "            patk = df_temp[\"tp\"].sum()/df_temp.shape[0] if df_temp.shape[0]>0 else 0\n",
    "            k_dic[k].append(patk)\n",
    "    return tuple([np.array(k_dic[k]).mean() for k in dists])"
   ]
  },
  {
   "cell_type": "code",
   "execution_count": 302,
   "metadata": {},
   "outputs": [],
   "source": [
    "def query(test_hash, training_hashes):\n",
    "    distances = np.abs(training_hashes - test_hash).sum(axis=1)\n",
    "    hash_df = pd.DataFrame({\"distances\":distances}).reset_index()\n",
    "    hash_df = hash_df.sort_values([\"distances\", \"index\"]).reset_index(drop=True)\n",
    "    return hash_df"
   ]
  },
  {
   "cell_type": "code",
   "execution_count": 303,
   "metadata": {},
   "outputs": [
    {
     "data": {
      "text/plain": [
       "distances\n",
       "16    808\n",
       "18    729\n",
       "17    711\n",
       "15    545\n",
       "14    487\n",
       "19    410\n",
       "20    313\n",
       "13    206\n",
       "12    147\n",
       "11    146\n",
       "21     97\n",
       "22     78\n",
       "3      59\n",
       "9      58\n",
       "7      47\n",
       "24     41\n",
       "10     31\n",
       "6      28\n",
       "8      26\n",
       "23     23\n",
       "4       5\n",
       "25      3\n",
       "5       2\n",
       "Name: count, dtype: int64"
      ]
     },
     "execution_count": 303,
     "metadata": {},
     "output_type": "execute_result"
    }
   ],
   "source": [
    "query(test_hashes[1], eigenvectors_bin)[\"distances\"].value_counts()"
   ]
  },
  {
   "cell_type": "code",
   "execution_count": 304,
   "metadata": {},
   "outputs": [
    {
     "data": {
      "image/png": "[encoded data removed]",
      "text/plain": [
       "<Figure size 800x600 with 1 Axes>"
      ]
     },
     "metadata": {},
     "output_type": "display_data"
    }
   ],
   "source": [
    "plt.figure(figsize=(8, 6))\n",
    "plt.plot(recall[1:], precision[1:], marker='o', label='PR Curve', color='blue', linewidth=2)\n",
    "\n",
    "# Adding labels, title, and grid\n",
    "plt.xlabel('Recall', fontsize=14)\n",
    "plt.ylabel('Precision', fontsize=14)\n",
    "plt.title('Precision-Recall Curve', fontsize=16)\n",
    "plt.grid(True, linestyle='--', alpha=0.7)\n",
    "plt.legend(fontsize=12)\n",
    "plt.xlim(0,1)\n",
    "plt.ylim(0,1)\n",
    "\n",
    "# Show the plot\n",
    "plt.show()"
   ]
  },
  {
   "cell_type": "code",
   "execution_count": 305,
   "metadata": {},
   "outputs": [
    {
     "name": "stderr",
     "output_type": "stream",
     "text": [
      "100%|██████████| 500/500 [00:00<00:00, 533.86it/s]\n"
     ]
    },
    {
     "data": {
      "text/plain": [
       "0.2762953102447666"
      ]
     },
     "execution_count": 305,
     "metadata": {},
     "output_type": "execute_result"
    }
   ],
   "source": [
    "aps = mean_average_precision(test_hashes, eigenvectors_bin, y_test, y_train)\n",
    "aps"
   ]
  },
  {
   "cell_type": "code",
   "execution_count": 306,
   "metadata": {},
   "outputs": [],
   "source": [
    "import seaborn as sns\n",
    "import matplotlib.pyplot as plt\n",
    "from sklearn.cluster import KMeans\n",
    "import numpy as np\n",
    "import pandas as pd\n",
    "\n",
    "# Step 1: Perform K-Means Clustering\n",
    "def kmeans_clustering(hash_codes, n_clusters=10, n_init=10, random_state=42):\n",
    "    kmeans = KMeans(n_clusters=n_clusters, n_init=n_init, random_state=random_state)\n",
    "    clusters = kmeans.fit_predict(hash_codes)\n",
    "    return clusters\n",
    "\n",
    "# Step 2: Build the label-cluster matrix\n",
    "def build_label_cluster_matrix(clusters, true_labels, n_clusters=10):\n",
    "    # Initialize a matrix to count label-cluster relationships  \n",
    "    label_cluster_matrix = np.zeros((10, n_clusters), dtype=int)\n",
    "    \n",
    "    for label, cluster in zip(true_labels, clusters):\n",
    "        label_cluster_matrix[label][cluster] += 1\n",
    "    \n",
    "    return label_cluster_matrix\n",
    "\n",
    "# Step 3: Visualize the result as a heatmap\n",
    "def plot_heatmap(label_cluster_matrix):\n",
    "    plt.figure(figsize=(10, 6))\n",
    "    sns.heatmap(label_cluster_matrix, annot=True, fmt=\"d\", cmap=\"Blues\", cbar=True)\n",
    "    plt.title(\"Label Distribution Across Clusters\")\n",
    "    plt.xlabel(\"Clusters\")\n",
    "    plt.ylabel(\"True Labels\")\n",
    "    plt.show()\n",
    "\n",
    "\n",
    "def easyHeatmap(hashCodes, labels):\n",
    "    raw_clusters = kmeans_clustering(hashCodes, n_clusters=10)\n",
    "\n",
    "    raw_label_cluster_matrix = build_label_cluster_matrix(raw_clusters, labels)\n",
    "\n",
    "    plot_heatmap(raw_label_cluster_matrix)"
   ]
  },
  {
   "cell_type": "code",
   "execution_count": 307,
   "metadata": {},
   "outputs": [
    {
     "data": {
      "image/png": "[encoded data removed]",
      "text/plain": [
       "<Figure size 1000x600 with 2 Axes>"
      ]
     },
     "metadata": {},
     "output_type": "display_data"
    }
   ],
   "source": [
    "easyHeatmap(test_hashes, y_train)"
   ]
  }
 ],
 "metadata": {
  "kernelspec": {
   "display_name": "Python 3.12.3 64-bit",
   "language": "python",
   "name": "python3"
  },
  "language_info": {
   "codemirror_mode": {
    "name": "ipython",
    "version": 3
   },
   "file_extension": ".py",
   "mimetype": "text/x-python",
   "name": "python",
   "nbconvert_exporter": "python",
   "pygments_lexer": "ipython3",
   "version": "3.12.3"
  },
  "vscode": {
   "interpreter": {
    "hash": "aee8b7b246df8f9039afb4144a1f6fd8d2ca17a180786b69acc140d282b71a49"
   }
  }
 },
 "nbformat": 4,
 "nbformat_minor": 2
}
