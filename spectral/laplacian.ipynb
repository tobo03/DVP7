{
 "cells": [
  {
   "cell_type": "code",
   "execution_count": 1,
   "metadata": {},
   "outputs": [],
   "source": [
    "import numpy as np"
   ]
  },
  {
   "cell_type": "code",
   "execution_count": 2,
   "metadata": {},
   "outputs": [],
   "source": [
    "M = np.array([\n",
    "[1,1,0,0,0,0,0,0],\n",
    "[0,0,1,1,0,0,0,0],\n",
    "[1,0,1,0,1,0,0,0],\n",
    "[0,1,0,1,1,1,1,0],\n",
    "[0,0,0,0,0,1,0,1],\n",
    "[0,0,0,0,0,0,1,1]\n",
    "])"
   ]
  },
  {
   "cell_type": "code",
   "execution_count": 15,
   "metadata": {},
   "outputs": [],
   "source": [
    "N = np.array([\n",
    "[-1,1,0,0,0,0,0,0],\n",
    "[0,0,-1,-1,0,0,0,0],\n",
    "[1,0,1,0,1,0,0,0],\n",
    "[0,-1,0,1,-1,-1,-1,0],\n",
    "[0,0,0,0,0,1,0,-1],\n",
    "[0,0,0,0,0,0,1,1]\n",
    "])"
   ]
  },
  {
   "cell_type": "code",
   "execution_count": 5,
   "metadata": {},
   "outputs": [],
   "source": [
    "Q = np.matmul(M,M.T)"
   ]
  },
  {
   "cell_type": "code",
   "execution_count": 14,
   "metadata": {},
   "outputs": [],
   "source": [
    "D = Q* np.eye(Q.shape[0])"
   ]
  },
  {
   "cell_type": "code",
   "execution_count": 16,
   "metadata": {},
   "outputs": [
    {
     "data": {
      "text/plain": [
       "array([[ 2,  0, -1, -1,  0,  0],\n",
       "       [ 0,  2, -1, -1,  0,  0],\n",
       "       [-1, -1,  3, -1,  0,  0],\n",
       "       [-1, -1, -1,  5, -1, -1],\n",
       "       [ 0,  0,  0, -1,  2, -1],\n",
       "       [ 0,  0,  0, -1, -1,  2]])"
      ]
     },
     "execution_count": 16,
     "metadata": {},
     "output_type": "execute_result"
    }
   ],
   "source": [
    "np.matmul(N,N.T)"
   ]
  },
  {
   "cell_type": "code",
   "execution_count": 36,
   "metadata": {},
   "outputs": [],
   "source": [
    "L = np.array([\n",
    "    [1,0,-1, 0],\n",
    "    [0, 2, -1, -1],\n",
    "    [-1, -1, 2, 0],\n",
    "    [0, -1, 0, 1]\n",
    "    ])\n",
    "\n",
    "Y = np.array([\n",
    "    [1,0],\n",
    "    [1,1],\n",
    "    [0,1],\n",
    "    [0,1]\n",
    "])"
   ]
  },
  {
   "cell_type": "code",
   "execution_count": 37,
   "metadata": {},
   "outputs": [
    {
     "data": {
      "text/plain": [
       "array([[ 3, -1],\n",
       "       [-1,  1]])"
      ]
     },
     "execution_count": 37,
     "metadata": {},
     "output_type": "execute_result"
    }
   ],
   "source": [
    "np.matmul(np.matmul(Y.T, L), Y)"
   ]
  }
 ],
 "metadata": {
  "kernelspec": {
   "display_name": "Python 3.12.3 64-bit",
   "language": "python",
   "name": "python3"
  },
  "language_info": {
   "codemirror_mode": {
    "name": "ipython",
    "version": 3
   },
   "file_extension": ".py",
   "mimetype": "text/x-python",
   "name": "python",
   "nbconvert_exporter": "python",
   "pygments_lexer": "ipython3",
   "version": "3.12.3"
  },
  "orig_nbformat": 4,
  "vscode": {
   "interpreter": {
    "hash": "31f2aee4e71d21fbe5cf8b01ff0e069b9275f58929596ceb00d14d90e3e16cd6"
   }
  }
 },
 "nbformat": 4,
 "nbformat_minor": 2
}
