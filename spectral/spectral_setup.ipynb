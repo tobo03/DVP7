{
 "cells": [
  {
   "cell_type": "code",
   "execution_count": 38,
   "metadata": {},
   "outputs": [],
   "source": [
    "import pandas as pd\n",
    "import numpy as np\n",
    "from tqdm import tqdm\n",
    "from scipy.sparse.linalg import eigsh\n",
    "from pretrainedModel import pretrainedModel\n",
    "from tensorflow import keras\n",
    "from PIL import Image\n",
    "from sklearn.preprocessing import StandardScaler\n",
    "import torch\n",
    "from sklearn.decomposition import PCA\n",
    "from sklearn.neural_network import MLPClassifier\n",
    "from sklearn.neighbors import NearestNeighbors\n",
    "import matplotlib.pyplot as plt\n",
    "from torchvision.datasets import CIFAR10\n",
    "import torchvision.transforms as transforms\n",
    "from torch.utils.data import DataLoader, Subset"
   ]
  },
  {
   "cell_type": "code",
   "execution_count": 21,
   "metadata": {},
   "outputs": [],
   "source": [
    "(x_train, y_train), (x_test, y_test) = keras.datasets.mnist.load_data()\n",
    "training_features = x_train.reshape(x_train.shape[-0], -1)\n",
    "test_features = x_test.reshape(x_test.shape[-0], -1)"
   ]
  },
  {
   "cell_type": "code",
   "execution_count": 23,
   "metadata": {},
   "outputs": [
    {
     "name": "stderr",
     "output_type": "stream",
     "text": [
      "c:\\Users\\Test\\AppData\\Local\\Programs\\Python\\Python312\\Lib\\site-packages\\torchvision\\models\\_utils.py:208: UserWarning: The parameter 'pretrained' is deprecated since 0.13 and may be removed in the future, please use 'weights' instead.\n",
      "  warnings.warn(\n",
      "c:\\Users\\Test\\AppData\\Local\\Programs\\Python\\Python312\\Lib\\site-packages\\torchvision\\models\\_utils.py:223: UserWarning: Arguments other than a weight enum or `None` for 'weights' are deprecated since 0.13 and may be removed in the future. The current behavior is equivalent to passing `weights=VGG16_Weights.IMAGENET1K_V1`. You can also use `weights=VGG16_Weights.DEFAULT` to get the most up-to-date weights.\n",
      "  warnings.warn(msg)\n"
     ]
    }
   ],
   "source": [
    "transform = transforms.Compose([\n",
    "    transforms.Resize((224, 224)),\n",
    "    transforms.ToTensor(),\n",
    "    transforms.Normalize(mean=[0.485, 0.456, 0.406], std=[0.229, 0.224, 0.225]),\n",
    "])\n",
    "\n",
    "\n",
    "def extract_features(loader, model):\n",
    "    features = []\n",
    "    labels = []\n",
    "    with torch.no_grad():\n",
    "        for data, target in loader:\n",
    "            output = model(data)\n",
    "            output = output.view(data.size(0), -1)  # Flatten the output\n",
    "            features.append(output)\n",
    "            labels.append(target)\n",
    "    return torch.cat(features), torch.cat(labels)\n",
    "\n",
    "from torchvision import models\n",
    "model = models.vgg16(pretrained=True) #load vgg16\n",
    "model.classifier = torch.nn.Identity()"
   ]
  },
  {
   "cell_type": "code",
   "execution_count": 31,
   "metadata": {},
   "outputs": [
    {
     "name": "stdout",
     "output_type": "stream",
     "text": [
      "Files already downloaded and verified\n"
     ]
    }
   ],
   "source": [
    "qwe = CIFAR10(root='./data', train=True, transform=transform, download=True)"
   ]
  },
  {
   "cell_type": "code",
   "execution_count": 36,
   "metadata": {},
   "outputs": [
    {
     "data": {
      "text/plain": [
       "torch.Size([3, 224, 224])"
      ]
     },
     "execution_count": 36,
     "metadata": {},
     "output_type": "execute_result"
    }
   ],
   "source": [
    "qwe[0][0].shape"
   ]
  },
  {
   "cell_type": "code",
   "execution_count": 26,
   "metadata": {},
   "outputs": [
    {
     "name": "stdout",
     "output_type": "stream",
     "text": [
      "Files already downloaded and verified\n"
     ]
    }
   ],
   "source": [
    "np.random.seed(281)\n",
    "dataset = CIFAR10(root='./data', train=True, transform=transform, download=True)\n",
    "indices = np.random.permutation(len(dataset)) #with no permutation\n",
    "graphDB_indices = indices[:500] #500 images as Graph DB\n",
    "graphDB_subset = Subset(dataset, graphDB_indices)\n",
    "graphDB_loader = DataLoader(graphDB_subset, batch_size=16, shuffle=True)\n",
    "query_indices = indices[500:520] #20 images for query\n",
    "query_subset = Subset(dataset, query_indices)\n",
    "query_loader = DataLoader(query_subset, batch_size=16, shuffle=True)\n",
    "\n",
    "graphDB_features, graphDB_labels = extract_features(graphDB_loader, model)\n",
    "query_features, query_labels = extract_features(query_loader, model)"
   ]
  },
  {
   "cell_type": "code",
   "execution_count": 30,
   "metadata": {},
   "outputs": [
    {
     "data": {
      "text/plain": [
       "(tensor([[[ 0.5193,  0.5193,  0.5193,  ..., -0.7650, -0.7650, -0.7650],\n",
       "          [ 0.5193,  0.5193,  0.5193,  ..., -0.7650, -0.7650, -0.7650],\n",
       "          [ 0.5193,  0.5193,  0.5193,  ..., -0.7650, -0.7650, -0.7650],\n",
       "          ...,\n",
       "          [ 0.6734,  0.6734,  0.6734,  ...,  0.3309,  0.3309,  0.3309],\n",
       "          [ 0.6734,  0.6734,  0.6734,  ...,  0.3309,  0.3309,  0.3309],\n",
       "          [ 0.6734,  0.6734,  0.6734,  ...,  0.3309,  0.3309,  0.3309]],\n",
       " \n",
       "         [[ 1.0630,  1.0630,  1.0630,  ..., -0.6176, -0.6176, -0.6176],\n",
       "          [ 1.0630,  1.0630,  1.0630,  ..., -0.6176, -0.6176, -0.6176],\n",
       "          [ 1.0630,  1.0630,  1.0630,  ..., -0.6176, -0.6176, -0.6176],\n",
       "          ...,\n",
       "          [ 0.5553,  0.5553,  0.5553,  ...,  0.2927,  0.2927,  0.2927],\n",
       "          [ 0.5553,  0.5553,  0.5553,  ...,  0.2927,  0.2927,  0.2927],\n",
       "          [ 0.5553,  0.5553,  0.5553,  ...,  0.2927,  0.2927,  0.2927]],\n",
       " \n",
       "         [[ 1.4548,  1.4548,  1.4548,  ..., -0.5844, -0.5844, -0.5844],\n",
       "          [ 1.4548,  1.4548,  1.4548,  ..., -0.5844, -0.5844, -0.5844],\n",
       "          [ 1.4548,  1.4548,  1.4548,  ..., -0.5844, -0.5844, -0.5844],\n",
       "          ...,\n",
       "          [ 0.2871,  0.2871,  0.2871,  ...,  0.7054,  0.7054,  0.7054],\n",
       "          [ 0.2871,  0.2871,  0.2871,  ...,  0.7054,  0.7054,  0.7054],\n",
       "          [ 0.2871,  0.2871,  0.2871,  ...,  0.7054,  0.7054,  0.7054]]]),\n",
       " 9)"
      ]
     },
     "execution_count": 30,
     "metadata": {},
     "output_type": "execute_result"
    }
   ],
   "source": [
    "dataset[1]"
   ]
  },
  {
   "cell_type": "code",
   "execution_count": 20,
   "metadata": {},
   "outputs": [
    {
     "name": "stdout",
     "output_type": "stream",
     "text": [
      "model loaded\n",
      "images done\n"
     ]
    },
    {
     "name": "stderr",
     "output_type": "stream",
     "text": [
      "100%|██████████| 60000/60000 [07:49<00:00, 127.84it/s]\n",
      "100%|██████████| 10000/10000 [01:17<00:00, 128.87it/s]\n"
     ]
    }
   ],
   "source": [
    "# Instantiate the model\n",
    "model = pretrainedModel()\n",
    "print(\"model loaded\")\n",
    "# Process the images and move the output to the CPU for use in a list\n",
    "train_images = [Image.fromarray(image).convert('RGB') for image in x_train]\n",
    "test_images = [Image.fromarray(image).convert('RGB') for image in x_test]\n",
    "print(\"images done\")\n",
    "# Ensure the model is in evaluation mode\n",
    "model.eval()\n",
    "\n",
    "# Disable gradient calculations for faster inference\n",
    "with torch.no_grad():\n",
    "    training_features = np.array([np.array(model(image).cpu()) for image in tqdm(train_images)])\n",
    "\n",
    "with torch.no_grad():\n",
    "    test_features = np.array([np.array(model(image).cpu()) for image in tqdm(test_images)])"
   ]
  },
  {
   "cell_type": "code",
   "execution_count": 37,
   "metadata": {},
   "outputs": [
    {
     "name": "stderr",
     "output_type": "stream",
     "text": [
      "c:\\Users\\Test\\AppData\\Local\\Programs\\Python\\Python312\\Lib\\site-packages\\torchvision\\models\\_utils.py:208: UserWarning: The parameter 'pretrained' is deprecated since 0.13 and may be removed in the future, please use 'weights' instead.\n",
      "  warnings.warn(\n",
      "c:\\Users\\Test\\AppData\\Local\\Programs\\Python\\Python312\\Lib\\site-packages\\torchvision\\models\\_utils.py:223: UserWarning: Arguments other than a weight enum or `None` for 'weights' are deprecated since 0.13 and may be removed in the future. The current behavior is equivalent to passing `weights=VGG16_Weights.IMAGENET1K_V1`. You can also use `weights=VGG16_Weights.DEFAULT` to get the most up-to-date weights.\n",
      "  warnings.warn(msg)\n"
     ]
    }
   ],
   "source": [
    "from torchvision import models\n",
    "pretrained_model = models.vgg16(pretrained=True)\n",
    "pretrained_model.classifier = torch.nn.Identity() # 25088 features output"
   ]
  },
  {
   "cell_type": "code",
   "execution_count": null,
   "metadata": {},
   "outputs": [],
   "source": []
  },
  {
   "cell_type": "code",
   "execution_count": 21,
   "metadata": {},
   "outputs": [],
   "source": [
    "np.save(r'C:\\Users\\Test\\Desktop\\p7\\Spectral\\features\\training_features_cnn.npy', training_features)\n",
    "np.save(r'C:\\Users\\Test\\Desktop\\p7\\Spectral\\features\\test_features_cnn.npy', test_features)"
   ]
  },
  {
   "cell_type": "code",
   "execution_count": 4,
   "metadata": {},
   "outputs": [],
   "source": [
    "\n",
    "training_features = np.load(r'C:\\Users\\Test\\Desktop\\p7\\Spectral\\features\\training_features_cnn.npy')\n",
    "test_features = np.load(r'C:\\Users\\Test\\Desktop\\p7\\Spectral\\features\\test_features_cnn.npy')"
   ]
  },
  {
   "cell_type": "code",
   "execution_count": 5,
   "metadata": {},
   "outputs": [],
   "source": [
    "scaler = StandardScaler()\n",
    "training_features = scaler.fit_transform(training_features)  # Standardize the data\n",
    "test_features = scaler.transform(test_features)"
   ]
  },
  {
   "cell_type": "code",
   "execution_count": 6,
   "metadata": {},
   "outputs": [],
   "source": [
    "pca = PCA(n_components=1500)  # Set the number of components to keep\n",
    "training_features = pca.fit_transform(training_features)  # Fit PCA on the standardized data and transform\n",
    "test_features = pca.transform(test_features)"
   ]
  },
  {
   "cell_type": "code",
   "execution_count": 24,
   "metadata": {},
   "outputs": [
    {
     "data": {
      "text/plain": [
       "array([0.06647222, 0.10803638, 0.13405983, ..., 0.96364516, 0.9637422 ,\n",
       "       0.96383893], dtype=float32)"
      ]
     },
     "execution_count": 24,
     "metadata": {},
     "output_type": "execute_result"
    }
   ],
   "source": [
    "np.cumsum(pca.explained_variance_ratio_)"
   ]
  },
  {
   "cell_type": "code",
   "execution_count": 25,
   "metadata": {},
   "outputs": [],
   "source": [
    "nbrs = NearestNeighbors(n_neighbors=600).fit(training_features)\n",
    "\n",
    "# Find the nearest neighbors\n",
    "distances, indices = nbrs.kneighbors(training_features)\n",
    "\n",
    "# Create an adjacency matrix\n",
    "n_samples = training_features.shape[0]\n",
    "adjacency_matrix = np.zeros((n_samples, n_samples))\n",
    "\n",
    "# Populate the adjacency matrix\n",
    "for i, neighbors in enumerate(indices):\n",
    "    for neighbor in neighbors:\n",
    "        adjacency_matrix[i, neighbor] = 1\n",
    "        adjacency_matrix[neighbor, i] = 1  # Ensure symmetry for an undirected graph"
   ]
  },
  {
   "cell_type": "code",
   "execution_count": 26,
   "metadata": {},
   "outputs": [
    {
     "name": "stderr",
     "output_type": "stream",
     "text": [
      "100%|██████████| 60000/60000 [02:12<00:00, 451.90it/s] \n"
     ]
    }
   ],
   "source": [
    "dim=adjacency_matrix.shape[0]\n",
    "adjacency_matrix = adjacency_matrix - np.identity(dim)\n",
    "D = np.zeros([dim,dim])\n",
    "for i in tqdm(range(dim)):\n",
    "    D[i,i] = adjacency_matrix[i].sum()\n",
    "L = D- adjacency_matrix"
   ]
  },
  {
   "cell_type": "code",
   "execution_count": 27,
   "metadata": {},
   "outputs": [],
   "source": [
    "eigenvalues, eigenvectors = eigsh(L, k=32, which=\"SM\") # overvej max_iter, tolerance?\n",
    "np.save(r'C:\\Users\\Test\\Desktop\\p7\\Spectral\\eigenvectors\\eigenvectors_knn.npy', eigenvectors)"
   ]
  },
  {
   "cell_type": "code",
   "execution_count": 7,
   "metadata": {},
   "outputs": [],
   "source": [
    "eigenvectors = np.load(r'C:\\Users\\Test\\Desktop\\p7\\Spectral\\eigenvectors\\eigenvectors_knn.npy')"
   ]
  },
  {
   "cell_type": "code",
   "execution_count": 8,
   "metadata": {},
   "outputs": [],
   "source": [
    "threshold1 = 0\n",
    "eigenvectors_bin = np.where(eigenvectors > threshold1, 1, 0)"
   ]
  },
  {
   "cell_type": "code",
   "execution_count": 9,
   "metadata": {},
   "outputs": [
    {
     "name": "stderr",
     "output_type": "stream",
     "text": [
      "c:\\Users\\Test\\AppData\\Local\\Programs\\Python\\Python312\\Lib\\site-packages\\sklearn\\neural_network\\_multilayer_perceptron.py:690: ConvergenceWarning: Stochastic Optimizer: Maximum iterations (200) reached and the optimization hasn't converged yet.\n",
      "  warnings.warn(\n"
     ]
    }
   ],
   "source": [
    "clf = MLPClassifier(hidden_layer_sizes=(100)).fit(training_features, eigenvectors_bin)\n",
    "test_hashes = clf.predict(test_features)"
   ]
  },
  {
   "cell_type": "code",
   "execution_count": 17,
   "metadata": {},
   "outputs": [],
   "source": [
    "def mean_average_precision(test_hashes, training_hashes, test_labels, training_labels, compare_n):\n",
    "    aps = []\n",
    "    training_hashes = training_hashes[:compare_n,:]\n",
    "    training_labels = training_labels[:compare_n]\n",
    "    for i, test_hash in enumerate(tqdm(test_hashes)):\n",
    "        label = test_labels[i]\n",
    "        distances = np.abs(training_hashes - test_hashes[i]).sum(axis=1)\n",
    "        tp = np.where(training_labels==label, 1, 0)\n",
    "        hash_df = pd.DataFrame({\"distances\":distances, \"tp\":tp}).reset_index()\n",
    "        hash_df = hash_df.drop(index=i)\n",
    "        hash_df = hash_df.sort_values([\"distances\", \"index\"]).reset_index(drop=True)\n",
    "        hash_df = hash_df.drop([\"index\", \"distances\"], axis=1).reset_index()\n",
    "        hash_df = hash_df[hash_df[\"tp\"]==1]\n",
    "        hash_df[\"tp\"] = hash_df[\"tp\"].cumsum()\n",
    "        hash_df[\"index\"] = hash_df[\"index\"] +1 \n",
    "        precision = np.array(hash_df[\"tp\"]) / np.array(hash_df[\"index\"])\n",
    "        ap = precision.mean()\n",
    "        aps.append(ap)\n",
    "    \n",
    "    return np.array(aps).mean()\n"
   ]
  },
  {
   "cell_type": "code",
   "execution_count": 2,
   "metadata": {},
   "outputs": [],
   "source": [
    "def p_at_k(test_hashes, training_hashes, test_labels, training_labels, compare_n, k):\n",
    "    aps = []\n",
    "    training_hashes = training_hashes[:compare_n,:]\n",
    "    training_labels = training_labels[:compare_n]\n",
    "    for i, test_hash in enumerate(tqdm(test_hashes)):\n",
    "        label = test_labels[i]\n",
    "        distances = np.abs(training_hashes - test_hashes[i]).sum(axis=1)\n",
    "        tp = np.where(training_labels==label, 1, 0)\n",
    "        hash_df = pd.DataFrame({\"distances\":distances, \"tp\":tp}).reset_index()\n",
    "        hash_df = hash_df.drop(index=i)\n",
    "        hash_df = hash_df.sort_values([\"distances\", \"index\"]).reset_index(drop=True)\n",
    "        hash_df = hash_df[:k]\n",
    "        patk = hash_df[\"tp\"].sum()/k\n",
    "        aps.append(patk)\n",
    "    return np.array(aps).mean()"
   ]
  },
  {
   "cell_type": "code",
   "execution_count": 18,
   "metadata": {},
   "outputs": [
    {
     "name": "stderr",
     "output_type": "stream",
     "text": [
      "100%|██████████| 10000/10000 [00:29<00:00, 343.07it/s]\n"
     ]
    }
   ],
   "source": [
    "aps = mean_average_precision(test_hashes, eigenvectors_bin, y_test, y_train, 10000)"
   ]
  },
  {
   "cell_type": "code",
   "execution_count": 3,
   "metadata": {},
   "outputs": [
    {
     "ename": "NameError",
     "evalue": "name 'test_hashes' is not defined",
     "output_type": "error",
     "traceback": [
      "\u001b[1;31m---------------------------------------------------------------------------\u001b[0m",
      "\u001b[1;31mNameError\u001b[0m                                 Traceback (most recent call last)",
      "Cell \u001b[1;32mIn[3], line 1\u001b[0m\n\u001b[1;32m----> 1\u001b[0m p_at_k(\u001b[43mtest_hashes\u001b[49m, eigenvectors_bin, y_test, y_train, \u001b[38;5;241m10000\u001b[39m, \u001b[38;5;241m1000\u001b[39m)\n",
      "\u001b[1;31mNameError\u001b[0m: name 'test_hashes' is not defined"
     ]
    }
   ],
   "source": [
    "p_at_k(test_hashes, eigenvectors_bin, y_test, y_train, 10000, 1000)"
   ]
  },
  {
   "cell_type": "code",
   "execution_count": 19,
   "metadata": {},
   "outputs": [
    {
     "data": {
      "text/plain": [
       "0.3962587574098195"
      ]
     },
     "execution_count": 19,
     "metadata": {},
     "output_type": "execute_result"
    }
   ],
   "source": [
    "aps"
   ]
  },
  {
   "cell_type": "code",
   "execution_count": 15,
   "metadata": {},
   "outputs": [],
   "source": [
    "import seaborn as sns\n",
    "import matplotlib.pyplot as plt\n",
    "from sklearn.cluster import KMeans\n",
    "import numpy as np\n",
    "import pandas as pd\n",
    "\n",
    "# Step 1: Perform K-Means Clustering\n",
    "def kmeans_clustering(hash_codes, n_clusters=10, n_init=10, random_state=42):\n",
    "    kmeans = KMeans(n_clusters=n_clusters, n_init=n_init, random_state=random_state)\n",
    "    clusters = kmeans.fit_predict(hash_codes)\n",
    "    return clusters\n",
    "\n",
    "# Step 2: Build the label-cluster matrix\n",
    "def build_label_cluster_matrix(clusters, true_labels, n_clusters=10):\n",
    "    # Initialize a matrix to count label-cluster relationships  \n",
    "    label_cluster_matrix = np.zeros((10, n_clusters), dtype=int)\n",
    "    \n",
    "    for label, cluster in zip(true_labels, clusters):\n",
    "        label_cluster_matrix[label][cluster] += 1\n",
    "    \n",
    "    return label_cluster_matrix\n",
    "\n",
    "# Step 3: Visualize the result as a heatmap\n",
    "def plot_heatmap(label_cluster_matrix):\n",
    "    plt.figure(figsize=(10, 6))\n",
    "    sns.heatmap(label_cluster_matrix, annot=True, fmt=\"d\", cmap=\"Blues\", cbar=True)\n",
    "    plt.title(\"Label Distribution Across Clusters\")\n",
    "    plt.xlabel(\"Clusters\")\n",
    "    plt.ylabel(\"True Labels\")\n",
    "    plt.show()\n",
    "\n",
    "\n",
    "def easyHeatmap(hashCodes, labels):\n",
    "    raw_clusters = kmeans_clustering(hashCodes, n_clusters=10)\n",
    "\n",
    "    raw_label_cluster_matrix = build_label_cluster_matrix(raw_clusters, labels)\n",
    "\n",
    "    plot_heatmap(raw_label_cluster_matrix)"
   ]
  },
  {
   "cell_type": "code",
   "execution_count": 20,
   "metadata": {},
   "outputs": [
    {
     "data": {
      "image/png": "[encoded data removed]",
      "text/plain": [
       "<Figure size 1000x600 with 2 Axes>"
      ]
     },
     "metadata": {},
     "output_type": "display_data"
    }
   ],
   "source": [
    "easyHeatmap(test_hashes, y_test)"
   ]
  }
 ],
 "metadata": {
  "kernelspec": {
   "display_name": "Python 3",
   "language": "python",
   "name": "python3"
  },
  "language_info": {
   "codemirror_mode": {
    "name": "ipython",
    "version": 3
   },
   "file_extension": ".py",
   "mimetype": "text/x-python",
   "name": "python",
   "nbconvert_exporter": "python",
   "pygments_lexer": "ipython3",
   "version": "3.12.6"
  }
 },
 "nbformat": 4,
 "nbformat_minor": 2
}
