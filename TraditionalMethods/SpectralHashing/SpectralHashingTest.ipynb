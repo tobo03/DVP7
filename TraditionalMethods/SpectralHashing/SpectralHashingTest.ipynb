{
 "cells": [
  {
   "cell_type": "code",
   "execution_count": null,
   "metadata": {},
   "outputs": [],
   "source": [
    "import numpy as np\n",
    "from scipy.sparse import csr_matrix\n",
    "from scipy.sparse.linalg import eigsh\n",
    "from sklearn.metrics.pairwise import cosine_similarity\n",
    "\n",
    "def spectral_hashing(X, k, threshold=0.5):"
   ]
  },
  {
   "cell_type": "code",
   "execution_count": null,
   "metadata": {},
   "outputs": [],
   "source": [
    "\n",
    "    # Cosine similarity er bare prikprodukt mellem to vektorer divideret med produktet af deres magnituder\n",
    "    # Her bruges cosine similarity som et similarity index\n",
    "    similarities = cosine_similarity(X)\n",
    "\n",
    "    # https://docs.scipy.org/doc/scipy/reference/generated/scipy.sparse.csr_matrix.html\n",
    "    # Laver similarity graph for datapunkterne\n",
    "    graph = csr_matrix(similarities)\n",
    "\n",
    "    # Compute the Laplacian matrix\n",
    "    # Laplace matricen udregnes ud fra similarity graph\n",
    "    laplacian = graph.sum(axis=1) - graph\n",
    "\n",
    "    # Compute the eigenvectors corresponding to the smallest eigenvalues\n",
    "    # Eigenvektorer og eigenværdier udregnes ud fra laplace matricen ovenover\n",
    "    # Eigenværdier + eigenvektorer er i vidensdeling\n",
    "    # which='SM' angiver bare at vi vil finde de laveste eigenværdier.\n",
    "    # SM står for smallest magnitudes\n",
    "    eigenvalues, eigenvectors = eigsh(laplacian, k=k, which='SM')\n",
    "\n",
    "    # Threshold sætter en grænse eller decision boundary til binær konvertering\n",
    "    # Alle værdier under bliver konverteret til 0, alle værdier over bliver konvereteret til 1\n",
    "    # Genererer binær kode\n",
    "    binary_codes = np.sign(eigenvectors) > threshold\n",
    "\n",
    "    return binary_codes\n"
   ]
  }
 ],
 "metadata": {
  "language_info": {
   "name": "python"
  }
 },
 "nbformat": 4,
 "nbformat_minor": 2
}
