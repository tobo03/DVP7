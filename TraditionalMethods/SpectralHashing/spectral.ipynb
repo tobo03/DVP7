{
 "cells": [
  {
   "cell_type": "code",
   "execution_count": 63,
   "metadata": {},
   "outputs": [],
   "source": [
    "import pandas as pd\n",
    "import numpy as np\n",
    "from mnist import MNIST\n",
    "from tqdm import tqdm\n",
    "from scipy.sparse.linalg import eigsh"
   ]
  },
  {
   "cell_type": "code",
   "execution_count": 40,
   "metadata": {},
   "outputs": [],
   "source": [
    "images, labels = MNIST(\"data\").load_testing()"
   ]
  },
  {
   "cell_type": "code",
   "execution_count": 41,
   "metadata": {},
   "outputs": [],
   "source": [
    "images = np.array(images)"
   ]
  },
  {
   "cell_type": "code",
   "execution_count": 42,
   "metadata": {},
   "outputs": [
    {
     "data": {
      "text/plain": [
       "(10000, 784)"
      ]
     },
     "execution_count": 42,
     "metadata": {},
     "output_type": "execute_result"
    }
   ],
   "source": [
    "images.shape"
   ]
  },
  {
   "cell_type": "code",
   "execution_count": 49,
   "metadata": {},
   "outputs": [],
   "source": [
    "def cos_sim(a,b):\n",
    "    return np.dot(a, b)/(np.linalg.norm(a)*np.linalg.norm(b))"
   ]
  },
  {
   "cell_type": "code",
   "execution_count": 50,
   "metadata": {},
   "outputs": [
    {
     "name": "stderr",
     "output_type": "stream",
     "text": [
      "100%|██████████| 10000/10000 [06:47<00:00, 24.55it/s]\n"
     ]
    }
   ],
   "source": [
    "sim_mat = np.zeros([10000,10000])\n",
    "for i in tqdm(range(10000)):\n",
    "    for j in range(i):\n",
    "        sim_mat[i, j] = cos_sim(images[i], images[j])"
   ]
  },
  {
   "cell_type": "code",
   "execution_count": 52,
   "metadata": {},
   "outputs": [],
   "source": [
    "sim_mat = sim_mat + sim_mat.T"
   ]
  },
  {
   "cell_type": "code",
   "execution_count": 56,
   "metadata": {},
   "outputs": [],
   "source": [
    "threshold = np.min(np.max(sim_mat, axis=1))"
   ]
  },
  {
   "cell_type": "code",
   "execution_count": 59,
   "metadata": {},
   "outputs": [],
   "source": [
    "diag = np.sum((sim_mat > threshold), axis=1)\n",
    "D = np.zeros([10000,10000])\n",
    "for i in range(10000):\n",
    "    D[i,i] = diag[i]\n",
    "\n",
    "L = D- sim_mat"
   ]
  },
  {
   "cell_type": "code",
   "execution_count": 61,
   "metadata": {},
   "outputs": [],
   "source": [
    "diag2 = np.sum(sim_mat, axis=1)\n",
    "D2 = np.zeros([10000,10000])\n",
    "for i in range(10000):\n",
    "    D2[i,i] = diag2[i]\n",
    "\n",
    "L2 = D2- sim_mat"
   ]
  },
  {
   "cell_type": "code",
   "execution_count": 72,
   "metadata": {},
   "outputs": [],
   "source": [
    "eigenvalues, eigenvectors = eigsh(L, k=32, which=\"SM\")"
   ]
  },
  {
   "cell_type": "code",
   "execution_count": 82,
   "metadata": {},
   "outputs": [],
   "source": [
    "eigenvalues2, eigenvectors2 = eigsh(L2, k=32, which=\"SM\")"
   ]
  },
  {
   "cell_type": "code",
   "execution_count": 83,
   "metadata": {},
   "outputs": [],
   "source": [
    "threshold1 = np.median(eigenvectors)\n",
    "threshold2 = np.median(eigenvectors2)"
   ]
  },
  {
   "cell_type": "code",
   "execution_count": 84,
   "metadata": {},
   "outputs": [],
   "source": [
    "eigenvectors_bin = np.where(eigenvectors > threshold1, 1, 0)\n",
    "eigenvectors_bin2 = np.where(eigenvectors2 > threshold2, 1, 0)"
   ]
  },
  {
   "cell_type": "code",
   "execution_count": 78,
   "metadata": {},
   "outputs": [
    {
     "data": {
      "text/plain": [
       "array([[1, 1, 0, ..., 0, 0, 1],\n",
       "       [0, 0, 0, ..., 0, 1, 0],\n",
       "       [0, 0, 1, ..., 1, 1, 0],\n",
       "       ...,\n",
       "       [0, 1, 1, ..., 1, 1, 1],\n",
       "       [0, 1, 1, ..., 1, 1, 0],\n",
       "       [1, 1, 0, ..., 1, 1, 0]])"
      ]
     },
     "execution_count": 78,
     "metadata": {},
     "output_type": "execute_result"
    }
   ],
   "source": [
    "eigenvectors_bin"
   ]
  },
  {
   "cell_type": "code",
   "execution_count": 86,
   "metadata": {},
   "outputs": [
    {
     "name": "stdout",
     "output_type": "stream",
     "text": [
      "7006\n",
      "2690\n"
     ]
    }
   ],
   "source": [
    "print(len(np.unique(eigenvectors_bin,axis = 0)))\n",
    "print(len(np.unique(eigenvectors_bin2,axis = 0)))"
   ]
  },
  {
   "cell_type": "code",
   "execution_count": 104,
   "metadata": {},
   "outputs": [],
   "source": [
    "def map(eigenvectors_bin, labels, k):\n",
    "    labels_dic = {i:0 for i in range(10)}\n",
    "    labels_size_dic = {i:0 for i in range(10)}\n",
    "    for i, eigenvector in enumerate(tqdm(eigenvectors_bin)):\n",
    "        tp = 0\n",
    "        fp = 0\n",
    "        for j, eigenvector2 in enumerate(eigenvectors_bin):\n",
    "            if np.abs(eigenvector - eigenvector2).sum() <= k:\n",
    "                if labels[i] == labels[j]:\n",
    "                    tp += 1\n",
    "                else:\n",
    "                    fp += 1\n",
    "        labels_dic[labels[i]] += tp/(tp+fp)\n",
    "        labels_size_dic[labels[i]] += 1\n",
    "    return {i:labels_dic[i]/labels_size_dic[i] for i in range(10)}"
   ]
  },
  {
   "cell_type": "code",
   "execution_count": 103,
   "metadata": {},
   "outputs": [
    {
     "data": {
      "text/plain": [
       "{0: 0.8812543211777673,\n",
       " 1: 0.916076836286196,\n",
       " 2: 0.8122052568993154,\n",
       " 3: 0.6769046469764847,\n",
       " 4: 0.7259522359035844,\n",
       " 5: 0.6896376728468715,\n",
       " 6: 0.8519151125387469,\n",
       " 7: 0.8274702913639663,\n",
       " 8: 0.5708846162665995,\n",
       " 9: 0.652680105919939}"
      ]
     },
     "execution_count": 103,
     "metadata": {},
     "output_type": "execute_result"
    }
   ],
   "source": [
    "ap_labels_dic"
   ]
  }
 ],
 "metadata": {
  "kernelspec": {
   "display_name": "Python 3.12.3 64-bit",
   "language": "python",
   "name": "python3"
  },
  "language_info": {
   "codemirror_mode": {
    "name": "ipython",
    "version": 3
   },
   "file_extension": ".py",
   "mimetype": "text/x-python",
   "name": "python",
   "nbconvert_exporter": "python",
   "pygments_lexer": "ipython3",
   "version": "3.12.3"
  },
  "orig_nbformat": 4,
  "vscode": {
   "interpreter": {
    "hash": "31f2aee4e71d21fbe5cf8b01ff0e069b9275f58929596ceb00d14d90e3e16cd6"
   }
  }
 },
 "nbformat": 4,
 "nbformat_minor": 2
}
