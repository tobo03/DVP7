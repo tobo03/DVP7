{
 "cells": [
  {
   "cell_type": "code",
   "execution_count": 29,
   "metadata": {},
   "outputs": [],
   "source": [
    "import random as rnd"
   ]
  },
  {
   "cell_type": "code",
   "execution_count": 30,
   "metadata": {},
   "outputs": [],
   "source": [
    "def _minHash(toHash, hashFunc):\n",
    "    D = dict(zip(hashFunc, toHash))\n",
    "\n",
    "    for i in range(len(D)):\n",
    "        if D[i] == 1:\n",
    "            return i\n",
    "\n",
    "    return D"
   ]
  },
  {
   "cell_type": "code",
   "execution_count": 31,
   "metadata": {},
   "outputs": [],
   "source": [
    "def genHashFuncs(lenOfVector, hash_len=4):\n",
    "    D = []\n",
    "\n",
    "    for i in range(hash_len):\n",
    "        h = [i for i in range(lenOfVector)]\n",
    "        rnd.shuffle(h)\n",
    "\n",
    "        D.append(h)\n",
    "\n",
    "    return D"
   ]
  },
  {
   "cell_type": "code",
   "execution_count": 32,
   "metadata": {},
   "outputs": [],
   "source": [
    "def minHash(vector:list, hashFuncs) -> list:\n",
    "    return [_minHash(vector, h) for h in hashFuncs]\n",
    "\n"
   ]
  },
  {
   "cell_type": "code",
   "execution_count": 33,
   "metadata": {},
   "outputs": [
    {
     "name": "stdout",
     "output_type": "stream",
     "text": [
      "[2, 0, 1, 0]\n"
     ]
    }
   ],
   "source": [
    "if __name__ == \"__main__\": \n",
    "    \n",
    "    vector = [rnd.randint(0,1) for i in range(12)]\n",
    "\n",
    "    hashFuncs = genHashFuncs( len(vector) )\n",
    "\n",
    "    print( minHash(vector, hashFuncs) )"
   ]
  }
 ],
 "metadata": {
  "kernelspec": {
   "display_name": "Python 3",
   "language": "python",
   "name": "python3"
  },
  "language_info": {
   "codemirror_mode": {
    "name": "ipython",
    "version": 3
   },
   "file_extension": ".py",
   "mimetype": "text/x-python",
   "name": "python",
   "nbconvert_exporter": "python",
   "pygments_lexer": "ipython3",
   "version": "3.11.5"
  }
 },
 "nbformat": 4,
 "nbformat_minor": 2
}
