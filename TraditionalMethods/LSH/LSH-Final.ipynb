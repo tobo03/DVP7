{
 "cells": [
  {
   "cell_type": "code",
   "execution_count": 1,
   "metadata": {},
   "outputs": [
    {
     "name": "stderr",
     "output_type": "stream",
     "text": [
      "c:\\Users\\Bruger\\anaconda3\\lib\\site-packages\\scipy\\__init__.py:146: UserWarning: A NumPy version >=1.16.5 and <1.23.0 is required for this version of SciPy (detected version 1.24.4\n",
      "  warnings.warn(f\"A NumPy version >={np_minversion} and <{np_maxversion}\"\n"
     ]
    }
   ],
   "source": [
    "import numpy as np\n",
    "import tensorflow as tf\n",
    "from sklearn.model_selection import train_test_split\n",
    "from sklearn.metrics import average_precision_score"
   ]
  },
  {
   "cell_type": "code",
   "execution_count": null,
   "metadata": {},
   "outputs": [],
   "source": [
    "import numpy as np\n",
    "import tensorflow as tf\n",
    "from sklearn.model_selection import train_test_split\n",
    "\n",
    "# Step 1: Load and Preprocess the Dataset\n",
    "mnist = tf.keras.datasets.mnist\n",
    "(x_train, y_train), (x_test, y_test) = mnist.load_data()\n",
    "\n",
    "# Normalize and flatten images\n",
    "x_train = x_train.astype(np.float32) / 255.0\n",
    "x_test = x_test.astype(np.float32) / 255.0\n",
    "x_train = x_train.reshape(-1, 28*28)\n",
    "x_test = x_test.reshape(-1, 28*28)\n",
    "\n",
    "\n",
    "# Step 2: LSH Projection\n",
    "def lsh_projection(X, num_bits):\n",
    "    \"\"\"\n",
    "    Project the data using LSH.\n",
    "    :param X: Input data (n_samples, n_features)\n",
    "    :param num_bits: Number of hash bits for LSH\n",
    "    :return: Hash codes\n",
    "    \"\"\"\n",
    "    np.random.seed(42)  # For reproducibility\n",
    "    random_projection = np.random.randn(X.shape[1], num_bits)\n",
    "    hash_codes = np.dot(X, random_projection) > 0  # Binary hash codes\n",
    "    return hash_codes.astype(int)\n",
    "\n",
    "num_bits = 32  # Number of hash bits\n",
    "train_hashes = lsh_projection(x_train, num_bits)\n",
    "test_hashes = lsh_projection(x_test, num_bits)\n",
    "\n",
    "# Step 3: Evaluation using MAP and Precision@K\n",
    "def calculate_hamming_distance(hash1, hash2):\n",
    "    \"\"\"Calculate the Hamming distance between two binary hash codes.\"\"\"\n",
    "    return np.sum(hash1 != hash2)\n",
    "\n",
    "def precision_at_k(retrieved_labels, true_label, k):\n",
    "    \"\"\"Calculate precision at K.\"\"\"\n",
    "    return np.sum(retrieved_labels[:k] == true_label) / k\n",
    "\n",
    "def evaluate(test_hashes, train_hashes, y_test, y_train, max_k=50):\n",
    "    \"\"\"Evaluate the model using MAP and precision at K for k = 1,...,max_k.\"\"\"\n",
    "    map_score = 0\n",
    "    precision_at_k_scores = np.zeros(max_k)  # Initialize array to store precision at each k\n",
    "    \n",
    "    for i in range(len(test_hashes)):\n",
    "        # Compute Hamming distances between test sample and all training samples\n",
    "        distances = np.array([calculate_hamming_distance(test_hashes[i], train_hashes[j]) for j in range(len(train_hashes))])\n",
    "        \n",
    "        # Sort indices of training samples based on distance\n",
    "        sorted_indices = np.argsort(distances)\n",
    "        \n",
    "        # Retrieve sorted labels\n",
    "        retrieved_labels = y_train[sorted_indices]\n",
    "        \n",
    "        # Calculate precision at each K up to max_k\n",
    "        for k in range(1, max_k + 1):\n",
    "            precision_at_k_scores[k-1] += precision_at_k(retrieved_labels, y_test[i], k)\n",
    "        \n",
    "        # Calculate Average Precision (AP) for MAP\n",
    "        relevant = (retrieved_labels == y_test[i])\n",
    "        if np.sum(relevant) == 0:\n",
    "            continue\n",
    "        ap = np.mean([np.mean(relevant[:j+1]) for j in range(len(relevant)) if relevant[j]])\n",
    "        map_score += ap\n",
    "\n",
    "    map_score /= len(test_hashes)\n",
    "    precision_at_k_scores /= len(test_hashes)\n",
    "\n",
    "    return map_score, precision_at_k_scores\n",
    "\n",
    "# Evaluate for k = 1,...,50\n",
    "max_k = 50\n",
    "map_score, precision_at_k_scores = evaluate(test_hashes, train_hashes, y_test, y_train, max_k)\n",
    "\n",
    "# Display results for each K\n",
    "print(f\"Mean Average Precision (MAP): {map_score:.4f}\")\n",
    "for k in range(1, max_k + 1):\n",
    "    print(f\"Precision at K (P@{k}): {precision_at_k_scores[k-1]:.4f}\")\n"
   ]
  },
  {
   "cell_type": "code",
   "execution_count": 3,
   "metadata": {},
   "outputs": [
    {
     "data": {
      "image/png": "[encoded data removed]",
      "text/plain": [
       "<Figure size 720x432 with 1 Axes>"
      ]
     },
     "metadata": {
      "needs_background": "light"
     },
     "output_type": "display_data"
    }
   ],
   "source": [
    "import matplotlib.pyplot as plt\n",
    "\n",
    "# Plot Precision@K for K = 1 to 50\n",
    "plt.figure(figsize=(10, 6))\n",
    "ks = np.arange(1, max_k + 1)\n",
    "plt.plot(ks, precision_at_k_scores, marker='o', linestyle='-', color='b', label='Precision@K')\n",
    "\n",
    "# Plot horizontal line for MAP\n",
    "plt.axhline(y=map_score, color='r', linestyle='--', label=f'MAP: {map_score:.4f}')\n",
    "\n",
    "# Add titles and labels\n",
    "plt.title('Precision@K vs K')\n",
    "plt.xlabel('K')\n",
    "plt.ylabel('Precision')\n",
    "plt.legend()\n",
    "plt.grid(True)\n",
    "plt.show()\n"
   ]
  },
  {
   "cell_type": "code",
   "execution_count": null,
   "metadata": {},
   "outputs": [],
   "source": []
  },
  {
   "cell_type": "code",
   "execution_count": null,
   "metadata": {},
   "outputs": [],
   "source": []
  }
 ],
 "metadata": {
  "kernelspec": {
   "display_name": "base",
   "language": "python",
   "name": "python3"
  },
  "language_info": {
   "codemirror_mode": {
    "name": "ipython",
    "version": 3
   },
   "file_extension": ".py",
   "mimetype": "text/x-python",
   "name": "python",
   "nbconvert_exporter": "python",
   "pygments_lexer": "ipython3",
   "version": "3.8.12"
  }
 },
 "nbformat": 4,
 "nbformat_minor": 2
}
